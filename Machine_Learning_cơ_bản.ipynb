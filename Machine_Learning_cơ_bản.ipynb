{
  "nbformat": 4,
  "nbformat_minor": 0,
  "metadata": {
    "colab": {
      "name": "Machine_Learning_cơ_bản.ipynb",
      "provenance": [],
      "collapsed_sections": [
        "N3O6sxBz6zTP",
        "PjwoQZ7J67i3",
        "uumh6RMc7CdG",
        "07OEE-7r7GYX",
        "lM1NYUPC7KKb",
        "GsSLqMrsYQ_u",
        "N3JWjmrd7sp6",
        "qMD08YzD7-RE",
        "mBb7AkdL8LQu"
      ]
    },
    "kernelspec": {
      "name": "python3",
      "display_name": "Python 3"
    },
    "language_info": {
      "name": "python"
    }
  },
  "cells": [
    {
      "cell_type": "markdown",
      "metadata": {
        "id": "6n6CVPUB5ypF"
      },
      "source": [
        "#Machine Learning cơ bản\n",
        "1. Phân nhóm các loại thuật toán\n",
        "1. Linear Regression\n",
        "1. K-means Clustering\n",
        "1. K-means neighbors\n",
        "1. Gradient Descent\n",
        "1. Perceptron Learning Algorithm\n",
        "1. Logistic Regression\n",
        "1. Feature Engineering\n",
        "1. Binary Classifiers\n",
        "1. Softmax Regression"
      ]
    },
    {
      "cell_type": "markdown",
      "metadata": {
        "id": "N3O6sxBz6zTP"
      },
      "source": [
        "##1. Phân nhóm các loại thụât toán"
      ]
    },
    {
      "cell_type": "markdown",
      "metadata": {
        "id": "j4ltKpEx8gTi"
      },
      "source": [
        "###**1. Phân nhóm dựa trên phương thức học**\n",
        "\n",
        "**1.1. Supervised Learning (Học có giám sát)**\n",
        "\n",
        "  Là thuật toán dự đoán đầu ra (outcome) của một dữ liệu mới (new input) dựa trên các cặp (input, outcome) đã biết từ trước. Cặp dữ liệu này còn được gọi là (data, label), tức (dữ liệu, nhãn). Supervised learning là nhóm phổ biến nhất trong các thụât toán Machine learning.\n",
        "\n",
        "- **Classification (Phân loại)**:\n",
        "  Một bài toán được gọi là classification nếu các label của input data được chia thành một số hữu hạn nhóm.\n",
        "\n",
        "- **Regression (Hồi quy)**:\n",
        "  Nếu label không được chia thành các nhóm mà là một giá trị thực cụ thể.\n",
        "\n",
        "Trong ứng dụng dự đoán tuối giới tính dựa trên khuôn mặt. Phần dự đoán giới tnhs có thể coi là thuật toán **Classification**, phần dự đoán tuổi có thể coi là thuật toán **Regression**. *Chú ý rằng phần dự đoán tuổi cũng có thể coi là Classification nếu ta coi tuổi là một số nguyên dương không lớn hơn 150, chúng ta sẽ có 150 class (lớp) khác nhau.*\n",
        "\n",
        "**1.2. Unsupervised Learning (Học không giám sát)**\n",
        "\n",
        "  Unsupervised learning là khi chúng ta chỉ có dữ liệu vào **X** mà không biết nhãn **Y** tương ứng.\n",
        "\n",
        "- **Clustering (phân nhóm):**\n",
        "  Một bài toán phân nhóm toàn bộ dữ liệu **X** thành các nhóm nhỏ dựa trên sự liên quan giữa các dữ liệu trong mỗi nhóm.\n",
        "\n",
        "- **Association:**\n",
        "  Là bài toán khi chúng ta muốn khám phá ra một quy luật dựa trên nhiều dữ liệu cho trước.\n",
        "\n",
        "**1.3. Semi-Supervised Learning (Học bán giám sát)**\n",
        "\n",
        "  Các bài toán khi chúng ta có một lượng lớn dữ liệu **X** nhưng chỉ một phần trong chúng được gán nhãn được gọi là Semi-Supervised Learning.\n",
        "\n",
        "**1.4. Reinforcement Learning (Học Củng cố)**\n",
        "\n",
        "  Reinforcement learning là các bài toán giúp cho một hệ thống tự động xác định hành vi dựa trên hoàn cảnh để đạt được lợi ích cao nhất (maximizing the performance). Hiện tại, Reinforcement learning chủ yếu được áp dụng vào Lý Thuyết Trò Chơi (Game Theory), các thuật toán cần xác định nước đi tiếp theo để đạt được điểm số cao nhất.\n",
        "\n",
        "###**2. Phân nhóm dự trên chức năng**\n",
        "- Regression Algorithms\n",
        "- Classification Algorithms\n",
        "- Regularization Algorithms\n",
        "- Bayesian Algorithms\n",
        "- Clustering Algorithms\n",
        "- Artificial Neural Network Algorithms\n",
        "- Dimensionality Reduction Algorithms\n",
        "- Ensemble Algorithms\n"
      ]
    },
    {
      "cell_type": "markdown",
      "metadata": {
        "id": "PjwoQZ7J67i3"
      },
      "source": [
        "##2. Liner Regression"
      ]
    },
    {
      "cell_type": "markdown",
      "metadata": {
        "id": "KvQvVq3lD5Yv"
      },
      "source": [
        "Bài toán có đầu vào $x= [x_{1},x_{2},x_{3}]$ cần tìm $y^{hat}$ *(giá trị dự đoán)* có giá trị gần bằng $y$ *(giá trị thực tế)*.\n",
        "\n",
        "1. Dạng của Linear Regression\n",
        "\n",
        "  $w = [w_{0},w_{1},w_{2},w_{3}]$ *weight*\n",
        "\n",
        "  $x^{bar} = [1,x_{1},x_{2},x_{3}]$ \n",
        "  Số 1 ở đầu là hệ số của $w_{0}$ *(bias)*\n",
        "\n",
        "  $y^{hat} = x^{bar}w$\n",
        "\n",
        "2. Sai số  dự đoán\n",
        "\n",
        "  Chúng ta mong muốn rằng sự sai khác $e$ giữa giá trị thực $y$ và giá trị dự đoán $y^{hat}$ là nhỏ nhất.\n",
        "\n",
        "  $\\frac{1}{2}e^{2} = \\frac{1}{2}(y-y^{hat})^{2} = \\frac{1}{2} (y - x^{bar}w)^{2}$\n",
        "\n",
        "3. Hàm mất mát\n",
        "\n",
        "  $L(w) = \\frac{1}{2} \\sum_{i=1}^{N}(y_{i} - x^{bar}_{i}w)^{2}$\n",
        "\n",
        "  Giá trị của *w* làm cho hàm mất mát đạt giá trị nhỏ nhất được gọi là điểm tối ưu (optimal point), ký hiệu:\n",
        "\n",
        "  $w^{*}= argmin_{w} L(w)$\n",
        "\n",
        "  - $y= [y_{1};y_{2};...;y_{N}]$ output của training data;\n",
        "  - $X^{bar} = [x_{1};x_{2};...;x_{N}]$ ma trận dữ liệu đầu vào (mở rộng).\n",
        "\n",
        "  $L(w) = \\frac{1}{2} \\sum_{i=1}^{N}(y_{i} - x^{bar}_{i}w)^{2} = \\frac{1}{2}\\parallel y-X^{hat}w \\parallel^{2}_{2}$\n",
        "\n",
        "4. Nghiệm của bài toán\n",
        "\n",
        "  Đạo hàm theo w của hàm mất mát là:\n",
        "\n",
        "  $\\frac{∂L(w)}{∂w}= (X^{bar})^{T}(X^{bar}w-y)$\n",
        "\n",
        "  Phương trình đạo hàm bằng 0 tương đương:\n",
        "\n",
        "  $(X^{bar})^{T}X^{bar}w = (X^{bar})^{T}y$ đặt bằng $b$\n",
        "\n",
        "  Nếu ma trận vuông $A$ đặt bằng $X^{bar})^{T}X^{bar}$ khả nghịch thì phương trình có nghiệm duy nhất: $w = A^{-1}b$.\n",
        "\n",
        "  Với khái niệm giả nghịch đảo, điể m tối ưu của bài toán Linear Regrssion có dạng:\n",
        "\n",
        "  $ w = A^{†}b = ((X^{bar})^{T}X^{bar})^{†}X^{bar}y$\n",
        "\n",
        "\n",
        "\n"
      ]
    },
    {
      "cell_type": "code",
      "metadata": {
        "colab": {
          "base_uri": "https://localhost:8080/",
          "height": 283
        },
        "id": "L_kxVOeBR3Gk",
        "outputId": "5bf322aa-74a2-4a5c-e90e-f7a17e6237d2"
      },
      "source": [
        "# Bài toán nhập chiều cao dự đoán cân nặng\n",
        "import numpy as np \n",
        "import matplotlib.pyplot as plt\n",
        "\n",
        "# height (cm)\n",
        "X = np.array([[147, 150, 153, 158, 163, 165, 168, 170, 173, 175, 178, 180, 183]]).T\n",
        "# weight (kg)\n",
        "y = np.array([[ 49, 50, 51,  54, 58, 59, 60, 62, 63, 64, 66, 67, 68]]).T\n",
        "\n",
        "# Visualize data \n",
        "plt.plot(X, y, 'ro')\n",
        "plt.axis([140, 190, 45, 75])\n",
        "plt.xlabel('Height (cm)')\n",
        "plt.ylabel('Weight (kg)')\n",
        "plt.show()"
      ],
      "execution_count": null,
      "outputs": [
        {
          "output_type": "display_data",
          "data": {
            "image/png": "[encoded data removed]",
            "text/plain": [
              "<Figure size 432x288 with 1 Axes>"
            ]
          },
          "metadata": {
            "tags": [],
            "needs_background": "light"
          }
        }
      ]
    },
    {
      "cell_type": "code",
      "metadata": {
        "colab": {
          "base_uri": "https://localhost:8080/",
          "height": 317
        },
        "id": "QroZDQboSXk2",
        "outputId": "eb0730f2-8505-42fb-9601-8b37cfd030d4"
      },
      "source": [
        "# Building Xbar \n",
        "one = np.ones((X.shape[0], 1))\n",
        "Xbar = np.concatenate((one, X), axis = 1)\n",
        "\n",
        "# Calculating weights of the fitting line \n",
        "A = np.dot(Xbar.T, Xbar)\n",
        "b = np.dot(Xbar.T, y)\n",
        "w = np.dot(np.linalg.pinv(A), b)\n",
        "print('w = ', w)\n",
        "# Preparing the fitting line \n",
        "w_0 = w[0][0]\n",
        "w_1 = w[1][0]\n",
        "x0 = np.linspace(145, 185, 2)\n",
        "y0 = w_0 + w_1*x0\n",
        "\n",
        "# Drawing the fitting line \n",
        "plt.plot(X.T, y.T, 'ro')     # data \n",
        "plt.plot(x0, y0)               # the fitting line\n",
        "plt.axis([140, 190, 45, 75])\n",
        "plt.xlabel('Height (cm)')\n",
        "plt.ylabel('Weight (kg)')\n",
        "plt.show()"
      ],
      "execution_count": null,
      "outputs": [
        {
          "output_type": "stream",
          "text": [
            "w =  [[-33.73541021]\n",
            " [  0.55920496]]\n"
          ],
          "name": "stdout"
        },
        {
          "output_type": "display_data",
          "data": {
            "image/png": "[encoded data removed]",
            "text/plain": [
              "<Figure size 432x288 with 1 Axes>"
            ]
          },
          "metadata": {
            "tags": [],
            "needs_background": "light"
          }
        }
      ]
    },
    {
      "cell_type": "markdown",
      "metadata": {
        "id": "VvGF7lsGS8A3"
      },
      "source": [
        "5. Các bài toán có thể  giải bằng Linear Regrssion\n",
        "\n",
        "  Trên thực tế, Linear Regrssion có thể áp dụng cho các mô hình chỉ cần tuyến tính theo w. ví dụ về Quadratic Regression.\n",
        "\n",
        "![Quadratic Regression](http://www.varsitytutors.com/assets/vt-hotmath-legacy/hotmath_help/topics/quadratic-regression/f-qr-1-1.gif)\n",
        "\n",
        "6. Hạn chế của Linear Regression\n",
        "\n",
        "- Nhạy cảm với nhiễu (sensitive to noise)\n",
        "\n",
        "![Image nhay cam](https://machinelearningcoban.com/assets/LR/output_13_1.png)\n",
        "\n",
        "- Không biểu diễn được các mô hình phức tạp. Trong hầu hết các trường hợp, *chúng ta không thể  giải được phương trình đạo hàm bằng 0.*\n",
        "\n"
      ]
    },
    {
      "cell_type": "markdown",
      "metadata": {
        "id": "uumh6RMc7CdG"
      },
      "source": [
        "##3. K-means Clustering"
      ]
    },
    {
      "cell_type": "markdown",
      "metadata": {
        "id": "r988yfxMZmzo"
      },
      "source": [
        "Trên một vùng biển hình vuông lớn có ba đảo hình vuông, tam giác, và tròn màu vàng như hình trên. Một điểm trên biển được gọi là thuộc lãnh hải của một đảo nếu nó nằm gần đảo này hơn so với hai đảo kia . Hãy xác định ranh giới lãnh hải của các đảo.\n",
        "\n",
        "![3 clusters](https://machinelearningcoban.com/assets/kmeans/figure_2.png)\n",
        "\n",
        "![phan vung](https://machinelearningcoban.com/assets/kmeans/figure_1.png)\n",
        "\n",
        "Chúng ta thấy rằng đường phân định giữa các lãnh hải là đường thẳng (chính xác hơn thì chúng là các đường trung trực của các cặp điểm gần nhau). Vì vậy, lãnh hải của một đảo sẽ là các hình đa giác.\n",
        "\n",
        "Cách phân chia này trong toán học được gọi là **Voronoi Diagram**.\n",
        "\n",
        "\n",
        "**1. Phân tích toán học**\n",
        "\n",
        "Giả sử có $N$ điểm dữ liệu là $X = [x_{1},x_{2},...,x_{N}]$ thuộc $R^{d\\text{x}N}$ và $K < N$ là số cluster chúng ta muốn phân chia. Chúng ta cần tìm các center $m_{1}, m_{2},...,m_{K}$ thuộc $R^{d \\text{x} 1}$ và label của mỗi điểm dữ liệu.\n",
        "\n",
        "- Điểm dữ liệu $x_{i}$ có lable $y_{i}$\n",
        "\n",
        "Trong đó $y_{i} = [y_{i1},y_{i1},...,y_{iK}$. Nếu $x_{i}$ được phân vào cluster $k$ thì $y_{ik} = 1$ và $y_{ij} = 0$ với mọi $j!=k$.\n",
        "\n",
        "Đây là cách biểu diễn **one-hot**.\n",
        "\n",
        "Ràng buộc của $y_{i}$ có thể viết dưới dạng toán học như sau:\n",
        "$y_{ik} \\in \\{0,1\\}, \\sum_{k=1}^{K} y_{ik} = 1$\n",
        "\n",
        "\n",
        "**Hàm mất mát và bài toán tối ưu**\n",
        "\n",
        "- Coi center $m_{k}$ là center của mỗi cluster. Nếu $x_{i}$ được phân vào cluster $k$ sẽ có sai số là: \n",
        "$\\parallel x_{i} - m_{k} \\parallel_{2}^{2}$\n",
        "\n",
        "- Do tính chất của one-hot của $y_{i}$ nên:\n",
        "$y_{ik}\\parallel x_{i} - m_{k} \\parallel_{2}^{2} = \\sum_{j=1}^{K} y_{ij} \\parallel x_{i} - m_{j} \\parallel_{2}^{2}$\n",
        "\n",
        "- Sai số cho toàn bộ dữ liệu sẽ là: \n",
        "$L(Y,M) = \\sum_{i=1}^{N} \\sum_{j=1}^{K} y_{ij}\\parallel x_{i} - m_{j} \\parallel_{2}^{2}$\n",
        "\n",
        "Với $Y=[y_{1};y_{2};...;y_{N}], M = [m_{1}, m_{2},...,m_{k}]$ chúng ta cần tối ưu bài toán:\n",
        "$Y,M = argmin_{Y,M} \\sum_{i=1}^{N} \\sum_{j=1}^{K} y_{ij}\\parallel x_{i} - m_{j} \\parallel_{2}^{2}$\n",
        "\n",
        "**Thuật toán tối ưu hàm mất mát**\n",
        "\n",
        "Cố định $M$, tìm $Y$\n",
        "\n",
        "- Giả sử đã tìm được các centers, hãy tìm các label vector để hàm mất mát đạt giá trị nhỏ nhất $=>$ Đây là bước tìm cluster cho mỗi điểm dữ liệu.\n",
        "\n",
        "- Bài toán tìm label vector cho từng điểm dữ liệu $x_{i}$:  \n",
        "$y_{i} = argmin_{y_{i}} \\sum_{j=1}^{K} y_{ij}\\parallel x_{i} - m_{j} \\parallel_{2}^{2}$\n",
        "\n",
        "- Vì chỉ có một phần tử của label $y_{i}$ bằng 1 nên:\n",
        "$j = argmin_{j}\\parallel x_{i} - m_{j} \\parallel_{2}^{2}$\n",
        "\n",
        "- Vì $\\parallel x_{i} - m_{j} \\parallel_{2}^{2}$ chính là bình phương khoảng cách tính từ điểm $x_{i}$ tới center $m_{j}$, ta có thể kết luận rằng **mỗi điểm $x_{i}$ thuộc vào cluster gần nó nhất.**\n",
        "\n",
        "\n",
        "Cố định $Y$, tìm $M$\n",
        "\n",
        "- Giả sử đã tìm được cluster cho từng điểm, hãy tìm center mới cho mỗi cluster để hàm mất mát đạt giá trị nhỏ nhất.\n",
        "\n",
        "- Bài toán đi tìm center cho mỗi cluster:\n",
        "$m_{j} = argmin_{m_{j}} \\sum_{i=1}^{N} y_{ij}\\parallel x_{i} - m_{j} \\parallel_{2}^{2}$\n",
        "\n",
        "- Đặt $l(m_{j})$ là hàm bên trong dấu argmin, ta có đạo hàm:\n",
        "$\\frac{∂l(m_{j})}{∂m_{j}} = 2 \\sum_{i=1}^{N} y_{ij}(m_{j} - x_{i})$\n",
        "\n",
        "- Giải phương trình đạo hàm bằng 0 ta có:\n",
        "$m_{j} \\sum_{i=1}^{N} y_{ij} = \\sum_{i=1}^{N} y_{ij}x_{i} => m_{j} = \\frac{\\sum_{i=1}^{N} y_{ij}x_{i}}{\\sum_{i=1}^{N} y_{ij}}$\n",
        "\n",
        "- Hay nói một cách đơn giản hơn nhiều: $m_{j}$ là trung bình cộng của các điểm trong cluster $j$. Tên gọi K-means clustering cũng xuất phát từ đây.\n",
        "\n",
        "**Tóm tắt thuật toán**\n",
        "- Đầu vào: Dữ liệu $x$ và số lượng các cluster cần tìm $K$.\n",
        "\n",
        "- Đầu ra: Các center $M$ và label vector cho từng điểm dữ liệu $Y$.\n",
        "\n",
        "1. Chọn $K$ điểm bất kỳ làm các center ban đầu.\n",
        "1. Phân mỗi điểm dữ liệu vào cluster có center gần nó nhất.\n",
        "1. Nếu việc gán dữ liệu vào từng cluster ở bước 2 không có thay đổi so với vòng lặp trước no thì ta dừng thuật toán.\n",
        "1. Cập nhật center cho từng cluster bằng cách lấy trung bình cộng của tất cả các điểm dữ liệu đã được gán vào cluster đó sau bước 2.\n",
        "1. Quay lại bước 2.\n",
        "\n",
        "Chúng ta có thể đảm bảo rằng thuật toán sẽ dừng lại sau một số hữu hạn vòng lặp. Thật vậy, vì hàm mất mát là một số dương và sau mỗi bước 2 hoặc 3, giá trị của hàm mất mát bị giảm đi. Theo kiến thức về dãy số trong chương trình cấp 3: *nếu một dãy số giảm và bị chặn dưới thì nó hội tụ!*"
      ]
    },
    {
      "cell_type": "markdown",
      "metadata": {
        "id": "3LUA5YdVszqX"
      },
      "source": [
        "**2. Ví dụ trên Python**\n",
        "\n"
      ]
    },
    {
      "cell_type": "code",
      "metadata": {
        "id": "IMKVhjfQtCwW"
      },
      "source": [
        "import numpy as np\n",
        "import matplotlib.pyplot as plt\n",
        "from scipy.spatial.distance import cdist\n",
        "np.random.seed(11)"
      ],
      "execution_count": null,
      "outputs": []
    },
    {
      "cell_type": "code",
      "metadata": {
        "id": "wPDBw15ltHgS"
      },
      "source": [
        "means = [[2, 2], [8, 3], [3, 6]]\n",
        "cov = [[1, 0], [0, 1]]\n",
        "N = 500\n",
        "X0 = np.random.multivariate_normal(means[0], cov, N)\n",
        "X1 = np.random.multivariate_normal(means[1], cov, N)\n",
        "X2 = np.random.multivariate_normal(means[2], cov, N)\n",
        "\n",
        "X = np.concatenate((X0, X1, X2), axis = 0)\n",
        "K = 3\n",
        "\n",
        "original_label = np.asarray([0]*N + [1]*N + [2]*N).T"
      ],
      "execution_count": null,
      "outputs": []
    },
    {
      "cell_type": "code",
      "metadata": {
        "colab": {
          "base_uri": "https://localhost:8080/",
          "height": 265
        },
        "id": "JyGt_59KtLeW",
        "outputId": "eaefa724-8fbe-4982-e8dd-5b1a1614cf08"
      },
      "source": [
        "def kmeans_display(X, label):\n",
        "    K = np.amax(label) + 1\n",
        "    X0 = X[label == 0, :]\n",
        "    X1 = X[label == 1, :]\n",
        "    X2 = X[label == 2, :]\n",
        "    \n",
        "    plt.plot(X0[:, 0], X0[:, 1], 'b^', markersize = 4, alpha = .8)\n",
        "    plt.plot(X1[:, 0], X1[:, 1], 'go', markersize = 4, alpha = .8)\n",
        "    plt.plot(X2[:, 0], X2[:, 1], 'rs', markersize = 4, alpha = .8)\n",
        "\n",
        "    plt.axis('equal')\n",
        "    plt.plot()\n",
        "    plt.show()\n",
        "    \n",
        "kmeans_display(X, original_label)"
      ],
      "execution_count": null,
      "outputs": [
        {
          "output_type": "display_data",
          "data": {
            "image/png": "[encoded data removed]",
            "text/plain": [
              "<Figure size 432x288 with 1 Axes>"
            ]
          },
          "metadata": {
            "tags": [],
            "needs_background": "light"
          }
        }
      ]
    },
    {
      "cell_type": "code",
      "metadata": {
        "id": "3DzNEdSmtRiB"
      },
      "source": [
        "def kmeans_init_centers(X, k):\n",
        "    # randomly pick k rows of X as initial centers\n",
        "    return X[np.random.choice(X.shape[0], k, replace=False)]\n",
        "\n",
        "def kmeans_assign_labels(X, centers):\n",
        "    # calculate pairwise distances btw data and centers\n",
        "    D = cdist(X, centers)\n",
        "    # return index of the closest center\n",
        "    return np.argmin(D, axis = 1)\n",
        "\n",
        "def kmeans_update_centers(X, labels, K):\n",
        "    centers = np.zeros((K, X.shape[1]))\n",
        "    for k in range(K):\n",
        "        # collect all points assigned to the k-th cluster \n",
        "        Xk = X[labels == k, :]\n",
        "        # take average\n",
        "        centers[k,:] = np.mean(Xk, axis = 0)\n",
        "    return centers\n",
        "\n",
        "def has_converged(centers, new_centers):\n",
        "    # return True if two sets of centers are the same\n",
        "    return (set([tuple(a) for a in centers]) == \n",
        "        set([tuple(a) for a in new_centers]))"
      ],
      "execution_count": null,
      "outputs": []
    },
    {
      "cell_type": "code",
      "metadata": {
        "id": "HvmaWahdtThX"
      },
      "source": [
        "def kmeans(X, K):\n",
        "    centers = [kmeans_init_centers(X, K)]\n",
        "    labels = []\n",
        "    it = 0 \n",
        "    while True:\n",
        "        labels.append(kmeans_assign_labels(X, centers[-1]))\n",
        "        new_centers = kmeans_update_centers(X, labels[-1], K)\n",
        "        if has_converged(centers[-1], new_centers):\n",
        "            break\n",
        "        centers.append(new_centers)\n",
        "        it += 1\n",
        "    return (centers, labels, it)"
      ],
      "execution_count": null,
      "outputs": []
    },
    {
      "cell_type": "code",
      "metadata": {
        "colab": {
          "base_uri": "https://localhost:8080/",
          "height": 333
        },
        "id": "KVSjEAB4tXgJ",
        "outputId": "87317d2b-07d5-432d-d22f-da90ac80da94"
      },
      "source": [
        "(centers, labels, it) = kmeans(X, K)\n",
        "print('Centers found by our algorithm:')\n",
        "print(centers[-1])\n",
        "\n",
        "kmeans_display(X, labels[-1])"
      ],
      "execution_count": null,
      "outputs": [
        {
          "output_type": "stream",
          "text": [
            "Centers found by our algorithm:\n",
            "[[2.99084705 6.04196062]\n",
            " [1.97563391 2.01568065]\n",
            " [8.03643517 3.02468432]]\n"
          ],
          "name": "stdout"
        },
        {
          "output_type": "display_data",
          "data": {
            "image/png": "[encoded data removed]",
            "text/plain": [
              "<Figure size 432x288 with 1 Axes>"
            ]
          },
          "metadata": {
            "tags": [],
            "needs_background": "light"
          }
        }
      ]
    },
    {
      "cell_type": "markdown",
      "metadata": {
        "id": "UE9W3ydUtbI7"
      },
      "source": [
        "Minh họa thụât toán\n",
        "![Minh hoa](https://machinelearningcoban.com/assets/kmeans/kmeans11.gif)\n"
      ]
    },
    {
      "cell_type": "markdown",
      "metadata": {
        "id": "O2jFsnnLtrNX"
      },
      "source": [
        "**3. Hạn chế**\n",
        "- Chúng ta cần biết số lượng cluster cần clustering.\n",
        "- Nghiệm cuối cùng phụ thuộc vào các centers được khởi tạo ban đầu.\n",
        "\n",
        "  Tùy vào các center ban đầu mà thuật toán có thể có tốc độ hội tụ rất chậm, ví dụ:\n",
        "  ![Minhhoa](https://machinelearningcoban.com/assets/kmeans/kmeans_slowconverge.gif)\n",
        "  hoặc thậm chí cho chúng ta nghiệm không chính xác (chỉ là local minimum - điểm cực tiểu - mà không phải giá trị nhỏ nhất):\n",
        " ![Minhhoa](https://machinelearningcoban.com/assets/kmeans/kmeans_badresult.gif)\n",
        "\n",
        "- Các cluster cần có só lượng điểm gần bằng nhau.\n",
        "  Dưới đây là một ví dụ với 3 cluster với 20, 50, và 1000 điểm. Kết quả cuối cùng không chính xác.\n",
        "  ![MinhHoa](https://machinelearningcoban.com/assets/kmeans/kmeans_unbalanced.gif)\n",
        "\n",
        "- Các cluster cần có dạng hình tròn.\n",
        "  Tức các cluster tuân theo phân phối chuẩn và ma trận hiệp phương sai là ma trận đường chéo có các điểm trên đường chéo giống nhau.\n",
        "  ![MinhHoa](https://machinelearningcoban.com/assets/kmeans/kmeans_diffcov.gif)\n",
        "\n",
        "- Khi một cluster nằm phía trong 1 cluster khác.\n",
        " ![Minhhoa](https://machinelearningcoban.com/assets/kmeans/smile_face.png)\n",
        " "
      ]
    },
    {
      "cell_type": "markdown",
      "metadata": {
        "id": "0EgZz_7gwqC1"
      },
      "source": [
        "**4. Simple Applications**\n",
        "- Phân nhóm chữ số viết tay\n",
        "\n",
        "![Example](https://machinelearningcoban.com/assets/kmeans/digit_7.png)\n",
        "\n",
        "- Object Segmentation(tách vật thể trong ảnh)\n",
        "\n",
        "![Example](https://machinelearningcoban.com/assets/kmeans/girl3.jpg)\n",
        "\n",
        "![Ex](https://machinelearningcoban.com/assets/kmeans/girl_seg.png)\n",
        "\n",
        "- Image Compression(nén ảnh và nén dữ liệu nó chung)\n",
        "\n",
        "![Imgae](https://machinelearningcoban.com/assets/kmeans/girl_all.png)"
      ]
    },
    {
      "cell_type": "markdown",
      "metadata": {
        "id": "07OEE-7r7GYX"
      },
      "source": [
        "##4. K-nearest neighbors"
      ]
    },
    {
      "cell_type": "markdown",
      "metadata": {
        "id": "qkSmUrN00zSy"
      },
      "source": [
        "**K-nearest neighbor** là một trong những thuật toán **supervised-learning** đơn giản nhất (mà hiệu quả trong một vài trường hợp) trong Machine Learning. Khi training, thuật toán này không học một điều gì từ dữ liệu training (đây cũng là lý do thuật toán này được xếp vào loại **lazy learning**), mọi tính toán được thực hiện khi nó cần dự đoán kết quả của dữ liệu mới. K-nearest neighbor có thể áp dụng được vào cả hai loại của bài toán Supervised learning là **Classification** và **Regression**. KNN còn được gọi là một thuật toán **Instance-based** hay **Memory-based learning**.\n",
        "\n",
        "KNN là thuật toán đi tìm đầu ra của một điểm dữ liệu mới bằng cách chỉ dựa trên thông tin của K điểm dữ liệu trong training set gần nó nhất (K-lân cận), *không quan tâm đến việc có một vài điểm dữ liệu trong những điểm gần nhất này là nhiễu*. Hình dưới đây là một ví dụ về KNN trong classification với K = 1.\n",
        "\n",
        "![Demo](https://upload.wikimedia.org/wikipedia/commons/5/52/Map1NN.png)\n",
        "\n",
        "**Khoảng cách trong không gian vector**\n",
        "\n",
        "Trong không gian một chiều, khoảng cách giữa hai điểm là trị tuyệt đối giữa hiệu giá trị của hai điểm đó. Trong không gian nhiều chiều, khoảng cách giữa hai điểm có thể được định nghĩa bằng nhiều hàm số khác nhau, trong đó độ dài đường thằng nổi hai điểm chỉ là một trường hợp đặc biệt trong đó.\n",
        "\n",
        "**KNN cho Regression**\n",
        "\n",
        "Với bài toán Regression, chúng ta cũng hoàn toàn có thể sử dụng phương pháp tương tự: ước lượng đầu ra dựa trên đầu ra và khoảng cách của các điểm trong K-lân cận. Việc ước lượng như thế nào các bạn có thể tự định nghĩa tùy vào từng bài toán.\n",
        "\n",
        "![Demo](http://scikit-learn.org/stable/_images/sphx_glr_plot_regression_001.png)\n",
        "\n",
        "**Chuẩn hóa dữ liệu**\n",
        "\n",
        "Để có được kết quả chính xác hơn, một kỹ thuật thường được dùng là Data Normalization (chuẩn hóa dữ liệu) để đưa các thuộc tính có đơn vị đo khác nhau về cùng một khoảng giá trị, thường là từ 0 đến 1, trước khi thực hiện KNN.\n",
        "\n",
        "**Sử dụng các phép đo khoảng cách khác nhau**\n",
        "\n",
        "Ngoài norm 1 và norm 2 tôi giới thiệu trong bài này, còn rất nhiều các khoảng cách khác nhau có thể được dùng. Một ví dụ đơn giản là đếm số lượng thuộc tính khác nhau giữa hai điểm dữ liệu. Số này càng nhỏ thì hai điểm càng gần nhau\n",
        "\n",
        "**Ưu điểm của KNN**\n",
        "1. Độ phức tạp tính toán của quá trình training là bằng 0.\n",
        "1. Việc dự đoán kết quả của dữ liệu mới rất đơn giản.\n",
        "1. Không cần giả sử gì về phân phối của các class.\n",
        "\n",
        "**Nhược điểm của KNN**\n",
        "1. KNN rất nhạy cảm với nhiễu khi K nhỏ.\n",
        "1. Như đã nói, KNN là một thuật toán mà mọi tính toán đều nằm ở khâu test. Trong đó việc tính khoảng cách tới từng điểm dữ liệu trong training set sẽ tốn rất nhiều thời gian, đặc biệt là với các cơ sở dữ liệu có số chiều lớn và có nhiều điểm dữ liệu. Với K càng lớn thì độ phức tạp cũng sẽ tăng lên. Ngoài ra, việc lưu toàn bộ dữ liệu trong bộ nhớ cũng ảnh hưởng tới hiệu năng của KNN."
      ]
    },
    {
      "cell_type": "markdown",
      "metadata": {
        "id": "lM1NYUPC7KKb"
      },
      "source": [
        "##5. Gradient Descent (1/2)"
      ]
    },
    {
      "cell_type": "markdown",
      "metadata": {
        "id": "wylvXNaGYfTk"
      },
      "source": [
        "**Ý nghĩa của đạo hàm**\n",
        "\n",
        "![Image](https://github.com/tiepvupsu/tiepvupsu.github.io/blob/master/assets/GD/gradient_descent.png?raw=true)\n",
        "\n",
        "- Điểm *local minimum* (cực tiểu).\n",
        "- Điểm làm cho $f(x)$ đạt giá trị nhỏ nhất là *global minimum*. Đây là một trường hợp đặc biệt của *local minimum*.\n",
        "\n",
        "1. Điểm local minimum $x^{*}$ của hàm số là điểm có đạo hàm $f^{'}(x^{*})$ bằng 0. \n",
        "1. Đường tiếp tuyến với đồ thị hàm số đó tại 1 điểm bất kỳ có hệ số góc chính bằng đạo hàm của hàm số tại điểm đó.\n",
        "1. Các điểm bên trái của điểm *local minimum* màu xanh lục có đạo hàm âm, các điểm bên phải có đạo hàm dương. Và đối với hàm số này, càng xa về phía trái của điểm *local minimum* thì đạo hàm càng âm, càng xa về phía phải thì đạo hàm càng dương.\n",
        "\n",
        "**Gradient Descent**\n",
        "\n",
        "Việc tìm global minimum của các hàm mất mát trong Machine Learning là rất phức tạp, thậm chí là bất khả thi. Thay vào đó, người ta thường cố gắng tìm các điểm local minimum, và ở một mức độ nào đó, coi đó là nghiệm cần tìm của bài toán.\n",
        "\n",
        "Các điểm local minimum là nghiệm của phương trình đạo hàm bằng 0. Trong hầu hết các trường hợp, việc giải phương trình đạo hàm bằng 0 là bất khả thi.\n",
        "\n",
        "Nguyên nhân có thể đến từ sự phức tạp của dạng của đạo hàm, từ việc các điểm dữ liệu có số chiều lớn, hoặc từ việc có quá nhiều điểm dữ liệu.\n",
        "\n",
        "Hướng tiếp cận phổ biến nhất là xuất phát từ một điểm mà chúng ta coi là gần với nghiệm của bài toán, sau đó dùng một phép toán lặp để tiến dần đến điểm cần tìm, tức đến khi đạo hàm gần với 0. Gradient Descent (viết gọn là GD) và các biến thể của nó là một trong những phương pháp được dùng nhiều nhất.\n",
        "\n",
        "**Gradient Descent cho hàm 1 biến**\n",
        "\n",
        "Giả sử $x_{t}$ là điểm ta tìm được sau vòng lặp thứ $t$. Ta cần tìm một thuật toán để đưa $x_{t}$ về càng gần $x^{*}$ càng tốt.\n",
        "\n",
        "1. Chúng ta cần di chuyển ngược dấu với đạo hàm: $x_{t+1} = x_{t} +  \\bigtriangleup$\n",
        "\n",
        "  Trong đó $\\bigtriangleup$ là đại lượng đi ngược dấu với đạo hàm $f^{'}(x_{t})$\n",
        "\n",
        "2. $x_{t}$ càng xa $x^{*}$ về phía bên phải thì $f^{'}(x_{t})$ càng lớn hơn 0 (và ngược lại). Vậy, lượng di chuyển $\\bigtriangleup$, một cách trực quan nhất, là tỉ lệ thuận với $-f^{'}(x_{t})$.\n",
        "\n",
        "Hai nhận xét phía trên cho chúng ta một cách cập nhật đơn giản là: $x_{t+1} = x_{t} - \\eta f^{'}(x_{t})$\n",
        "\n",
        "Trong đó $\\eta$ (đọc là eta) là một số dương được gọi là learning rate (tốc độ học).\n",
        "\n"
      ]
    },
    {
      "cell_type": "markdown",
      "metadata": {
        "id": "pv4Rz9VIy9rM"
      },
      "source": [
        "Ví dụ với hàm số $f(x) = x^{2} + 5\\sin(x)$"
      ]
    },
    {
      "cell_type": "code",
      "metadata": {
        "colab": {
          "base_uri": "https://localhost:8080/"
        },
        "id": "CuftNxF9zIvo",
        "outputId": "6f22780c-80c1-47c5-c180-40b6ac99ef22"
      },
      "source": [
        "import math\n",
        "import numpy as np \n",
        "import matplotlib.pyplot as plt\n",
        "\n",
        "def grad(x):\n",
        "    return 2*x+ 5*np.cos(x)\n",
        "\n",
        "def cost(x):\n",
        "    return x**2 + 5*np.sin(x)\n",
        "\n",
        "def myGD1(eta, x0):\n",
        "    x = [x0]\n",
        "    for it in range(100):\n",
        "        x_new = x[-1] - eta*grad(x[-1])\n",
        "        if abs(grad(x_new)) < 1e-3:\n",
        "            break\n",
        "        x.append(x_new)\n",
        "    return (x, it)\n",
        "\n",
        "(x1, it1) = myGD1(.1, -5)\n",
        "(x2, it2) = myGD1(.1, 5)\n",
        "print('Solution x1 = %f, cost = %f, obtained after %d iterations'%(x1[-1], cost(x1[-1]), it1))\n",
        "print('Solution x2 = %f, cost = %f, obtained after %d iterations'%(x2[-1], cost(x2[-1]), it2))"
      ],
      "execution_count": null,
      "outputs": [
        {
          "output_type": "stream",
          "text": [
            "Solution x1 = -1.110667, cost = -3.246394, obtained after 11 iterations\n",
            "Solution x2 = -1.110341, cost = -3.246394, obtained after 29 iterations\n"
          ],
          "name": "stdout"
        }
      ]
    },
    {
      "cell_type": "markdown",
      "metadata": {
        "id": "6KjB6mlLzfzy"
      },
      "source": [
        "Với điểm ban đầu khác nhau ta tìm được nghiệm gần giống nhau.\n",
        "\n",
        "![Image](https://machinelearningcoban.com/assets/GD/1dimg_5_0.1_-5.gif)\n",
        "![Image](https://machinelearningcoban.com/assets/GD/1dimg_5_0.1_5.gif)\n"
      ]
    },
    {
      "cell_type": "markdown",
      "metadata": {
        "id": "yx_DphbgzwoD"
      },
      "source": [
        "**Learning rate khác nhau**\n",
        "\n",
        "Tốc độ hội tụ của GD không những phụ thuộc vào điểm khởi tạo ban đầu mà còn phụ thuộc vào learning rate.\n",
        "\n",
        "![Example](https://machinelearningcoban.com/assets/GD/1dimg_5_0.01_-5.gif)\n",
        "![Example](https://machinelearningcoban.com/assets/GD/1dimg_5_0.5_-5.gif)\n",
        "\n",
        "1. Với learning rate nhỏ, tốc độ hội tụ rất chậm. rong ví dụ này tôi chọn tối đa 100 vòng lặp nên thuật toán dừng lại trước khi tới đích, mặc dù đã rất gần.\n",
        "\n",
        "1. Với learning rate lớn, thuật toán tiến rất nhanh tới gần đích sau vài vòng lặp. Tuy nhiên, thuật toán không hội tụ được vì bước nhảy quá lớn, khiến nó cứ quẩn quanh ở đích."
      ]
    },
    {
      "cell_type": "markdown",
      "metadata": {
        "id": "ZPR7iMeN08YZ"
      },
      "source": [
        "**Gradient Descent cho hàm nhiều biến**\n",
        "- $\\theta$ (theta) là một vector, thường được dùng để ký hiệu tập hợp các tham số của một mô hình cần tối ưu( trong Linear Regression thì các tham số chính là $w$).\n",
        "- $\\nabla_{\\theta} f(\\theta)$ là đạo hàm tại điểm $\\theta$\n",
        "- $\\theta_{0}$ điểm dự đoán bắt đầu\n",
        "\n",
        "Quy tắc cập nhật là: $\\theta_{t+1} = \\theta_{t} - \\eta \\nabla_{\\theta} f(\\theta_{t})$\n",
        "\n",
        "Quy tắc cần nhớ: **luôn luôn đi ngược hướng với đạo hàm**"
      ]
    },
    {
      "cell_type": "markdown",
      "metadata": {
        "id": "AAQg4IV-3yGw"
      },
      "source": [
        "**Linear Regression**\n",
        "\n",
        "- Loss Function của Linear Regression: \n",
        "$L(w) = \\frac{1}{2N} \\parallel y-X^{bar}w \\parallel^{2}_{2}$\n",
        "\n",
        "- Đạo hàm:\n",
        "$\\nabla_{w}L(w) = \\frac{1}{N} (X^{bar})^{T}(X^{bar}w-y)$\n",
        "\n"
      ]
    },
    {
      "cell_type": "code",
      "metadata": {
        "id": "NqjIo0iI5AIm"
      },
      "source": [
        "import numpy as np \n",
        "import matplotlib\n",
        "import matplotlib.pyplot as plt\n",
        "np.random.seed(2)"
      ],
      "execution_count": null,
      "outputs": []
    },
    {
      "cell_type": "markdown",
      "metadata": {
        "id": "gAdcEqsM6QvZ"
      },
      "source": [
        "Chúng ta tạo 1000 điểm dữ liệu được chọn gần với đường thẳng $y = 4 + 3x$\n",
        "\n",
        "- weight = $[w_{0} = 4, w_{1} = 3]$"
      ]
    },
    {
      "cell_type": "code",
      "metadata": {
        "colab": {
          "base_uri": "https://localhost:8080/",
          "height": 286
        },
        "id": "QjoTB-M25DSt",
        "outputId": "24c3c59d-81a2-4c2c-b893-954d01c6412a"
      },
      "source": [
        "X = np.random.rand(1000, 1)\n",
        "y = 4 + 3 * X + .2*np.random.randn(1000, 1) # noise added\n",
        "\n",
        "# Building Xbar \n",
        "one = np.ones((X.shape[0],1))\n",
        "Xbar = np.concatenate((one, X), axis = 1)\n",
        "\n",
        "A = np.dot(Xbar.T, Xbar)\n",
        "b = np.dot(Xbar.T, y)\n",
        "w_lr = np.dot(np.linalg.pinv(A), b)\n",
        "print('Solution found by formula: w = ',w_lr.T)\n",
        "\n",
        "# Display result\n",
        "w = w_lr\n",
        "w_0 = w[0][0]\n",
        "w_1 = w[1][0]\n",
        "x0 = np.linspace(0, 1, 2, endpoint=True)\n",
        "y0 = w_0 + w_1*x0\n",
        "\n",
        "# Draw the fitting line \n",
        "plt.plot(X.T, y.T, 'b.')     # data \n",
        "plt.plot(x0, y0, 'y', linewidth = 2)   # the fitting line\n",
        "plt.axis([0, 1, 0, 10])\n",
        "plt.show()"
      ],
      "execution_count": null,
      "outputs": [
        {
          "output_type": "stream",
          "text": [
            "Solution found by formula: w =  [[4.0071715  2.98225924]]\n"
          ],
          "name": "stdout"
        },
        {
          "output_type": "display_data",
          "data": {
            "image/png": "[encoded data removed]",
            "text/plain": [
              "<Figure size 432x288 with 1 Axes>"
            ]
          },
          "metadata": {
            "tags": [],
            "needs_background": "light"
          }
        }
      ]
    },
    {
      "cell_type": "markdown",
      "metadata": {
        "id": "u-BJ58gK7X1q"
      },
      "source": [
        "**Kiểm tra đạo hàm**\n",
        "\n",
        "- Dựa trên định nghĩa đạo hàm: \n",
        "$f^{'}(x) = \\lim_{\\varepsilon \\rightarrow 0} \\frac{f(x + \\varepsilon) - f(x)}{\\varepsilon}$\n",
        "\n",
        "- Numerical gradient: \n",
        "$f^{'}(x) = \\lim_{\\varepsilon \\rightarrow 0} \\frac{f(x + \\varepsilon) - f(x - \\varepsilon)}{2\\varepsilon}$\n",
        "\n",
        "Lý do Numerial gradient được dùng rộng rãi:\n",
        "- Giải thích bằng hình học\n",
        "\n",
        "![Explain](https://machinelearningcoban.com/assets/GD/check_grad.png)\n",
        "\n",
        "- Giải thích bằng giải tích: Khai triển Taylor\n"
      ]
    },
    {
      "cell_type": "markdown",
      "metadata": {
        "id": "8emk_Ani8OSJ"
      },
      "source": [
        "**Linear Regression sử dụng Gradient Descent để tối ưu hàm mất mát**"
      ]
    },
    {
      "cell_type": "code",
      "metadata": {
        "colab": {
          "base_uri": "https://localhost:8080/"
        },
        "id": "UcdFmgAd_DvO",
        "outputId": "a39ed8f5-e0dc-4664-f376-84af14431d6d"
      },
      "source": [
        "def grad(w):\n",
        "    N = Xbar.shape[0]\n",
        "    return 1/N * Xbar.T.dot(Xbar.dot(w) - y)\n",
        "\n",
        "def cost(w):\n",
        "    N = Xbar.shape[0]\n",
        "    return .5/N*np.linalg.norm(y - Xbar.dot(w), 2)**2;\n",
        "\n",
        "def numerical_grad(w, cost):\n",
        "    eps = 1e-4\n",
        "    g = np.zeros_like(w)\n",
        "    for i in range(len(w)):\n",
        "        w_p = w.copy()\n",
        "        w_n = w.copy()\n",
        "        w_p[i] += eps \n",
        "        w_n[i] -= eps\n",
        "        g[i] = (cost(w_p) - cost(w_n))/(2*eps)\n",
        "    return g \n",
        "\n",
        "def check_grad(w, cost, grad):\n",
        "    w = np.random.rand(w.shape[0], w.shape[1])\n",
        "    grad1 = grad(w)\n",
        "    grad2 = numerical_grad(w, cost)\n",
        "    return True if np.linalg.norm(grad1 - grad2) < 1e-6 else False \n",
        "\n",
        "print( 'Checking gradient...', check_grad(np.random.rand(2, 1), cost, grad))\n"
      ],
      "execution_count": null,
      "outputs": [
        {
          "output_type": "stream",
          "text": [
            "Checking gradient... True\n"
          ],
          "name": "stdout"
        }
      ]
    },
    {
      "cell_type": "code",
      "metadata": {
        "colab": {
          "base_uri": "https://localhost:8080/"
        },
        "id": "0mdfj1MY_MTl",
        "outputId": "e5cca273-e040-4e7d-df9f-3f184c427d39"
      },
      "source": [
        "def myGD(w_init, grad, eta):\n",
        "    w = [w_init]\n",
        "    for it in range(100):\n",
        "        w_new = w[-1] - eta*grad(w[-1])\n",
        "        if np.linalg.norm(grad(w_new))/len(w_new) < 1e-3:\n",
        "            break \n",
        "        w.append(w_new)\n",
        "    return (w, it) \n",
        "\n",
        "w_init = np.array([[2], [1]])\n",
        "(w1, it1) = myGD(w_init, grad, 1)\n",
        "print('Solution found by GD: w = ', w1[-1].T, ',\\nafter %d iterations.' %(it1+1))"
      ],
      "execution_count": null,
      "outputs": [
        {
          "output_type": "stream",
          "text": [
            "Solution found by GD: w =  [[4.02199496 2.95380036]] ,\n",
            "after 50 iterations.\n"
          ],
          "name": "stdout"
        }
      ]
    },
    {
      "cell_type": "markdown",
      "metadata": {
        "id": "MJon2thk_SXQ"
      },
      "source": [
        "Thụât toán đã hội tụ nghiệm khá gần với nghiệm của công thức.\n",
        "\n",
        "*Minh họa thuật toán*\n",
        "\n",
        "![Minh Hoa](https://machinelearningcoban.com/assets/GD/img1_1.gif)\n",
        "![Minh Hoa](https://machinelearningcoban.com/assets/GD/img2_1.gif)"
      ]
    },
    {
      "cell_type": "markdown",
      "metadata": {
        "id": "0um4tunxAf3N"
      },
      "source": [
        "**Đường đồng mức (level sets)**\n",
        "\n",
        "Trong **không gian ba chiều**, khó nhìn được nghiệm có khoảng toạ độ bao nhiêu. Người ta thường dùng một cách vẽ sử dụng khái niệm level sets.\n",
        "\n",
        "Nếu các bạn để ý trong các bản độ tự nhiên, để miêu tả độ cao của các dãy núi, người ta dùng nhiều đường cong kín bao quanh nhau như sau:\n",
        "\n",
        "![Ex](http://files.vforum.vn/2016/T06/img/vforum.vn-324944-hinh-44-lc6b0e1bba3c-c491e1bb93-c491e1bb8ba-hc3acnh-te1bb89-le1bb87-le1bb9bn.png)\n",
        "\n",
        "Các vòng nhỏ màu đỏ hơn thể hiện các điểm ở trên cao hơn.\n",
        "\n",
        "**Tùy vào điểm khởi tạo mà chúng ta thu được các nghiệm cuối cùng khác nhau**\n",
        "\n",
        "![Expain](https://machinelearningcoban.com/assets/GD/img3_0.015.gif)\n",
        "\n",
        "\n",
        "\n"
      ]
    },
    {
      "cell_type": "markdown",
      "metadata": {
        "id": "GsSLqMrsYQ_u"
      },
      "source": [
        "##Gradient Descent (2/2)"
      ]
    },
    {
      "cell_type": "markdown",
      "metadata": {
        "id": "Gn3Psk1uDE4o"
      },
      "source": [
        "**1. Các thuật toán tối ưu Gradient Descent**\n",
        "\n",
        "- **Momentum**\n",
        "\n",
        "  **Gradient dưới góc nhìn vật lý**\n",
        "  ![Image](https://machinelearningcoban.com/assets/GD/momentum.png)\n",
        "  a) GD trên hàm có 1 local minimum.\n",
        "\n",
        "  b) GD trên hàm có 2 local minimum, nếu vị trí xuất phát ban đầu khác thì sẽ ra kết quả khác.\n",
        "\n",
        "  c) GD with momentum, do có đà rơi nên viên bi sẽ thoát khỏi local minimum không mong muốn và tiến đến global minimum.\n",
        "\n",
        "  **Gradient Descent với Momentum**\n",
        "\n",
        "  $v_{t} = \\gamma v_{t-1} + \\eta \\nabla_{\\theta} J(\\theta)$\n",
        "\n",
        "  - Thường chọn $\\gamma$ là một giá trị khoảng $0.9$.\n",
        "  - $v_{t-1}$ là vận tốc tại thời điểm trước đó.\n",
        "  - $\\nabla_{\\theta} J(\\theta)$ độ dốc của điểm trước đó.\n",
        "\n",
        "  Vị trí mới được xác định như sau: $\\theta = \\theta - v_{t}$\n",
        "\n",
        "\n",
        "Ví dụ với hàm $f(x) =  x^{2} +  10 \\sin(x)$ có 2 điểm local minimum, trong đó có 1 điểm là global minimum.\n",
        "\n",
        "- Có đạo hàm : $f^{'}(x) = 2x + 10\\cos(x)$\n",
        "\n",
        "![GD](https://machinelearningcoban.com/assets/GD/nomomentum1d.gif)\n",
        "![GD with Momemtum](https://machinelearningcoban.com/assets/GD/momentum1d.gif)\n",
        "\n"
      ]
    },
    {
      "cell_type": "markdown",
      "metadata": {
        "id": "NHzfr1vGAH-J"
      },
      "source": [
        "Chúng ta tạo 1000 điểm dữ liệu được chọn gần với đường thẳng $y = 4 + 3x$\n",
        "\n",
        "- weight = $[w_{0} = 4, w_{1} = 3]$"
      ]
    },
    {
      "cell_type": "code",
      "metadata": {
        "id": "N00WfnJEHZkf",
        "colab": {
          "base_uri": "https://localhost:8080/"
        },
        "outputId": "79ced527-49cf-43b5-e1cf-ab012141eb57"
      },
      "source": [
        "import numpy as np \n",
        "\n",
        "np.random.seed(2)\n",
        "#Khởi tạo dữ liệu giống như trong phần GD (1/2)\n",
        "X = np.random.rand(1000, 1)\n",
        "y = 4 + 3 * X + .2*np.random.randn(1000, 1) # noise added\n",
        "\n",
        "# Building Xbar \n",
        "one = np.ones((X.shape[0],1))\n",
        "Xbar = np.concatenate((one, X), axis = 1)\n",
        "\n",
        "def gradient(w):\n",
        "    N = Xbar.shape[0]\n",
        "    return 1/N * Xbar.T.dot(Xbar.dot(w) - y)\n",
        "\n",
        "def cost(w):\n",
        "    N = Xbar.shape[0]\n",
        "    return .5/N*np.linalg.norm(y - Xbar.dot(w), 2)**2;\n",
        "\n",
        "# check convergence\n",
        "def has_converged(theta_new, grad):\n",
        "    return np.linalg.norm(grad(theta_new))/len(theta_new) < 1e-3\n",
        "\n",
        "def GD_momentum(theta_init, grad, eta, gamma):\n",
        "    # Suppose we want to store history of theta\n",
        "    theta = [theta_init]\n",
        "    v_old = np.zeros_like(theta_init)\n",
        "    for it in range(100):\n",
        "        v_new = gamma*v_old + eta*grad(theta[-1])\n",
        "        theta_new = theta[-1] - v_new\n",
        "        if has_converged(theta_new, grad):\n",
        "            break \n",
        "        theta.append(theta_new)\n",
        "        v_old = v_new\n",
        "    return theta \n",
        "    # this variable includes all points in the path\n",
        "    # if you just want the final answer, \n",
        "    # use `return theta[-1]`\n",
        "w_init = np.array([[2], [1]])\n",
        "w = GD_momentum(w_init, gradient,0.1, 0.9)\n",
        "print('Solution found by GD_momentum: w = ',w[-1].T)"
      ],
      "execution_count": null,
      "outputs": [
        {
          "output_type": "stream",
          "text": [
            "Solution found by GD_momentum: w =  [[4.00040599 2.97551634]]\n"
          ],
          "name": "stdout"
        }
      ]
    },
    {
      "cell_type": "markdown",
      "metadata": {
        "id": "SN9NJ_3pIDt8"
      },
      "source": [
        "- **Nesterov accelerated gradient (NAG)**\n",
        "\n",
        "Momentum giúp hòn bi vượt qua được dốc local minimum, tuy nhiên có hạn chế là khi gần tới đích, momentum vẫn mất khá nhiều thời gian để dừng lại.\n",
        "\n",
        "Khắc phục bằng NAG, giúp cho thuật toán hội tụ nhanh hơn.\n",
        "\n",
        "  **Ý tưởng chính**\n",
        "\n",
        "    Dự đoán hướng đi trong tương lai\n",
        "\n",
        "  Thay vì sử dụng gradient của điểm hiện tại, NAG đi trước một bước, sử dụng gradient của điểm tiếp theo.\n",
        "\n",
        "  ![Ytuong](https://machinelearningcoban.com/assets/GD/nesterov.jpeg)\n",
        "\n",
        "  - Với momentum thông thường: lượng thay đổi là tổng của hai vector: momentum vector và gradient ở thời điểm hiện tại.\n",
        "  - Với Nesterove momentum: lượng thay đổi là tổng của hai vector: momentum vector và gradient ở thời điểm được xấp xỉ là điểm tiếp theo.\n",
        "\n",
        "\n",
        "  **Công thức cập nhật**\n",
        "\n",
        "  $v_{t} = \\gamma v_{t-1} + \\eta \\nabla_{\\theta} J(\\theta - \\gamma v_{t-1}) \\theta = \\theta -v_{t}$\n",
        "\n",
        "  **Minh họa**\n",
        "\n",
        "  Momentum bên trái - NAG bên phải\n",
        "\n",
        "  ![GD Mm](https://machinelearningcoban.com/assets/GD/LR_momentum_contours.gif)\n",
        "  ![NAG](https://machinelearningcoban.com/assets/GD/LR_NAG_contours.gif)\n"
      ]
    },
    {
      "cell_type": "markdown",
      "metadata": {
        "id": "IW-aTxgGLqgQ"
      },
      "source": [
        "**2. Các biến thể của Gradient Descent**\n",
        "\n",
        "- **Batch Gradient Descent**\n",
        "\n",
        "  Thuật toán Gradient Descent chúng ta nói từ đầu phần 1 đến giờ còn được gọi là Batch Gradient Descent. Batch ở đây được hiểu là tất cả, tức khi cập nhật $\\theta = w$, chúng ta sử dụng tất cả các điểm dữ liệu $x_{i}$\n",
        "\n",
        "  - Không phù hợp với cơ sở dữ liệu lớn, việc tính toán đạo hàm của tất cả các điểm này sau mỗi vòng lặp trở nên cồng kềnh và không hiệu quả.\n",
        "  - Không phù hợp với online learning, khi mà cơ sở dữ liệu được cập nhật liên tục.\n",
        "\n",
        "- **Stochastic Gradient Descent**\n",
        "\n",
        "  Tại một thời điểm, ta chỉnh tính đạo hàm của hàm mất mát dựa trên chỉ một điểm dữ liệu $x_{i}$ rồi cập nhập $\\theta$ dựa trên đạo hàm này.\n",
        "\n",
        "  Thực hiện với từng điểm trên toàn bộ dữ liệu, sau đó lặp lại quá trình trên.\n",
        "\n",
        "  - Mỗi lần duyệt một lượt qua tất cả các điểm trên toàn bộ dữ liệu được gọi là một **epoch**.\n",
        "    - GD thông thường mỗi epoch là một lần cập nhật $\\theta$.\n",
        "    - SGD mỗi epoch ứng với $N$ lần cập nhật $\\theta$ với $N$ là số điểm dữ liệu.\n",
        "  - Việc cập nhật như thế sẽ làm giảm đi tốc độ thực hiện mỗi epoch. Nhưng SGD chỉ yêu cầu một lượng epoch rất nhỏ ( thường là 10, sau đó dữ liệu mới thì chỉ cân chạy dưới một epoch là đã có nghiệm tốt).\n",
        "\n",
        "  **Thứ tự lựa chọn điểm dữ liệu**\n",
        "\n",
        "  Sau mỗi epoch, chúng ta cần shuffle(xáo trộn) thứ tự của các điểm dữ liệu để đảm bảo tính ngẫu nhiên. Việc này ảnh hướng tới hiệu năng của SGD.\n",
        "\n",
        "  **Quy tắc cập nhật**:\n",
        "  $\\theta = \\theta - \\eta \\nabla_{\\theta} J(\\theta ;x_{i} ;y_{i})$\n",
        "\n",
        "    - Trong đó $J(\\theta ; x_{i} ; y_{i})$ là hàm mất mát với 1 cặp điểm dữ liệu (input, label) là $(x_{i}, y_{i})$\n",
        "\n",
        "  **Ví dụ với bài toán Linear Regression**\n",
        "  \n",
        "  $\\theta = w$, hàm mất mát tại một điểm dữ liệu là:\n",
        "\n",
        "  $J(w; x_{i}; y_{i}) = \\frac{1}{2}(x_{i}w - y_{i})^{2}$\n",
        "\n",
        "  Đạo hàm theo $w$ tương ứng là:\n",
        "\n",
        "  $\\nabla_{w}J(w;x_{i};y{i}) =  x_{i}^{T}(x_{i}w - y_{i})$"
      ]
    },
    {
      "cell_type": "markdown",
      "metadata": {
        "id": "1CaJsONjALHj"
      },
      "source": [
        "Chúng ta tạo 1000 điểm dữ liệu được chọn gần với đường thẳng $y = 4 + 3x$\n",
        "\n",
        "- weight = $[w_{0} = 4, w_{1} = 3]$"
      ]
    },
    {
      "cell_type": "code",
      "metadata": {
        "id": "Xr3dS84SPt45",
        "colab": {
          "base_uri": "https://localhost:8080/"
        },
        "outputId": "434ddd7d-b330-4257-efb1-b0e36d97ebc0"
      },
      "source": [
        "import numpy as np\n",
        "np.random.seed(2)\n",
        "#Khởi tạo dữ liệu giống như trong phần GD (1/2)\n",
        "X = np.random.rand(1000, 1)\n",
        "y = 4 + 3 * X + .2*np.random.randn(1000, 1) # noise added\n",
        "\n",
        "# Building Xbar \n",
        "one = np.ones((X.shape[0],1))\n",
        "Xbar = np.concatenate((one, X), axis = 1)\n",
        "\n",
        "# single point gradient\n",
        "def sgrad(w, i, rd_id):\n",
        "    true_i = rd_id[i]\n",
        "    xi = Xbar[true_i, :]\n",
        "    yi = y[true_i]\n",
        "    a = np.dot(xi, w) - yi\n",
        "    return (xi*a).reshape(2, 1)\n",
        "\n",
        "def SGD(w_init, eta):\n",
        "    w = [w_init]\n",
        "    w_last_check = w_init\n",
        "    iter_check_w = 10\n",
        "    N = X.shape[0]\n",
        "    count = 0\n",
        "    for it in range(10):\n",
        "        # shuffle data \n",
        "        rd_id = np.random.permutation(N)\n",
        "        for i in range(N):\n",
        "            count += 1 \n",
        "            g = sgrad(w[-1], i, rd_id)\n",
        "            w_new = w[-1] - eta*g\n",
        "            w.append(w_new)\n",
        "            if count%iter_check_w == 0:\n",
        "                w_this_check = w_new                 \n",
        "                if np.linalg.norm(w_this_check - w_last_check)/len(w_init) < 1e-3:                                    \n",
        "                    return w\n",
        "                w_last_check = w_this_check\n",
        "    return w\n",
        "\n",
        "w_init = np.array([[2], [1]])\n",
        "w = SGD(w_init, 0.1)\n",
        "print('Solution found by GD: w = ',w[-1].T)"
      ],
      "execution_count": null,
      "outputs": [
        {
          "output_type": "stream",
          "text": [
            "Solution found by GD: w =  [[4.06708447 2.94222754]]\n"
          ],
          "name": "stdout"
        }
      ]
    },
    {
      "cell_type": "markdown",
      "metadata": {
        "id": "qKZp4kDsTW5D"
      },
      "source": [
        "**Minh họa**\n",
        "\n",
        "Đường đi của nghiệm với SGD\n",
        "\n",
        "![minhhoa](https://machinelearningcoban.com/assets/GD/LR_SGD_contours.gif)\n",
        "\n",
        "Giá trị của loss function tại 50 vòng lặp đầu tiên\n",
        "\n",
        "![loss function](https://machinelearningcoban.com/assets/GD/LR_SGD_loss.png)\n",
        "\n",
        "    Ưu điểm của SGD - hội tụ rất nhanh\n",
        "\n"
      ]
    },
    {
      "cell_type": "markdown",
      "metadata": {
        "id": "yDPKQ1jlUG-i"
      },
      "source": [
        "- **Mini-batch Gradient Descent**\n",
        "\n",
        "  [Tìm hiểu kĩ hơn tại đây](https://ruder.io/optimizing-gradient-descent/index.html#stochasticgradientdescent)\n",
        "\n",
        "  Khác với SGD, mini-batch sử dụng một lượng $n$ lớn hơn 1( nhưng vẫn nhỏ hơn tổng số dữ liệu $N$ rất nhiều)\n",
        "\n",
        "  - Bắt đầu bằng việc xáo trộn ngẫu nhiên dữ liệu.\n",
        "  - Chia toàn bộ dữ liệu thành các mini-batch, mỗi mini-batch có $n$ điểm dữ liệu (trừ mini-batch cuối có thể có ít hơn nếu $N$ không chia hết cho n).\n",
        "  - Lấy ra một mini-batch để tính đạo hàm rồi cập nhật.\n",
        "\n",
        "  $\\theta = \\theta - \\eta \\nabla_{\\theta}J(\\theta; x_{i:i+n};y_{i:i+n})$\n",
        "    - Với $x_{i:i+n}$ được hiểu là dữ liệu từ thứ $i$ tới thứ $i+n-1$\n",
        "    - Trong Deep Learning. Giá trị $n$ thường được chọn là khoảng từ 50 đến 100."
      ]
    },
    {
      "cell_type": "markdown",
      "metadata": {
        "id": "3lxqR6nXWvwD"
      },
      "source": [
        "**3. Stopping Criteria (điều kiện dừng)**\n",
        "\n",
        "1. Giới hạn số vòng lặp. Nhược điểm có thể thụât toán chưa dừng lại khi đủ gần với nghiệm.\n",
        "1. So sánh gradient của nghiệm tại hai lần cập nhật liên tiếp. Nhược điểm lớn là việc tính đạo hàm đôi khi trở nên quá phức tạp (ví dụ khi có quá nhiều điểm dữ liệu), nếu áp dụng phương pháp này thì không được lợi khi dùng SGD và mini-batch GD.\n",
        "1. So sánh giá trị của hàm mất mát của nghiệm hiện tại hai lần cập nhật liên tiếp. Nhược điểm là nếu tại một thời điêm, đồ thị hàm số có dạng bằng phẳng tại một khu vực nhưng khu vực đó không chứa local minimum, thuật toán dừng lại trước khi đạt giá trị mong muốn.\n",
        "1. Trong SGD và mini-batch GD, cách thường dùng là so sánh nghiệm sau một vài lần cập nhật."
      ]
    },
    {
      "cell_type": "markdown",
      "metadata": {
        "id": "N3JWjmrd7sp6"
      },
      "source": [
        "##6. Perceptron Learning Algorithm"
      ]
    },
    {
      "cell_type": "markdown",
      "metadata": {
        "id": "7qygGK2XYwD_"
      },
      "source": [
        "Perceptron là một thuật toán Classification cho trường hợp đơn giản nhất: chỉ có hai class (lớp) *(bài toán với chỉ hai class được gọi là binary classification)* và cũng chỉ hoạt động trong một số trường hợp cụ thể.\n",
        "\n",
        "  ![Find](https://machinelearningcoban.com/assets/pla/pla1.png)\n",
        "  ![Found](https://machinelearningcoban.com/assets/pla/pla2.png)\n",
        "\n",
        "Chúng ta cần tìm biên giới (boundary) giữa hai lãnh thổ của 2 class. Trong trường hợp này, điểm dữ liệu mới hình tam giác được phâ vào class đỏ.\n",
        "\n",
        "**Bài toán Perceptron**\n",
        "\n",
        "- $X = [x_{1}, x_{2},..., x_{N}] \\in R^{d \\text{x} N}$ là các ma trận chứa các điểm dữ liệu mà mỗi cột $x_{i} \\in R^{d \\text{x} 1}$ là một điểm dữ liệu trong không gian $d$ chiều.\n",
        "\n",
        "- $y =  [y_{1}, y_{2},...,y{N}] \\in R^{1 \\text{x} N}$ với $y_{i} =1 $ nếu $y_{i} =1$ nếu $x_{i}$ thuộc class 1 (xanh) và $y_{i} = -1$ nếu $x_i} thuộc class 2(đỏ).\n",
        "\n",
        "Giả sử ta tìm được boundary là đường thẳng có phương trình:\n",
        "\n",
        "$f_{w}(x) = w_{1}x_{1}+...+w_{d}x_{d}+w_{0} = w^{T}x^{bar} =0$\n",
        "\n",
        "Để đơn giản, chỉ xét với điểm dữ liệu có d = 2. Giả sử $w_{1}x_{1} + w_{2}x_{2} + w_{0} =0$ chính là nghiệm cần tìm.\n",
        "\n",
        "![boundary](https://machinelearningcoban.com/assets/pla/pla4.png)\n",
        "\n",
        "Nhận xét rằng các điểm nằm về cùng 1 phía so với đường thẳng này sẽ làm cho hàm số $f_{w}(x)$ mang cùng dấu. Các dấu này tương đương với nhãn $y$ của mỗi class.\n",
        "\n",
        "với $w$ là một nghiệm của bài toán Perceptron, với $x$ chưa được gán nhãn, ta có thể xác định class của nó bằng phép toán đơn giản sau:\n",
        "\n",
        "$label(x) = sgn(w^{T}x)$\n",
        "\n",
        "Trong đó, $sgn$ là hàm xác định dấu, với giả sử rằng $sgn(0) = 1.$\n",
        "\n",
        "**Xây dựng hàm mất mát**\n",
        "\n",
        "![misclassified](https://machinelearningcoban.com/assets/pla/pla3.png)\n",
        "\n",
        "Các điểm khoanh tròn là các điểm bị misclassified (phân lớp lỗi). Hàm mất mát đơn giản nhất chúng ta nghĩ đến là hàm đếm số lượng các điểm bị miscalssied.\n",
        "\n",
        "$J_{1}(w) = \\sum_{x_{i} \\in M}(-y_{i}\\ sgn(w^{T}x_{i}))$\n",
        "\n",
        "  - Trong đó $M$ là tập hợp các điểm bị miscalssified.\n",
        "\n",
        "Hàm số này là hàm rời rạc không tính đươc đạo hàm theo $w$ nên rất khó tối ưu.\n",
        "\n",
        "Xét hàm mất mát sau đây:\n",
        "\n",
        "$J(w) =  \\sum_{x_{i} \\in M}(-y_{i}\\ w^{T}x_{i})$\n",
        "\n",
        "  - $J()$ khác với $J_{1}()$ ở việc bỏ đi hàm $sgn$.\n",
        "  - Khi một điểm miscalssified $x_{i}$ nằm càng xa boundary thì giá trị $-y_{i}\\ w^{T}x_{i}$ càng lớn, nghĩa là sự sai lệch càng lớn.\n",
        "  - Giá trị nhỏ nhất của $J()$ cũng bằng 0 nếu không có điểm nào bị misclassifed.\n",
        "  - Khả vi(tính được đạo hàm).\n",
        "\n",
        "$\\rightarrow$ Hàm mất mát $J()$ tốt hơn.\n",
        "\n",
        "**Sử dụng SGD để tối ưu hàm mất mát**\n",
        "\n",
        "- Với một điểm dữ liệu $x_{i}$ bị misclassified, hàm mất mát trở thành:\n",
        "\n",
        "  $J(w;x_{i};y_{i}) = -y_{i} w^{T} x_{i}$\n",
        "\n",
        "- Đạo hàm tương ứng:\n",
        "\n",
        "  $\\nabla_{w}J(w;x_{i};y_{i}) = -y_{i}x_{i}$\n",
        "\n",
        "- Quy tắc cập nhật là: \n",
        "\n",
        "  $w = w +\\eta y_{i} x_{i}$\n",
        "\n",
        "Với $\\eta$ là learning rate được chọn bằng 1 $\\rightarrow$ $w_{t+1} = w_{t} + y_{i}x{i}$.\n",
        "\n",
        "$\\rightarrow$ Với mỗi điểm $x_{i}$ bị miscalssdifed, ta chỉ cần nhân điểm đó với nhãn $y_{i}$ của nó, lấy kết quả cộng vào $w$ ta sẽ được $w$ mới.\n",
        "\n",
        "\n",
        "Xét từng điểm một, nếu điểm đó bị misclassified thì tiến đường boundary về phía làm cho điểm đó được classifed đúng. Có thể thấy rằng, khi di chuyển đường boundary này, các điểm trước đó được classified đúng có thể lại bị misclassified. Mặc dù vậy, PLA vẫn được đảm bảo sẽ hội tụ sau một số hữu hạn bước. Tức là cuối cùng, ta sẽ tìm được đường phẳng phân chia hai lớp, miễn là hai lớp đó là **linearly separable**."
      ]
    },
    {
      "cell_type": "markdown",
      "metadata": {
        "id": "xuLSw_ril1bJ"
      },
      "source": [
        "**Tóm tắt PLA**\n",
        "\n",
        "1. Chọn ngẫu nhiên một vector hệ số $w$ với các phần tử gần 0.\n",
        "2. Duyệt ngẫu nhiên qua từng điểm dữ liệu $x_{i}$:\n",
        "\n",
        "  - Nếu $x_{i}$ được phân đúng lớp, tức $sgn(w^{T}x_{i} = y_{i})$, chúng ta không cần làm gì.\n",
        "  - Nếu $x_{i}$ bị misclassifed, cập nhật theo $w$ theo công thức:\n",
        "  $w = w + y_{i}x_{i}$\n",
        "\n",
        "3. Kiểm tra xem có bao nhiêu điểm bị misclassifed. Nếu không còn điểm nào, dừng thuật toán. Nếu còn quay lại bước 2. "
      ]
    },
    {
      "cell_type": "markdown",
      "metadata": {
        "id": "q7PQE0Igm6Dy"
      },
      "source": [
        "**Ví dụ trên Python**\n"
      ]
    },
    {
      "cell_type": "code",
      "metadata": {
        "colab": {
          "base_uri": "https://localhost:8080/"
        },
        "id": "o3UlJkFQm-BS",
        "outputId": "3acb79db-29d5-4855-f6da-06957d2a9263"
      },
      "source": [
        "# generate data\n",
        "# list of points \n",
        "import numpy as np \n",
        "import matplotlib.pyplot as plt\n",
        "from scipy.spatial.distance import cdist\n",
        "np.random.seed(2)\n",
        "\n",
        "means = [[2, 2], [4, 2]]\n",
        "cov = [[.3, .2], [.2, .3]]\n",
        "N = 10\n",
        "X0 = np.random.multivariate_normal(means[0], cov, N).T\n",
        "X1 = np.random.multivariate_normal(means[1], cov, N).T\n",
        "\n",
        "X = np.concatenate((X0, X1), axis = 1)\n",
        "y = np.concatenate((np.ones((1, N)), -1*np.ones((1, N))), axis = 1)\n",
        "# Xbar \n",
        "X = np.concatenate((np.ones((1, 2*N)), X), axis = 0)\n",
        "print(X.shape, y.shape)"
      ],
      "execution_count": null,
      "outputs": [
        {
          "output_type": "stream",
          "text": [
            "(3, 20) (1, 20)\n"
          ],
          "name": "stdout"
        }
      ]
    },
    {
      "cell_type": "code",
      "metadata": {
        "colab": {
          "base_uri": "https://localhost:8080/"
        },
        "id": "hEvCEgi3nRNc",
        "outputId": "2e7b08b5-5de4-484b-ed19-68e42b174deb"
      },
      "source": [
        "def h(w, x):    \n",
        "    #Tính đầu ra khi biết đầu vào x và weights w\n",
        "    return np.sign(np.dot(w.T, x))\n",
        "\n",
        "def has_converged(X, y, w): \n",
        "    #Kiểm tra xem thuật toán đã hội tụ chưa, bằng cách so sánh h(w,X) với ground truth y\n",
        "    return np.array_equal(h(w, X), y) \n",
        "\n",
        "def perceptron(X, y, w_init):\n",
        "    w = [w_init]\n",
        "    N = X.shape[1]\n",
        "    d = X.shape[0]\n",
        "    mis_points = []\n",
        "    while True:\n",
        "        # mix data \n",
        "        mix_id = np.random.permutation(N)\n",
        "        for i in range(N):\n",
        "            xi = X[:, mix_id[i]].reshape(d, 1)\n",
        "            yi = y[0, mix_id[i]]\n",
        "            if h(w[-1], xi)[0] != yi: # misclassified point\n",
        "                mis_points.append(mix_id[i])\n",
        "                w_new = w[-1] + yi*xi \n",
        "                w.append(w_new)\n",
        "                \n",
        "        if has_converged(X, y, w[-1]):\n",
        "            break\n",
        "    return (w, mis_points)\n",
        "\n",
        "d = X.shape[0]\n",
        "w_init = np.random.randn(d, 1)\n",
        "(w, m) = perceptron(X, y, w_init)\n",
        "print('Solution found by PLA: w = ',w[-1].T)\n",
        "print('Total mis_points = ', len(m))"
      ],
      "execution_count": null,
      "outputs": [
        {
          "output_type": "stream",
          "text": [
            "Solution found by PLA: w =  [[ 3.62346659 -4.77657992  5.03502113]]\n",
            "Total mis_points =  13\n"
          ],
          "name": "stdout"
        }
      ]
    },
    {
      "cell_type": "markdown",
      "metadata": {
        "id": "lELOGumynrsB"
      },
      "source": [
        "**Minh họa**\n",
        "\n",
        "![Minh hoa PLA](https://machinelearningcoban.com/assets/pla/pla_vis.gif)\n",
        "\n",
        "Sau khi cập nhật 18 lần, PLA đã hội tụ. Điểm được khoanh tròn màu đen là điểm misclassified tương ứng được chọn để cập nhật đường boundary."
      ]
    },
    {
      "cell_type": "markdown",
      "metadata": {
        "id": "zS5uT7vCoAzN"
      },
      "source": [
        "**Lưu ý**\n",
        "\n",
        "- PLA có thể cho vô số nghiệm khác nhau.\n",
        "\n",
        "![EX 1](https://machinelearningcoban.com/assets/pla/pla6.png)\n",
        "\n",
        "- PLA đòi hỏi dữ liệu linearly separable.\n",
        "\n",
        "  Hai class trong ví dụ dưới đây tương đối linearly separable. Mỗi class có 1 điểm coi như nhiễu nằm trong khu vực các điểm của class kia. PLA sẽ không làm việc trong trường hợp này vì luôn luôn có ít nhất 2 điểm bị misclassified.\n",
        "\n",
        "![Ex 2](https://machinelearningcoban.com/assets/pla/pla7.png)\n",
        "\n",
        "\n",
        "- Pocket Algorithm\n",
        "\n",
        "  Một cách tự nhiên, nếu có một vài nhiễu, ta sẽ đi tìm một đường thẳng phân chia hai class sao cho có ít điểm bị misclassified nhất. \n",
        "  1. Giới hạn số lượng vòng lặp của PLA.\n",
        "  1. Mỗi lần cập nhật nghiệm $w$ mới, ta đếm xem có bao nhiêu điểm bị misclassified. Nếu là lần đầu tiên, giữ lại nghiệm này trong pocket (túi quần). Nếu không, so sánh số điểm misclassified này với số điểm misclassified của nghiệm trong pocket, nếu nhỏ hơn thì lôi nghiệm cũ ra, đặt nghiệm mới này vào."
      ]
    },
    {
      "cell_type": "markdown",
      "metadata": {
        "id": "hhJrDeCQouAd"
      },
      "source": [
        "**Mô hình Neural Network**\n",
        "\n",
        "![Image](https://machinelearningcoban.com/assets/pla/pla_nn.png)\n",
        "\n"
      ]
    },
    {
      "cell_type": "markdown",
      "metadata": {
        "id": "qMD08YzD7-RE"
      },
      "source": [
        "##7. Logistic Regession"
      ]
    },
    {
      "cell_type": "markdown",
      "metadata": {
        "id": "6BACUq4oAqdf"
      },
      "source": [
        "**Activation function**\n",
        "\n",
        "Hai mô hình tuyến tính (linear models) **Linear Regression** và **Perceptron Learning Algorithm **(PLA) chúng ta đã biết đều có chung một dạng:\n",
        "\n",
        "$y = f(w^{T}x)$\n",
        "\n",
        "- $f()$ được gọi là *activation function*.\n",
        "- $x$ được hiểu là dữ liệu mở rộng với $x_{0}=1$.\n",
        "- Một vài activation function:\n",
        "    - Linear Regression: $f(s) = s$\n",
        "    - PLA: $f(s) = sgn(s)$\n",
        "\n",
        "**Logistic Regression**\n",
        "\n",
        "- Có activation đầu ra dưới dạng xác xuất (probability).\n",
        "- Giống với linear regression ở phần đầu ra là số thực.\n",
        "- Giống với PLA ở việc đầu ra bị chặn(trong đoạn $[0,1]$\n",
        "- Mặc dù chứa từ *regression, logistic regression* thường dùng nhiều hơn cho các toàn toán classification.\n",
        "\n",
        "**Ví dụ**\n",
        "\n",
        "  Một nhóm 20 sinh viên dành thời gian trong khoảng từ 0 đến 6 giờ cho việc ôn thi. Thời gian ôn thi này ảnh hưởng đến xác suất sinh viên vượt qua kỳ thi như thế nào?\n"
      ]
    },
    {
      "cell_type": "markdown",
      "metadata": {
        "id": "9DQ85enyDPjS"
      },
      "source": [
        "![Screenshot from 2021-06-06 04-20-06.png](data:image/png;base64,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)"
      ]
    },
    {
      "cell_type": "markdown",
      "metadata": {
        "id": "LYVGtF7bDW_I"
      },
      "source": [
        "PLA không thể áp dụng được cho bài toán này vì không thể nói một người học bao nhiêu giờ thì 100% trượt hay đỗ, và thực tế là dữ liệu này cũng không linearly separable (điệu kiện để PLA có thể làm việc)."
      ]
    },
    {
      "cell_type": "markdown",
      "metadata": {
        "id": "BzOToyRsDSaj"
      },
      "source": [
        "Chúng ta biểu diễn các điểm này trên đồ thị để thấy rõ hơn:\n",
        "\n",
        "![Ex](https://machinelearningcoban.com/assets/LogisticRegression/ex1.png)\n",
        "\n",
        "Nhận thấy rằng cả linear regression và PLA đều không phù hợp với bài toán này, chúng ta cần một mô hình flexible hơn."
      ]
    },
    {
      "cell_type": "markdown",
      "metadata": {
        "id": "HqbH54uwDyCE"
      },
      "source": [
        "**Mô hình Logistic Regression**\n",
        "\n",
        "Đầu ra dự đoán của:\n",
        "  - Linear Regression: $f(x) = w^{T}x$\n",
        "  - PLA: $f(x) = sgn(w^{T}x)$\n",
        "Đầu ra dự đoán của logistic regression thường được viết dưới dạng: $f(x) = \\theta(w^{T}x)$\n",
        "\n",
        "Trong đó $\\theta$ được gọi là logistic function.\n",
        "Một vài activation cho mô hình tuyến tính được cho trong hình dưới đây: \n",
        "\n",
        "![Activations](https://machinelearningcoban.com/assets/LogisticRegression/activation.png)\n",
        "\n",
        "Phân tích các activation:\n",
        "\n",
        "- Đường màu vàng biểu diễn linear regression:\n",
        "    - Đường này không bị chặn nên không phù hợp cho bài toán này.\n",
        "    - Có một trick nhỏ để đưa nó về dạng bị chặn: cắt phần nhỏ hơn 0 bằng cách cho chúng bằng 0, cắt các phần lớn hơn 1 bằng cách cho chúng bằng 1. Sau đó lấy điểm trên đường thẳng này có tung độ bằng 0.5 làm điểm phân chia hai class, đây cũng không phải là một lựa chọn tốt.\n",
        "    - Giả sử có thêm vài bạn sinh viên tiêu biểu ôn tập đến 20 giờ. Do mô hình lấy mốc 0.5 để phân lớp, thì nhiều sinh viên đỗ sẽ bị dự đoán là trượt.\n",
        "    ![linear ko phu hop](https://machinelearningcoban.com/assets/LogisticRegression/ex1_lr.png)\n",
        "- Đường màu đỏ (chỉ khác với activation function của PLA ở chỗ hai class là 0 và 1 thay vì -1 và 1):\n",
        "    - Cũng thuộc dạng ngưỡng cứng (hard threshold).\n",
        "    - PLA không hoạt động trong bài toán này vì dữ liệu đã cho không *linearly separable*.\n",
        "- Các đường màu xanh lam và xanh lục phù hợp với bài toán của chúng ta hơn. Chúng có một vài tính chất quan trọng sau:\n",
        "    - Là hàm số liên tục nhận giá trị thực, bị chặn trong khoảng $(0,1).\n",
        "    - Nếu coi điểm có tung độ là 1/2 là điểm phân chia thì các điểm càng xa điểm này về phía bên trái có giá trị càng gần 0. Ngược lại, các điểm càng xa điểm này về phía phải thì có giá trị càng gần 1. Điều này khớp với nhận xét rằng học càng nhiều thì xác suất đỗ càng cao và ngược lại.\n",
        "    - *Mượt* (smooth) nên có đạo hàm mọi nơi, có thể được lợi trong việc tối ưu.\n",
        "\n",
        "**Sigmoid function**\n",
        "\n",
        "Trong các hàm số có 3 tính chất nói trên thì hàm *sigmoid*:\n",
        "\n",
        "$f(s) = \\frac{1}{1+e^{-s}}  \\triangleq \\sigma(s)$\n",
        "\n",
        "được sử dụng nhiều nhất, vì nó bị chặn trong khoảng $(0,1)$. thêm nữa:\n",
        "\n",
        "$\\lim_{s \\rightarrow - \\infty}\\sigma(s) = 0$ ;\n",
        "$\\lim_{s \\rightarrow + \\infty}\\sigma(s) = 1$\n",
        "\n",
        "Đặc biệt hơn nữa:\n",
        "\n",
        "$\\sigma^{'}(s) = \\frac{e^{-s}}{(1+e^{-s})^{2}} = \\frac{1}{1+e^{-s}} \\frac{e^{-s}}{1+e^{-s}}\n",
        "=\\sigma(s)(1-\\sigma(s))$\n",
        "\n",
        "Ngoài ra, hàm *tanh* cũng hay được sử dụng:\n",
        "\n",
        "$\\tanh(s) = \\frac{e^{s} - e^{-s}}{e^{s}+e^{-s}}$\n",
        "\n",
        "Hàm số này nhận giá trị trong khoảng $(-1,1)$ nhưng có thể dễ dàng đưa nó về khoảng $(0,1)$.\n",
        "\n",
        "$\\tanh(s) = 2\\sigma(2s)-1$\n",
        "\n",
        "**Loss function**\n",
        "\n",
        "- Xác suất để $x$ rơi vào class 1 là $f(w^{T}x)$\n",
        "- Xác suất để $x$ rơi vào class 0 là $1-f(w^{T}x)$\n",
        "\n",
        "Với các điểm dữ liệu training(đã biết đầu ra $y$), ta có thể viết:\n",
        "\n",
        "  - $P(y_{i} =1 | x_{i};w)= f(w^{T}x_{i})$\n",
        "\n",
        "  - $P(y_{i} =0 | x_{i};w)= 1-f(w^{T}x_{i})$\n",
        "\n",
        "Trong đó $P(y_{i} =1 | x_{i};w)$ là xác suất xảy ra sự kiện đầu ra $y_{i}=1$ khi biết tham số mô hình $w$ và dữ liệu đầu vào $x_{i}$.\n",
        "\n",
        "Ký hiệu $z_{i}= f(w^{T}x_{i})$ và viết gộp lại hai biểu thức trên ta có:\n",
        "\n",
        "  $P(y_{i} =1 | x_{i};w) = z_{i}^{y_{i}}(1-z_{i})^{1-y_{i}}$\n",
        "\n",
        "Xét toán bộ training set với $X = [x_{1}, x_{2},...,x_{N}] \\in R^{d \\text{x} N}$ và $y =[y_{1},y_{2},...,y_{N}]$, chúng ta cần tìm $w$ để biểu thức sau đây đạt giá trị lớn nhất:\n",
        "\n",
        "  $P(y|X;w)$\n",
        "\n",
        "ở đây, $X,y$ như các biến ngẫu nhiên (random variables). Nói cách khác:\n",
        "\n",
        "  $w = argmax_{w} P(y|X;w)$\n",
        "\n",
        "Bài toán trên có tên gọi chung là bài toán *maximum likelihood estimation* với hàm số phía sau $argmax$ được gọi là *likelihood function*.\n",
        "\n",
        "Giả sử thêm rằng các điểm dữ liệu được sinh ra một cách ngẫu nhiên độc lập với nhau (independent), ta có thể viết:\n",
        "\n",
        "  $P(y|X;w) = \\prod_{i=1}^{N} P(y_{i}|x_{i};w) = \\prod_{i=1}^{N} z_{i}^{y_{i}}(1-z_{i})^{1-y_{i}}$\n",
        "\n",
        "- Trực tiếp tối ưu hàm này theo $w$ không đơn giản.\n",
        "- Khi N lớn, tích của N số nhỏ hơn 1 có thể dẫn tới numerial error vì tích là một số quá nhỏ.\n",
        "\n",
        "Giải pháp là lấy logarit tự nhiên (cơ số e) của *likelihood function* biến phép nhân thành phép cộng và đề tránh việc số quá nhỏ. Sau đó lấy ngược dấu để được một hàm và coi nó là hàm mất mát. Lúc này bài toán tìm giá trị lớn nhất (maximum likelihood) trở thành bài toán tìm giá trị nhỏ nhất của hàm mất mát (hàm này còn được gọi là negative log likelihood):\n",
        "\n",
        "$J(w) = - logP(y|X;w) = -\\sum^{N}_{i=1}(y_{i}\\log z_{i} + (1-y_{i}) \\log(1-z_{i}))$\n",
        "\n"
      ]
    },
    {
      "cell_type": "markdown",
      "metadata": {
        "id": "bD9tmgcsP_m1"
      },
      "source": [
        "**Tối ưu loss function**\n",
        "\n",
        "Sử dụng SGD.\n",
        "\n",
        "Hàm mất mát với chỉ một điểm dữ liệu $(x_{i},y_{i})$ là:\n",
        "\n",
        "$J(w;x_{i};y_{i}) = -(y_{i} \\log z_{i} + (1 - y_{i}) \\log (1-z_{i}))$\n",
        "\n",
        "Với đạo hàm:\n",
        "\n",
        "$\\frac{\\partial J(w;x_{i},y_{i})}{\\partial w} \n",
        "= - (\\frac{y_{i}}{z_{i}} - \\frac{1-y_{i}}{1-z_{i}})\n",
        "\\frac{\\partial z_{i}}{\\partial w}\n",
        "= \\frac{z_{i} - y_{i}}{z_{i}(1-z_{i})}\n",
        "\\frac{\\partial z_{i}}{\\partial w}$\n",
        "\n",
        "Để cho biểu thức này trở nên gọn và đẹp hơn, chúng ta sẽ tìm hàm $z = f(w^{T}x)$ sao cho mẫu số bị triệt tiêu. Nếu đặt $s = w^{T}x$, chúng ta sẽ có:\n",
        "\n",
        "$\\frac{\\partial z_{i}}{\\partial w}\n",
        "=\\frac{\\partial z_{i}}{\\partial s}\n",
        "\\frac{\\partial s}{\\partial w}\n",
        "= \\frac{\\partial z_{i}}{\\partial s} x$ (*)\n",
        "\n",
        "Một cách trực quan nhất, ta sẽ tìm hàm số $z = f(s)$ sao cho:\n",
        "\n",
        "$\\frac{\\partial z}{\\partial s} = z(1-z)$\n",
        "\n",
        "Một cách trực quan nhất, ta sẽ tìm hàm số $z = f(s) sao cho:\n",
        "\n",
        "$\\frac{\\partial z}{\\partial s} = z(1-z)$ (**)\n",
        "\n",
        "để triệt tiêu mẫu số trong biểu thức (*). Chúng ta dùng vi phân đơn giản để tìm ra $z$. Phương trình (**) tương đương với:\n",
        "\n",
        "$\\frac{ \\partial z}{z(1-z)} = \\partial s\n",
        "\\Leftrightarrow\n",
        "(\\frac{1}{z} + \\frac{1}{1-z}) \\partial z\n",
        "= \\partial s\n",
        "\\Leftrightarrow\n",
        "\\log z - \\log (1-z) = s\n",
        "\\Leftrightarrow\n",
        "\\log \\frac{z}{1-z} = s\n",
        "\\Leftrightarrow\n",
        "\\frac{z}{1-z} = e^s\n",
        "\\Leftrightarrow\n",
        "z = e^{s}(1-z)\n",
        "\\Leftrightarrow\n",
        "z = e^{s} - e^{s}z\n",
        "\\Leftrightarrow\n",
        "z+e^{s}z=e^{s}\n",
        "\\Leftrightarrow\n",
        "z= \\frac{e^{s}}{1+e^{s}} = \\frac {1}{1+e^{-s}} = \\sigma(s)\n",
        "$\n",
        "\n",
        "\n",
        "\n",
        "\n",
        "\n"
      ]
    },
    {
      "cell_type": "markdown",
      "metadata": {
        "id": "S0giZOT4ZFGJ"
      },
      "source": [
        "**Công thức cập nhật cho logistic sigmoid regression**\n",
        "\n",
        "- $\\frac{ \\partial J(w;x_{i} , y_{i}) }{\\partial w} = (z_{i} - y_{i})x_{i}$\n",
        "\n",
        "- $w = w+ \\eta(y_{i} - z_{i})x_{i}$"
      ]
    },
    {
      "cell_type": "code",
      "metadata": {
        "id": "ubzRYAq1aKUH"
      },
      "source": [
        "import numpy as np \n",
        "import matplotlib.pyplot as plt\n",
        "np.random.seed(2)\n",
        "\n",
        "X = np.array([[0.50, 0.75, 1.00, 1.25, 1.50, 1.75, 1.75, 2.00, 2.25, 2.50, \n",
        "              2.75, 3.00, 3.25, 3.50, 4.00, 4.25, 4.50, 4.75, 5.00, 5.50]])\n",
        "y = np.array([0, 0, 0, 0, 0, 0, 1, 0, 1, 0, 1, 0, 1, 0, 1, 1, 1, 1, 1, 1])\n",
        "\n",
        "# extended data \n",
        "X = np.concatenate((np.ones((1, X.shape[1])), X), axis = 0)"
      ],
      "execution_count": null,
      "outputs": []
    },
    {
      "cell_type": "code",
      "metadata": {
        "colab": {
          "base_uri": "https://localhost:8080/"
        },
        "id": "ZxgbqYmCaMth",
        "outputId": "2d5adf07-60c5-421a-de30-e02c6cac4cbb"
      },
      "source": [
        "def sigmoid(s):\n",
        "    return 1/(1 + np.exp(-s))\n",
        "\n",
        "def logistic_sigmoid_regression(X, y, w_init, eta, tol = 1e-4, max_count = 10000):\n",
        "    w = [w_init]    \n",
        "    it = 0\n",
        "    N = X.shape[1]\n",
        "    d = X.shape[0]\n",
        "    count = 0\n",
        "    check_w_after = 20\n",
        "    while count < max_count:\n",
        "        # mix data \n",
        "        mix_id = np.random.permutation(N)\n",
        "        for i in mix_id:\n",
        "            xi = X[:, i].reshape(d, 1)\n",
        "            yi = y[i]\n",
        "            zi = sigmoid(np.dot(w[-1].T, xi))\n",
        "            w_new = w[-1] + eta*(yi - zi)*xi\n",
        "            count += 1\n",
        "            # stopping criteria\n",
        "            if count%check_w_after == 0:                \n",
        "                if np.linalg.norm(w_new - w[-check_w_after]) < tol:\n",
        "                    return w\n",
        "            w.append(w_new)\n",
        "    return w\n",
        "eta = .05 \n",
        "d = X.shape[0]\n",
        "w_init = np.random.randn(d, 1)\n",
        "\n",
        "w = logistic_sigmoid_regression(X, y, w_init, eta)\n",
        "print(w[-1])"
      ],
      "execution_count": null,
      "outputs": [
        {
          "output_type": "stream",
          "text": [
            "[[-4.092695  ]\n",
            " [ 1.55277242]]\n"
          ],
          "name": "stdout"
        }
      ]
    },
    {
      "cell_type": "code",
      "metadata": {
        "colab": {
          "base_uri": "https://localhost:8080/"
        },
        "id": "eLdvU_GfaY8c",
        "outputId": "a9b71bd6-4294-4d0d-980e-e3d6d637e1d2"
      },
      "source": [
        "print(sigmoid(np.dot(w[-1].T, X)))"
      ],
      "execution_count": null,
      "outputs": [
        {
          "output_type": "stream",
          "text": [
            "[[0.03501592 0.05078108 0.07310642 0.10416972 0.14634799 0.20175793\n",
            "  0.20175793 0.27147534 0.35458234 0.4475032  0.54424128 0.63775242\n",
            "  0.72188183 0.79282004 0.89267823 0.92460236 0.94758783 0.96384008\n",
            "  0.97518471 0.9884283 ]]\n"
          ],
          "name": "stdout"
        }
      ]
    },
    {
      "cell_type": "code",
      "metadata": {
        "colab": {
          "base_uri": "https://localhost:8080/",
          "height": 283
        },
        "id": "A2e2eXZaaa9s",
        "outputId": "2ac5f51e-39b2-4e75-bfaa-745809bd15e9"
      },
      "source": [
        "X0 = X[1, np.where(y == 0)][0]\n",
        "y0 = y[np.where(y == 0)]\n",
        "X1 = X[1, np.where(y == 1)][0]\n",
        "y1 = y[np.where(y == 1)]\n",
        "\n",
        "plt.plot(X0, y0, 'ro', markersize = 8)\n",
        "plt.plot(X1, y1, 'bs', markersize = 8)\n",
        "\n",
        "xx = np.linspace(0, 6, 1000)\n",
        "w0 = w[-1][0][0]\n",
        "w1 = w[-1][1][0]\n",
        "threshold = -w0/w1\n",
        "yy = sigmoid(w0 + w1*xx)\n",
        "plt.axis([-2, 8, -1, 2])\n",
        "plt.plot(xx, yy, 'g-', linewidth = 2)\n",
        "plt.plot(threshold, .5, 'y^', markersize = 8)\n",
        "plt.xlabel('studying hours')\n",
        "plt.ylabel('predicted probability of pass')\n",
        "plt.show()"
      ],
      "execution_count": null,
      "outputs": [
        {
          "output_type": "display_data",
          "data": {
            "image/png": "[encoded data removed]",
            "text/plain": [
              "<Figure size 432x288 with 1 Axes>"
            ]
          },
          "metadata": {
            "tags": [],
            "needs_background": "light"
          }
        }
      ]
    },
    {
      "cell_type": "markdown",
      "metadata": {
        "id": "Up0qolAPaeQ2"
      },
      "source": [
        "Nếu như chỉ có hai output là ‘fail’ hoặc ‘pass’, điểm trên đồ thị của hàm sigmoid tương ứng với xác suất 0.5 được chọn làm hard threshold (ngưỡng cứng)."
      ]
    },
    {
      "cell_type": "markdown",
      "metadata": {
        "id": "IKh_HZO9anVU"
      },
      "source": [
        "**Ví dụ với dữ liệu 2 chiều**\n",
        "\n",
        "Chúng ta xét thêm một ví dụ nhỏ nữa trong không gian hai chiều. Giả sử chúng ta có hai class xanh-đỏ với dữ liệu được phân bố như hình dưới.\n",
        "\n",
        "![Vd](https://machinelearningcoban.com/assets/LogisticRegression/logistic_2d.png)\n",
        "\n",
        "Kết quả tìm được khi áp dụng mô hình logistic regression được minh họa như hình dưới với màu nền khác nhau thể hiện xác suất điểm đó thuộc class đỏ. Đỏ hơn tức gần 1 hơn, xanh hơn tức gần 0 hơn.\n",
        "\n",
        "![explain](https://machinelearningcoban.com/assets/LogisticRegression/logistic_2d_2.png)\n",
        "\n",
        "Nếu phải lựa chọn một ngưỡng cứng (chứ không chấp nhận xác suất) để phân chia hai class, chúng ta quan sát thấy đường thẳng nằm nằm trong khu vực xanh lục là một lựa chọn hợp lý.\n"
      ]
    },
    {
      "cell_type": "markdown",
      "metadata": {
        "id": "IUsw8xnwbEMM"
      },
      "source": [
        "**Tính chất của Logistic Regression**\n",
        "\n",
        "- Logistic Regression thực ra được sử dụng nhiều trong các bài toán Classification.\n",
        "\n",
        "- Boundary tạo bởi Logistic Regression có dạng tuyến tính."
      ]
    },
    {
      "cell_type": "markdown",
      "metadata": {
        "id": "Lq4fC8b1bjRN"
      },
      "source": [
        "**Hạn chế**\n",
        "- Boundary tìm được vẫn có dạng tuyến tính. Vậy nên mô hình này chỉ phù hợp với loại dữ liệu mà hai class là gần với linearly separable.\n",
        "\n",
        "- Một hạn chế nữa của Logistic Regression là nó yêu cầu các điểm dữ liệu được tạo ra một cách độc lập với nhau. Trên thực tế, các điểm dữ liệu có thể bị ảnh hưởng bởi nhau."
      ]
    },
    {
      "cell_type": "markdown",
      "metadata": {
        "id": "axRLZrNUbzfm"
      },
      "source": [
        "**Biểu diễn Neural Networks**\n",
        "\n",
        "![LN](https://machinelearningcoban.com/assets/LogisticRegression/3models.png)\n"
      ]
    },
    {
      "cell_type": "markdown",
      "metadata": {
        "id": "mBb7AkdL8LQu"
      },
      "source": [
        "##8. Feature Engineering"
      ]
    },
    {
      "cell_type": "markdown",
      "metadata": {
        "id": "DFOWR9-mrqxg"
      },
      "source": [
        "5 thuật toán Machine Learning cơ bản: **Linear Regression**, **K-means Clusterning**, **K-nearest neighbors**, **Perceptron Learning Algorithm** và **Logistic Regression.**\n",
        "\n",
        "Trong tất cả các thuật toán này, các điểm dữ liệu được biểu diễn bằng các vector, được gọi là **feature vector**, có độ dài bằng nhau, và cùng là vector cột hoặc vector hàng. Tu nhiên trong thực tế, mọi chuyện không được tốt đẹp như vậy!\n",
        "\n",
        "- Với các bài toán về Computer Vision:\n",
        "  - Các bức ảnh là các ma trận có kích thước khác nhau.\n",
        "  - Để nhận dạng vật thể, thậm chí ta phải thêm một bước object detection(tìm khung chứa vật thể cần dự đoán).\n",
        "  - Ảnh còn phụ thuộc vào góc chụp, ánh sáng, .. và rất nhiều yếu tố khác nữa.\n",
        "- Các bài toán NLP(Natural Language Processing - Xử lý ngôn ngữ tự nhiên).\n",
        "  - Độ dài các văn bản là khác nhau.\n",
        "  - Có những từ rất hiếm hoặc không có trong từ điển.\n",
        "  - Cũng có khi thêm một vài từ vào văn bản mà nội dung văn bản không đổi hoặc haofn toàn mang nghĩa trái ngược.\n",
        "  - Cùng 1 câu nói nhưng tốc độ, âm giọng của mỗi người khác nhau. Thậm chí của cùng một người nhưng lúc ôm lúc khỏe cũng khác nhau.\n",
        "\n",
        "Trong các bài toán thực tế chúng ta chỉ có được dữ liệu thô(raw) chưa qua chỉnh sửa, chọn lọc.\n",
        "\n",
        "Phải tìm một phép biến đổi để loại những dữ liệu nhiễu (noise), và để đưa raw với số chiều khác nhau về cùng một chuẩn(vùng vector hoặc ma trận). Dữ liệu phải đảm bảo được các thông tin đặc trưng(features) cho raw.\n",
        "\n",
        "Tùy vào bài toán, cần thiết kế những phép biến đổi để có những feature phù hợp.\n",
        "\n",
        "Đây chính là Feature Extraction, hoặc Feature Engineering (trích đặc trưng).\n",
        "\n",
        "\n",
        "\n"
      ]
    },
    {
      "cell_type": "markdown",
      "metadata": {
        "id": "B5YRX7W1vYJo"
      },
      "source": [
        "**Mô hình chung cho các bài toán Machine Learning**\n",
        "\n",
        "![Model](https://machinelearningcoban.com/assets/FeatureEngineering/ML_models.png)\n",
        "\n",
        "**TRAINING PHASE**\n",
        "\n",
        "- Feature Extractor\n",
        "    - Đầu ra: Tạo ra một Feature Extractor biến dữ liệu thô ban đầu thành dữ liệu phù hợp với từng mục đích khác nhau.\n",
        "    - Đầu vào:\n",
        "      - raw training input:\n",
        "        - Raw input là tất cả các thông tin ta biết về dữ liệu.\n",
        "        - Dữ liệu thô này thường không ở dạng vector, không có số chiều như nhau. Thậm chí có thể có số chiều như nhau nhưng số chiều quá lớn, như một bức ảnh màu 1000 pixel x 1000 pixel. Đây là một con số quá lớn, không lợi cho lưu trữ và tính toán.\n",
        "      - (optional) output của training set:\n",
        "        - Trong các bài toán Unsupervised learning, ta không biết output nên hiển nhiên sẽ không có đầu vào này.\n",
        "        - Trong các bài toán Supervised learning, có khi dữ liệu này cũng không được sử dụng.\n",
        "          - Ví dụ: nếu raw input đã có cùng số chiều rồi nhưng số chiều quá lớn, ta muốn giảm số chiều của nó thì cách đơn giản nhất là chiếu vector đó xuống một không gian có số chiều nhỏ hơn bằng cách lấy một ma trận ngẫu nhiên nhân với nó.\n",
        "          - Ví dụ, dữ liệu thô là các hình vuông và hình tam giác có màu đỏ và xanh. Trong bài toán phân loại đa giác, các output là tam giác và vuông, thì ta không quan tâm tới màu sắc mà chỉ quan tâm tới số cạnh của đa giác. Ngược lại, trong bài toán phân loại màu, các class là xanh và đỏ, ta không quan tâm tới số cạnh mà chỉ quan tâm đến màu sắc thôi.\n",
        "      -(optional) Prior knowledge about data:\n",
        "        - Đôi khi những giả thiết khác về dữ liệu cũng mang lại lợi ích. Ví dụ, trong bài toán classification, nếu ta biết dữ liệu là (gần như) linearly separable thì ta sẽ đi tìm một ma trận chiếu sao cho ở trong không gian mới, dữ liệu vẫn đảm bảo tính linearly separable, việc này thuận tiện hơn cho phần classification vì các thuật toán linear, nhìn chung, đơn giản hơn.\n",
        "\n",
        "  Sau khi học được feature extractor thì ta cũng sẽ thu được extracted features cho raw input data. Những extracted features này được dùng để huấn luyện các thuật toán Classification, Clustering, Regression,… ở phía sau.\n",
        "\n",
        "- Main Algorithms\n",
        "\n",
        "  - Khi có được extracted features rồi, chúng ta sử dụng những thông tin này cùng với (optional) training output và (optional) prior knowledge để tạo ra các mô hình phù hợp, điều mà chúng ta đã làm ở những bài trước.\n",
        "  - Trong một số thuật toán cao cấp hơn, việc huấn luyện feature extractor và main algorithm được thực hiện cùng lúc với nhau chứ không phải từng bước như trên."
      ]
    },
    {
      "cell_type": "markdown",
      "metadata": {
        "id": "2_WIIK3My5zq"
      },
      "source": [
        "**TESTING PHASE**\n",
        "\n",
        "Với raw input mới, ta sử dụng feature extractor đã tạo được ở trên (tất nhiên không được sử dụng output của nó vì output là cái ta đang đi tìm) để tạo ra feature vector tương ứng. Feature vector được đưa vào main algorithm đã được học ở training phase để dự đoán output.\n",
        "\n",
        "\n"
      ]
    },
    {
      "cell_type": "markdown",
      "metadata": {
        "id": "IabG3w0MzSCe"
      },
      "source": [
        "**Một số ví dụ về Feature Engineering**\n",
        "\n",
        "1. Trực tiếp lấy raw data\n",
        "  - Với bài toán phân loại chữ số viết tay trong bộ cơ sở dữ liệu MNIST, mỗi bức ảnh có số chiều là 28 pixel x 28 pixel (tất nhiên việc crop và chỉnh sửa mỗi bức ảnh đã được thực hiện từ trước rồi, đó đã là một phần của feature engineering rồi). Một cách đơn giản thường được dùng là kéo dài ma trận 28x28 này để được 1 vector có số chiều 784. Trong cách này, các cột (hoặc hàng) của ma trận ảnh được đặt chồng lên (hoặc cạnh nhau) để được 1 vector dài. Vector dài này được trực tiếp sử dụng làm feature đưa vào các bộ classifier/clustering/regression/… Lúc này, giá trị của mỗi pixel ảnh được coi là một feature.\n",
        "  - Rõ ràng việc làm đơn giản này đã làm mất thông tin về không gian (spatial information) giữa các điểm ảnh, tuy nhiên, trong nhiều trường hợp, nó vẫn mang lại kết quả khả quan.\n",
        "\n",
        "1. Feature selection\n",
        "  - Giả sử rằng các điểm dữ liệu có số features khác nhau (do kích thước dữ liệu khác nhau hay do một số feature mà điểm dữ liệu này có nhưng điểm dữ liệu kia lại không thu thập được), và số lượng features là cực lớn. Chúng ta cần chọn ra một số lượng nhỏ hơn các feature phù hợp với bài toán. Chọn thế nào và thế nào là phù hợp lại là một bài toán khác, tôi sẽ không bàn thêm ở đây.\n",
        "\n",
        "1. Dimensionality reduction\n",
        "  - Một phương pháp nữa tôi đã đề cập đó là làm giảm số chiều của dữ liệu để giảm bộ nhớ và khối lượng tính toán. Việc giảm số chiều này có thể được thực hiện bằng nhiều cách, trong đó random projection là cách đơn giản nhất. Tức chọn một ma trận chiếu (projection matrix) ngẫu nhiên (ma trận béo) rồi nhân nó với từng điểm dữ liệu (giả sử dữ liệu ở dạng vector cột) để được các vector có số chiều thấp hơn. Ví dụ, vector ban đầu có số chiều là 784, chọn ma trận chiếu có kích thước (100x784), khi đó nếu nhân ma trận chéo này với vector ban đầu, ta sẽ được một vector mới có số chiều là 100, nhỏ hơn số chiều ban đầu rất nhiều. Lúc này, có thể ta không có tên gọi cho mỗi feature nữa vì các feature ở vector ban đầu đã được trộn lẫn với nhau theo một tỉ lệ nào đó rồi lưu và vector mới này. Mỗi thành phần của vector mới này được coi là một feature (không tên).\n",
        "  - Việc chọn một ma trận chiếu ngẫu nhiên đôi khi mang lại kết quả tệ không mong muốn vì thông tin bị mất đi quá nhiều. Một phương pháp được sử dụng nhiều để hạn chế lượng thông tin mất đi có tên là Principle Component Analysis.\n",
        "\n",
        "1. Bag-of-words\n",
        "  -  Giả sử chúng ta có bài toán phân loại tin rác. Ta thấy rằng nếu một tin có chứa các từ khuyến mại, giảm giá, trúng thưởng, miễn phí, quà tặng, tri ân, … thì nhiều khả năng đó là một tin nhắn rác. Vậy phương pháp đơn giản nhất là đếm xem trong tin đó có bao nhiêu từ thuộc vào các từ trên, nếu nhiều hơn 1 ngưỡng nào đó thì ta quyết định đó là tin rác.\n",
        "\n",
        "  - Giả sử chúng ta có hai văn bản đơn giản:\n",
        "    - (1) John likes to watch movies. Mary likes movies too.\n",
        "    - (2) John also likes to watch football games.\n",
        "  - Dựa trên hai văn bản này, ta có danh sách các từ được sử dụng, được gọi là từ điển với 10 từ như sau: \n",
        "    \n",
        "    [\"John\", \"likes\", \"to\", \"watch\", \"movies\", \"also\", \"football\", \"games\", \"Mary\", \"too\"]\n",
        "  - Với mỗi văn bản, ta sẽ tạo ra một vector đặc trưng có số chiều bằng 10, mỗi phần tử đại diện cho số từ tương ứng xuất hiện trong văn bản đó. Với hai văn bản trên, ta sẽ có hai vector đặc trưng là:\n",
        "\n",
        "    - (1) [1, 2, 1, 1, 2, 0, 0, 0, 1, 1]\n",
        "\n",
        "    - (2) [1, 1, 1, 1, 0, 1, 1, 1, 0, 0] \n",
        "\n",
        "  - Lưu ý:\n",
        "    - Với những ứng dụng thực tế, từ điển có nhiều hơn 10 từ rất nhiều, có thể đến một trăm nghìn hoặc cả triệu, như vậy vector đặc trưng thu được sẽ rất dài. Một văn bản chỉ có 1 câu, và 1 tiểu thuyết nghìn trang đều được biểu diễn bằng các vector có số chiều bằng 100 nghìn hoặc 1 triệu.\n",
        "    - Có thể đến một trăm nghìn hoặc cả triệu, như vậy vector đặc trưng thu được sẽ rất dài. Một văn bản chỉ có 1 câu, và 1 tiểu thuyết nghìn trang đều được biểu diễn bằng các vector có số chiều bằng 100 nghìn hoặc 1 triệu. Để việc lưu trữ được hiệu quả hơn, ta không lưu cả vector đó mà chỉ lưu vị trí của các phần tử khác 0 và giá trị tương ứng. Lưu ý: nếu có hơn 50% số phần tử khác 0, việc làm này lại phản tác dụng!\n",
        "    - Thi thoảng có những từ hiếm gặp không nằm trong từ điển, vậy ta sẽ làm gì? Một cách thường được dùng là mở rộng vector đặc trưng thêm 1 phần tử, gọi là phẩn tử \\<Unknown>. Mọi từ không có trong từ điền đều được coi là \\<Unknown>.\n",
        "    - Những từ hiếm đôi khi lại mang những thông tin qua trọng nhất mà chỉ loại văn bản đó có. Đây là một nhược điểm của BoW. Có một phương pháp cải tiến khác giúp khắc phục nhược điểm này có tên là Term Frequency-Inverse Document Frequency (TF-IDF) dùng để xác định tầm quan trọng của một từ trong một văn bản dựa trên toàn bộ văn bản trong cơ sở dữ liệu (corpus).\n",
        "    - Nhược điểm lớn nhất của BoW là nó không mang thông tin về thứ tự của các từ. Cũng như sự liên kết giữa các câu, các đoạn văn trong văn bản. Ví dụ, ba câu sau đây: “Em yêu anh không?”, “Em không yêu anh”, và “Không, (nhưng) anh yêu em” khi được trích chọn đặc trưng bằng BoW sẽ cho ra ba vector giống hệt nhau, mặc dù ý nghĩa khác hẳn nhau.\n",
        "1. Bag-of-Words trong Computer Vision\n",
        "\n",
        "  **Ví dụ 1:**\n",
        "\n",
        "    Có hai class ảnh, một class là ảnh các khu rừng, một class là ảnh các sa mạc. Phân loại một bức ảnh là rừng hay sa mạc (giả sử ta biết rằng nó thuộc một trong hai loại này) một cách trực quan nhất là dựa vào màu sắc. Màu xanh nhiều thì là rừng, màu đỏ và vàng nhiều thì là sa mạc.\n",
        "\n",
        "  - Với một bức ảnh, chuẩn bị một vector $x$ có số chiều bằng 3, đại diện cho 3 màu xanh $(x_{1})$, đỏ $(x_{2})$, và vàng $(x_{3})$.\n",
        "\n",
        "  - Với mỗi điểm ảnh trong bức ảnh đó, xem nó gần với màu xanh, đỏ hay vàng nhất dựa trên giá trị của pixel đó. Nếu nó gần điểm xanh nhất, tăng $x_{1}$ lên 1; gần đỏ nhất, tăng $x_{2}$ lên 1; gần vàng nhất, tăng $x_{3}$ lên 1.\n",
        "\n",
        "  - Sau khi xem xét tất cả các điểm ảnh, dù cho bức ảnh có kích thước thế nào, ta vẫn thu được một vector có độ dài bằng 3, mỗi phần tử thể hiện việc có bao nhiêu pixel trong bức ảnh có màu tương ứng. Vector cuối này còn được gọi là vector histogram của bức ảnh tương ứng với ba màu xanh, đỏ, vàng. Dựa vào vector này, ta có thể quyết định bức ảnh đó là ảnh rừng hay sa mạc.\n",
        "\n",
        "  **Ví dụ 2:**\n",
        "\n",
        "    Trên thực tế, các bài toán xử lý ảnh không đơn giản như ví dụ 1 trên đây. Mắt người thực ra nhạy với các đường nét, hình dáng hơn là màu sắc. Một cái (ảnh) cây dù không có màu vẫn là một cái (ảnh) cây! Vì vậy, xem xét giá trị từng điểm ảnh một không mang lại kết quả khả quan vì lượng thông tin bị mất quá nhiều.\n",
        "\n",
        "    Có một cách khắc phục là thay vì xem xét một điểm ảnh, ta xem xét một cửa sổ nhỏ trong ảnh (trong Computer Vision, cửa sổ này được gọi là patch) là một hình chữ nhật chứa nhiều điểm ảnh gần nhau. Cửa sổ này đủ lớn để có thể chứa được các bộ phận có thể mô tả được vật thể trong ảnh.\n",
        "\n",
        "    Ví dụ với mặt người, các patch nên đủ lớn để chứa được các phần của khuôn mặt như mắt, mũi, miệng như hình dưới đây.\n",
        "\n",
        "    ![Vidu](https://machinelearningcoban.com/assets/FeatureEngineering/bow_face.png)\n",
        "\n",
        "    Tương tự thế, với ảnh là ô tô, các patch thu được có thể là bánh xe, khung xe, cửa xe, … như hàng trên trong hình dưới đây.\n",
        "\n",
        "    ![Vidu](https://machinelearningcoban.com/assets/FeatureEngineering/bow_car.png)\n",
        "\n",
        "  - Xác suất để hai patches giống hệt nhau từng pixel là rất thấp vì có thể một phần của vật thể trong một patch bị lệch đi vài pixel so với phần đó trong patch kia; hoặc phần vật thể trong patch bị méo, hoặc có độ sáng khác nhau, mặc dù ta vẫn nhìn thấy hai patches đó rất giống nhau.\n",
        "  - Hai patches là gần giống nhau nếu khoảng cách Euclid giữa hai vector tạo bởi hai patches đó gần nhau. Từ điển (codebook) sẽ có số phần tử do ta tự chọn. Số phần tử càng cao thì độ sai lệch càng ít, nhưng sẽ nặng về tính toán hơn.\n",
        "  - Chúng ta có thể áp dụng K-means clustering. Với rất nhiều patches thu được. Với ảnh trong tập test data, ta cũng lấy các patches rồi xem chúng rơi vào những bags nào. Từ đó suy ra vector đặc trưng cho mỗi bức ảnh. \n",
        "\n",
        "1. Feature Scaling and Normalization\n",
        "\n",
        "  - Các điểm dữ liệu đôi khi được đo đạc với những đơn vị khác nhau, m và feet chẳng hạn. Hoặc có hai thành phần (của vector dữ liệu) chênh lệch nhau quá lớn, một thành phần có khoảng giá trị từ 0 đến 1000, thành phần kia chỉ có khoảng giá trị từ 0 đến 1 chẳng hạn. Lúc này, chúng ta cần chuẩn hóa dữ liệu trước khi thực hiện các bước tiếp theo.\n",
        "\n",
        " - Chú ý: việc chuẩn hóa này chỉ được thực hiện khi vector dữ liệu đã có cùng chiều.\n",
        "\n",
        "  - Một vài phương pháp chuẩn hóa thường dùng:\n",
        "    - Rescaling\n",
        "      Phương pháp đơn giản nhất là đưa tất cả các thành phần về cùng một khoảng, $[0,1]$ hoặc $[-1,1]$. Ví dụ nếu muốn đưa một thành phần (feature) về khoảng $[0,1]$ công thức sẽ là:\n",
        "\n",
        "    $ x^{'} = \\frac {x-\\min(x)}{\\max(x) - \\min(x)}$\n",
        "\n",
        "    - Standardization\n",
        "      Một phương pháp nữa cũng hay được sử dụng là giả sử mỗi thành phần đều có phân phối chuẩn với kỳ vọng là 0 và phương sai là 1. Khi đó, công thức chuẩn hóa sẽ là:\n",
        "\n",
        "    $x^{'} = \\frac{x-x^{bar}}{\\sigma}$\n",
        "\n",
        "      Trong đó $x^{bar}, \\sigma$ lần lượt là kỳ vọng và phương sai (standard deviation) của thành phần đó trên toàn bộ training data.\n",
        "\n",
        "    - Scaling to unit length\n",
        "\n",
        "      Một lựa chọn khác nữa cũng được sử dụng rộng rãi là chuẩn hóa các thành phần của mỗi vector dữ liệu sao cho toàn bộ vector có độ lớn (Euclid, tức norm 2) bằng 1. Việc này có thể được thực hiện bằng:\n",
        "\n",
        "    $x^{'} = \\frac{x}{\\parallel x \\parallel_{2}}$"
      ]
    },
    {
      "cell_type": "markdown",
      "metadata": {
        "id": "c0au8K5k8PRT"
      },
      "source": [
        "##9. Binary Classifiers"
      ]
    },
    {
      "cell_type": "markdown",
      "metadata": {
        "id": "W9rsL6Sg8SN3"
      },
      "source": [
        "##10. Softmax Regression"
      ]
    }
  ]
}