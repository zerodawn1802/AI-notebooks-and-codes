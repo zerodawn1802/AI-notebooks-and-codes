{
  "nbformat": 4,
  "nbformat_minor": 0,
  "metadata": {
    "colab": {
      "name": "KNN-Image classification.ipynb",
      "provenance": []
    },
    "kernelspec": {
      "name": "python3",
      "display_name": "Python 3"
    },
    "language_info": {
      "name": "python"
    }
  },
  "cells": [
    {
      "cell_type": "code",
      "metadata": {
        "id": "8vSahUzAJiUI"
      },
      "source": [
        "import numpy as np\n",
        "import cv2\n",
        "import glob\n",
        "import os\n",
        "from keras.utils import np_utils\n",
        "from sklearn.model_selection import train_test_split"
      ],
      "execution_count": null,
      "outputs": []
    },
    {
      "cell_type": "code",
      "metadata": {
        "id": "IVugMkRQiOMs"
      },
      "source": [
        "class processing_data():\n",
        "  def __init__(self, image):\n",
        "    self.image = image\n",
        "\n",
        "  def resize_image(self, size = (64, 64)):\n",
        "    self.image = cv2.resize(src = self.image, dsize = size)\n",
        "\n",
        "  def extract_color_histogram(self):\n",
        "    img_yuv = cv2.cvtColor(self.image, cv2.COLOR_BGR2YUV)\n",
        "    img_yuv[:,:,0] = cv2.equalizeHist(img_yuv[:,:,0])\n",
        "\n",
        "    # convert the YUV image back to BGR format\n",
        "    img_output = cv2.cvtColor(img_yuv, cv2.COLOR_YUV2BGR)\n",
        "    self.image = img_output\n",
        "\n",
        "  def image_to_feature_vector(self):\n",
        "    self.resize_image()\n",
        "    self.extract_color_histogram()\n",
        "    self.image = np.array(self.image)\n",
        "    return self.image.flatten()"
      ],
      "execution_count": null,
      "outputs": []
    },
    {
      "cell_type": "code",
      "metadata": {
        "id": "kVvyFe3fh55G"
      },
      "source": [
        "def load_img_from_folder(path_folder):\n",
        "  images = []\n",
        "  for filename in os.listdir(path_folder):\n",
        "    img = cv2.imread(os.path.join(path_folder, filename))\n",
        "    if img is not None:\n",
        "      model = processing_data(img)\n",
        "      img = model.image_to_feature_vector()\n",
        "      images.append(img)\n",
        "  return images"
      ],
      "execution_count": null,
      "outputs": []
    },
    {
      "cell_type": "code",
      "metadata": {
        "colab": {
          "base_uri": "https://localhost:8080/"
        },
        "id": "HE2RravYiP-B",
        "outputId": "281d2ade-31b8-4840-d860-fd3e1aa5a140"
      },
      "source": [
        "train_path = '/content/drive/MyDrive/Colab Notebooks/content/Train'\n",
        "data_labels = os.listdir(train_path)\n",
        "print(class_names)"
      ],
      "execution_count": null,
      "outputs": [
        {
          "output_type": "stream",
          "text": [
            "['00035', '00011', '00033', '00034', '00007', '00038', '00032', '00029', '00009', '00036', '00001', '00005', '00003', '00006']\n"
          ],
          "name": "stdout"
        }
      ]
    },
    {
      "cell_type": "code",
      "metadata": {
        "colab": {
          "base_uri": "https://localhost:8080/"
        },
        "id": "6K-zeWzUicZw",
        "outputId": "af07be13-5109-4580-f904-1f0f8003306e"
      },
      "source": [
        "X_train = []\n",
        "y_train = []\n",
        "labels = 0\n",
        "\n",
        "for namefolder in class_names:\n",
        "  img_dir = train_path + '/' + namefolder\n",
        "  print(img_dir)\n",
        "  images = load_img_from_folder(img_dir)\n",
        "  print(len(images))\n",
        "  X_train.extend(images)\n",
        "  y_train.extend([labels] * len(images))\n",
        "  labels = labels + 1"
      ],
      "execution_count": null,
      "outputs": [
        {
          "output_type": "stream",
          "text": [
            "/content/drive/MyDrive/Colab Notebooks/content/Train/00035\n",
            "739\n",
            "/content/drive/MyDrive/Colab Notebooks/content/Train/00011\n",
            "829\n",
            "/content/drive/MyDrive/Colab Notebooks/content/Train/00033\n",
            "409\n",
            "/content/drive/MyDrive/Colab Notebooks/content/Train/00034\n",
            "229\n",
            "/content/drive/MyDrive/Colab Notebooks/content/Train/00007\n",
            "889\n",
            "/content/drive/MyDrive/Colab Notebooks/content/Train/00038\n",
            "1309\n",
            "/content/drive/MyDrive/Colab Notebooks/content/Train/00032\n",
            "109\n",
            "/content/drive/MyDrive/Colab Notebooks/content/Train/00029\n",
            "109\n",
            "/content/drive/MyDrive/Colab Notebooks/content/Train/00009\n",
            "919\n",
            "/content/drive/MyDrive/Colab Notebooks/content/Train/00036\n",
            "199\n",
            "/content/drive/MyDrive/Colab Notebooks/content/Train/00001\n",
            "1429\n",
            "/content/drive/MyDrive/Colab Notebooks/content/Train/00005\n",
            "1189\n",
            "/content/drive/MyDrive/Colab Notebooks/content/Train/00003\n",
            "889\n",
            "/content/drive/MyDrive/Colab Notebooks/content/Train/00006\n",
            "229\n"
          ],
          "name": "stdout"
        }
      ]
    },
    {
      "cell_type": "code",
      "metadata": {
        "colab": {
          "base_uri": "https://localhost:8080/"
        },
        "id": "p9ynb17o5Lvf",
        "outputId": "edf25ea3-7870-4ace-8f45-a37eea697d24"
      },
      "source": [
        "X_train = np.array(X_train)\n",
        "y_train = np.array(y_train)\n",
        "print(\"X_train shape: \", X_train.shape)\n",
        "print(X_train)\n",
        "print(\"y_train shape: \", y_train.shape)\n",
        "print(y_train)"
      ],
      "execution_count": null,
      "outputs": [
        {
          "output_type": "stream",
          "text": [
            "X_train shape:  (9476, 12288)\n",
            "[[ 29  44  61 ...  50  48  67]\n",
            " [227 226 228 ...  49  50  48]\n",
            " [ 68  63  64 ... 106 101  95]\n",
            " ...\n",
            " [171 174 178 ...  44  46  46]\n",
            " [101  99 104 ...  40  38  38]\n",
            " [ 17  21  22 ...  61  63  70]]\n",
            "y_train shape:  (9476,)\n",
            "[ 0  0  0 ... 13 13 13]\n"
          ],
          "name": "stdout"
        }
      ]
    },
    {
      "cell_type": "code",
      "metadata": {
        "colab": {
          "base_uri": "https://localhost:8080/"
        },
        "id": "GijCYliyl8hd",
        "outputId": "f6f198ef-208d-4f3b-d9e0-55b5f3f962bf"
      },
      "source": [
        "# load test\n",
        "link_test = '/content/drive/MyDrive/Colab Notebooks/public_save'\n",
        "X_test = load_img_from_folder(link_test)\n",
        "X_test = np.array(X_test)\n",
        "print(\"X_test shape: \", X_test.shape)\n",
        "print(X_test)"
      ],
      "execution_count": null,
      "outputs": [
        {
          "output_type": "stream",
          "text": [
            "X_test shape:  (202, 12288)\n",
            "[[134 129 144 ...  81  75  92]\n",
            " [ 71  72  76 ...  12  14  15]\n",
            " [ 72  87 110 ...  73  89 102]\n",
            " ...\n",
            " [ 39  44  43 ...  71  71  78]\n",
            " [151 151 158 ...  60  67  59]\n",
            " [ 45  49  58 ...  49  51  51]]\n"
          ],
          "name": "stdout"
        }
      ]
    },
    {
      "cell_type": "code",
      "metadata": {
        "id": "-A2XNMCtpJRW"
      },
      "source": [
        "class KNearestNeighbors():\n",
        "  def __init__(self, n, labels):\n",
        "    self.n = n\n",
        "    self.labels = labels\n",
        "  \n",
        "  def fit(self, X, y):\n",
        "    if(X.shape[0] != y.shape[0]):\n",
        "      raise ValueError('Failed')\n",
        "    self.X = X\n",
        "    self.y = y\n",
        "\n",
        "  \n",
        "  def get_neighbors(self, X_test):\n",
        "    dists = list()\n",
        "    n = list()\n",
        "    for i in range(len(self.X)):\n",
        "      dist = Eudists(self.X[i], X_test)\n",
        "      dists.append((y_train[i], dist))\n",
        "    dists.sort(key = lambda tup : tup[1])\n",
        "    for i in range(self.n):\n",
        "      n.append(dists[i][0])\n",
        "    return np.array(n)\n",
        "\n",
        "  def predict(self, X_test):\n",
        "    predictions = np.zeros(self.n)\n",
        "    n = self.get_neighbors(X_test)\n",
        "    counts = np.bincount(n)\n",
        "    label = np.argmax(counts)\n",
        "    return self.labels[label]"
      ],
      "execution_count": null,
      "outputs": []
    },
    {
      "cell_type": "code",
      "metadata": {
        "id": "SLRwTRdppLnG"
      },
      "source": [
        "def Eudists(image1, image2):\n",
        "    dists = image1 - image2\n",
        "    dists = dists ** 2\n",
        "    dist = dists.sum()\n",
        "    return dist ** 0.5"
      ],
      "execution_count": null,
      "outputs": []
    },
    {
      "cell_type": "code",
      "metadata": {
        "id": "KIxqWtLWpOTm"
      },
      "source": [
        "model = KNearestNeighbors(n = 1, labels = data_labels)\n",
        "model.fit(X_train, y_train)"
      ],
      "execution_count": null,
      "outputs": []
    },
    {
      "cell_type": "code",
      "metadata": {
        "id": "1sQgobHlpT9t"
      },
      "source": [
        "y_pred = []\n",
        "for test in X_test:\n",
        "  y_pred.append(model.predict(test))"
      ],
      "execution_count": null,
      "outputs": []
    },
    {
      "cell_type": "code",
      "metadata": {
        "colab": {
          "base_uri": "https://localhost:8080/"
        },
        "id": "JbsJ3zBVp6FG",
        "outputId": "1d9f2117-22c7-474d-eeb6-ef747607527f"
      },
      "source": [
        "print(y_pred)"
      ],
      "execution_count": null,
      "outputs": [
        {
          "output_type": "stream",
          "text": [
            "['00036', '00006', '00001', '00029', '00006', '00029', '00034', '00035', '00035', '00035', '00035', '00032', '00007', '00005', '00001', '00032', '00005', '00006', '00035', '00035', '00035', '00001', '00001', '00003', '00003', '00003', '00003', '00029', '00007', '00001', '00006', '00006', '00006', '00005', '00006', '00036', '00011', '00006', '00009', '00005', '00011', '00038', '00035', '00034', '00005', '00032', '00038', '00009', '00034', '00038', '00003', '00011', '00033', '00036', '00006', '00009', '00032', '00011', '00034', '00029', '00038', '00033', '00035', '00009', '00038', '00007', '00011', '00035', '00038', '00001', '00011', '00007', '00003', '00032', '00003', '00033', '00001', '00011', '00038', '00011', '00007', '00003', '00036', '00009', '00036', '00038', '00001', '00029', '00038', '00001', '00003', '00035', '00003', '00005', '00011', '00032', '00032', '00005', '00001', '00007', '00036', '00038', '00034', '00038', '00005', '00036', '00007', '00005', '00033', '00011', '00034', '00032', '00034', '00003', '00029', '00011', '00005', '00005', '00033', '00036', '00001', '00034', '00038', '00034', '00003', '00034', '00001', '00011', '00038', '00001', '00033', '00011', '00007', '00033', '00032', '00033', '00036', '00034', '00034', '00005', '00007', '00005', '00005', '00038', '00007', '00003', '00009', '00009', '00003', '00033', '00007', '00001', '00007', '00038', '00001', '00003', '00001', '00011', '00035', '00035', '00001', '00005', '00035', '00011', '00032', '00003', '00035', '00009', '00038', '00009', '00005', '00033', '00036', '00005', '00011', '00034', '00032', '00035', '00007', '00009', '00038', '00035', '00005', '00033', '00035', '00005', '00033', '00003', '00011', '00005', '00011', '00033', '00038', '00009', '00032', '00007', '00032', '00033', '00003', '00003', '00009', '00005']\n"
          ],
          "name": "stdout"
        }
      ]
    },
    {
      "cell_type": "code",
      "metadata": {
        "id": "Xqj9WwCXp9RV"
      },
      "source": [
        "import pandas as pd\n",
        "import matplotlib.pyplot as plt\n",
        "res = pd.DataFrame({'Id': image_names, 'Category': y_pred})"
      ],
      "execution_count": null,
      "outputs": []
    },
    {
      "cell_type": "code",
      "metadata": {
        "colab": {
          "base_uri": "https://localhost:8080/"
        },
        "id": "cHW1yVNyqIp1",
        "outputId": "890aa99f-add6-45c2-e259-5800d74f47c5"
      },
      "source": [
        "res.to_csv('./KNNClassification.csv', index = False)\n",
        "print(len(y_pred), len(image_names))\n",
        "print(res)"
      ],
      "execution_count": null,
      "outputs": [
        {
          "output_type": "stream",
          "text": [
            "202 202\n",
            "                                                    Id Category\n",
            "0    6669f7b30dd90ba177243365413e01b253affe741888f4...    00036\n",
            "1    9abc917a77bed75e97909a27cbb5ff36b030b0b0b80c55...    00006\n",
            "2    71d9853d188a668d5f2817d3be98db3854ef0d90307264...    00001\n",
            "3    16cfbe0d023f157063ab1b62ada0c76a63e0a9daf681ce...    00029\n",
            "4    e9a116735bcdbcdd503853b6351bd6b7942de214aa3ad1...    00006\n",
            "..                                                 ...      ...\n",
            "197  3f726940c7b19d6723ac1e30fa164c5748cc1c1a370c26...    00033\n",
            "198  4c952f0e21cd70c54282af8dab6ea98e44c6fa8369b764...    00003\n",
            "199  7263b0a0e2e89197ef9a4f7b6945c9ce3e73c884c41161...    00003\n",
            "200  0daf40fdb0e182dc9ba0b3dfb9b9c09a4102709647b338...    00009\n",
            "201  4a50facbf50745591ffaef484de1259d97d15f9dcbf8a0...    00005\n",
            "\n",
            "[202 rows x 2 columns]\n"
          ],
          "name": "stdout"
        }
      ]
    }
  ]
}