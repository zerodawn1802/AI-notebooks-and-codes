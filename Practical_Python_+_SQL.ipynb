{
  "nbformat": 4,
  "nbformat_minor": 0,
  "metadata": {
    "colab": {
      "name": "Practical Python + SQL.ipynb",
      "provenance": [],
      "collapsed_sections": [
        "05Ay9Wi1cTgq",
        "WZuJP4XpqNxf",
        "KieK47VFqQmN",
        "d3JWQKOmq71D",
        "lJ93_M-At1nx",
        "sirtSeniuV7D",
        "YC2fVhRmIBMa",
        "l-h68x4eIIP2",
        "gOrc0iOFIli9",
        "hYBCmINTIpPc",
        "Mm6XQtYNLuF3",
        "79Q7we2SEXiN",
        "pLgUPWk5PEOG",
        "bKakUt-bPV0m",
        "JQpSc0PPQMIo",
        "vFsC_kzIS25v",
        "qX8e235yQx69",
        "yEyeMZoTRq5a",
        "tJqtekaJXXZv",
        "FljWfACEccqe",
        "t2R0eiiTcatr",
        "8y9v2DficjX9",
        "TYKQjD7Ycl1l",
        "fwjsmon5koWP",
        "l5T3IK5TmBg-",
        "QzW5E2_eGK49"
      ],
      "toc_visible": true
    },
    "kernelspec": {
      "name": "python3",
      "display_name": "Python 3"
    }
  },
  "cells": [
    {
      "cell_type": "markdown",
      "metadata": {
        "id": "05Ay9Wi1cTgq"
      },
      "source": [
        "# Python"
      ]
    },
    {
      "cell_type": "markdown",
      "metadata": {
        "id": "Xu_RjO5zpKDA"
      },
      "source": [
        "## Python Variables\n",
        "\n",
        "Identifier Naming\n",
        "\n",
        "Variables are the example of identifiers. An Identifier is used to identify the literals used in the program. The rules to name an identifier are given below.\n",
        "\n",
        "- The first character of the variable must be an alphabet or underscore ( _ ).\n",
        "- All the characters except the first character may be an alphabet of lower-case(a-z), upper-case (A-Z), underscore, or digit (0-9).\n",
        "- Identifier name must not contain any white-space, or special character (!, @, #, %, ^, &, *).\n",
        "Identifier name must not be similar to any keyword defined in the language.\n",
        "- Identifier names are case sensitive; for example, my name, and MyName is not the same.\n",
        "- Examples of valid identifiers: a123, _n, n_9, etc.\n",
        "- Examples of invalid identifiers: 1a, n%4, n 9, etc."
      ]
    },
    {
      "cell_type": "markdown",
      "metadata": {
        "id": "WZuJP4XpqNxf"
      },
      "source": [
        "### Object References"
      ]
    },
    {
      "cell_type": "code",
      "metadata": {
        "id": "VqiagLf6potg"
      },
      "source": [
        "a = 50"
      ],
      "execution_count": null,
      "outputs": []
    },
    {
      "cell_type": "markdown",
      "metadata": {
        "id": "Am1uEd1qpjnz"
      },
      "source": [
        "![a=50](https://static.javatpoint.com/python/images/python-variables.png)\n",
        "\n",
        "In the above image, the variable a refers to an integer object.\n",
        "\n",
        "Suppose we assign the integer value 50 to a new variable b."
      ]
    },
    {
      "cell_type": "code",
      "metadata": {
        "id": "KjrFQDDdcPgr"
      },
      "source": [
        "a = 50\n",
        "b = a"
      ],
      "execution_count": null,
      "outputs": []
    },
    {
      "cell_type": "markdown",
      "metadata": {
        "id": "mTVW5wDbpxii"
      },
      "source": [
        "![b=a=50](https://static.javatpoint.com/python/images/python-variables2.png)\n",
        "\n",
        "The variable b refers to the same object that a points to because Python does not create another object.\n",
        "\n",
        "Let's assign the new value to b. Now both variables will refer to the different objects."
      ]
    },
    {
      "cell_type": "code",
      "metadata": {
        "id": "2K-a5Vitp8Lc"
      },
      "source": [
        "a =  50\n",
        "b = 100"
      ],
      "execution_count": null,
      "outputs": []
    },
    {
      "cell_type": "markdown",
      "metadata": {
        "id": "9gpb8-ypp_ty"
      },
      "source": [
        "![a=50;b=100](https://static.javatpoint.com/python/images/python-variables3.png)\n",
        "\n",
        "Python manages memory efficiently if we assign the same variable to two different values."
      ]
    },
    {
      "cell_type": "markdown",
      "metadata": {
        "id": "KieK47VFqQmN"
      },
      "source": [
        "### Object Identity\n",
        "\n",
        "In Python, every created object identifies uniquely in Python. Python provides the guaranteed that no two objects will have the same identifier. The built-in id() function, is used to identify the object identifier. Consider the following example.\n"
      ]
    },
    {
      "cell_type": "code",
      "metadata": {
        "id": "vhKBWSdIp8I8",
        "colab": {
          "base_uri": "https://localhost:8080/",
          "height": 70
        },
        "outputId": "9ddd4612-fe30-4851-f6d8-b82597ed73f1"
      },
      "source": [
        "a = 50  \n",
        "b = a  \n",
        "print(id(a))  \n",
        "print(id(b))  \n",
        "# Reassigned variable a  \n",
        "a = 500  \n",
        "print(id(a))\n",
        "\n",
        "#@markdown We assigned the b = a, a and b both point\n",
        "#@markdown to the same object. When we checked by\n",
        "#@markdown the id() function it returned the same\n",
        "#@markdown number. We reassign a to 500; then it\n",
        "#@markdown referred to the new object identifier."
      ],
      "execution_count": null,
      "outputs": [
        {
          "output_type": "stream",
          "text": [
            "10916064\n",
            "10916064\n",
            "140208136639888\n"
          ],
          "name": "stdout"
        }
      ]
    },
    {
      "cell_type": "markdown",
      "metadata": {
        "id": "d3JWQKOmq71D"
      },
      "source": [
        "## Variable Names"
      ]
    },
    {
      "cell_type": "markdown",
      "metadata": {
        "id": "CO-Vzckzq_Hw"
      },
      "source": [
        "We have already discussed how to declare the valid variable. Variable names can be any length can have uppercase, lowercase (A to Z, a to z), the digit (0-9), and underscore character(_). Consider the following example of valid variables names."
      ]
    },
    {
      "cell_type": "code",
      "metadata": {
        "id": "OGw4a-Kqp8GX",
        "colab": {
          "base_uri": "https://localhost:8080/",
          "height": 70
        },
        "outputId": "fef18816-56bd-44e5-e836-2e9f62ccd056"
      },
      "source": [
        "name = \"Devansh\"  \n",
        "age = 20  \n",
        "marks = 80.50  \n",
        "  \n",
        "print(name)  \n",
        "print(age)  \n",
        "print(marks)  "
      ],
      "execution_count": null,
      "outputs": [
        {
          "output_type": "stream",
          "text": [
            "Devansh\n",
            "20\n",
            "80.5\n"
          ],
          "name": "stdout"
        }
      ]
    },
    {
      "cell_type": "code",
      "metadata": {
        "id": "4dYr8U7Up8Dt",
        "colab": {
          "base_uri": "https://localhost:8080/",
          "height": 34
        },
        "outputId": "fadb294c-f4db-445e-e92c-cb710e3234d9"
      },
      "source": [
        "name = \"A\"  \n",
        "Name = \"B\"  \n",
        "naMe = \"C\"  \n",
        "NAME = \"D\"  \n",
        "n_a_m_e = \"E\"  \n",
        "_name = \"F\"  \n",
        "name_ = \"G\"  \n",
        "_name_ = \"H\"  \n",
        "na56me = \"I\"  \n",
        "  \n",
        "print(name,Name,naMe,NAME,n_a_m_e, NAME, n_a_m_e, _name, name_,_name, na56me)"
      ],
      "execution_count": null,
      "outputs": [
        {
          "output_type": "stream",
          "text": [
            "A B C D E D E F G F I\n"
          ],
          "name": "stdout"
        }
      ]
    },
    {
      "cell_type": "markdown",
      "metadata": {
        "id": "lJ93_M-At1nx"
      },
      "source": [
        "## Python Keywords"
      ]
    },
    {
      "cell_type": "markdown",
      "metadata": {
        "id": "4TqjcxWut4jI"
      },
      "source": [
        "Python Keywords are special reserved words that convey a special meaning to the compiler/interpreter. Each keyword has a special meaning and a specific operation. These keywords can't be used as a variable. Following is the List of Python Keywords.\n",
        "\n",
        "|          |        |       |         |      |\n",
        "|----------|--------|-------|---------|------|\n",
        "|True\t   |False\t|None\t|and\t  |as    |\n",
        "|asset\t   |def\t    |class\t|continue |break |\n",
        "|else\t   |finally\t|elif\t|del\t  |except|\n",
        "|global\t   |for\t    |if\t    |from\t  |import|\n",
        "|raise\t   |try\t    |or\t    |return\t  |pass  |\n",
        "|nonlocal  |in\t    |not\t|is\t      |lambda|"
      ]
    },
    {
      "cell_type": "markdown",
      "metadata": {
        "id": "sirtSeniuV7D"
      },
      "source": [
        "## Python Comments"
      ]
    },
    {
      "cell_type": "markdown",
      "metadata": {
        "id": "HW9EUajOuhoR"
      },
      "source": [
        "To apply the comment in the code we use the hash(#) at the beginning of the statement or code."
      ]
    },
    {
      "cell_type": "code",
      "metadata": {
        "id": "Mw7BzXmVubqH"
      },
      "source": [
        "# This is the comment statement  "
      ],
      "execution_count": null,
      "outputs": []
    },
    {
      "cell_type": "markdown",
      "metadata": {
        "id": "caGQkreGukpb"
      },
      "source": [
        "Multiline Python Comment"
      ]
    },
    {
      "cell_type": "markdown",
      "metadata": {
        "id": "Pew30LhOurAG"
      },
      "source": [
        "We must use the hash(#) at the beginning of every line of code to apply the multiline Python comment. Consider the following example."
      ]
    },
    {
      "cell_type": "code",
      "metadata": {
        "id": "WUfzRyGEuxj5"
      },
      "source": [
        "# First line of the comment   \n",
        "# Second line of the comment  \n",
        "# Third line of the comment  "
      ],
      "execution_count": null,
      "outputs": []
    },
    {
      "cell_type": "markdown",
      "metadata": {
        "id": "SEVENroyuyV_"
      },
      "source": [
        "We can also use the triple quotes ('''''') for multiline comment. The triple quotes are also used to string formatting. Consider the following example."
      ]
    },
    {
      "cell_type": "markdown",
      "metadata": {
        "id": "Wq_5qlf5vTiI"
      },
      "source": [
        "Docstrings Python Comment"
      ]
    },
    {
      "cell_type": "markdown",
      "metadata": {
        "id": "FaPImm6YvVvb"
      },
      "source": [
        "The docstring comment is mostly used in the module, function, class or method. It is a documentation Python string. We will explain the class/method in further tutorials.\n",
        "\n",
        "**Example:**"
      ]
    },
    {
      "cell_type": "code",
      "metadata": {
        "id": "yGSsrcCIvAN4",
        "colab": {
          "base_uri": "https://localhost:8080/",
          "height": 34
        },
        "outputId": "39d59c32-6479-4d36-df30-f822f2276562"
      },
      "source": [
        "def intro():  \n",
        "  \"\"\" \n",
        "  This function prints Hello CoderSchool \n",
        "  \"\"\"  \n",
        "  print(\"Hi CoderSchool\")              \n",
        "intro()  "
      ],
      "execution_count": null,
      "outputs": [
        {
          "output_type": "stream",
          "text": [
            "Hi CoderSchool\n"
          ],
          "name": "stdout"
        }
      ]
    },
    {
      "cell_type": "markdown",
      "metadata": {
        "id": "SNZodk3ivj0A"
      },
      "source": [
        "We can check a function's docstring by using the __doc__ attribute."
      ]
    },
    {
      "cell_type": "code",
      "metadata": {
        "id": "pSBDO0-Ivmvj",
        "colab": {
          "base_uri": "https://localhost:8080/",
          "height": 70
        },
        "outputId": "12c86c2b-c1d9-4c47-8094-c30eba614e7b"
      },
      "source": [
        "print(intro.__doc__)"
      ],
      "execution_count": null,
      "outputs": [
        {
          "output_type": "stream",
          "text": [
            " \n",
            "  This function prints Hello CoderSchool \n",
            "  \n"
          ],
          "name": "stdout"
        }
      ]
    },
    {
      "cell_type": "markdown",
      "metadata": {
        "id": "YC2fVhRmIBMa"
      },
      "source": [
        "## Integer and Float"
      ]
    },
    {
      "cell_type": "markdown",
      "metadata": {
        "id": "l-h68x4eIIP2"
      },
      "source": [
        "### 1. Integer"
      ]
    },
    {
      "cell_type": "code",
      "metadata": {
        "id": "lIAAJrm4IHiv",
        "colab": {
          "base_uri": "https://localhost:8080/",
          "height": 34
        },
        "outputId": "a9c76081-bf6f-4918-a8f8-76940a4bc695"
      },
      "source": [
        "x = 4\n",
        "type(x)"
      ],
      "execution_count": null,
      "outputs": [
        {
          "output_type": "execute_result",
          "data": {
            "text/plain": [
              "int"
            ]
          },
          "metadata": {
            "tags": []
          },
          "execution_count": 36
        }
      ]
    },
    {
      "cell_type": "markdown",
      "metadata": {
        "id": "gOrc0iOFIli9"
      },
      "source": [
        "### 2. Float"
      ]
    },
    {
      "cell_type": "code",
      "metadata": {
        "id": "EYgpZ2ZxIHfR",
        "colab": {
          "base_uri": "https://localhost:8080/",
          "height": 34
        },
        "outputId": "22c5ac69-3a7e-49db-9ee5-7f02f55dc9fc"
      },
      "source": [
        "y = 4.5\n",
        "type(y)"
      ],
      "execution_count": null,
      "outputs": [
        {
          "output_type": "execute_result",
          "data": {
            "text/plain": [
              "float"
            ]
          },
          "metadata": {
            "tags": []
          },
          "execution_count": 37
        }
      ]
    },
    {
      "cell_type": "markdown",
      "metadata": {
        "id": "hYBCmINTIpPc"
      },
      "source": [
        "### 3. Arithmetic operators"
      ]
    },
    {
      "cell_type": "code",
      "metadata": {
        "id": "nilhZH-VIo-c",
        "colab": {
          "base_uri": "https://localhost:8080/",
          "height": 51
        },
        "outputId": "4527f956-cf5a-4310-d591-641a05dea8ec"
      },
      "source": [
        "#@title + (Addition)\n",
        "\n",
        "print(x + 2)\n",
        "print(y + 2)"
      ],
      "execution_count": null,
      "outputs": [
        {
          "output_type": "stream",
          "text": [
            "6\n",
            "6.5\n"
          ],
          "name": "stdout"
        }
      ]
    },
    {
      "cell_type": "code",
      "metadata": {
        "id": "Jr2KCGT_IHcq",
        "colab": {
          "base_uri": "https://localhost:8080/",
          "height": 51
        },
        "outputId": "ae30f8c8-8029-4b58-a223-91bed9aac564"
      },
      "source": [
        "#@title - (Subtraction)\n",
        "\n",
        "print(x - 2)\n",
        "print(y - 2)"
      ],
      "execution_count": null,
      "outputs": [
        {
          "output_type": "stream",
          "text": [
            "2\n",
            "2.5\n"
          ],
          "name": "stdout"
        }
      ]
    },
    {
      "cell_type": "code",
      "metadata": {
        "id": "6E675mHLIHa1",
        "colab": {
          "base_uri": "https://localhost:8080/",
          "height": 51
        },
        "outputId": "c441ac8d-8ba2-47bd-cedd-01dcf17a6f17"
      },
      "source": [
        "#@title / (divide)\n",
        "\n",
        "print(x / 2)\n",
        "print(y / 2)"
      ],
      "execution_count": null,
      "outputs": [
        {
          "output_type": "stream",
          "text": [
            "2.0\n",
            "2.25\n"
          ],
          "name": "stdout"
        }
      ]
    },
    {
      "cell_type": "code",
      "metadata": {
        "id": "zWRzsioPIHXq",
        "colab": {
          "base_uri": "https://localhost:8080/",
          "height": 51
        },
        "outputId": "277bcdef-ebc9-4d79-bd27-b246d77ab162"
      },
      "source": [
        "#@title * (Multiplication)\n",
        "\n",
        "print(x * 2)\n",
        "print(y * 2)"
      ],
      "execution_count": null,
      "outputs": [
        {
          "output_type": "stream",
          "text": [
            "8\n",
            "9.0\n"
          ],
          "name": "stdout"
        }
      ]
    },
    {
      "cell_type": "code",
      "metadata": {
        "id": "NfW81ELsIHUi",
        "colab": {
          "base_uri": "https://localhost:8080/",
          "height": 51
        },
        "outputId": "0df56fb5-32fc-4d00-a0a7-ea23e5608280"
      },
      "source": [
        "#@title % (reminder)\n",
        "\n",
        "print((x + 1) % 2)\n",
        "print(y % 2)"
      ],
      "execution_count": null,
      "outputs": [
        {
          "output_type": "stream",
          "text": [
            "1\n",
            "0.5\n"
          ],
          "name": "stdout"
        }
      ]
    },
    {
      "cell_type": "code",
      "metadata": {
        "id": "GD6pWYC2Kp2Q",
        "colab": {
          "base_uri": "https://localhost:8080/",
          "height": 51
        },
        "outputId": "3fb0c1b2-0e53-4ce1-ca3a-33343aabdfda"
      },
      "source": [
        "#@title // (Floor division)\n",
        "\n",
        "print((x + 1) // 2)\n",
        "print(y // 2)"
      ],
      "execution_count": null,
      "outputs": [
        {
          "output_type": "stream",
          "text": [
            "2\n",
            "2.0\n"
          ],
          "name": "stdout"
        }
      ]
    },
    {
      "cell_type": "code",
      "metadata": {
        "id": "gc03gBz_IHSI",
        "colab": {
          "base_uri": "https://localhost:8080/",
          "height": 51
        },
        "outputId": "fdb0eefd-9eec-4599-941f-259deaa9190a"
      },
      "source": [
        "#@title ** (Exponent)\n",
        "\n",
        "print(x ** 2)\n",
        "print(y ** 2)"
      ],
      "execution_count": null,
      "outputs": [
        {
          "output_type": "stream",
          "text": [
            "16\n",
            "20.25\n"
          ],
          "name": "stdout"
        }
      ]
    },
    {
      "cell_type": "markdown",
      "metadata": {
        "id": "Mm6XQtYNLuF3"
      },
      "source": [
        "### 4. Assignment Operators"
      ]
    },
    {
      "cell_type": "code",
      "metadata": {
        "id": "VwpGjURGNjaa"
      },
      "source": [
        "a, b = 20, 10"
      ],
      "execution_count": null,
      "outputs": []
    },
    {
      "cell_type": "code",
      "metadata": {
        "id": "StG-oANxMrQ_",
        "colab": {
          "base_uri": "https://localhost:8080/",
          "height": 51
        },
        "outputId": "74c19262-b589-4694-d331-76ee63295f86"
      },
      "source": [
        "print(\"a:\", a, \"b:\", b)\n",
        "a += b\n",
        "print(\"a += b => a =\", a)"
      ],
      "execution_count": null,
      "outputs": [
        {
          "output_type": "stream",
          "text": [
            "a: 20 b: 10\n",
            "a += b => a = 30\n"
          ],
          "name": "stdout"
        }
      ]
    },
    {
      "cell_type": "code",
      "metadata": {
        "id": "MtcMrsD-MrO5",
        "colab": {
          "base_uri": "https://localhost:8080/",
          "height": 51
        },
        "outputId": "d921c630-21d5-4771-cf58-be647820bd17"
      },
      "source": [
        "print(\"a:\", a, \"b:\", b)\n",
        "a -= b\n",
        "print(\"a -= b => a =\", a)"
      ],
      "execution_count": null,
      "outputs": [
        {
          "output_type": "stream",
          "text": [
            "a: 30 b: 10\n",
            "a -= b => a = 20\n"
          ],
          "name": "stdout"
        }
      ]
    },
    {
      "cell_type": "code",
      "metadata": {
        "id": "YT3asLHWMrLD",
        "colab": {
          "base_uri": "https://localhost:8080/",
          "height": 51
        },
        "outputId": "ca508a36-4ae9-4cfe-b1a9-50aa3ffab611"
      },
      "source": [
        "print(\"a:\", a, \"b:\", b)\n",
        "a *= b\n",
        "print(\"a *= b => a =\", a)"
      ],
      "execution_count": null,
      "outputs": [
        {
          "output_type": "stream",
          "text": [
            "a: 20 b: 10\n",
            "a *= b => a = 200\n"
          ],
          "name": "stdout"
        }
      ]
    },
    {
      "cell_type": "code",
      "metadata": {
        "id": "fTv_kSsZNnAK",
        "colab": {
          "base_uri": "https://localhost:8080/",
          "height": 51
        },
        "outputId": "db8a545a-cf22-4eb2-ec8d-a18bfdd61a1d"
      },
      "source": [
        "print(\"a:\", a, \"b:\", b)\n",
        "a %= b\n",
        "print(\"a %= b => a =\", a)"
      ],
      "execution_count": null,
      "outputs": [
        {
          "output_type": "stream",
          "text": [
            "a: 200 b: 10\n",
            "a %= b => a = 0\n"
          ],
          "name": "stdout"
        }
      ]
    },
    {
      "cell_type": "code",
      "metadata": {
        "id": "U04uSdjANn4y",
        "colab": {
          "base_uri": "https://localhost:8080/",
          "height": 51
        },
        "outputId": "51a2f70f-22d0-45a4-da36-b86eccd11fc6"
      },
      "source": [
        "print(\"a:\", a, \"b:\", b)\n",
        "a **=b\n",
        "print(\"a **= b => a =\", a)"
      ],
      "execution_count": null,
      "outputs": [
        {
          "output_type": "stream",
          "text": [
            "a: 0 b: 10\n",
            "a **= b => a = 0\n"
          ],
          "name": "stdout"
        }
      ]
    },
    {
      "cell_type": "code",
      "metadata": {
        "id": "Zia8CCspNpDy",
        "colab": {
          "base_uri": "https://localhost:8080/",
          "height": 51
        },
        "outputId": "c674a17c-4cbb-4fa0-c728-e586de3aaac9"
      },
      "source": [
        "print(\"a:\", a, \"b:\", b)\n",
        "a //=b\n",
        "print(\"a //= b => a =\", a)"
      ],
      "execution_count": null,
      "outputs": [
        {
          "output_type": "stream",
          "text": [
            "a: 0 b: 10\n",
            "a //= b => a = 0\n"
          ],
          "name": "stdout"
        }
      ]
    },
    {
      "cell_type": "markdown",
      "metadata": {
        "id": "79Q7we2SEXiN"
      },
      "source": [
        "## Boolean\n",
        "\n",
        "reference link: [Notes about booleans and logical operators](http://thomas-cokelaer.info/tutorials/python/boolean.html)\n",
        "\n",
        "1.   **True** - It represents the Boolean true, if the given condition is true, then it returns \"True\". Non-zero values are treated as true.\n",
        "2.   **False** - It represents the Boolean false; if the given condition is false, then it returns \"False\". Zero value is treated as false\n",
        "3.   **None** - It denotes the null value or void. An empty list or Zero can't be treated as None.\n"
      ]
    },
    {
      "cell_type": "markdown",
      "metadata": {
        "id": "pLgUPWk5PEOG"
      },
      "source": [
        "### 4. Logical Operators"
      ]
    },
    {
      "cell_type": "code",
      "metadata": {
        "id": "exjzu07Tp8BK",
        "colab": {
          "base_uri": "https://localhost:8080/",
          "height": 85
        },
        "outputId": "341b3bd7-e53a-4593-a9bb-7565bd0ea5ac"
      },
      "source": [
        "#@title **and** - It is a logical operator. It is used to check the multiple conditions. It returns true if both conditions are true. Consider the following truth table.\n",
        "\n",
        "#@markdown  |A\t    |B\t   |A and B|\n",
        "#@markdown  |-------|------|-------|\n",
        "#@markdown  |True\t|True  |True   |\n",
        "#@markdown  |True\t|False |False  |\n",
        "#@markdown  |False\t|True  |False  |\n",
        "#@markdown  |False\t|False |False  |\n",
        "\n",
        "print(True and True)\n",
        "print(True and False)\n",
        "print(False and True)\n",
        "print(False and False)"
      ],
      "execution_count": null,
      "outputs": [
        {
          "output_type": "stream",
          "text": [
            "True\n",
            "False\n",
            "False\n",
            "False\n"
          ],
          "name": "stdout"
        }
      ]
    },
    {
      "cell_type": "code",
      "metadata": {
        "id": "kS19O532p7-w",
        "colab": {
          "base_uri": "https://localhost:8080/",
          "height": 85
        },
        "outputId": "cc5b0695-9cfe-47df-a492-a14ddb3c487c"
      },
      "source": [
        "#@title **or** - It is a logical operator in Python. It returns true if one of the conditions is true. Consider the following truth table.\n",
        "\n",
        "#@markdown  |A\t    |B\t   |A or B|\n",
        "#@markdown  |-------|------|------|\n",
        "#@markdown  |True\t|True  |True  |\n",
        "#@markdown  |True\t|False |True  |\n",
        "#@markdown  |False\t|True  |True  |\n",
        "#@markdown  |False\t|False |False |\n",
        "\n",
        "print(True  or True)\n",
        "print(True  or False)\n",
        "print(False or True)\n",
        "print(False or False)"
      ],
      "execution_count": null,
      "outputs": [
        {
          "output_type": "stream",
          "text": [
            "True\n",
            "True\n",
            "True\n",
            "False\n"
          ],
          "name": "stdout"
        }
      ]
    },
    {
      "cell_type": "code",
      "metadata": {
        "id": "V9ps4Ha7p78I",
        "colab": {
          "base_uri": "https://localhost:8080/",
          "height": 52
        },
        "outputId": "cfa4dce6-5203-4fbd-abb0-c7165b3b5635"
      },
      "source": [
        "#@title **not** - It is a logical operator and inverts the truth value. Consider the following truth table.\n",
        "\n",
        "#@markdown  |A\t  |not A|\n",
        "#@markdown  |-----|-----|\n",
        "#@markdown  |True |False|\n",
        "#@markdown  |False|True |\n",
        "\n",
        "print(not True)\n",
        "print(not False)"
      ],
      "execution_count": null,
      "outputs": [
        {
          "output_type": "stream",
          "text": [
            "False\n",
            "True\n"
          ],
          "name": "stdout"
        }
      ]
    },
    {
      "cell_type": "markdown",
      "metadata": {
        "id": "bKakUt-bPV0m"
      },
      "source": [
        "### 5. Comparison operator"
      ]
    },
    {
      "cell_type": "code",
      "metadata": {
        "id": "EmWyNRkzPrrL",
        "colab": {
          "base_uri": "https://localhost:8080/",
          "height": 119
        },
        "outputId": "fe23e3a9-3198-4c1b-85f6-d3d7f68868e0"
      },
      "source": [
        "a, b = 2019, 2020\n",
        "\n",
        "print(\"a == b\", a == b)\n",
        "print(\"a != b\", a != b)\n",
        "print(\"a <= b\", a <= b)\n",
        "print(\"a >= b\", a >= b)\n",
        "print(\"a <  b\", a <  b)\n",
        "print(\"a >  b\", a >  b)"
      ],
      "execution_count": null,
      "outputs": [
        {
          "output_type": "stream",
          "text": [
            "a == b False\n",
            "a != b True\n",
            "a <= b True\n",
            "a >= b False\n",
            "a <  b True\n",
            "a >  b False\n"
          ],
          "name": "stdout"
        }
      ]
    },
    {
      "cell_type": "markdown",
      "metadata": {
        "id": "JQpSc0PPQMIo"
      },
      "source": [
        "### 6. Membership Operators"
      ]
    },
    {
      "cell_type": "markdown",
      "metadata": {
        "id": "G46gCVb1QmDK"
      },
      "source": [
        "a. in"
      ]
    },
    {
      "cell_type": "code",
      "metadata": {
        "id": "55nUVrv0QLKO",
        "colab": {
          "base_uri": "https://localhost:8080/",
          "height": 34
        },
        "outputId": "fc54cc48-b488-4b61-c010-44dc1854a67c"
      },
      "source": [
        "\"Code\" in \"Code school\""
      ],
      "execution_count": null,
      "outputs": [
        {
          "output_type": "execute_result",
          "data": {
            "text/plain": [
              "True"
            ]
          },
          "metadata": {
            "tags": []
          },
          "execution_count": 70
        }
      ]
    },
    {
      "cell_type": "code",
      "metadata": {
        "id": "EQqDDp1OQLDH",
        "colab": {
          "base_uri": "https://localhost:8080/",
          "height": 34
        },
        "outputId": "c1becf2e-a7da-43cb-80cd-733a518532d9"
      },
      "source": [
        "'G' in 'GDG Hanoi'"
      ],
      "execution_count": null,
      "outputs": [
        {
          "output_type": "execute_result",
          "data": {
            "text/plain": [
              "True"
            ]
          },
          "metadata": {
            "tags": []
          },
          "execution_count": 72
        }
      ]
    },
    {
      "cell_type": "markdown",
      "metadata": {
        "id": "rLHlBKQOQqbA"
      },
      "source": [
        "b. not in"
      ]
    },
    {
      "cell_type": "code",
      "metadata": {
        "id": "V1UhOjc-Qs5K",
        "colab": {
          "base_uri": "https://localhost:8080/",
          "height": 34
        },
        "outputId": "4302e737-1a68-4902-ba76-5d1f63a66973"
      },
      "source": [
        "2 not in [6, 7, 8]"
      ],
      "execution_count": null,
      "outputs": [
        {
          "output_type": "execute_result",
          "data": {
            "text/plain": [
              "True"
            ]
          },
          "metadata": {
            "tags": []
          },
          "execution_count": 73
        }
      ]
    },
    {
      "cell_type": "code",
      "metadata": {
        "id": "oVauZ7weQs1j",
        "colab": {
          "base_uri": "https://localhost:8080/",
          "height": 34
        },
        "outputId": "5f73cb40-fa36-47aa-f749-b9b13a42587e"
      },
      "source": [
        "\"D\" not in \"Vietnam\""
      ],
      "execution_count": null,
      "outputs": [
        {
          "output_type": "execute_result",
          "data": {
            "text/plain": [
              "True"
            ]
          },
          "metadata": {
            "tags": []
          },
          "execution_count": 74
        }
      ]
    },
    {
      "cell_type": "markdown",
      "metadata": {
        "id": "oW6JznX7Q62U"
      },
      "source": [
        "### 7. Identity Operators"
      ]
    },
    {
      "cell_type": "code",
      "metadata": {
        "id": "fmlsVSkeQz0f"
      },
      "source": [
        "name = \"GDG Hanoi\"\n",
        "local = name"
      ],
      "execution_count": null,
      "outputs": []
    },
    {
      "cell_type": "code",
      "metadata": {
        "id": "trteMHhVQzxU",
        "colab": {
          "base_uri": "https://localhost:8080/",
          "height": 34
        },
        "outputId": "4f2891d3-76f3-408d-ede0-e1d9f3212e25"
      },
      "source": [
        "local is name"
      ],
      "execution_count": null,
      "outputs": [
        {
          "output_type": "execute_result",
          "data": {
            "text/plain": [
              "True"
            ]
          },
          "metadata": {
            "tags": []
          },
          "execution_count": 76
        }
      ]
    },
    {
      "cell_type": "code",
      "metadata": {
        "id": "za8rTMsMQzue",
        "colab": {
          "base_uri": "https://localhost:8080/",
          "height": 34
        },
        "outputId": "dd2db3a4-4165-47dd-f748-ea24c0e2f657"
      },
      "source": [
        "local is not name"
      ],
      "execution_count": null,
      "outputs": [
        {
          "output_type": "execute_result",
          "data": {
            "text/plain": [
              "False"
            ]
          },
          "metadata": {
            "tags": []
          },
          "execution_count": 78
        }
      ]
    },
    {
      "cell_type": "markdown",
      "metadata": {
        "id": "vFsC_kzIS25v"
      },
      "source": [
        "## String\n",
        "\n",
        "Reference [Python Strings](https://developers.google.com/edu/python/strings)"
      ]
    },
    {
      "cell_type": "markdown",
      "metadata": {
        "id": "wiDT6VAyTq8V"
      },
      "source": [
        "### Creating String in Python"
      ]
    },
    {
      "cell_type": "code",
      "metadata": {
        "id": "yTU79AJep72X",
        "colab": {
          "base_uri": "https://localhost:8080/",
          "height": 104
        },
        "outputId": "58643a94-05f1-4012-e8c4-eff81418e8fe"
      },
      "source": [
        "#Using single quotes  \n",
        "str1 = 'Hello \"Dev\" C'  \n",
        "print(str1)  \n",
        "#Using double quotes  \n",
        "str2 = \"Hello 'Dev' C\"  \n",
        "print(str2)  \n",
        "  \n",
        "#Using triple quotes  \n",
        "str3 = '''''Triple quotes are generally used for  \n",
        "    represent the multiline or \n",
        "    docstring'''   \n",
        "print(str3)  "
      ],
      "execution_count": null,
      "outputs": [
        {
          "output_type": "stream",
          "text": [
            "Hello \"Dev\" C\n",
            "Hello 'Dev' C\n",
            "''Triple quotes are generally used for  \n",
            "    represent the multiline or \n",
            "    docstring\n"
          ],
          "name": "stdout"
        }
      ]
    },
    {
      "cell_type": "markdown",
      "metadata": {
        "id": "_c4phxQ_UOB0"
      },
      "source": [
        "[Note:] String in python is **immutable**"
      ]
    },
    {
      "cell_type": "markdown",
      "metadata": {
        "id": "qX8e235yQx69"
      },
      "source": [
        "### Indexing\n",
        "\n",
        "![](https://lh3.googleusercontent.com/-WNOOzlAbmB4fdFdactyzZ0rd4eiw3fbQHjopYenkSVW-Nqt3QvjYHIW2SI04yn9tkXclQ8iia_Loi6H7gyP7iIROHAlppc-QT_9XPyPzUVJgxH3RWvxgixZQsh_n6g7AF5JxxnXt3zn83M5YbwFGbPodlWuuaOI-A5NW8YHl4UGxb0MrbNC_E2t40bhEl80BlKWZmPcL-oFHimsHZl8TnPhAxdfYYu8gahhtEkZotJSdmQRTcqj0QMf5-SHzAwp7fGnhhKEEDD2SKxg4nFhtgNSV_rVdXo8rxb9vj2u5g6O3eZXxnGtDrY5wsBTJgpDwnzHY4KGwnkxTWBRoYKH9sLjnBQgfgULUu9LiJHr90tmS1Mw4z4m_KzvVCB70q3jDLNoE370NJghhbWXhDUM4Abcq2J-pYAQvbaOyyUZJS6PLOp-58mRl6GTFOjMx7so6SSr_xHqeJJYxfYqDfnZ_gUe_AuokO8C52MJ5hQkMDWDiZ_VUahww7pmocku4fW-Hs2U6BL5qNeynb4h2jg7WXRl7dIEfG0qCLVPzCJwQY_lYka9t8mzJ8oLaOg25tPKdn03QyZA5cFaHqfpjNpVvbmWt3Kl2k3Sgvtm5YrjVVVBcG82Hqk2zBZmeW5dJ25-uV-774Fs3Sr0kR7aPQESSDYPIct79SXRqg=w269-h150-no)\n",
        "\n",
        "Like other languages, the indexing of the Python strings starts from 0."
      ]
    },
    {
      "cell_type": "code",
      "metadata": {
        "id": "ciGJ40dQUIoK",
        "colab": {
          "base_uri": "https://localhost:8080/",
          "height": 68
        },
        "outputId": "876fb1b4-c8f2-445d-b1c5-d933c08c17da"
      },
      "source": [
        "word = \"hello\"\n",
        "print(word[0])\n",
        "print(len(word))\n",
        "print(word + \" there\")"
      ],
      "execution_count": null,
      "outputs": [
        {
          "output_type": "stream",
          "text": [
            "h\n",
            "5\n",
            "hello there\n"
          ],
          "name": "stdout"
        }
      ]
    },
    {
      "cell_type": "markdown",
      "metadata": {
        "id": "XMBx4dbpVebD"
      },
      "source": [
        "Unlike Java, the '+' does not automatically convert numbers or other types to string form. The str() function converts values to a string form so they can be combined with other strings."
      ]
    },
    {
      "cell_type": "code",
      "metadata": {
        "id": "hMt7UW_NVg1z",
        "colab": {
          "base_uri": "https://localhost:8080/",
          "height": 35
        },
        "outputId": "b8aac61f-2238-4ac1-e3eb-18d228ebd811"
      },
      "source": [
        "  pi = 3.14\n",
        "  ##text = 'The value of pi is ' + pi      ## NO, does not work\n",
        "  text = 'The value of pi is '  + str(pi)  ## yes\n",
        "  text"
      ],
      "execution_count": null,
      "outputs": [
        {
          "output_type": "execute_result",
          "data": {
            "application/vnd.google.colaboratory.intrinsic": {
              "type": "string"
            },
            "text/plain": [
              "'The value of pi is 3.14'"
            ]
          },
          "metadata": {
            "tags": []
          },
          "execution_count": 89
        }
      ]
    },
    {
      "cell_type": "markdown",
      "metadata": {
        "id": "yEyeMZoTRq5a"
      },
      "source": [
        "### String Methods\n",
        "\n",
        "Reference [python.org string methods](https://docs.python.org/3/library/stdtypes.html#string-methods)"
      ]
    },
    {
      "cell_type": "code",
      "metadata": {
        "id": "YZWgrDqjV9Cw"
      },
      "source": [
        "string = \"  Hello Hanoi  \""
      ],
      "execution_count": null,
      "outputs": []
    },
    {
      "cell_type": "code",
      "metadata": {
        "id": "CjgTzLBLWImS",
        "colab": {
          "base_uri": "https://localhost:8080/",
          "height": 52
        },
        "outputId": "e906dc27-ab11-43d6-d540-7a5f759fdc73"
      },
      "source": [
        "print(string.lower())\n",
        "print(string.upper())"
      ],
      "execution_count": null,
      "outputs": [
        {
          "output_type": "stream",
          "text": [
            "  hello hanoi  \n",
            "  HELLO HANOI  \n"
          ],
          "name": "stdout"
        }
      ]
    },
    {
      "cell_type": "code",
      "metadata": {
        "id": "Di6f9nDyWIkJ",
        "colab": {
          "base_uri": "https://localhost:8080/",
          "height": 69
        },
        "outputId": "98b0962e-3afd-4f12-940e-3b6f58095dc3"
      },
      "source": [
        "print(string.rstrip())\n",
        "print(string.lstrip())\n",
        "\n",
        "#@markdown strip will returns a string with whitespace removed from the start and end\n",
        "print(string.strip())"
      ],
      "execution_count": null,
      "outputs": [
        {
          "output_type": "stream",
          "text": [
            "  Hello Hanoi\n",
            "Hello Hanoi  \n",
            "Hello Hanoi\n"
          ],
          "name": "stdout"
        }
      ]
    },
    {
      "cell_type": "code",
      "metadata": {
        "id": "wfPAr5WMWIgk",
        "colab": {
          "base_uri": "https://localhost:8080/",
          "height": 52
        },
        "outputId": "7aaff59a-2d25-4005-f490-be3e5b5db356"
      },
      "source": [
        "print(string.startswith(\"  \"))\n",
        "print(string.endswith(\"hello\"))"
      ],
      "execution_count": null,
      "outputs": [
        {
          "output_type": "stream",
          "text": [
            "True\n",
            "False\n"
          ],
          "name": "stdout"
        }
      ]
    },
    {
      "cell_type": "code",
      "metadata": {
        "id": "ybL-ZY6RWIXZ",
        "colab": {
          "base_uri": "https://localhost:8080/",
          "height": 35
        },
        "outputId": "d464b173-09f3-4808-8e20-610f74f4d0da"
      },
      "source": [
        "print(string.find(\"Hanoi\"))"
      ],
      "execution_count": null,
      "outputs": [
        {
          "output_type": "stream",
          "text": [
            "8\n"
          ],
          "name": "stdout"
        }
      ]
    },
    {
      "cell_type": "code",
      "metadata": {
        "id": "1ebTyKBsXAzQ",
        "colab": {
          "base_uri": "https://localhost:8080/",
          "height": 35
        },
        "outputId": "0397712f-0b83-412a-8e1e-7322af1a3479"
      },
      "source": [
        "print(string.replace('Hanoi', 'Danang'))"
      ],
      "execution_count": null,
      "outputs": [
        {
          "output_type": "stream",
          "text": [
            "  Hello Danang  \n"
          ],
          "name": "stdout"
        }
      ]
    },
    {
      "cell_type": "code",
      "metadata": {
        "id": "v4Z8rN_GXAxI",
        "colab": {
          "base_uri": "https://localhost:8080/",
          "height": 35
        },
        "outputId": "d4cbeeab-8306-40c8-9833-cc29522c20b4"
      },
      "source": [
        "print(string.split())"
      ],
      "execution_count": null,
      "outputs": [
        {
          "output_type": "stream",
          "text": [
            "['Hello', 'Hanoi']\n"
          ],
          "name": "stdout"
        }
      ]
    },
    {
      "cell_type": "code",
      "metadata": {
        "id": "dahL59OdXAtV",
        "colab": {
          "base_uri": "https://localhost:8080/",
          "height": 35
        },
        "outputId": "08a504d7-efa0-4c96-8f98-f145f057ef0b"
      },
      "source": [
        "print(' '.join(string.split()))"
      ],
      "execution_count": null,
      "outputs": [
        {
          "output_type": "stream",
          "text": [
            "Hello Hanoi\n"
          ],
          "name": "stdout"
        }
      ]
    },
    {
      "cell_type": "markdown",
      "metadata": {
        "id": "tJqtekaJXXZv"
      },
      "source": [
        "### Slices"
      ]
    },
    {
      "cell_type": "code",
      "metadata": {
        "id": "tb8aqYZrXxWH"
      },
      "source": [
        "word = \"hello\""
      ],
      "execution_count": null,
      "outputs": []
    },
    {
      "cell_type": "code",
      "metadata": {
        "id": "IGnMC0hBXliI",
        "colab": {
          "base_uri": "https://localhost:8080/",
          "height": 87
        },
        "outputId": "d58cce19-138b-4eb9-d970-14a4d68579cc"
      },
      "source": [
        "#@markdown - word[1:4] is 'ell' -- chars starting at index 1 and extending up to but not including index 4\n",
        "print(word[1:4:2]) \n",
        "#@markdown - word[1:] is 'ello' -- omitting either index defaults to the start or end of the string\n",
        "print(word[1:])\n",
        "#@markdown - word[:] is 'Hello' -- omitting both always gives us a copy of the whole thing (this is the pythonic way to copy a sequence like a string or list)\n",
        "print(word[:])\n",
        "#@markdown - word[1:100] is 'ello' -- an index that is too big is truncated down to the string length\n",
        "print(word[1:100])"
      ],
      "execution_count": null,
      "outputs": [
        {
          "output_type": "stream",
          "text": [
            "el\n",
            "ello\n",
            "hello\n",
            "ello\n"
          ],
          "name": "stdout"
        }
      ]
    },
    {
      "cell_type": "code",
      "metadata": {
        "id": "jzHm2kzRXlfp",
        "colab": {
          "base_uri": "https://localhost:8080/",
          "height": 87
        },
        "outputId": "0bb815f9-265a-4933-85b2-1094a6013530"
      },
      "source": [
        "print(word[-1])\n",
        "#@markdown - word[-1] is 'o' -- last char (1st from the end)\n",
        "print(word[-4])\n",
        "#@markdown - word[-4] is 'e' -- 4th from the end\n",
        "print(word[:-3])\n",
        "#@markdown - word[:-3] is 'He' -- going up to but not including the last 3 chars.\n",
        "print(word[-3:])\n",
        "#@markdown - word[-3:] is 'llo' -- starting with the 3rd char from the end and extending to the end of the string."
      ],
      "execution_count": null,
      "outputs": [
        {
          "output_type": "stream",
          "text": [
            "o\n",
            "e\n",
            "he\n",
            "llo\n"
          ],
          "name": "stdout"
        }
      ]
    },
    {
      "cell_type": "markdown",
      "metadata": {
        "id": "x0UumfDCZTPc"
      },
      "source": [
        "### String %\n",
        "\n",
        "Python has a printf()-like facility to put together a string. The % operator takes a printf-type format string on the left (%d int, %s string, %f/%g floating point), and the matching values in a tuple on the right (a tuple is made of values separated by commas, typically grouped inside parentheses):"
      ]
    },
    {
      "cell_type": "code",
      "metadata": {
        "id": "byJdUaTHXlcd",
        "colab": {
          "base_uri": "https://localhost:8080/",
          "height": 35
        },
        "outputId": "82d92398-98c4-4d55-e749-1cf8fe9555ac"
      },
      "source": [
        "# % operator\n",
        "text = \"%d little pigs come out, or I'll %s, and I'll %s, and I'll blow your %s down.\" % (3, 'huff', 'puff', 'house')\n",
        "text"
      ],
      "execution_count": null,
      "outputs": [
        {
          "output_type": "execute_result",
          "data": {
            "application/vnd.google.colaboratory.intrinsic": {
              "type": "string"
            },
            "text/plain": [
              "\"3 little pigs come out, or I'll huff, and I'll puff, and I'll blow your house down.\""
            ]
          },
          "metadata": {
            "tags": []
          },
          "execution_count": 109
        }
      ]
    },
    {
      "cell_type": "code",
      "metadata": {
        "id": "iOxrWYU-Zbx6",
        "colab": {
          "base_uri": "https://localhost:8080/",
          "height": 35
        },
        "outputId": "421d4d63-c783-4848-8499-71a10a064bb6"
      },
      "source": [
        "# Add parentheses to make the long line work:\n",
        "text = (\n",
        "    \"%d little pigs come out, or I'll %s, and I'll %s, and I'll blow your %s down.\"\n",
        "    % (3, 'huff', 'puff', 'house')\n",
        ")\n",
        "\n",
        "text"
      ],
      "execution_count": null,
      "outputs": [
        {
          "output_type": "execute_result",
          "data": {
            "application/vnd.google.colaboratory.intrinsic": {
              "type": "string"
            },
            "text/plain": [
              "\"3 little pigs come out, or I'll huff, and I'll puff, and I'll blow your house down.\""
            ]
          },
          "metadata": {
            "tags": []
          },
          "execution_count": 111
        }
      ]
    },
    {
      "cell_type": "code",
      "metadata": {
        "id": "XmduwkkgZbu3",
        "colab": {
          "base_uri": "https://localhost:8080/",
          "height": 35
        },
        "outputId": "1c00ba82-33cf-4924-dbbb-091a100d2a6a"
      },
      "source": [
        "# Split the line into chunks, which are concatenated automatically by Python\n",
        "text = (\n",
        "    \"%d little pigs come out, \"\n",
        "    \"or I'll %s, and I'll %s, \"\n",
        "    \"and I'll blow your %s down.\"\n",
        "    % (3, 'huff', 'puff', 'house')\n",
        ")\n",
        "text"
      ],
      "execution_count": null,
      "outputs": [
        {
          "output_type": "execute_result",
          "data": {
            "application/vnd.google.colaboratory.intrinsic": {
              "type": "string"
            },
            "text/plain": [
              "\"3 little pigs come out, or I'll huff, and I'll puff, and I'll blow your house down.\""
            ]
          },
          "metadata": {
            "tags": []
          },
          "execution_count": 112
        }
      ]
    },
    {
      "cell_type": "markdown",
      "metadata": {
        "id": "6F50excPZ3NI"
      },
      "source": [
        "String {}"
      ]
    },
    {
      "cell_type": "code",
      "metadata": {
        "id": "QA0Z4A20Z7VK",
        "colab": {
          "base_uri": "https://localhost:8080/",
          "height": 35
        },
        "outputId": "fcab7d01-11e6-46a9-be29-9ef45e326272"
      },
      "source": [
        "text = \"{0} little pigs come out, or I'll {1}, and I'll {2}, and I'll blow your {3} down.\".format(3, 'huff', 'puff', 'house')\n",
        "text"
      ],
      "execution_count": null,
      "outputs": [
        {
          "output_type": "execute_result",
          "data": {
            "application/vnd.google.colaboratory.intrinsic": {
              "type": "string"
            },
            "text/plain": [
              "\"3 little pigs come out, or I'll huff, and I'll puff, and I'll blow your house down.\""
            ]
          },
          "metadata": {
            "tags": []
          },
          "execution_count": 114
        }
      ]
    },
    {
      "cell_type": "code",
      "metadata": {
        "id": "rlUFMyz-ZboJ",
        "colab": {
          "base_uri": "https://localhost:8080/",
          "height": 35
        },
        "outputId": "bb8d7415-1efe-48ed-c06a-21c334fdadd8"
      },
      "source": [
        "num = 3\n",
        "name1 = 'huff'\n",
        "name2 = 'puff'\n",
        "name3 = 'house'\n",
        "\n",
        "text = f\"{num} little pigs come out, or I'll {name1}, and I'll {name2}, and I'll blow your {name3} down.\"\n",
        "text"
      ],
      "execution_count": null,
      "outputs": [
        {
          "output_type": "execute_result",
          "data": {
            "application/vnd.google.colaboratory.intrinsic": {
              "type": "string"
            },
            "text/plain": [
              "\"3 little pigs come out, or I'll huff, and I'll puff, and I'll blow your house down.\""
            ]
          },
          "metadata": {
            "tags": []
          },
          "execution_count": 115
        }
      ]
    },
    {
      "cell_type": "markdown",
      "metadata": {
        "id": "X5Lg5naLa_Ck"
      },
      "source": [
        "### Unicode"
      ]
    },
    {
      "cell_type": "code",
      "metadata": {
        "id": "lLinrhAva5Un",
        "colab": {
          "base_uri": "https://localhost:8080/",
          "height": 35
        },
        "outputId": "352e1445-61ca-425c-cf6e-330f221c5a6c"
      },
      "source": [
        "u_string = 'Việt Nam đẹp lắm ta ơi.'\n",
        "u_string"
      ],
      "execution_count": null,
      "outputs": [
        {
          "output_type": "execute_result",
          "data": {
            "application/vnd.google.colaboratory.intrinsic": {
              "type": "string"
            },
            "text/plain": [
              "'Việt Nam đẹp lắm ta ơi.'"
            ]
          },
          "metadata": {
            "tags": []
          },
          "execution_count": 119
        }
      ]
    },
    {
      "cell_type": "code",
      "metadata": {
        "id": "CrE3MNF_bCGj",
        "colab": {
          "base_uri": "https://localhost:8080/",
          "height": 34
        },
        "outputId": "668dd41f-bfdf-46da-845f-0c7b1c7acbfc"
      },
      "source": [
        "# Convert string unicode to bytes utf-8\n",
        "b = u_string.encode('utf-8')\n",
        "b"
      ],
      "execution_count": null,
      "outputs": [
        {
          "output_type": "execute_result",
          "data": {
            "text/plain": [
              "b'Vi\\xe1\\xbb\\x87t Nam \\xc4\\x91\\xe1\\xba\\xb9p l\\xe1\\xba\\xafm ta \\xc6\\xa1i.'"
            ]
          },
          "metadata": {
            "tags": []
          },
          "execution_count": 123
        }
      ]
    },
    {
      "cell_type": "code",
      "metadata": {
        "id": "uV27AUm9bHZc",
        "colab": {
          "base_uri": "https://localhost:8080/",
          "height": 35
        },
        "outputId": "6418a2b1-d727-4503-ce9b-c3a35e65174a"
      },
      "source": [
        "# Convert ngược lại từ encoded bytes thành chuỗi unicode\n",
        "u = b.decode('utf-8')\n",
        "u"
      ],
      "execution_count": null,
      "outputs": [
        {
          "output_type": "execute_result",
          "data": {
            "application/vnd.google.colaboratory.intrinsic": {
              "type": "string"
            },
            "text/plain": [
              "'Việt Nam đẹp lắm ta ơi.'"
            ]
          },
          "metadata": {
            "tags": []
          },
          "execution_count": 125
        }
      ]
    },
    {
      "cell_type": "markdown",
      "metadata": {
        "id": "FljWfACEccqe"
      },
      "source": [
        "## Tuple\n",
        "\n",
        "Python Tuple is used to store the sequence of immutable Python objects. The tuple is similar to lists since the value of the items stored in the list can be changed, whereas the tuple is immutable, and the value of the items stored in the tuple cannot be changed."
      ]
    },
    {
      "cell_type": "code",
      "metadata": {
        "id": "Pce3MqNjhlRT",
        "colab": {
          "base_uri": "https://localhost:8080/",
          "height": 68
        },
        "outputId": "ce4bab34-4d23-440b-aecc-4949c4c9a094"
      },
      "source": [
        "T1 = (101, \"Peter\", 22)    \n",
        "T2 = (\"Apple\", \"Banana\", \"Orange\")     \n",
        "T3 = 10,20,30,40,50  \n",
        "  \n",
        "print(type(T1))  \n",
        "print(type(T2))  \n",
        "print(type(T3))  "
      ],
      "execution_count": null,
      "outputs": [
        {
          "output_type": "stream",
          "text": [
            "<class 'tuple'>\n",
            "<class 'tuple'>\n",
            "<class 'tuple'>\n"
          ],
          "name": "stdout"
        }
      ]
    },
    {
      "cell_type": "markdown",
      "metadata": {
        "id": "t2R0eiiTcatr"
      },
      "source": [
        "## List\n",
        "\n",
        "A list in Python is used to store the sequence of various types of data. Python lists are mutable type its mean we can modify its element after it created. However, Python consists of six data-types that are capable to store the sequences, but the most common and reliable type is the list.\n",
        "\n",
        "A list can be defined as a collection of values or items of different types. The items in the list are separated with the comma (,) and enclosed with the square brackets []."
      ]
    },
    {
      "cell_type": "code",
      "metadata": {
        "id": "xCsyBetecnqA",
        "colab": {
          "base_uri": "https://localhost:8080/",
          "height": 34
        },
        "outputId": "9b762108-1b5e-4840-ac7d-f2e9e675f3cb"
      },
      "source": [
        "L1 = [\"John\", 102, \"USA\"]    \n",
        "L2 = [1, 2, 3, 4, 5, 6]\n",
        "\n",
        "print(type(L1))"
      ],
      "execution_count": null,
      "outputs": [
        {
          "output_type": "stream",
          "text": [
            "<class 'list'>\n"
          ],
          "name": "stdout"
        }
      ]
    },
    {
      "cell_type": "markdown",
      "metadata": {
        "id": "32kSAWkYiBfl"
      },
      "source": [
        "Updating List values"
      ]
    },
    {
      "cell_type": "code",
      "metadata": {
        "id": "wRhjucBecoJC",
        "colab": {
          "base_uri": "https://localhost:8080/",
          "height": 51
        },
        "outputId": "8a52e7d5-f346-464c-b3d7-ab36f052e088"
      },
      "source": [
        "print(L2)\n",
        "L2[3] = 7\n",
        "print(L2)"
      ],
      "execution_count": null,
      "outputs": [
        {
          "output_type": "stream",
          "text": [
            "[1, 2, 3, 4, 5, 6]\n",
            "[1, 2, 3, 7, 5, 6]\n"
          ],
          "name": "stdout"
        }
      ]
    },
    {
      "cell_type": "markdown",
      "metadata": {
        "id": "8y9v2DficjX9"
      },
      "source": [
        "## Set\n",
        "\n",
        "A Python set is the collection of the unordered items. Each element in the set must be unique, immutable, and the sets remove the duplicate elements. Sets are mutable which means we can modify it after its creation.\n",
        "\n",
        "Unlike other collections in Python, there is no index attached to the elements of the set, i.e., we cannot directly access any element of the set by the index. However, we can print them all together, or we can get the list of elements by looping through the set."
      ]
    },
    {
      "cell_type": "code",
      "metadata": {
        "id": "AT-DphpRcomB",
        "colab": {
          "base_uri": "https://localhost:8080/",
          "height": 51
        },
        "outputId": "29b9d5ba-9a7b-411f-bd2a-5fabc664904a"
      },
      "source": [
        "Days = {\"Monday\", \"Tuesday\", \"Wednesday\", \"Thursday\", \"Friday\", \"Saturday\", \"Sunday\"}    \n",
        "print(Days)    \n",
        "print(type(Days))    "
      ],
      "execution_count": null,
      "outputs": [
        {
          "output_type": "stream",
          "text": [
            "{'Thursday', 'Tuesday', 'Saturday', 'Friday', 'Monday', 'Sunday', 'Wednesday'}\n",
            "<class 'set'>\n"
          ],
          "name": "stdout"
        }
      ]
    },
    {
      "cell_type": "markdown",
      "metadata": {
        "id": "pVKrhKsuig7u"
      },
      "source": [
        "It can contain any type of element such as integer, float, tuple etc. But mutable elements (list, dictionary, set) can't be a member of set. Consider the following example."
      ]
    },
    {
      "cell_type": "code",
      "metadata": {
        "id": "T_MGwv9eigOs",
        "colab": {
          "base_uri": "https://localhost:8080/",
          "height": 231
        },
        "outputId": "1e1f431c-c345-4bc7-94c2-2b8e5f77b3b4"
      },
      "source": [
        "# Creating a set which have immutable elements  \n",
        "set1 = {1,2,3, \"code school\", 20.5, 14}  \n",
        "print(type(set1))  \n",
        "#Creating a set which have mutable element  \n",
        "set2 = {1,2,3,[\"code school\",4]}  \n",
        "print(type(set2))  "
      ],
      "execution_count": null,
      "outputs": [
        {
          "output_type": "stream",
          "text": [
            "<class 'set'>\n"
          ],
          "name": "stdout"
        },
        {
          "output_type": "error",
          "ename": "TypeError",
          "evalue": "ignored",
          "traceback": [
            "\u001b[0;31m---------------------------------------------------------------------------\u001b[0m",
            "\u001b[0;31mTypeError\u001b[0m                                 Traceback (most recent call last)",
            "\u001b[0;32m<ipython-input-131-d59137248436>\u001b[0m in \u001b[0;36m<module>\u001b[0;34m()\u001b[0m\n\u001b[1;32m      3\u001b[0m \u001b[0mprint\u001b[0m\u001b[0;34m(\u001b[0m\u001b[0mtype\u001b[0m\u001b[0;34m(\u001b[0m\u001b[0mset1\u001b[0m\u001b[0;34m)\u001b[0m\u001b[0;34m)\u001b[0m\u001b[0;34m\u001b[0m\u001b[0;34m\u001b[0m\u001b[0m\n\u001b[1;32m      4\u001b[0m \u001b[0;31m#Creating a set which have mutable element\u001b[0m\u001b[0;34m\u001b[0m\u001b[0;34m\u001b[0m\u001b[0;34m\u001b[0m\u001b[0m\n\u001b[0;32m----> 5\u001b[0;31m \u001b[0mset2\u001b[0m \u001b[0;34m=\u001b[0m \u001b[0;34m{\u001b[0m\u001b[0;36m1\u001b[0m\u001b[0;34m,\u001b[0m\u001b[0;36m2\u001b[0m\u001b[0;34m,\u001b[0m\u001b[0;36m3\u001b[0m\u001b[0;34m,\u001b[0m\u001b[0;34m[\u001b[0m\u001b[0;34m\"code school\"\u001b[0m\u001b[0;34m,\u001b[0m\u001b[0;36m4\u001b[0m\u001b[0;34m]\u001b[0m\u001b[0;34m}\u001b[0m\u001b[0;34m\u001b[0m\u001b[0;34m\u001b[0m\u001b[0m\n\u001b[0m\u001b[1;32m      6\u001b[0m \u001b[0mprint\u001b[0m\u001b[0;34m(\u001b[0m\u001b[0mtype\u001b[0m\u001b[0;34m(\u001b[0m\u001b[0mset2\u001b[0m\u001b[0;34m)\u001b[0m\u001b[0;34m)\u001b[0m\u001b[0;34m\u001b[0m\u001b[0;34m\u001b[0m\u001b[0m\n",
            "\u001b[0;31mTypeError\u001b[0m: unhashable type: 'list'"
          ]
        }
      ]
    },
    {
      "cell_type": "markdown",
      "metadata": {
        "id": "TYKQjD7Ycl1l"
      },
      "source": [
        "## Dictionary\n",
        "\n",
        "Python Dictionary is used to store the data in a key-value pair format. The dictionary is the data type in Python, which can simulate the real-life data arrangement where some specific value exists for some particular key. It is the mutable data-structure. The dictionary is defined into element Keys and values.\n",
        "\n",
        "- Keys must be a single element\n",
        "- Value can be any type such as list, tuple, integer, etc.\n",
        "\n",
        "In other words, we can say that a dictionary is the collection of key-value pairs where the value can be any Python object. In contrast, the keys are the immutable Python object, i.e., Numbers, string, or tuple."
      ]
    },
    {
      "cell_type": "code",
      "metadata": {
        "id": "GtB_oRnJbjuD"
      },
      "source": [
        "Employee = {\"Name\": \"John\", \"Age\": 29, \"salary\":25000,\"Company\":\"GOOGLE\"}    "
      ],
      "execution_count": null,
      "outputs": []
    },
    {
      "cell_type": "markdown",
      "metadata": {
        "id": "FIkNYS05i8bj"
      },
      "source": [
        "Adding dictionary values"
      ]
    },
    {
      "cell_type": "code",
      "metadata": {
        "id": "81xr23Cni1iX",
        "colab": {
          "base_uri": "https://localhost:8080/",
          "height": 204
        },
        "outputId": "f85ed531-9c93-484a-ec52-ada28fe0649e"
      },
      "source": [
        "# Creating an empty Dictionary   \n",
        "Dict = {}   \n",
        "print(\"Empty Dictionary: \")   \n",
        "print(Dict)   \n",
        "    \n",
        "# Adding elements to dictionary one at a time   \n",
        "Dict[0] = 'Peter'  \n",
        "Dict[2] = 'Joseph'  \n",
        "Dict[3] = 'Ricky'  \n",
        "print(\"\\nDictionary after adding 3 elements: \")   \n",
        "print(Dict)   \n",
        "    \n",
        "# Adding set of values    \n",
        "# with a single Key   \n",
        "# The Emp_ages doesn't exist to dictionary  \n",
        "Dict['Emp_ages'] = 20, 33, 24  \n",
        "print(\"\\nDictionary after adding 3 elements: \")   \n",
        "print(Dict)   \n",
        "    \n",
        "# Updating existing Key's Value   \n",
        "Dict[3] = 'JavaTpoint'  \n",
        "print(\"\\nUpdated key value: \")   \n",
        "print(Dict)    "
      ],
      "execution_count": null,
      "outputs": [
        {
          "output_type": "stream",
          "text": [
            "Empty Dictionary: \n",
            "{}\n",
            "\n",
            "Dictionary after adding 3 elements: \n",
            "{0: 'Peter', 2: 'Joseph', 3: 'Ricky'}\n",
            "\n",
            "Dictionary after adding 3 elements: \n",
            "{0: 'Peter', 2: 'Joseph', 3: 'Ricky', 'Emp_ages': (20, 33, 24)}\n",
            "\n",
            "Updated key value: \n",
            "{0: 'Peter', 2: 'Joseph', 3: 'JavaTpoint', 'Emp_ages': (20, 33, 24)}\n"
          ],
          "name": "stdout"
        }
      ]
    },
    {
      "cell_type": "code",
      "metadata": {
        "id": "80ckx-cKi_6S",
        "colab": {
          "base_uri": "https://localhost:8080/",
          "height": 187
        },
        "outputId": "9872f9da-8e19-4af3-e82f-9a3dddf9eaae"
      },
      "source": [
        "Employee = {\"Name\": \"John\", \"Age\": 29, \"salary\":25000,\"Company\":\"GOOGLE\"}    \n",
        "print(type(Employee))    \n",
        "print(\"printing Employee data .... \")    \n",
        "print(Employee)    \n",
        "print(\"Enter the details of the new employee....\");    \n",
        "Employee[\"Name\"] = input(\"Name: \");    \n",
        "Employee[\"Age\"] = int(input(\"Age: \"));    \n",
        "Employee[\"salary\"] = int(input(\"Salary: \"));    \n",
        "Employee[\"Company\"] = input(\"Company:\");    \n",
        "print(\"printing the new data\");    \n",
        "print(Employee)    "
      ],
      "execution_count": null,
      "outputs": [
        {
          "output_type": "stream",
          "text": [
            "<class 'dict'>\n",
            "printing Employee data .... \n",
            "{'Name': 'John', 'Age': 29, 'salary': 25000, 'Company': 'GOOGLE'}\n",
            "Enter the details of the new employee....\n",
            "Name: duy\n",
            "Age: 19\n",
            "Salary: 500\n",
            "Company:VNPT\n",
            "printing the new data\n",
            "{'Name': 'duy', 'Age': 19, 'salary': 500, 'Company': 'VNPT'}\n"
          ],
          "name": "stdout"
        }
      ]
    },
    {
      "cell_type": "markdown",
      "metadata": {
        "id": "cQdmamkIjUck"
      },
      "source": [
        "get a key unavailable"
      ]
    },
    {
      "cell_type": "code",
      "metadata": {
        "id": "TRrlSssGjUDV",
        "colab": {
          "base_uri": "https://localhost:8080/",
          "height": 35
        },
        "outputId": "d18e8b50-ff5f-4e6a-e973-070100832cde"
      },
      "source": [
        "Employee = {\"Name\": \"John\", \"Age\": 29, \"salary\":25000,\"Company\":\"GOOGLE\"} \n",
        "Employee.get(\"location\", \"Vietnam\")"
      ],
      "execution_count": null,
      "outputs": [
        {
          "output_type": "execute_result",
          "data": {
            "application/vnd.google.colaboratory.intrinsic": {
              "type": "string"
            },
            "text/plain": [
              "'Vietnam'"
            ]
          },
          "metadata": {
            "tags": []
          },
          "execution_count": 137
        }
      ]
    },
    {
      "cell_type": "markdown",
      "metadata": {
        "id": "FrZd0jinjK0X"
      },
      "source": [
        "Deleting elements using del keyword"
      ]
    },
    {
      "cell_type": "code",
      "metadata": {
        "id": "Y9hBEpbOjGtd",
        "colab": {
          "base_uri": "https://localhost:8080/",
          "height": 333
        },
        "outputId": "bef4c8a8-8b40-4fde-f3ad-45a0ae5d020e"
      },
      "source": [
        "Employee = {\"Name\": \"John\", \"Age\": 29, \"salary\":25000,\"Company\":\"GOOGLE\"}    \n",
        "print(type(Employee))    \n",
        "print(\"printing Employee data .... \")    \n",
        "print(Employee)    \n",
        "print(\"Deleting some of the employee data\")     \n",
        "del Employee[\"Name\"]    \n",
        "del Employee[\"Company\"]    \n",
        "print(\"printing the modified information \")    \n",
        "print(Employee)    \n",
        "print(\"Deleting the dictionary: Employee\");    \n",
        "del Employee    \n",
        "print(\"Lets try to print it again \");    \n",
        "print(Employee)    "
      ],
      "execution_count": null,
      "outputs": [
        {
          "output_type": "stream",
          "text": [
            "<class 'dict'>\n",
            "printing Employee data .... \n",
            "{'Name': 'John', 'Age': 29, 'salary': 25000, 'Company': 'GOOGLE'}\n",
            "Deleting some of the employee data\n",
            "printing the modified information \n",
            "{'Age': 29, 'salary': 25000}\n",
            "Deleting the dictionary: Employee\n",
            "Lets try to print it again \n"
          ],
          "name": "stdout"
        },
        {
          "output_type": "error",
          "ename": "NameError",
          "evalue": "ignored",
          "traceback": [
            "\u001b[0;31m---------------------------------------------------------------------------\u001b[0m",
            "\u001b[0;31mNameError\u001b[0m                                 Traceback (most recent call last)",
            "\u001b[0;32m<ipython-input-135-e3cd7b657183>\u001b[0m in \u001b[0;36m<module>\u001b[0;34m()\u001b[0m\n\u001b[1;32m     11\u001b[0m \u001b[0;32mdel\u001b[0m \u001b[0mEmployee\u001b[0m\u001b[0;34m\u001b[0m\u001b[0;34m\u001b[0m\u001b[0m\n\u001b[1;32m     12\u001b[0m \u001b[0mprint\u001b[0m\u001b[0;34m(\u001b[0m\u001b[0;34m\"Lets try to print it again \"\u001b[0m\u001b[0;34m)\u001b[0m\u001b[0;34m;\u001b[0m\u001b[0;34m\u001b[0m\u001b[0;34m\u001b[0m\u001b[0m\n\u001b[0;32m---> 13\u001b[0;31m \u001b[0mprint\u001b[0m\u001b[0;34m(\u001b[0m\u001b[0mEmployee\u001b[0m\u001b[0;34m)\u001b[0m\u001b[0;34m\u001b[0m\u001b[0;34m\u001b[0m\u001b[0m\n\u001b[0m",
            "\u001b[0;31mNameError\u001b[0m: name 'Employee' is not defined"
          ]
        }
      ]
    },
    {
      "cell_type": "markdown",
      "metadata": {
        "id": "fwjsmon5koWP"
      },
      "source": [
        "## Loop"
      ]
    },
    {
      "cell_type": "markdown",
      "metadata": {
        "id": "dClj2u3QkwZm"
      },
      "source": [
        "![Loop](https://lh3.googleusercontent.com/Gsy3gvhT5OUjqobdPrCDaNL7B7G8I57KfjTD-cvwZNKjhm0dcHQ1VTZESRnyR3SrbOHhJUrX8UBZ_EO1uJxq3Ddlnxkn6W7F6Nxe7xjqgcqOLfuSN50PSm2vWVIiXxc9z-f_950-cI-NSp5Jd7j592c1yJ9qJySifchPwTPmdzbW2pcQfq5ZE-y3b30pmK1sZGd1U_hh9CjiiFowARUopdY7cz9xkhFg5TGusIxYChZHRmiFqf8eOgZpEDLH-aPNTygyQnArbE61YmUPjzj5-XA2yiXfqfbtS7lzPkMnQOuE5HImeaXnOzEKuJnGGBLi66k22PslajI-_RjyCh_YKsohjThxT-ocK6cw4v6mdDb3qq4etGdRePkhB3a1rlI-7NT62yWphsmbi4OHP2WSOJjpGfblOB-Ezi5irhofUIQJbUHSBDiMQ-fCzZGeJt_6xCXlg-AulJD51CuTHDd4F-sf9QCigiTfFKy0bYriXIhwq_l1MwhUGqWZ5UAamrf1H_HsVVK3UTUfwJN41s40gaH8vMI9fFr2cDlcivRFk43WaK9Ik9Nri1vYr7OeB8_tIMjp6Br2AP_2xbkCXRlyrR_5vsjgkAjuc3dgbiLYLJ37rneo2FTs1R5V48mi85oQjTN3x_Gc_mjExIGoq3tjmMI1hHLRaBWehEb-1QlGsMYo9qa1hQr9LcHcqg=w450-h300-no)\n",
        "\n",
        "### While Loop"
      ]
    },
    {
      "cell_type": "code",
      "metadata": {
        "id": "_JiD8tpaknuI",
        "colab": {
          "base_uri": "https://localhost:8080/",
          "height": 102
        },
        "outputId": "3329294c-edea-447c-9a4e-8731beae5d6e"
      },
      "source": [
        "a = 1\n",
        "while a < 10:\n",
        "    print(a)\n",
        "    a += 2"
      ],
      "execution_count": null,
      "outputs": [
        {
          "output_type": "stream",
          "text": [
            "1\n",
            "3\n",
            "5\n",
            "7\n",
            "9\n"
          ],
          "name": "stdout"
        }
      ]
    },
    {
      "cell_type": "code",
      "metadata": {
        "id": "IcUD1Etzk8u9",
        "colab": {
          "base_uri": "https://localhost:8080/",
          "height": 85
        },
        "outputId": "59b3fc1b-92ee-4c1d-912e-dea84f6bb660"
      },
      "source": [
        "a = 0\n",
        "while a < 20:\n",
        "    if a % 5 == 0:\n",
        "        print (\"5 is one of %d factors\" %a)\n",
        "    a += 1"
      ],
      "execution_count": null,
      "outputs": [
        {
          "output_type": "stream",
          "text": [
            "5 is one of 0 factors\n",
            "5 is one of 5 factors\n",
            "5 is one of 10 factors\n",
            "5 is one of 15 factors\n"
          ],
          "name": "stdout"
        }
      ]
    },
    {
      "cell_type": "code",
      "metadata": {
        "id": "Tde91dtAk8r6",
        "colab": {
          "base_uri": "https://localhost:8080/",
          "height": 119
        },
        "outputId": "81a1daa5-9f1c-4fd2-eb10-a00f06387c70"
      },
      "source": [
        "names = [\"Hoàng\", \"Hòa\", \"Dương\", \"Hùng\", \"Ngọc\", \"Lâm\", \"Đạt\"]\n",
        "names_length = len(names)\n",
        "a = 0\n",
        "while a < names_length:\n",
        "    print(names[a])\n",
        "    if names[a] == \"Lâm\":\n",
        "        break\n",
        "    a += 1"
      ],
      "execution_count": null,
      "outputs": [
        {
          "output_type": "stream",
          "text": [
            "Hoàng\n",
            "Hòa\n",
            "Dương\n",
            "Hùng\n",
            "Ngọc\n",
            "Lâm\n"
          ],
          "name": "stdout"
        }
      ]
    },
    {
      "cell_type": "code",
      "metadata": {
        "id": "kJN12FLpk8oO",
        "colab": {
          "base_uri": "https://localhost:8080/",
          "height": 119
        },
        "outputId": "45bc71a9-ea95-4b28-f85d-5b44ee0d4aeb"
      },
      "source": [
        "a = 1\n",
        "while a < 10:\n",
        "    print(a)\n",
        "    a += 2\n",
        "else:\n",
        "    print(\"End while\")"
      ],
      "execution_count": null,
      "outputs": [
        {
          "output_type": "stream",
          "text": [
            "1\n",
            "3\n",
            "5\n",
            "7\n",
            "9\n",
            "End while\n"
          ],
          "name": "stdout"
        }
      ]
    },
    {
      "cell_type": "markdown",
      "metadata": {
        "id": "gqTXLSfxlVM2"
      },
      "source": [
        "### For in"
      ]
    },
    {
      "cell_type": "code",
      "metadata": {
        "id": "aGI0VE4xlTfy",
        "colab": {
          "base_uri": "https://localhost:8080/",
          "height": 136
        },
        "outputId": "89d7c7b7-a1d5-4e35-c287-30187b4f8275"
      },
      "source": [
        "office_stuffs = [\"Ballpoint Pen\", \"Pencil\", \"Glue Stick\", \"Erasor\", \"Pencil sharpener\", \"Stapler\", \"Scissors\"]\n",
        "\n",
        "for item in office_stuffs:\n",
        "    print (item)"
      ],
      "execution_count": null,
      "outputs": [
        {
          "output_type": "stream",
          "text": [
            "Ballpoint Pen\n",
            "Pencil\n",
            "Glue Stick\n",
            "Erasor\n",
            "Pencil sharpener\n",
            "Stapler\n",
            "Scissors\n"
          ],
          "name": "stdout"
        }
      ]
    },
    {
      "cell_type": "code",
      "metadata": {
        "id": "nYCvgFCSlTZr"
      },
      "source": [
        "other_stuffs = [\"Paper Clip\", \"Binder Clip\", \"Pushpin\", \"Sticky labels\", \"Ring Binder\"]\n",
        "for item in other_stuffs:\n",
        "    print (item)\n",
        "else:\n",
        "    print (\"End for loop\")"
      ],
      "execution_count": null,
      "outputs": []
    },
    {
      "cell_type": "code",
      "metadata": {
        "id": "uG074FTDXXfT"
      },
      "source": [
        ""
      ],
      "execution_count": null,
      "outputs": []
    },
    {
      "cell_type": "markdown",
      "metadata": {
        "id": "ZD3MN6TvlyTk"
      },
      "source": [
        "reference [Functions creating iterators for efficient looping](https://docs.python.org/3.8/library/itertools.html)"
      ]
    },
    {
      "cell_type": "markdown",
      "metadata": {
        "id": "l5T3IK5TmBg-"
      },
      "source": [
        "## Function\n",
        "\n",
        "Reference [Function](https://www.tutorialspoint.com/python/python_functions.htm)"
      ]
    },
    {
      "cell_type": "code",
      "metadata": {
        "id": "3f6t-_x2mAhk"
      },
      "source": [
        "def sayMyName(name):\n",
        "    print (\"Hi %s\"%name)"
      ],
      "execution_count": null,
      "outputs": []
    },
    {
      "cell_type": "code",
      "metadata": {
        "id": "UgO4r-K0mONS",
        "colab": {
          "base_uri": "https://localhost:8080/",
          "height": 34
        },
        "outputId": "cdb2886b-6663-4ba4-e3a0-343ad26d3eec"
      },
      "source": [
        "sayMyName(\"Ha\")"
      ],
      "execution_count": null,
      "outputs": [
        {
          "output_type": "stream",
          "text": [
            "Hi Ha\n"
          ],
          "name": "stdout"
        }
      ]
    },
    {
      "cell_type": "code",
      "metadata": {
        "id": "2TAE8h_lmQ7s",
        "colab": {
          "base_uri": "https://localhost:8080/",
          "height": 163
        },
        "outputId": "3c7a43e8-acfa-48c8-92c3-c92d0c062bf2"
      },
      "source": [
        "sayMyName()"
      ],
      "execution_count": null,
      "outputs": [
        {
          "output_type": "error",
          "ename": "TypeError",
          "evalue": "ignored",
          "traceback": [
            "\u001b[0;31m---------------------------------------------------------------------------\u001b[0m",
            "\u001b[0;31mTypeError\u001b[0m                                 Traceback (most recent call last)",
            "\u001b[0;32m<ipython-input-148-ed87f8d96eab>\u001b[0m in \u001b[0;36m<module>\u001b[0;34m()\u001b[0m\n\u001b[0;32m----> 1\u001b[0;31m \u001b[0msayMyName\u001b[0m\u001b[0;34m(\u001b[0m\u001b[0;34m)\u001b[0m\u001b[0;34m\u001b[0m\u001b[0;34m\u001b[0m\u001b[0m\n\u001b[0m",
            "\u001b[0;31mTypeError\u001b[0m: sayMyName() missing 1 required positional argument: 'name'"
          ]
        }
      ]
    },
    {
      "cell_type": "markdown",
      "metadata": {
        "id": "pZ7c0D1pmWdv"
      },
      "source": [
        "Function non input"
      ]
    },
    {
      "cell_type": "code",
      "metadata": {
        "id": "edg3meCTmWIk",
        "colab": {
          "base_uri": "https://localhost:8080/",
          "height": 34
        },
        "outputId": "a27c749e-f3d7-4835-c231-b79c11f07364"
      },
      "source": [
        "a = 1\n",
        "b = 3\n",
        "def sum_a_b():\n",
        "    return a + b\n",
        "sum_a_b()"
      ],
      "execution_count": null,
      "outputs": [
        {
          "output_type": "execute_result",
          "data": {
            "text/plain": [
              "4"
            ]
          },
          "metadata": {
            "tags": []
          },
          "execution_count": 149
        }
      ]
    },
    {
      "cell_type": "markdown",
      "metadata": {
        "id": "Jux8_YOomlNf"
      },
      "source": [
        "Function with input"
      ]
    },
    {
      "cell_type": "code",
      "metadata": {
        "id": "ZSvP3PWhmi6C"
      },
      "source": [
        "# ex 1\n",
        "\n",
        "def eat(name, food=\"fish\"):\n",
        "    print (\"%s eats %s regularly \"%(name, food))"
      ],
      "execution_count": null,
      "outputs": []
    },
    {
      "cell_type": "code",
      "metadata": {
        "id": "Y4MbvfGLmzff",
        "colab": {
          "base_uri": "https://localhost:8080/",
          "height": 34
        },
        "outputId": "256cb6e6-689c-4859-de39-8537c0a346cf"
      },
      "source": [
        "eat(\"duy\")"
      ],
      "execution_count": null,
      "outputs": [
        {
          "output_type": "stream",
          "text": [
            "duy eats fish regularly \n"
          ],
          "name": "stdout"
        }
      ]
    },
    {
      "cell_type": "code",
      "metadata": {
        "id": "vXBenH4Em2Ll",
        "colab": {
          "base_uri": "https://localhost:8080/",
          "height": 34
        },
        "outputId": "9bca2b99-cbff-4890-8c19-6176f7929fcb"
      },
      "source": [
        "eat(\"duy\", \"bean\")"
      ],
      "execution_count": null,
      "outputs": [
        {
          "output_type": "stream",
          "text": [
            "duy eats bean regularly \n"
          ],
          "name": "stdout"
        }
      ]
    },
    {
      "cell_type": "code",
      "metadata": {
        "id": "A78f-v5Nm5xI"
      },
      "source": [
        "# ex 2\n",
        "def like(name, *foods):\n",
        "    for food in foods:\n",
        "        print (\"%s likes %s\"%(name, food))\n"
      ],
      "execution_count": null,
      "outputs": []
    },
    {
      "cell_type": "code",
      "metadata": {
        "id": "oYyCQsOAm-8z"
      },
      "source": [
        "like(\"Duong\")"
      ],
      "execution_count": null,
      "outputs": []
    },
    {
      "cell_type": "code",
      "metadata": {
        "id": "qClFkm0inB-i",
        "colab": {
          "base_uri": "https://localhost:8080/",
          "height": 68
        },
        "outputId": "dc439811-9984-4cba-922c-041e1d558376"
      },
      "source": [
        "like(\"Ha\", \"cereal\", \"doughnut\", \"bagel\")"
      ],
      "execution_count": null,
      "outputs": [
        {
          "output_type": "stream",
          "text": [
            "Ha likes cereal\n",
            "Ha likes doughnut\n",
            "Ha likes bagel\n"
          ],
          "name": "stdout"
        }
      ]
    },
    {
      "cell_type": "markdown",
      "metadata": {
        "id": "9XWDuJRNnLcz"
      },
      "source": [
        "lambda function"
      ]
    },
    {
      "cell_type": "code",
      "metadata": {
        "id": "OQeY3_osnK7a"
      },
      "source": [
        "mul = lambda x, y: x * y"
      ],
      "execution_count": null,
      "outputs": []
    },
    {
      "cell_type": "code",
      "metadata": {
        "id": "yFWMuBlFnPqi",
        "colab": {
          "base_uri": "https://localhost:8080/",
          "height": 34
        },
        "outputId": "69874456-a34e-495b-8a11-78ebdfa9c1e9"
      },
      "source": [
        "mul(3,4)"
      ],
      "execution_count": null,
      "outputs": [
        {
          "output_type": "execute_result",
          "data": {
            "text/plain": [
              "12"
            ]
          },
          "metadata": {
            "tags": []
          },
          "execution_count": 157
        }
      ]
    },
    {
      "cell_type": "code",
      "metadata": {
        "id": "8mEB-qQInTG_"
      },
      "source": [
        "asia = lambda *teams: teams"
      ],
      "execution_count": null,
      "outputs": []
    },
    {
      "cell_type": "code",
      "metadata": {
        "id": "KxgtJHC5nTzp",
        "colab": {
          "base_uri": "https://localhost:8080/",
          "height": 34
        },
        "outputId": "a0dc3dc9-0251-445d-e098-5f3c1671f818"
      },
      "source": [
        "asia(\"Vietnam\", \"Singapore\")"
      ],
      "execution_count": null,
      "outputs": [
        {
          "output_type": "execute_result",
          "data": {
            "text/plain": [
              "('Vietnam', 'Singapore')"
            ]
          },
          "metadata": {
            "tags": []
          },
          "execution_count": 159
        }
      ]
    },
    {
      "cell_type": "markdown",
      "metadata": {
        "id": "BNbJ2zX8cVT_"
      },
      "source": [
        "## SQL"
      ]
    },
    {
      "cell_type": "markdown",
      "metadata": {
        "id": "82eFzK1yITu3"
      },
      "source": [
        "- SQL stands for Structured Query Language.\n",
        "- It is designed for managing data in a **relational database** management system (RDBMS).\n",
        "- It is pronounced as S-Q-L or sometime See-Qwell.\n",
        "- SQL is a database language, it is used for database creation, deletion, fetching rows, and modifying rows, etc.\n",
        "- SQL is based on relational algebra and tuple relational calculus."
      ]
    },
    {
      "cell_type": "markdown",
      "metadata": {
        "id": "9PI_cUDaIm4D"
      },
      "source": [
        "SQL is required:\n",
        "\n",
        "- To create new databases, tables and views\n",
        "- To insert records in a database\n",
        "- To update records in a database\n",
        "- To delete records from a database\n",
        "- To retrieve data from a database"
      ]
    },
    {
      "cell_type": "markdown",
      "metadata": {
        "id": "_g5vM43dI4ZX"
      },
      "source": [
        "### SQL Commands\n",
        "\n",
        "These are the some important SQL command:\n",
        "\n",
        "- SELECT: it extracts data from a database.\n",
        "- UPDATE: it updates data in database.\n",
        "- DELETE: it deletes data from database.\n",
        "- CREATE TABLE: it creates a new table.\n",
        "- ALTER TABLE: it is used to modify the table.\n",
        "- DROP TABLE: it deletes a table.\n",
        "- CREATE DATABASE: it creates a new database.\n",
        "- ALTER DATABASE: It is used to modify a database.\n",
        "- INSERT INTO: it inserts new data into a database.\n",
        "- CREATE INDEX: it is used to create an index (search key).\n",
        "- DROP INDEX: it deletes an index.\n"
      ]
    },
    {
      "cell_type": "markdown",
      "metadata": {
        "id": "QzW5E2_eGK49"
      },
      "source": [
        "### Connect to the database\n",
        "\n",
        "![](https://i.imgur.com/kCaiMK5.png)"
      ]
    },
    {
      "cell_type": "code",
      "metadata": {
        "id": "NNAq7qQyGLnc",
        "colab": {
          "base_uri": "https://localhost:8080/",
          "height": 228
        },
        "outputId": "74e5bab8-a1aa-4837-de63-20bd2af1737a"
      },
      "source": [
        "# Download database\n",
        "!wget https://ml101-khanhnguyen.s3-ap-southeast-1.amazonaws.com/devc/chinook.db"
      ],
      "execution_count": null,
      "outputs": [
        {
          "output_type": "stream",
          "text": [
            "--2020-07-01 13:21:31--  https://ml101-khanhnguyen.s3-ap-southeast-1.amazonaws.com/devc/chinook.db\n",
            "Resolving ml101-khanhnguyen.s3-ap-southeast-1.amazonaws.com (ml101-khanhnguyen.s3-ap-southeast-1.amazonaws.com)... 52.219.124.147\n",
            "Connecting to ml101-khanhnguyen.s3-ap-southeast-1.amazonaws.com (ml101-khanhnguyen.s3-ap-southeast-1.amazonaws.com)|52.219.124.147|:443... connected.\n",
            "HTTP request sent, awaiting response... 200 OK\n",
            "Length: 884736 (864K) [binary/octet-stream]\n",
            "Saving to: ‘chinook.db’\n",
            "\n",
            "\rchinook.db            0%[                    ]       0  --.-KB/s               \rchinook.db           24%[===>                ] 211.59K  1016KB/s               \rchinook.db          100%[===================>] 864.00K  3.21MB/s    in 0.3s    \n",
            "\n",
            "2020-07-01 13:21:31 (3.21 MB/s) - ‘chinook.db’ saved [884736/884736]\n",
            "\n"
          ],
          "name": "stdout"
        }
      ]
    },
    {
      "cell_type": "code",
      "metadata": {
        "id": "vhYLXes3GN-1"
      },
      "source": [
        "import sqlite3\n",
        "conn = sqlite3.connect('chinook.db')"
      ],
      "execution_count": null,
      "outputs": []
    },
    {
      "cell_type": "markdown",
      "metadata": {
        "id": "uq5aT-qmJ9Xn"
      },
      "source": [
        "### SELECT statement"
      ]
    },
    {
      "cell_type": "markdown",
      "metadata": {
        "id": "Z7RFBuUAJRMY"
      },
      "source": [
        "Given a table of data, the most basic query we could write would be one that selects for a couple columns (properties) of the table with all the rows (instances).\n",
        "\n",
        "```SQL\n",
        "SELECT \"column_name\" FROM \"table_name\";\n",
        "```\n",
        "If we want to retrieve absolutely all the columns of data from a table, we can then use the asterisk (*) shorthand in place of listing all the column names individually.\n",
        "\n",
        "```SQL\n",
        "SELECT * \n",
        "FROM table_name;\n",
        "```\n",
        "\n",
        "    "
      ]
    },
    {
      "cell_type": "code",
      "metadata": {
        "id": "RcWg8cTMGT8c",
        "colab": {
          "base_uri": "https://localhost:8080/",
          "height": 393
        },
        "outputId": "1342d087-d5be-4ba1-9900-f6c2adda88de"
      },
      "source": [
        "import pandas as pd\n",
        "data = pd.read_sql_query('SELECT * FROM tracks;', conn)\n",
        "data.head() "
      ],
      "execution_count": null,
      "outputs": [
        {
          "output_type": "execute_result",
          "data": {
            "text/html": [
              "<div>\n",
              "<style scoped>\n",
              "    .dataframe tbody tr th:only-of-type {\n",
              "        vertical-align: middle;\n",
              "    }\n",
              "\n",
              "    .dataframe tbody tr th {\n",
              "        vertical-align: top;\n",
              "    }\n",
              "\n",
              "    .dataframe thead th {\n",
              "        text-align: right;\n",
              "    }\n",
              "</style>\n",
              "<table border=\"1\" class=\"dataframe\">\n",
              "  <thead>\n",
              "    <tr style=\"text-align: right;\">\n",
              "      <th></th>\n",
              "      <th>TrackId</th>\n",
              "      <th>Name</th>\n",
              "      <th>AlbumId</th>\n",
              "      <th>MediaTypeId</th>\n",
              "      <th>GenreId</th>\n",
              "      <th>Composer</th>\n",
              "      <th>Milliseconds</th>\n",
              "      <th>Bytes</th>\n",
              "      <th>UnitPrice</th>\n",
              "    </tr>\n",
              "  </thead>\n",
              "  <tbody>\n",
              "    <tr>\n",
              "      <th>0</th>\n",
              "      <td>1</td>\n",
              "      <td>For Those About To Rock (We Salute You)</td>\n",
              "      <td>1</td>\n",
              "      <td>1</td>\n",
              "      <td>1</td>\n",
              "      <td>Angus Young, Malcolm Young, Brian Johnson</td>\n",
              "      <td>343719</td>\n",
              "      <td>11170334</td>\n",
              "      <td>0.99</td>\n",
              "    </tr>\n",
              "    <tr>\n",
              "      <th>1</th>\n",
              "      <td>2</td>\n",
              "      <td>Balls to the Wall</td>\n",
              "      <td>2</td>\n",
              "      <td>2</td>\n",
              "      <td>1</td>\n",
              "      <td>None</td>\n",
              "      <td>342562</td>\n",
              "      <td>5510424</td>\n",
              "      <td>0.99</td>\n",
              "    </tr>\n",
              "    <tr>\n",
              "      <th>2</th>\n",
              "      <td>3</td>\n",
              "      <td>Fast As a Shark</td>\n",
              "      <td>3</td>\n",
              "      <td>2</td>\n",
              "      <td>1</td>\n",
              "      <td>F. Baltes, S. Kaufman, U. Dirkscneider &amp; W. Ho...</td>\n",
              "      <td>230619</td>\n",
              "      <td>3990994</td>\n",
              "      <td>0.99</td>\n",
              "    </tr>\n",
              "    <tr>\n",
              "      <th>3</th>\n",
              "      <td>4</td>\n",
              "      <td>Restless and Wild</td>\n",
              "      <td>3</td>\n",
              "      <td>2</td>\n",
              "      <td>1</td>\n",
              "      <td>F. Baltes, R.A. Smith-Diesel, S. Kaufman, U. D...</td>\n",
              "      <td>252051</td>\n",
              "      <td>4331779</td>\n",
              "      <td>0.99</td>\n",
              "    </tr>\n",
              "    <tr>\n",
              "      <th>4</th>\n",
              "      <td>5</td>\n",
              "      <td>Princess of the Dawn</td>\n",
              "      <td>3</td>\n",
              "      <td>2</td>\n",
              "      <td>1</td>\n",
              "      <td>Deaffy &amp; R.A. Smith-Diesel</td>\n",
              "      <td>375418</td>\n",
              "      <td>6290521</td>\n",
              "      <td>0.99</td>\n",
              "    </tr>\n",
              "  </tbody>\n",
              "</table>\n",
              "</div>"
            ],
            "text/plain": [
              "   TrackId                                     Name  ...     Bytes  UnitPrice\n",
              "0        1  For Those About To Rock (We Salute You)  ...  11170334       0.99\n",
              "1        2                        Balls to the Wall  ...   5510424       0.99\n",
              "2        3                          Fast As a Shark  ...   3990994       0.99\n",
              "3        4                        Restless and Wild  ...   4331779       0.99\n",
              "4        5                     Princess of the Dawn  ...   6290521       0.99\n",
              "\n",
              "[5 rows x 9 columns]"
            ]
          },
          "metadata": {
            "tags": []
          },
          "execution_count": 20
        }
      ]
    },
    {
      "cell_type": "markdown",
      "metadata": {
        "id": "nf-o7BS3J_4P"
      },
      "source": [
        "#### Optional clauses in SELECT statement\n",
        "\n",
        "There are some optional clauses in SELECT statement:\n",
        "\n",
        "- [WHERE Clause] : It specifies which rows to retrieve.\n",
        "- [ORDER BY Clause] : It specifies an order in which to return the rows.\n",
        "- [GROUP BY Clause] : Groups rows that share a property so that the aggregate function can be applied to each group.\n",
        "- [HAVING Clause] : It selects among the groups defined by the GROUP BY clause.\n"
      ]
    },
    {
      "cell_type": "markdown",
      "metadata": {
        "id": "UzfGJcY1Krw0"
      },
      "source": [
        "##### Queries with contraints"
      ]
    },
    {
      "cell_type": "markdown",
      "metadata": {
        "id": "2l4hu78JKzME"
      },
      "source": [
        "WHERE clause is used in SELECT, UPDATE, DELETE statement etc.\n",
        "\n",
        "```sql\n",
        "    SELECT column1, column 2, ... column n  \n",
        "    FROM   table_name  \n",
        "    WHERE  [conditions]  \n",
        "```\n",
        "\n",
        "Below are some useful operators that you can use for numerical data (ie. integer or floating point)\n",
        "\n",
        "| Operator | Condition | SQL Example |\n",
        "|:--------------:|:---------------:|:----------------------:|\n",
        "| =, !=, < <=, >, >= | Standard numerical operators\t| col_name != 4 |\n",
        "| **BETWEEN** … **AND** …\t| Number is within range of two values (inclusive) |\tcol_name **BETWEEN** 1.5 **AND** 10.5 |\n",
        "| **NOT BETWEEN** … **AND** …\t| Number is not within range of two values (inclusive) |\tcol_name **NOT BETWEEN** 1 **AND** 10 |\n",
        "| **IN** (…)\t| Number exists in a list\t| col_name **IN** (2, 4, 6) |\n",
        "| **NOT IN** (…) |\tNumber does not exist in a list |\tcol_name **NOT IN** (1, 3, 5) |\n",
        "\n",
        "When writing WHERE clauses with columns containing text data, SQL supports a number of useful operators to do things like case-insensitive string comparison and wildcard pattern matching. Below is a few common text-data specific operators:\n",
        "\n",
        "| Operator | Condition | SQL Example |\n",
        "|:--------------:|:---------------:|:----------------------:|\n",
        "| = |\tCase sensitive exact string comparison (notice the single equals) |\tcol_name = \"abc\" |\n",
        "| != or <>\t| Case sensitive exact string inequality comparison\t| col_name != \"abcd\" |\n",
        "| **LIKE**\t| Case insensitive exact string comparison\t| col_name **LIKE** \"ABC\" |\n",
        "| **NOT LIKE**\t| Case insensitive exact string inequality comparison\t| col_name **NOT LIKE** \"ABCD\" |\n",
        "| %\t| Used anywhere in a string to match a sequence of zero or more characters (only with **LIKE** or **NOT LIKE**)\t| col_name **LIKE** \"%AT%\" (matches \"AT\", \"ATTIC\", \"CAT\" or even \"BATS\") |\n",
        "| _\t| Used anywhere in a string to match a single character (only with **LIKE** or **NOT LIKE**)\t| col_name **LIKE** \"AN_\" (matches \"AND\", but not \"AN\") |\n",
        "| **IN** (…) | String exists in a list\t| col_name **IN** (\"A\", \"B\", \"C\") |\n",
        "| **NOT IN** (…) | String does not exist in a list\t| col_name **NOT IN** (\"D\", \"E\", \"F\") |"
      ]
    },
    {
      "cell_type": "code",
      "metadata": {
        "id": "GCPH44w_GZAI",
        "colab": {
          "base_uri": "https://localhost:8080/",
          "height": 326
        },
        "outputId": "f113a0d5-a08a-41dd-bff3-26c469856bf8"
      },
      "source": [
        "pd.read_sql_query('SELECT * FROM tracks;',conn).sample(5)"
      ],
      "execution_count": null,
      "outputs": [
        {
          "output_type": "execute_result",
          "data": {
            "text/html": [
              "<div>\n",
              "<style scoped>\n",
              "    .dataframe tbody tr th:only-of-type {\n",
              "        vertical-align: middle;\n",
              "    }\n",
              "\n",
              "    .dataframe tbody tr th {\n",
              "        vertical-align: top;\n",
              "    }\n",
              "\n",
              "    .dataframe thead th {\n",
              "        text-align: right;\n",
              "    }\n",
              "</style>\n",
              "<table border=\"1\" class=\"dataframe\">\n",
              "  <thead>\n",
              "    <tr style=\"text-align: right;\">\n",
              "      <th></th>\n",
              "      <th>TrackId</th>\n",
              "      <th>Name</th>\n",
              "      <th>AlbumId</th>\n",
              "      <th>MediaTypeId</th>\n",
              "      <th>GenreId</th>\n",
              "      <th>Composer</th>\n",
              "      <th>Milliseconds</th>\n",
              "      <th>Bytes</th>\n",
              "      <th>UnitPrice</th>\n",
              "    </tr>\n",
              "  </thead>\n",
              "  <tbody>\n",
              "    <tr>\n",
              "      <th>303</th>\n",
              "      <td>304</td>\n",
              "      <td>Firmamento</td>\n",
              "      <td>27</td>\n",
              "      <td>1</td>\n",
              "      <td>8</td>\n",
              "      <td>Harry Lawes/Winston Foster-Vers</td>\n",
              "      <td>225488</td>\n",
              "      <td>7507866</td>\n",
              "      <td>0.99</td>\n",
              "    </tr>\n",
              "    <tr>\n",
              "      <th>256</th>\n",
              "      <td>257</td>\n",
              "      <td>Manguetown</td>\n",
              "      <td>24</td>\n",
              "      <td>1</td>\n",
              "      <td>7</td>\n",
              "      <td>Chico Science</td>\n",
              "      <td>194560</td>\n",
              "      <td>6475159</td>\n",
              "      <td>0.99</td>\n",
              "    </tr>\n",
              "    <tr>\n",
              "      <th>328</th>\n",
              "      <td>329</td>\n",
              "      <td>Garotas do Brasil</td>\n",
              "      <td>29</td>\n",
              "      <td>1</td>\n",
              "      <td>9</td>\n",
              "      <td>Garay, Ricardo Engels/Luca Predabom/Ludwig, Ca...</td>\n",
              "      <td>210155</td>\n",
              "      <td>6973625</td>\n",
              "      <td>0.99</td>\n",
              "    </tr>\n",
              "    <tr>\n",
              "      <th>2320</th>\n",
              "      <td>2321</td>\n",
              "      <td>Talk About The Passion</td>\n",
              "      <td>190</td>\n",
              "      <td>1</td>\n",
              "      <td>4</td>\n",
              "      <td>R.E.M.</td>\n",
              "      <td>203206</td>\n",
              "      <td>6725435</td>\n",
              "      <td>0.99</td>\n",
              "    </tr>\n",
              "    <tr>\n",
              "      <th>2728</th>\n",
              "      <td>2729</td>\n",
              "      <td>Emerald</td>\n",
              "      <td>220</td>\n",
              "      <td>1</td>\n",
              "      <td>4</td>\n",
              "      <td>The Tea Party</td>\n",
              "      <td>289750</td>\n",
              "      <td>9543789</td>\n",
              "      <td>0.99</td>\n",
              "    </tr>\n",
              "  </tbody>\n",
              "</table>\n",
              "</div>"
            ],
            "text/plain": [
              "      TrackId                    Name  ...    Bytes  UnitPrice\n",
              "303       304              Firmamento  ...  7507866       0.99\n",
              "256       257              Manguetown  ...  6475159       0.99\n",
              "328       329       Garotas do Brasil  ...  6973625       0.99\n",
              "2320     2321  Talk About The Passion  ...  6725435       0.99\n",
              "2728     2729                 Emerald  ...  9543789       0.99\n",
              "\n",
              "[5 rows x 9 columns]"
            ]
          },
          "metadata": {
            "tags": []
          },
          "execution_count": 22
        }
      ]
    },
    {
      "cell_type": "markdown",
      "metadata": {
        "id": "QW6MbCozMD_o"
      },
      "source": [
        "###### AND condition"
      ]
    },
    {
      "cell_type": "code",
      "metadata": {
        "id": "CqVvMayZLUkZ",
        "colab": {
          "base_uri": "https://localhost:8080/",
          "height": 262
        },
        "outputId": "c4469092-8442-4d84-f0f3-96fadde8e7e5"
      },
      "source": [
        "query = '''\n",
        "    SELECT * FROM tracks\n",
        "    WHERE AlbumId = 3 AND UnitPrice > 0.98;\n",
        "'''\n",
        "\n",
        "pd.read_sql_query(query,conn).head()"
      ],
      "execution_count": null,
      "outputs": [
        {
          "output_type": "execute_result",
          "data": {
            "text/html": [
              "<div>\n",
              "<style scoped>\n",
              "    .dataframe tbody tr th:only-of-type {\n",
              "        vertical-align: middle;\n",
              "    }\n",
              "\n",
              "    .dataframe tbody tr th {\n",
              "        vertical-align: top;\n",
              "    }\n",
              "\n",
              "    .dataframe thead th {\n",
              "        text-align: right;\n",
              "    }\n",
              "</style>\n",
              "<table border=\"1\" class=\"dataframe\">\n",
              "  <thead>\n",
              "    <tr style=\"text-align: right;\">\n",
              "      <th></th>\n",
              "      <th>TrackId</th>\n",
              "      <th>Name</th>\n",
              "      <th>AlbumId</th>\n",
              "      <th>MediaTypeId</th>\n",
              "      <th>GenreId</th>\n",
              "      <th>Composer</th>\n",
              "      <th>Milliseconds</th>\n",
              "      <th>Bytes</th>\n",
              "      <th>UnitPrice</th>\n",
              "    </tr>\n",
              "  </thead>\n",
              "  <tbody>\n",
              "    <tr>\n",
              "      <th>0</th>\n",
              "      <td>3</td>\n",
              "      <td>Fast As a Shark</td>\n",
              "      <td>3</td>\n",
              "      <td>2</td>\n",
              "      <td>1</td>\n",
              "      <td>F. Baltes, S. Kaufman, U. Dirkscneider &amp; W. Ho...</td>\n",
              "      <td>230619</td>\n",
              "      <td>3990994</td>\n",
              "      <td>0.99</td>\n",
              "    </tr>\n",
              "    <tr>\n",
              "      <th>1</th>\n",
              "      <td>4</td>\n",
              "      <td>Restless and Wild</td>\n",
              "      <td>3</td>\n",
              "      <td>2</td>\n",
              "      <td>1</td>\n",
              "      <td>F. Baltes, R.A. Smith-Diesel, S. Kaufman, U. D...</td>\n",
              "      <td>252051</td>\n",
              "      <td>4331779</td>\n",
              "      <td>0.99</td>\n",
              "    </tr>\n",
              "    <tr>\n",
              "      <th>2</th>\n",
              "      <td>5</td>\n",
              "      <td>Princess of the Dawn</td>\n",
              "      <td>3</td>\n",
              "      <td>2</td>\n",
              "      <td>1</td>\n",
              "      <td>Deaffy &amp; R.A. Smith-Diesel</td>\n",
              "      <td>375418</td>\n",
              "      <td>6290521</td>\n",
              "      <td>0.99</td>\n",
              "    </tr>\n",
              "  </tbody>\n",
              "</table>\n",
              "</div>"
            ],
            "text/plain": [
              "   TrackId                  Name  AlbumId  ...  Milliseconds    Bytes UnitPrice\n",
              "0        3       Fast As a Shark        3  ...        230619  3990994      0.99\n",
              "1        4     Restless and Wild        3  ...        252051  4331779      0.99\n",
              "2        5  Princess of the Dawn        3  ...        375418  6290521      0.99\n",
              "\n",
              "[3 rows x 9 columns]"
            ]
          },
          "metadata": {
            "tags": []
          },
          "execution_count": 23
        }
      ]
    },
    {
      "cell_type": "markdown",
      "metadata": {
        "id": "DGiHLJyyQgcq"
      },
      "source": [
        "##### Filtering and Sorting query results"
      ]
    },
    {
      "cell_type": "markdown",
      "metadata": {
        "id": "4grW_Vs3Qshv"
      },
      "source": [
        "The SQL ORDER BY clause is used for sorting data in ascending and descending order based on one or more columns.\n",
        "\n",
        "Some databases sort query results in ascending order by default.\n",
        "\n",
        "```sql\n",
        "    SELECT expressions  \n",
        "    FROM tables  \n",
        "    WHERE conditions  \n",
        "    ORDER BY expression [ASC | DESC];\n",
        "```"
      ]
    },
    {
      "cell_type": "code",
      "metadata": {
        "id": "J4BOCw1AQnSj",
        "colab": {
          "base_uri": "https://localhost:8080/",
          "height": 204
        },
        "outputId": "7ab1d8ef-4768-4143-a474-34771bc77088"
      },
      "source": [
        "query = '''\n",
        "    SELECT * FROM invoices\n",
        "    ORDER BY Total DESC;\n",
        "'''\n",
        "\n",
        "pd.read_sql_query(query,conn).head()"
      ],
      "execution_count": null,
      "outputs": [
        {
          "output_type": "execute_result",
          "data": {
            "text/html": [
              "<div>\n",
              "<style scoped>\n",
              "    .dataframe tbody tr th:only-of-type {\n",
              "        vertical-align: middle;\n",
              "    }\n",
              "\n",
              "    .dataframe tbody tr th {\n",
              "        vertical-align: top;\n",
              "    }\n",
              "\n",
              "    .dataframe thead th {\n",
              "        text-align: right;\n",
              "    }\n",
              "</style>\n",
              "<table border=\"1\" class=\"dataframe\">\n",
              "  <thead>\n",
              "    <tr style=\"text-align: right;\">\n",
              "      <th></th>\n",
              "      <th>InvoiceId</th>\n",
              "      <th>CustomerId</th>\n",
              "      <th>InvoiceDate</th>\n",
              "      <th>BillingAddress</th>\n",
              "      <th>BillingCity</th>\n",
              "      <th>BillingState</th>\n",
              "      <th>BillingCountry</th>\n",
              "      <th>BillingPostalCode</th>\n",
              "      <th>Total</th>\n",
              "    </tr>\n",
              "  </thead>\n",
              "  <tbody>\n",
              "    <tr>\n",
              "      <th>0</th>\n",
              "      <td>404</td>\n",
              "      <td>6</td>\n",
              "      <td>2013-11-13 00:00:00</td>\n",
              "      <td>Rilská 3174/6</td>\n",
              "      <td>Prague</td>\n",
              "      <td>None</td>\n",
              "      <td>Czech Republic</td>\n",
              "      <td>14300</td>\n",
              "      <td>25.86</td>\n",
              "    </tr>\n",
              "    <tr>\n",
              "      <th>1</th>\n",
              "      <td>299</td>\n",
              "      <td>26</td>\n",
              "      <td>2012-08-05 00:00:00</td>\n",
              "      <td>2211 W Berry Street</td>\n",
              "      <td>Fort Worth</td>\n",
              "      <td>TX</td>\n",
              "      <td>USA</td>\n",
              "      <td>76110</td>\n",
              "      <td>23.86</td>\n",
              "    </tr>\n",
              "    <tr>\n",
              "      <th>2</th>\n",
              "      <td>96</td>\n",
              "      <td>45</td>\n",
              "      <td>2010-02-18 00:00:00</td>\n",
              "      <td>Erzsébet krt. 58.</td>\n",
              "      <td>Budapest</td>\n",
              "      <td>None</td>\n",
              "      <td>Hungary</td>\n",
              "      <td>H-1073</td>\n",
              "      <td>21.86</td>\n",
              "    </tr>\n",
              "    <tr>\n",
              "      <th>3</th>\n",
              "      <td>194</td>\n",
              "      <td>46</td>\n",
              "      <td>2011-04-28 00:00:00</td>\n",
              "      <td>3 Chatham Street</td>\n",
              "      <td>Dublin</td>\n",
              "      <td>Dublin</td>\n",
              "      <td>Ireland</td>\n",
              "      <td>None</td>\n",
              "      <td>21.86</td>\n",
              "    </tr>\n",
              "    <tr>\n",
              "      <th>4</th>\n",
              "      <td>89</td>\n",
              "      <td>7</td>\n",
              "      <td>2010-01-18 00:00:00</td>\n",
              "      <td>Rotenturmstraße 4, 1010 Innere Stadt</td>\n",
              "      <td>Vienne</td>\n",
              "      <td>None</td>\n",
              "      <td>Austria</td>\n",
              "      <td>1010</td>\n",
              "      <td>18.86</td>\n",
              "    </tr>\n",
              "  </tbody>\n",
              "</table>\n",
              "</div>"
            ],
            "text/plain": [
              "   InvoiceId  CustomerId  ... BillingPostalCode  Total\n",
              "0        404           6  ...             14300  25.86\n",
              "1        299          26  ...             76110  23.86\n",
              "2         96          45  ...            H-1073  21.86\n",
              "3        194          46  ...              None  21.86\n",
              "4         89           7  ...              1010  18.86\n",
              "\n",
              "[5 rows x 9 columns]"
            ]
          },
          "metadata": {
            "tags": []
          },
          "execution_count": 46
        }
      ]
    },
    {
      "cell_type": "markdown",
      "metadata": {
        "id": "xEe0CksYSobN"
      },
      "source": [
        "Another clause which is commonly used with the **ORDER BY** clause are the **LIMIT** and **OFFSET** clauses, which are a useful optimization to indicate to the database the subset of the results you care about.\n",
        "The **LIMIT** will reduce the number of rows to return, and the optional **OFFSET** will specify where to begin counting the number rows from.\n",
        "\n",
        "```\n",
        "SELECT column, another_column, …\n",
        "FROM mytable\n",
        "WHERE condition(s)\n",
        "ORDER BY column ASC/DESC\n",
        "LIMIT num_limit OFFSET num_offset;\n",
        "```"
      ]
    },
    {
      "cell_type": "code",
      "metadata": {
        "id": "timuvdeWQnPY",
        "colab": {
          "base_uri": "https://localhost:8080/",
          "height": 204
        },
        "outputId": "e33868c4-7999-407b-9e20-b87083503fa0"
      },
      "source": [
        "query = '''\n",
        "    SELECT * FROM invoices\n",
        "    ORDER BY Total DESC\n",
        "    LIMIT 5;\n",
        "'''\n",
        "\n",
        "pd.read_sql_query(query,conn)"
      ],
      "execution_count": null,
      "outputs": [
        {
          "output_type": "execute_result",
          "data": {
            "text/html": [
              "<div>\n",
              "<style scoped>\n",
              "    .dataframe tbody tr th:only-of-type {\n",
              "        vertical-align: middle;\n",
              "    }\n",
              "\n",
              "    .dataframe tbody tr th {\n",
              "        vertical-align: top;\n",
              "    }\n",
              "\n",
              "    .dataframe thead th {\n",
              "        text-align: right;\n",
              "    }\n",
              "</style>\n",
              "<table border=\"1\" class=\"dataframe\">\n",
              "  <thead>\n",
              "    <tr style=\"text-align: right;\">\n",
              "      <th></th>\n",
              "      <th>InvoiceId</th>\n",
              "      <th>CustomerId</th>\n",
              "      <th>InvoiceDate</th>\n",
              "      <th>BillingAddress</th>\n",
              "      <th>BillingCity</th>\n",
              "      <th>BillingState</th>\n",
              "      <th>BillingCountry</th>\n",
              "      <th>BillingPostalCode</th>\n",
              "      <th>Total</th>\n",
              "    </tr>\n",
              "  </thead>\n",
              "  <tbody>\n",
              "    <tr>\n",
              "      <th>0</th>\n",
              "      <td>404</td>\n",
              "      <td>6</td>\n",
              "      <td>2013-11-13 00:00:00</td>\n",
              "      <td>Rilská 3174/6</td>\n",
              "      <td>Prague</td>\n",
              "      <td>None</td>\n",
              "      <td>Czech Republic</td>\n",
              "      <td>14300</td>\n",
              "      <td>25.86</td>\n",
              "    </tr>\n",
              "    <tr>\n",
              "      <th>1</th>\n",
              "      <td>299</td>\n",
              "      <td>26</td>\n",
              "      <td>2012-08-05 00:00:00</td>\n",
              "      <td>2211 W Berry Street</td>\n",
              "      <td>Fort Worth</td>\n",
              "      <td>TX</td>\n",
              "      <td>USA</td>\n",
              "      <td>76110</td>\n",
              "      <td>23.86</td>\n",
              "    </tr>\n",
              "    <tr>\n",
              "      <th>2</th>\n",
              "      <td>96</td>\n",
              "      <td>45</td>\n",
              "      <td>2010-02-18 00:00:00</td>\n",
              "      <td>Erzsébet krt. 58.</td>\n",
              "      <td>Budapest</td>\n",
              "      <td>None</td>\n",
              "      <td>Hungary</td>\n",
              "      <td>H-1073</td>\n",
              "      <td>21.86</td>\n",
              "    </tr>\n",
              "    <tr>\n",
              "      <th>3</th>\n",
              "      <td>194</td>\n",
              "      <td>46</td>\n",
              "      <td>2011-04-28 00:00:00</td>\n",
              "      <td>3 Chatham Street</td>\n",
              "      <td>Dublin</td>\n",
              "      <td>Dublin</td>\n",
              "      <td>Ireland</td>\n",
              "      <td>None</td>\n",
              "      <td>21.86</td>\n",
              "    </tr>\n",
              "    <tr>\n",
              "      <th>4</th>\n",
              "      <td>89</td>\n",
              "      <td>7</td>\n",
              "      <td>2010-01-18 00:00:00</td>\n",
              "      <td>Rotenturmstraße 4, 1010 Innere Stadt</td>\n",
              "      <td>Vienne</td>\n",
              "      <td>None</td>\n",
              "      <td>Austria</td>\n",
              "      <td>1010</td>\n",
              "      <td>18.86</td>\n",
              "    </tr>\n",
              "  </tbody>\n",
              "</table>\n",
              "</div>"
            ],
            "text/plain": [
              "   InvoiceId  CustomerId  ... BillingPostalCode  Total\n",
              "0        404           6  ...             14300  25.86\n",
              "1        299          26  ...             76110  23.86\n",
              "2         96          45  ...            H-1073  21.86\n",
              "3        194          46  ...              None  21.86\n",
              "4         89           7  ...              1010  18.86\n",
              "\n",
              "[5 rows x 9 columns]"
            ]
          },
          "metadata": {
            "tags": []
          },
          "execution_count": 47
        }
      ]
    },
    {
      "cell_type": "markdown",
      "metadata": {
        "id": "7sQep3CVWM3b"
      },
      "source": [
        "##### SQL JOIN"
      ]
    },
    {
      "cell_type": "markdown",
      "metadata": {
        "id": "cSJ5KmyPWRbb"
      },
      "source": [
        "As the name shows, JOIN means to combine something. In case of SQL, JOIN means \"to combine two or more tables\".\n",
        "\n",
        "The SQL JOIN clause takes records from two or more tables in a database and combines it together.\n",
        "\n",
        "ANSI standard SQL defines five types of JOIN :\n",
        "\n",
        "1. inner join,\n",
        "2. left outer join,\n",
        "3. right outer join,\n",
        "4. full outer join, and\n",
        "5. cross join.\n",
        "\n",
        "![](https://4.bp.blogspot.com/-_HsHikmChBI/VmQGJjLKgyI/AAAAAAAAEPw/JaLnV0bsbEo/s400/sql%2Bjoins%2Bguide%2Band%2Bsyntax.jpg)"
      ]
    },
    {
      "cell_type": "markdown",
      "metadata": {
        "id": "lXra1WxdXFqI"
      },
      "source": [
        "###### OUTER JOINS\n",
        "\n",
        "In the SQL outer JOIN all the content of the both tables are integrated together either they are matched or not."
      ]
    },
    {
      "cell_type": "code",
      "metadata": {
        "id": "vdiKyg5QV_i5",
        "colab": {
          "base_uri": "https://localhost:8080/",
          "height": 419
        },
        "outputId": "56e1272d-b464-49d5-e9f3-e81c61ab3bf2"
      },
      "source": [
        "query = '''\n",
        "    SELECT alb.Title, \n",
        "           art.Name\n",
        "    FROM artists art, albums alb\n",
        "    WHERE art.ArtistId = alb.ArtistId;\n",
        "'''\n",
        "\n",
        "pd.read_sql_query(query,conn)"
      ],
      "execution_count": null,
      "outputs": [
        {
          "output_type": "execute_result",
          "data": {
            "text/html": [
              "<div>\n",
              "<style scoped>\n",
              "    .dataframe tbody tr th:only-of-type {\n",
              "        vertical-align: middle;\n",
              "    }\n",
              "\n",
              "    .dataframe tbody tr th {\n",
              "        vertical-align: top;\n",
              "    }\n",
              "\n",
              "    .dataframe thead th {\n",
              "        text-align: right;\n",
              "    }\n",
              "</style>\n",
              "<table border=\"1\" class=\"dataframe\">\n",
              "  <thead>\n",
              "    <tr style=\"text-align: right;\">\n",
              "      <th></th>\n",
              "      <th>Title</th>\n",
              "      <th>Name</th>\n",
              "    </tr>\n",
              "  </thead>\n",
              "  <tbody>\n",
              "    <tr>\n",
              "      <th>0</th>\n",
              "      <td>For Those About To Rock We Salute You</td>\n",
              "      <td>AC/DC</td>\n",
              "    </tr>\n",
              "    <tr>\n",
              "      <th>1</th>\n",
              "      <td>Balls to the Wall</td>\n",
              "      <td>Accept</td>\n",
              "    </tr>\n",
              "    <tr>\n",
              "      <th>2</th>\n",
              "      <td>Restless and Wild</td>\n",
              "      <td>Accept</td>\n",
              "    </tr>\n",
              "    <tr>\n",
              "      <th>3</th>\n",
              "      <td>Let There Be Rock</td>\n",
              "      <td>AC/DC</td>\n",
              "    </tr>\n",
              "    <tr>\n",
              "      <th>4</th>\n",
              "      <td>Big Ones</td>\n",
              "      <td>Aerosmith</td>\n",
              "    </tr>\n",
              "    <tr>\n",
              "      <th>...</th>\n",
              "      <td>...</td>\n",
              "      <td>...</td>\n",
              "    </tr>\n",
              "    <tr>\n",
              "      <th>342</th>\n",
              "      <td>Respighi:Pines of Rome</td>\n",
              "      <td>Eugene Ormandy</td>\n",
              "    </tr>\n",
              "    <tr>\n",
              "      <th>343</th>\n",
              "      <td>Schubert: The Late String Quartets &amp; String Qu...</td>\n",
              "      <td>Emerson String Quartet</td>\n",
              "    </tr>\n",
              "    <tr>\n",
              "      <th>344</th>\n",
              "      <td>Monteverdi: L'Orfeo</td>\n",
              "      <td>C. Monteverdi, Nigel Rogers - Chiaroscuro; Lon...</td>\n",
              "    </tr>\n",
              "    <tr>\n",
              "      <th>345</th>\n",
              "      <td>Mozart: Chamber Music</td>\n",
              "      <td>Nash Ensemble</td>\n",
              "    </tr>\n",
              "    <tr>\n",
              "      <th>346</th>\n",
              "      <td>Koyaanisqatsi (Soundtrack from the Motion Pict...</td>\n",
              "      <td>Philip Glass Ensemble</td>\n",
              "    </tr>\n",
              "  </tbody>\n",
              "</table>\n",
              "<p>347 rows × 2 columns</p>\n",
              "</div>"
            ],
            "text/plain": [
              "                                                 Title                                               Name\n",
              "0                For Those About To Rock We Salute You                                              AC/DC\n",
              "1                                    Balls to the Wall                                             Accept\n",
              "2                                    Restless and Wild                                             Accept\n",
              "3                                    Let There Be Rock                                              AC/DC\n",
              "4                                             Big Ones                                          Aerosmith\n",
              "..                                                 ...                                                ...\n",
              "342                             Respighi:Pines of Rome                                     Eugene Ormandy\n",
              "343  Schubert: The Late String Quartets & String Qu...                             Emerson String Quartet\n",
              "344                                Monteverdi: L'Orfeo  C. Monteverdi, Nigel Rogers - Chiaroscuro; Lon...\n",
              "345                              Mozart: Chamber Music                                      Nash Ensemble\n",
              "346  Koyaanisqatsi (Soundtrack from the Motion Pict...                              Philip Glass Ensemble\n",
              "\n",
              "[347 rows x 2 columns]"
            ]
          },
          "metadata": {
            "tags": []
          },
          "execution_count": 52
        }
      ]
    },
    {
      "cell_type": "markdown",
      "metadata": {
        "id": "qy5M9ywIYivM"
      },
      "source": [
        "##### Queries with aggregates\n",
        "\n",
        "SQL also supports the use of aggregate expressions (or functions) that allow you to summarize information about a group of rows of data.\n",
        "\n",
        "Common aggregate functions:\n",
        "\n",
        "| Functions | Description |\n",
        "|:-:|:-:|\n",
        "|**COUNT**(*), **COUNT**(column) | A common function used to counts the number of rows in the group if no column name is specified. Otherwise, count the number of rows in the group with non-NULL values in the specified column.|\n",
        "|**MIN**(column) | Finds the smallest numerical value in the specified column for all rows in the group.|\n",
        "|**MAX**(column) | Finds the largest numerical value in the specified column for all rows in the group.|\n",
        "|**AVG**(column) | Finds the average numerical value in the specified column for all rows in the group.|\n",
        "|**SUM**(column) | Finds the sum of all numerical values in the specified column for the rows in the group.|\n",
        "\n",
        "More docs: [SQLite](http://www.sqlite.org/lang_aggfunc.html), [MySQL](https://dev.mysql.com/doc/refman/5.6/en/group-by-functions.html), [Postgres](http://www.postgresql.org/docs/9.4/static/functions-aggregate.html)\n",
        "\n",
        "In addition to aggregating across all the rows, you can instead apply the aggregate functions to individual groups of data within that group. This would then create as many results as there are unique groups defined as by the  **GROUP BY** clause.\n",
        "\n",
        "```\n",
        "SELECT AGG_FUNC(column_or_expression) AS aggregate_description, …\n",
        "FROM mytable\n",
        "WHERE constraint_expression\n",
        "GROUP BY column;\n",
        "```\n",
        "\n",
        "Our queries are getting fairly complex, but we have nearly introduced all the important parts of a  **SELECT** query. One thing that you might have noticed is that if the **GROUP BY** clause is executed after the **WHERE** clause (which filters the rows which are to be grouped), then how exactly do we filter the grouped rows?\n",
        "\n",
        "Luckily, SQL allows us to do this by adding an additional **HAVING** clause which is used specifically with the **GROUP BY** clause to allow us to filter grouped rows from the result set.\n",
        "\n",
        "```\n",
        "SELECT group_by_column, AGG_FUNC(column_expression) AS aggregate_result_alias, …\n",
        "FROM mytable\n",
        "WHERE condition\n",
        "GROUP BY column\n",
        "HAVING group_condition;\n",
        "```\n"
      ]
    },
    {
      "cell_type": "code",
      "metadata": {
        "id": "ytDecXPCYp24",
        "colab": {
          "base_uri": "https://localhost:8080/",
          "height": 80
        },
        "outputId": "9593b58f-77e7-4cf3-fa84-fe4d4b4149b5"
      },
      "source": [
        "query = '''\n",
        "    SELECT count(CustomerId) FROM invoices;\n",
        "'''\n",
        "\n",
        "pd.read_sql_query(query,conn)"
      ],
      "execution_count": null,
      "outputs": [
        {
          "output_type": "execute_result",
          "data": {
            "text/html": [
              "<div>\n",
              "<style scoped>\n",
              "    .dataframe tbody tr th:only-of-type {\n",
              "        vertical-align: middle;\n",
              "    }\n",
              "\n",
              "    .dataframe tbody tr th {\n",
              "        vertical-align: top;\n",
              "    }\n",
              "\n",
              "    .dataframe thead th {\n",
              "        text-align: right;\n",
              "    }\n",
              "</style>\n",
              "<table border=\"1\" class=\"dataframe\">\n",
              "  <thead>\n",
              "    <tr style=\"text-align: right;\">\n",
              "      <th></th>\n",
              "      <th>count(CustomerId)</th>\n",
              "    </tr>\n",
              "  </thead>\n",
              "  <tbody>\n",
              "    <tr>\n",
              "      <th>0</th>\n",
              "      <td>412</td>\n",
              "    </tr>\n",
              "  </tbody>\n",
              "</table>\n",
              "</div>"
            ],
            "text/plain": [
              "   count(CustomerId)\n",
              "0                412"
            ]
          },
          "metadata": {
            "tags": []
          },
          "execution_count": 54
        }
      ]
    },
    {
      "cell_type": "code",
      "metadata": {
        "id": "xgF_99ThY6C-",
        "colab": {
          "base_uri": "https://localhost:8080/",
          "height": 80
        },
        "outputId": "817ee86a-3250-4a3d-d3da-f1fe78acc3c4"
      },
      "source": [
        "query = '''\n",
        "    SELECT AVG(Total) FROM invoices;\n",
        "'''\n",
        "\n",
        "pd.read_sql_query(query,conn)"
      ],
      "execution_count": null,
      "outputs": [
        {
          "output_type": "execute_result",
          "data": {
            "text/html": [
              "<div>\n",
              "<style scoped>\n",
              "    .dataframe tbody tr th:only-of-type {\n",
              "        vertical-align: middle;\n",
              "    }\n",
              "\n",
              "    .dataframe tbody tr th {\n",
              "        vertical-align: top;\n",
              "    }\n",
              "\n",
              "    .dataframe thead th {\n",
              "        text-align: right;\n",
              "    }\n",
              "</style>\n",
              "<table border=\"1\" class=\"dataframe\">\n",
              "  <thead>\n",
              "    <tr style=\"text-align: right;\">\n",
              "      <th></th>\n",
              "      <th>AVG(Total)</th>\n",
              "    </tr>\n",
              "  </thead>\n",
              "  <tbody>\n",
              "    <tr>\n",
              "      <th>0</th>\n",
              "      <td>5.651942</td>\n",
              "    </tr>\n",
              "  </tbody>\n",
              "</table>\n",
              "</div>"
            ],
            "text/plain": [
              "   AVG(Total)\n",
              "0    5.651942"
            ]
          },
          "metadata": {
            "tags": []
          },
          "execution_count": 57
        }
      ]
    },
    {
      "cell_type": "code",
      "metadata": {
        "id": "4wHzkqxrYpqI"
      },
      "source": [
        ""
      ],
      "execution_count": null,
      "outputs": []
    },
    {
      "cell_type": "markdown",
      "metadata": {
        "id": "dyTUaqK9Psvf"
      },
      "source": [
        "##### INSERT, UPDATE, DELETE"
      ]
    },
    {
      "cell_type": "code",
      "metadata": {
        "id": "BtnN67YBLs66"
      },
      "source": [
        "query = \"\"\"\n",
        "INSERT INTO artists (Name)\n",
        "VALUES ('Duy Le');\n",
        "\"\"\"\n",
        "cur = conn.cursor()\n",
        "cur.execute(query)\n",
        "cur.close()"
      ],
      "execution_count": null,
      "outputs": []
    },
    {
      "cell_type": "code",
      "metadata": {
        "id": "qyoisf8yPOsY",
        "colab": {
          "base_uri": "https://localhost:8080/",
          "height": 340
        },
        "outputId": "2e5659c4-7c14-4670-8c2a-b3f527323f4e"
      },
      "source": [
        "query = \"\"\"\n",
        "INSERT INTO artists (Name)\n",
        "VALUES ('Duy Le');\n",
        "\"\"\"\n",
        "pd.read_sql_query(query,conn) # Non return"
      ],
      "execution_count": null,
      "outputs": [
        {
          "output_type": "error",
          "ename": "TypeError",
          "evalue": "ignored",
          "traceback": [
            "\u001b[0;31m---------------------------------------------------------------------------\u001b[0m",
            "\u001b[0;31mTypeError\u001b[0m                                 Traceback (most recent call last)",
            "\u001b[0;32m<ipython-input-27-7d70009d12b0>\u001b[0m in \u001b[0;36m<module>\u001b[0;34m()\u001b[0m\n\u001b[1;32m      3\u001b[0m \u001b[0mVALUES\u001b[0m \u001b[0;34m(\u001b[0m\u001b[0;34m'Duy Le'\u001b[0m\u001b[0;34m)\u001b[0m\u001b[0;34m;\u001b[0m\u001b[0;34m\u001b[0m\u001b[0;34m\u001b[0m\u001b[0m\n\u001b[1;32m      4\u001b[0m \"\"\"\n\u001b[0;32m----> 5\u001b[0;31m \u001b[0mpd\u001b[0m\u001b[0;34m.\u001b[0m\u001b[0mread_sql_query\u001b[0m\u001b[0;34m(\u001b[0m\u001b[0mquery\u001b[0m\u001b[0;34m,\u001b[0m\u001b[0mconn\u001b[0m\u001b[0;34m)\u001b[0m\u001b[0;34m\u001b[0m\u001b[0;34m\u001b[0m\u001b[0m\n\u001b[0m",
            "\u001b[0;32m/usr/local/lib/python3.6/dist-packages/pandas/io/sql.py\u001b[0m in \u001b[0;36mread_sql_query\u001b[0;34m(sql, con, index_col, coerce_float, params, parse_dates, chunksize)\u001b[0m\n\u001b[1;32m    330\u001b[0m         \u001b[0mcoerce_float\u001b[0m\u001b[0;34m=\u001b[0m\u001b[0mcoerce_float\u001b[0m\u001b[0;34m,\u001b[0m\u001b[0;34m\u001b[0m\u001b[0;34m\u001b[0m\u001b[0m\n\u001b[1;32m    331\u001b[0m         \u001b[0mparse_dates\u001b[0m\u001b[0;34m=\u001b[0m\u001b[0mparse_dates\u001b[0m\u001b[0;34m,\u001b[0m\u001b[0;34m\u001b[0m\u001b[0;34m\u001b[0m\u001b[0m\n\u001b[0;32m--> 332\u001b[0;31m         \u001b[0mchunksize\u001b[0m\u001b[0;34m=\u001b[0m\u001b[0mchunksize\u001b[0m\u001b[0;34m,\u001b[0m\u001b[0;34m\u001b[0m\u001b[0;34m\u001b[0m\u001b[0m\n\u001b[0m\u001b[1;32m    333\u001b[0m     )\n\u001b[1;32m    334\u001b[0m \u001b[0;34m\u001b[0m\u001b[0m\n",
            "\u001b[0;32m/usr/local/lib/python3.6/dist-packages/pandas/io/sql.py\u001b[0m in \u001b[0;36mread_query\u001b[0;34m(self, sql, index_col, coerce_float, params, parse_dates, chunksize)\u001b[0m\n\u001b[1;32m   1632\u001b[0m         \u001b[0margs\u001b[0m \u001b[0;34m=\u001b[0m \u001b[0m_convert_params\u001b[0m\u001b[0;34m(\u001b[0m\u001b[0msql\u001b[0m\u001b[0;34m,\u001b[0m \u001b[0mparams\u001b[0m\u001b[0;34m)\u001b[0m\u001b[0;34m\u001b[0m\u001b[0;34m\u001b[0m\u001b[0m\n\u001b[1;32m   1633\u001b[0m         \u001b[0mcursor\u001b[0m \u001b[0;34m=\u001b[0m \u001b[0mself\u001b[0m\u001b[0;34m.\u001b[0m\u001b[0mexecute\u001b[0m\u001b[0;34m(\u001b[0m\u001b[0;34m*\u001b[0m\u001b[0margs\u001b[0m\u001b[0;34m)\u001b[0m\u001b[0;34m\u001b[0m\u001b[0;34m\u001b[0m\u001b[0m\n\u001b[0;32m-> 1634\u001b[0;31m         \u001b[0mcolumns\u001b[0m \u001b[0;34m=\u001b[0m \u001b[0;34m[\u001b[0m\u001b[0mcol_desc\u001b[0m\u001b[0;34m[\u001b[0m\u001b[0;36m0\u001b[0m\u001b[0;34m]\u001b[0m \u001b[0;32mfor\u001b[0m \u001b[0mcol_desc\u001b[0m \u001b[0;32min\u001b[0m \u001b[0mcursor\u001b[0m\u001b[0;34m.\u001b[0m\u001b[0mdescription\u001b[0m\u001b[0;34m]\u001b[0m\u001b[0;34m\u001b[0m\u001b[0;34m\u001b[0m\u001b[0m\n\u001b[0m\u001b[1;32m   1635\u001b[0m \u001b[0;34m\u001b[0m\u001b[0m\n\u001b[1;32m   1636\u001b[0m         \u001b[0;32mif\u001b[0m \u001b[0mchunksize\u001b[0m \u001b[0;32mis\u001b[0m \u001b[0;32mnot\u001b[0m \u001b[0;32mNone\u001b[0m\u001b[0;34m:\u001b[0m\u001b[0;34m\u001b[0m\u001b[0;34m\u001b[0m\u001b[0m\n",
            "\u001b[0;31mTypeError\u001b[0m: 'NoneType' object is not iterable"
          ]
        }
      ]
    },
    {
      "cell_type": "code",
      "metadata": {
        "id": "-KVb-zS2NT1W"
      },
      "source": [
        "query = '''\n",
        "UPDATE artists  \n",
        "SET Name = 'HP'  \n",
        "WHERE ArtistId = 276\n",
        "AND Name = 'Duy Le';\n",
        "'''\n",
        "cur = conn.cursor()\n",
        "cur.execute(query)\n",
        "cur.close()"
      ],
      "execution_count": null,
      "outputs": []
    },
    {
      "cell_type": "code",
      "metadata": {
        "id": "jz8b5H04MXQl",
        "colab": {
          "base_uri": "https://localhost:8080/",
          "height": 419
        },
        "outputId": "9caa1c70-99de-40f3-d217-ba615463b627"
      },
      "source": [
        "query = '''\n",
        "    SELECT * FROM artists;\n",
        "'''\n",
        "\n",
        "pd.read_sql_query(query,conn)"
      ],
      "execution_count": null,
      "outputs": [
        {
          "output_type": "execute_result",
          "data": {
            "text/html": [
              "<div>\n",
              "<style scoped>\n",
              "    .dataframe tbody tr th:only-of-type {\n",
              "        vertical-align: middle;\n",
              "    }\n",
              "\n",
              "    .dataframe tbody tr th {\n",
              "        vertical-align: top;\n",
              "    }\n",
              "\n",
              "    .dataframe thead th {\n",
              "        text-align: right;\n",
              "    }\n",
              "</style>\n",
              "<table border=\"1\" class=\"dataframe\">\n",
              "  <thead>\n",
              "    <tr style=\"text-align: right;\">\n",
              "      <th></th>\n",
              "      <th>ArtistId</th>\n",
              "      <th>Name</th>\n",
              "    </tr>\n",
              "  </thead>\n",
              "  <tbody>\n",
              "    <tr>\n",
              "      <th>0</th>\n",
              "      <td>1</td>\n",
              "      <td>AC/DC</td>\n",
              "    </tr>\n",
              "    <tr>\n",
              "      <th>1</th>\n",
              "      <td>2</td>\n",
              "      <td>Accept</td>\n",
              "    </tr>\n",
              "    <tr>\n",
              "      <th>2</th>\n",
              "      <td>3</td>\n",
              "      <td>Aerosmith</td>\n",
              "    </tr>\n",
              "    <tr>\n",
              "      <th>3</th>\n",
              "      <td>4</td>\n",
              "      <td>Alanis Morissette</td>\n",
              "    </tr>\n",
              "    <tr>\n",
              "      <th>4</th>\n",
              "      <td>5</td>\n",
              "      <td>Alice In Chains</td>\n",
              "    </tr>\n",
              "    <tr>\n",
              "      <th>...</th>\n",
              "      <td>...</td>\n",
              "      <td>...</td>\n",
              "    </tr>\n",
              "    <tr>\n",
              "      <th>271</th>\n",
              "      <td>272</td>\n",
              "      <td>Emerson String Quartet</td>\n",
              "    </tr>\n",
              "    <tr>\n",
              "      <th>272</th>\n",
              "      <td>273</td>\n",
              "      <td>C. Monteverdi, Nigel Rogers - Chiaroscuro; Lon...</td>\n",
              "    </tr>\n",
              "    <tr>\n",
              "      <th>273</th>\n",
              "      <td>274</td>\n",
              "      <td>Nash Ensemble</td>\n",
              "    </tr>\n",
              "    <tr>\n",
              "      <th>274</th>\n",
              "      <td>275</td>\n",
              "      <td>Philip Glass Ensemble</td>\n",
              "    </tr>\n",
              "    <tr>\n",
              "      <th>275</th>\n",
              "      <td>278</td>\n",
              "      <td>Duy Le</td>\n",
              "    </tr>\n",
              "  </tbody>\n",
              "</table>\n",
              "<p>276 rows × 2 columns</p>\n",
              "</div>"
            ],
            "text/plain": [
              "     ArtistId                                               Name\n",
              "0           1                                              AC/DC\n",
              "1           2                                             Accept\n",
              "2           3                                          Aerosmith\n",
              "3           4                                  Alanis Morissette\n",
              "4           5                                    Alice In Chains\n",
              "..        ...                                                ...\n",
              "271       272                             Emerson String Quartet\n",
              "272       273  C. Monteverdi, Nigel Rogers - Chiaroscuro; Lon...\n",
              "273       274                                      Nash Ensemble\n",
              "274       275                              Philip Glass Ensemble\n",
              "275       278                                             Duy Le\n",
              "\n",
              "[276 rows x 2 columns]"
            ]
          },
          "metadata": {
            "tags": []
          },
          "execution_count": 35
        }
      ]
    },
    {
      "cell_type": "code",
      "metadata": {
        "id": "wFUrnKYJP2-b"
      },
      "source": [
        "query = \"\"\"\n",
        "DELETE FROM artists  \n",
        "WHERE Name = 'HP';\n",
        "\"\"\"\n",
        "cur = conn.cursor()\n",
        "cur.execute(query)\n",
        "cur.close()"
      ],
      "execution_count": null,
      "outputs": []
    }
  ]
}