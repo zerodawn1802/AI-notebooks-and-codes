{
  "nbformat": 4,
  "nbformat_minor": 0,
  "metadata": {
    "colab": {
      "name": "API.ipynb",
      "provenance": []
    },
    "kernelspec": {
      "name": "python3",
      "display_name": "Python 3"
    },
    "language_info": {
      "name": "python"
    }
  },
  "cells": [
    {
      "cell_type": "markdown",
      "metadata": {
        "id": "mF-bWb-jYccs"
      },
      "source": [
        "# **API** (Application Programing Interface)"
      ]
    },
    {
      "cell_type": "markdown",
      "metadata": {
        "id": "QoZyjHJbYkrt"
      },
      "source": [
        "API cung cấp một giao diện giữa hai hệ thống. Nó giống như một bánh răng cho phép hai hệ thống tương tác với nhau.\n",
        "\n",
        "![image](https://s3.us-west-1.wasabisys.com/idbwmedia.com/images/api/spinning_gears.jpg)\n",
        "\n",
        "-Chức năng:\n",
        "* Đọc file, ghi file, định vị.\n",
        "* Lấy thông tin từ Internet mà không truy cập vào database.\n",
        "* Tận dụng lại những dữ liệu có sẵn."
      ]
    },
    {
      "cell_type": "markdown",
      "metadata": {
        "id": "sgxSGoprafph"
      },
      "source": [
        "**API của ngôn ngữ/hệ điều hành** : Cung cấp các SDK (Software Development Kit) sẵn, viết code trực tiếp để gọi.\n",
        "\n",
        "**API của hệ thống khác** : Có thể dụng SDK có sẵn, dùng HTTP Protocol"
      ]
    },
    {
      "cell_type": "markdown",
      "metadata": {
        "id": "mSb-almeh8u1"
      },
      "source": [
        "# REST API"
      ]
    },
    {
      "cell_type": "markdown",
      "metadata": {
        "id": "bjfb1yfQb8uY"
      },
      "source": [
        "![image](https://s3.us-west-1.wasabisys.com/idbwmedia.com/images/api/restapi_restapi.svg)"
      ]
    },
    {
      "cell_type": "markdown",
      "metadata": {
        "id": "QX14vOhrh6G1"
      },
      "source": [
        "REST (Representational State Transfer) sử dụng HTTP(HyperText Transfer Protocol) làm giao thức truyền tải cho các yêu cầu và phản hồi thông báo.\n",
        "\n",
        "Các API REST có thể sử dụng bất kỳ định dạng thông báo nào mà các nhà phát triển API muốn sử dụng, bao gồm XML, JSON, Atom, RSS, CSV, HTML, ...\n",
        "\n",
        "Các phương thức phổ biến bao gồm GET (đọc), POST (tạo), PUT (cập nhật) và DELETE (xóa)."
      ]
    }
  ]
}