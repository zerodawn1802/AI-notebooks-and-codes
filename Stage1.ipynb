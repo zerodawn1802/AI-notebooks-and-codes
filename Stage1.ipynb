{
  "nbformat": 4,
  "nbformat_minor": 0,
  "metadata": {
    "colab": {
      "name": "Stage1.ipynb",
      "provenance": []
    },
    "kernelspec": {
      "display_name": "Python 3",
      "name": "python3"
    },
    "language_info": {
      "name": "python"
    }
  },
  "cells": [
    {
      "cell_type": "markdown",
      "metadata": {
        "id": "NXkKB7YzyEzp"
      },
      "source": [
        "# KNN với Euclid distance và L2 distance"
      ]
    },
    {
      "cell_type": "markdown",
      "metadata": {
        "id": "XlVds5kqsOYF"
      },
      "source": [
        "**Import các thư viện cần thiết**"
      ]
    },
    {
      "cell_type": "code",
      "metadata": {
        "id": "lq-puIuKcTQa"
      },
      "source": [
        "#import libraries\n",
        "import numpy as np\n",
        "import cv2\n",
        "import glob\n",
        "import os\n",
        "from keras.utils import np_utils\n",
        "from sklearn.model_selection import train_test_split\n",
        "import pandas as pd\n",
        "import matplotlib.pyplot as plt"
      ],
      "execution_count": null,
      "outputs": []
    },
    {
      "cell_type": "markdown",
      "metadata": {
        "id": "1OB5hbLvsUAU"
      },
      "source": [
        "**Chuẩn bị data**"
      ]
    },
    {
      "cell_type": "code",
      "metadata": {
        "id": "fP5Uhz6q8F-Q"
      },
      "source": [
        "#chuẩn bị data\n",
        "class processing_data():\n",
        "  def __init__(self, image):\n",
        "    self.image = image\n",
        "  #đồng bộ kích thước ảnh 64x64x3\n",
        "  def resize_image(self, size = (64, 64)):\n",
        "    self.image = cv2.resize(src = self.image, dsize = size)\n",
        "  #chuyển thành ảnh xám và cân bằng độ sáng của ảnh\n",
        "  def extract_color_histogram(self):\n",
        "    img_yuv = cv2.cvtColor(self.image, cv2.COLOR_BGR2YUV)\n",
        "    img_yuv[:,:,0] = cv2.equalizeHist(img_yuv[:,:,0])\n",
        "\n",
        "    #chuyển trở lại về ảnh màu\n",
        "    img_output = cv2.cvtColor(img_yuv, cv2.COLOR_YUV2BGR)\n",
        "    self.image = img_output\n",
        "  #xử lí ảnh và chuyển ảnh thành vector, trải vector image\n",
        "  def image_to_feature_vector(self):\n",
        "    self.resize_image()\n",
        "    self.extract_color_histogram()\n",
        "    self.image = np.array(self.image)\n",
        "    return self.image.flatten()\n",
        "  \n",
        "  def convert_image(self):\n",
        "    self.resize_image()\n",
        "    self.extract_color_histogram()\n",
        "    return self.image"
      ],
      "execution_count": null,
      "outputs": []
    },
    {
      "cell_type": "markdown",
      "metadata": {
        "id": "d3bdv0lOtznH"
      },
      "source": [
        "**Load data**"
      ]
    },
    {
      "cell_type": "code",
      "metadata": {
        "id": "8sNU3gL4FcBh"
      },
      "source": [
        "#load ảnh trong folder\n",
        "def load_img_from_folder(path_folder):\n",
        "  images = []\n",
        "  for filename in os.listdir(path_folder):\n",
        "    img = cv2.imread(os.path.join(path_folder, filename))\n",
        "    if img is not None:\n",
        "      model = processing_data(img)\n",
        "      img = model.image_to_feature_vector()\n",
        "      images.append(img)\n",
        "  return images"
      ],
      "execution_count": null,
      "outputs": []
    },
    {
      "cell_type": "code",
      "metadata": {
        "colab": {
          "base_uri": "https://localhost:8080/"
        },
        "id": "i5Wsha8E8VhL",
        "outputId": "bc272d0c-dd83-40f7-cca1-75928b8da2d4"
      },
      "source": [
        "#load data\n",
        "X_train = []\n",
        "y_train = []\n",
        "labels = 0\n",
        "\n",
        "for namefolder in class_names:\n",
        "  img_dir = train_path + '/' + namefolder\n",
        "  print(img_dir)\n",
        "  images = load_img_from_folder(img_dir)\n",
        "  print(len(images))\n",
        "  X_train.extend(images)\n",
        "  y_train.extend([labels] * len(images))\n",
        "  labels = labels + 1\n",
        "X_train = np.array(X_train)\n",
        "y_train = np.array(y_train)\n",
        "print(\"X_train shape: \", X_train.shape)\n",
        "print(X_train)\n",
        "print(\"y_train shape: \", y_train.shape)\n",
        "print(y_train)"
      ],
      "execution_count": null,
      "outputs": [
        {
          "output_type": "stream",
          "text": [
            "/content/drive/MyDrive/Colab Notebooks/content/Train/00035\n",
            "739\n",
            "/content/drive/MyDrive/Colab Notebooks/content/Train/00011\n",
            "829\n",
            "/content/drive/MyDrive/Colab Notebooks/content/Train/00033\n",
            "409\n",
            "/content/drive/MyDrive/Colab Notebooks/content/Train/00034\n",
            "229\n",
            "/content/drive/MyDrive/Colab Notebooks/content/Train/00007\n",
            "889\n",
            "/content/drive/MyDrive/Colab Notebooks/content/Train/00038\n",
            "1309\n",
            "/content/drive/MyDrive/Colab Notebooks/content/Train/00032\n",
            "109\n",
            "/content/drive/MyDrive/Colab Notebooks/content/Train/00029\n",
            "109\n",
            "/content/drive/MyDrive/Colab Notebooks/content/Train/00009\n",
            "919\n",
            "/content/drive/MyDrive/Colab Notebooks/content/Train/00036\n",
            "199\n",
            "/content/drive/MyDrive/Colab Notebooks/content/Train/00001\n",
            "1429\n",
            "/content/drive/MyDrive/Colab Notebooks/content/Train/00005\n",
            "1189\n",
            "/content/drive/MyDrive/Colab Notebooks/content/Train/00003\n",
            "889\n",
            "/content/drive/MyDrive/Colab Notebooks/content/Train/00006\n",
            "229\n"
          ],
          "name": "stdout"
        }
      ]
    },
    {
      "cell_type": "markdown",
      "metadata": {
        "id": "6MhHaKB1t5LL"
      },
      "source": [
        "**Load labels**"
      ]
    },
    {
      "cell_type": "code",
      "metadata": {
        "colab": {
          "base_uri": "https://localhost:8080/"
        },
        "id": "Ct9q3FVfsyEV",
        "outputId": "c43424ea-1569-4df9-9421-7feae3824326"
      },
      "source": [
        "#load labels\n",
        "train_path = '/content/drive/MyDrive/Colab Notebooks/content/Train'\n",
        "class_names = os.listdir(train_path)\n",
        "print(class_names)"
      ],
      "execution_count": null,
      "outputs": [
        {
          "output_type": "stream",
          "text": [
            "['00035', '00011', '00033', '00034', '00007', '00038', '00032', '00029', '00009', '00036', '00001', '00005', '00003', '00006']\n"
          ],
          "name": "stdout"
        }
      ]
    },
    {
      "cell_type": "markdown",
      "metadata": {
        "id": "oDsMQRowuJo1"
      },
      "source": [
        "**Save data**"
      ]
    },
    {
      "cell_type": "code",
      "metadata": {
        "id": "i9yG2fDOiFyd"
      },
      "source": [
        "#lưu ảnh vào file pickle\n",
        "class saveData:\n",
        "    def __init__(self, W):\n",
        "        self.W = W\n",
        "\n",
        "model = saveData(X_train)\n",
        "modelLable = saveData(y_train)"
      ],
      "execution_count": null,
      "outputs": []
    },
    {
      "cell_type": "code",
      "metadata": {
        "id": "fhLyaXjSjdJ9"
      },
      "source": [
        "#lưu\n",
        "import pickle\n",
        "f = open(\"./sample_data/ModelKNN.pickle\", \"wb\")\n",
        "f1 = open(\"./sample_data/LabelsKNN.pickle\", \"wb\")\n",
        "pickle.dump(model, f)\n",
        "pickle.dump(modelLable, f1)\n",
        "f.close()"
      ],
      "execution_count": null,
      "outputs": []
    },
    {
      "cell_type": "code",
      "metadata": {
        "id": "hyDekGlvjgMR"
      },
      "source": [
        "#load\n",
        "import pickle\n",
        "f = open(\"./sample_data/ModelKNN.pickle\", \"rb\")\n",
        "f1 = open(\"./sample_data/LabelsKNN.pickle\", \"rb\")\n",
        "loaded_model = pickle.load(f)\n",
        "loaded_modelLabels = pickle.load(f1)\n",
        "f.close()"
      ],
      "execution_count": null,
      "outputs": []
    },
    {
      "cell_type": "markdown",
      "metadata": {
        "id": "ut29C4hC0jZe"
      },
      "source": [
        "**Load test**"
      ]
    },
    {
      "cell_type": "code",
      "metadata": {
        "colab": {
          "base_uri": "https://localhost:8080/"
        },
        "id": "k0S_Znft8zjT",
        "outputId": "791bc5de-ca17-40f9-c58b-2a91e67c2ae9"
      },
      "source": [
        "# load test\n",
        "link_test = '/content/drive/MyDrive/Colab Notebooks/public_save'\n",
        "X_test = load_img_from_folder(link_test)\n",
        "print(\"X_test shape: \", X_test.shape)\n",
        "print(X_test)"
      ],
      "execution_count": null,
      "outputs": [
        {
          "output_type": "stream",
          "text": [
            "[array([134, 129, 144, ...,  81,  75,  92], dtype=uint8), array([71, 72, 76, ..., 12, 14, 15], dtype=uint8), array([ 72,  87, 110, ...,  73,  89, 102], dtype=uint8), array([42, 48, 58, ..., 50, 54, 68], dtype=uint8), array([147, 151, 152, ...,   0,   0,   1], dtype=uint8), array([37, 39, 47, ..., 37, 39, 46], dtype=uint8), array([168, 164, 163, ...,  78,  73,  74], dtype=uint8), array([248, 247, 244, ...,  19,  37, 114], dtype=uint8), array([170, 171, 181, ..., 112, 102, 104], dtype=uint8), array([254, 253, 255, ...,  86,  94,  91], dtype=uint8), array([191, 191, 184, ..., 152, 146, 170], dtype=uint8), array([218, 244, 255, ..., 100, 105, 104], dtype=uint8), array([157, 153, 152, ...,  12,   7,   8], dtype=uint8), array([103, 108, 112, ...,  13,  14,  12], dtype=uint8), array([76, 73, 75, ..., 42, 49, 43], dtype=uint8), array([ 26,  28,  36, ..., 137, 143, 153], dtype=uint8), array([45, 49, 58, ..., 49, 51, 51], dtype=uint8), array([239, 237, 230, ...,  47,  45,  45], dtype=uint8), array([255, 255, 254, ..., 255, 255, 255], dtype=uint8), array([44, 46, 46, ...,  0, 20,  8], dtype=uint8), array([232, 166, 138, ...,   0,   9,  26], dtype=uint8), array([ 22,  20,  19, ...,  92,  94, 101], dtype=uint8), array([ 64,  71,  65, ..., 115, 118, 116], dtype=uint8), array([76, 74, 94, ..., 76, 75, 91], dtype=uint8), array([161, 162, 166, ...,  95,  95,  95], dtype=uint8), array([116, 114, 114, ...,  68,  60,  57], dtype=uint8), array([183, 185, 159, ..., 165, 148, 117], dtype=uint8), array([123, 132, 132, ...,   1,   3,   3], dtype=uint8), array([101, 108, 100, ...,  35,  33,  33], dtype=uint8), array([238, 233, 234, ..., 192, 190, 190], dtype=uint8), array([126, 128, 129, ..., 111, 113, 114], dtype=uint8), array([18, 20, 21, ..., 91, 95, 96], dtype=uint8), array([  2,   2,   2, ..., 134, 134, 134], dtype=uint8), array([ 94, 101, 107, ...,  86,  88,  95], dtype=uint8), array([164, 159, 155, ..., 140, 157, 174], dtype=uint8), array([ 16,  17,  21, ..., 184, 185, 195], dtype=uint8), array([ 43,  43,  50, ..., 100, 104, 105], dtype=uint8), array([174, 170, 169, ...,  45,  40,  41], dtype=uint8), array([62, 65, 63, ..., 39, 37, 37], dtype=uint8), array([112, 107, 108, ...,  94,  89,  90], dtype=uint8), array([224, 225, 228, ...,   0,  14,  54], dtype=uint8), array([248, 243, 244, ..., 142, 140, 139], dtype=uint8), array([ 78, 160, 155, ..., 255, 255, 255], dtype=uint8), array([88, 80, 77, ..., 33, 30, 32], dtype=uint8), array([23, 25, 25, ..., 56, 61, 67], dtype=uint8), array([ 54,  55,  59, ..., 120, 126, 136], dtype=uint8), array([253, 242, 247, ...,  78,  73,  81], dtype=uint8), array([226, 227, 224, ..., 136, 115, 123], dtype=uint8), array([95, 97, 90, ..., 23, 21, 21], dtype=uint8), array([196, 210, 242, ..., 220, 217, 219], dtype=uint8), array([64, 66, 66, ..., 89, 92, 96], dtype=uint8), array([ 27,  32,  36, ..., 219, 218, 214], dtype=uint8), array([255, 255, 255, ..., 255, 255, 255], dtype=uint8), array([188, 231, 255, ..., 254, 246, 255], dtype=uint8), array([171, 171, 171, ..., 146, 148, 149], dtype=uint8), array([185, 191, 227, ..., 170, 159, 179], dtype=uint8), array([252, 255, 247, ...,   3,   7,   8], dtype=uint8), array([91, 96, 94, ..., 66, 73, 73], dtype=uint8), array([ 97,  99, 107, ..., 100,  90,  93], dtype=uint8), array([251, 253, 246, ...,   1,   4,   2], dtype=uint8), array([190, 184, 169, ..., 198, 200, 195], dtype=uint8), array([86, 81, 82, ..., 38, 35, 37], dtype=uint8), array([255, 255, 228, ...,  74,  76,  76], dtype=uint8), array([ 12,  54,  52, ..., 206, 217, 204], dtype=uint8), array([112, 136, 153, ..., 195, 233, 251], dtype=uint8), array([79, 84, 90, ..., 83, 85, 85], dtype=uint8), array([  6,   9,  20, ..., 146, 155, 189], dtype=uint8), array([109, 171, 179, ..., 158, 178, 185], dtype=uint8), array([44, 39, 48, ..., 46, 43, 39], dtype=uint8), array([252, 252, 252, ...,   0,   0,  42], dtype=uint8), array([66, 69, 80, ..., 73, 76, 87], dtype=uint8), array([40, 42, 43, ...,  4,  4,  4], dtype=uint8), array([115, 116, 120, ..., 106, 107, 111], dtype=uint8), array([252, 255, 241, ...,   4,   6,  13], dtype=uint8), array([116, 111, 113, ...,  81,  76,  77], dtype=uint8), array([90, 91, 89, ..., 71, 69, 69], dtype=uint8), array([152, 194, 207, ...,  49,  50,  54], dtype=uint8), array([222, 228, 197, ...,  11,   6,   7], dtype=uint8), array([ 38,  40,  48, ..., 229, 255, 245], dtype=uint8), array([255, 255, 255, ..., 229, 228, 230], dtype=uint8), array([102,  97,  98, ...,  39,  32,  32], dtype=uint8), array([228, 224, 223, ...,  82,  82,  82], dtype=uint8), array([107, 109, 109, ...,  84,  82,  81], dtype=uint8), array([126, 138, 143, ...,  58,  66,  69], dtype=uint8), array([136, 153, 212, ...,   3,   5,   0], dtype=uint8), array([ 0, 20, 51, ..., 65, 73, 83], dtype=uint8), array([199, 210, 210, ...,  14,  16,  23], dtype=uint8), array([ 5,  8, 12, ...,  7,  8, 12], dtype=uint8), array([94, 78, 66, ..., 33, 23, 26], dtype=uint8), array([ 97,  96, 105, ..., 165, 169, 164], dtype=uint8), array([251, 255, 255, ...,  11,   6,   8], dtype=uint8), array([149, 195, 223, ...,   0,   0,  25], dtype=uint8), array([151, 153, 154, ..., 225, 210, 201], dtype=uint8), array([ 53,  50,  52, ..., 106, 107, 105], dtype=uint8), array([216, 211, 212, ..., 103,  98, 100], dtype=uint8), array([242, 243, 234, ..., 132, 139, 133], dtype=uint8), array([86, 88, 88, ..., 39, 40, 50], dtype=uint8), array([150, 154, 155, ...,  45,  44,  53], dtype=uint8), array([253, 255, 255, ..., 255, 255, 255], dtype=uint8), array([219, 179, 154, ...,   0,   1,   1], dtype=uint8), array([170, 220, 242, ...,  69, 110, 172], dtype=uint8), array([243, 246, 250, ...,  23,  21,  21], dtype=uint8), array([ 55,  59, 108, ..., 217, 204, 208], dtype=uint8), array([ 0,  0,  7, ...,  6,  3, 25], dtype=uint8), array([62, 64, 71, ..., 66, 66, 66], dtype=uint8), array([72, 84, 89, ..., 70, 83, 91], dtype=uint8), array([106, 109, 113, ...,  34,  37,  41], dtype=uint8), array([174, 175, 173, ...,  39,  37,  37], dtype=uint8), array([141, 140, 130, ..., 187, 178, 184], dtype=uint8), array([138, 136, 136, ...,  49,  47,  47], dtype=uint8), array([ 69,  60,  60, ..., 255, 234, 201], dtype=uint8), array([169, 166, 168, ..., 185, 204, 242], dtype=uint8), array([159, 157, 156, ..., 159, 157, 157], dtype=uint8), array([255, 255, 255, ..., 139, 144, 148], dtype=uint8), array([121, 128, 128, ...,   6,   7,  11], dtype=uint8), array([106, 116, 114, ..., 150, 126, 110], dtype=uint8), array([255, 255, 238, ..., 171, 144, 124], dtype=uint8), array([ 24,  20,  19, ..., 198, 198, 198], dtype=uint8), array([158, 151, 152, ...,  77,  74,  70], dtype=uint8), array([118, 131, 147, ...,   0,   0,   8], dtype=uint8), array([ 68, 121, 134, ...,  39,  89, 112], dtype=uint8), array([14, 13, 15, ..., 92, 95, 99], dtype=uint8), array([ 38,  26,  28, ..., 248, 234, 228], dtype=uint8), array([87, 82, 84, ..., 77, 74, 84], dtype=uint8), array([247, 248, 245, ...,  33,  31,  38], dtype=uint8), array([255, 255, 254, ..., 146, 165, 183], dtype=uint8), array([ 95, 132, 133, ..., 151, 153, 128], dtype=uint8), array([128, 126, 126, ...,  67,  67,  67], dtype=uint8), array([120, 115, 124, ..., 228, 218, 254], dtype=uint8), array([66, 69, 67, ..., 25, 28, 26], dtype=uint8), array([169, 171, 171, ..., 255, 255, 255], dtype=uint8), array([251, 253, 253, ...,  91, 101, 124], dtype=uint8), array([255, 254, 245, ..., 174, 164, 159], dtype=uint8), array([246, 230, 203, ..., 119, 124, 130], dtype=uint8), array([146, 148, 156, ...,   0,   0,   7], dtype=uint8), array([184, 187, 185, ..., 255, 255, 255], dtype=uint8), array([ 4, 13, 20, ...,  3,  5, 12], dtype=uint8), array([173, 168, 169, ..., 208, 201, 201], dtype=uint8), array([25, 29, 30, ...,  2,  1, 10], dtype=uint8), array([87, 88, 98, ..., 58, 63, 67], dtype=uint8), array([65, 60, 61, ..., 73, 69, 68], dtype=uint8), array([ 6,  8, 16, ..., 75, 78, 82], dtype=uint8), array([195, 193, 186, ...,  36,  39,  43], dtype=uint8), array([145, 151, 168, ..., 132, 132, 152], dtype=uint8), array([255, 238, 234, ..., 153, 149, 148], dtype=uint8), array([ 67,  70,  89, ..., 100, 102, 123], dtype=uint8), array([234, 228, 219, ..., 150, 153, 144], dtype=uint8), array([253, 255, 255, ..., 144, 141, 143], dtype=uint8), array([88, 87, 89, ..., 90, 86, 90], dtype=uint8), array([163, 161, 181, ...,  97,  92,  93], dtype=uint8), array([115, 124, 118, ..., 254, 255, 251], dtype=uint8), array([255, 255, 238, ...,  98, 100, 100], dtype=uint8), array([255, 221, 197, ...,  49,  54,  60], dtype=uint8), array([196, 210, 242, ..., 220, 217, 219], dtype=uint8), array([  0,   7,   0, ..., 162, 170, 173], dtype=uint8), array([255, 255, 234, ...,  75,  77,  78], dtype=uint8), array([230, 226, 230, ...,  10,   5,   7], dtype=uint8), array([255, 255, 255, ...,   0,   0,   6], dtype=uint8), array([255, 244, 239, ...,  25,  21,  20], dtype=uint8), array([ 18,  28,  45, ...,   0,  13, 125], dtype=uint8), array([179, 180, 190, ..., 128, 143, 159], dtype=uint8), array([119, 117, 117, ...,  81,  78,  80], dtype=uint8), array([199, 200, 191, ..., 239, 240, 255], dtype=uint8), array([100, 132, 124, ...,  76,  82,  91], dtype=uint8), array([162, 165, 169, ...,   5,   7,  14], dtype=uint8), array([251, 250, 252, ..., 136, 134, 126], dtype=uint8), array([43, 46, 50, ..., 93, 77, 70], dtype=uint8), array([53, 75, 76, ..., 76, 92, 99], dtype=uint8), array([185, 181, 180, ..., 127, 120, 128], dtype=uint8), array([100, 100,  93, ...,  31,  29,  29], dtype=uint8), array([ 46,  42,  41, ..., 128, 123, 124], dtype=uint8), array([198, 195, 177, ..., 179, 179, 166], dtype=uint8), array([171, 182, 210, ..., 126, 112,  93], dtype=uint8), array([255, 253, 250, ..., 126, 128, 128], dtype=uint8), array([57, 57, 64, ...,  1,  2,  5], dtype=uint8), array([45, 41, 46, ..., 63, 60, 56], dtype=uint8), array([239, 243, 238, ...,  82,  87,  85], dtype=uint8), array([ 78,  87,  87, ..., 249, 251, 252], dtype=uint8), array([181, 177, 176, ..., 170, 163, 163], dtype=uint8), array([152, 150, 150, ..., 224, 219, 234], dtype=uint8), array([118, 124, 134, ..., 156, 133, 168], dtype=uint8), array([178, 191, 199, ...,  96,  98, 105], dtype=uint8), array([ 93,  93,  93, ..., 108, 101,  95], dtype=uint8), array([187, 185, 190, ..., 255, 255, 255], dtype=uint8), array([131, 123, 120, ...,   7,   8,   6], dtype=uint8), array([239, 227, 222, ...,  98,  98,  98], dtype=uint8), array([183, 183, 169, ...,   4,   1,   3], dtype=uint8), array([76, 74, 94, ..., 76, 75, 91], dtype=uint8), array([189, 176, 168, ...,  36,  33,  35], dtype=uint8), array([165, 167, 174, ...,  13,  16,  27], dtype=uint8), array([13, 18, 24, ..., 38, 43, 47], dtype=uint8), array([183, 193, 211, ..., 215, 234, 238], dtype=uint8), array([182, 184, 192, ...,   7,   2,   0], dtype=uint8), array([ 53,  48,  56, ..., 186, 183, 179], dtype=uint8), array([ 34,  36,  37, ..., 131, 145, 164], dtype=uint8), array([110, 120, 117, ..., 137, 142, 134], dtype=uint8), array([247, 250, 254, ...,  87,  91,  92], dtype=uint8), array([ 75,  77,  85, ..., 124, 122, 134], dtype=uint8), array([34, 50, 56, ...,  9,  7, 32], dtype=uint8), array([39, 44, 43, ..., 71, 71, 78], dtype=uint8), array([151, 151, 158, ...,  60,  67,  59], dtype=uint8), array([45, 49, 58, ..., 49, 51, 51], dtype=uint8)]\n"
          ],
          "name": "stdout"
        }
      ]
    },
    {
      "cell_type": "markdown",
      "metadata": {
        "id": "y7qmL3yy6mZ4"
      },
      "source": [
        "**KNN với Euclid Distance (Done)**"
      ]
    },
    {
      "cell_type": "code",
      "metadata": {
        "id": "oebSAymW60gH"
      },
      "source": [
        "class KNearestNeighbors():\n",
        "    def __init__(self, k, labels):\n",
        "        self.k = k\n",
        "        self.labels = labels\n",
        "  \n",
        "    def fit(self, X, y):\n",
        "        if(X.shape[0] != y.shape[0]):\n",
        "            raise ValueError('Failed')\n",
        "        self.X = X\n",
        "        self.y = y\n",
        "  \n",
        "  #lấy khoảng cách Euclid của k điểm gần nhất\n",
        "  def get_neighbors(self, X_test):\n",
        "      dists = list()\n",
        "      k = list()\n",
        "      for i in range(len(self.X)):\n",
        "          dist = Eudists(self.X[i], X_test)\n",
        "          dists.append((y_train[i], dist))\n",
        "      dists.sort(key = lambda tup : tup[1])\n",
        "      for i in range(self.k):\n",
        "          k.append(dists[i][0])\n",
        "      return np.array(k)\n",
        "\n",
        "  #dự đoán\n",
        "  def predict(self, X_test):\n",
        "      predictions = np.zeros(self.k)\n",
        "      k = self.get_neighbors(X_test)\n",
        "      counts = np.bincount(k)\n",
        "      label = np.argmax(counts)\n",
        "      return self.labels[label]\n",
        "\n",
        "#tính khoảng cách Euclid giữa 2 điểm\n",
        "def Eudists(image1, image2):\n",
        "    dists = image1 - image2\n",
        "    dists = dists ** 2\n",
        "    dist = dists.sum()\n",
        "    return dist ** 0.5"
      ],
      "execution_count": null,
      "outputs": []
    },
    {
      "cell_type": "code",
      "metadata": {
        "id": "yW8fR5gY7BN8"
      },
      "source": [
        "model = KNearestNeighbors(k = 1, labels = data_labels)\n",
        "model.fit(X_train, y_train)"
      ],
      "execution_count": null,
      "outputs": []
    },
    {
      "cell_type": "code",
      "metadata": {
        "id": "CvVyRv1L7C3B"
      },
      "source": [
        "y_pred = []\n",
        "for test in X_test:\n",
        "    y_pred.append(model.predict(test))\n",
        "print(y_pred)"
      ],
      "execution_count": null,
      "outputs": []
    },
    {
      "cell_type": "code",
      "metadata": {
        "id": "9qpKrnSS7Fn5"
      },
      "source": [
        "res = pd.DataFrame({'Id': image_names, 'Category': y_pred})\n",
        "res.to_csv('./KNNClassification.csv', index = False)\n",
        "print(res)"
      ],
      "execution_count": null,
      "outputs": []
    },
    {
      "cell_type": "markdown",
      "metadata": {
        "id": "qf0Lkatr7LG1"
      },
      "source": [
        "**KNN với L2 distance (Failed)**"
      ]
    },
    {
      "cell_type": "code",
      "metadata": {
        "colab": {
          "base_uri": "https://localhost:8080/"
        },
        "id": "EA2qG0xUV-eF",
        "outputId": "3a013e48-a1bc-4447-8f42-7e42adb34aea"
      },
      "source": [
        "X_train, X_val, y_train, y_val = train_test_split(X_train, y_train, test_size=0.1, random_state=1)\n",
        "print(X_train.shape)\n",
        "print(y_train.shape)"
      ],
      "execution_count": null,
      "outputs": [
        {
          "output_type": "stream",
          "text": [
            "(8528, 784)\n",
            "(8528, 14)\n"
          ],
          "name": "stdout"
        }
      ]
    },
    {
      "cell_type": "code",
      "metadata": {
        "id": "5T5xW5hovkne"
      },
      "source": [
        "# Định dạng data thành các hàng\n",
        "X_train = np.reshape(X_train, (X_train.shape[0], -1))\n",
        "X_val = np.reshape(X_val, (X_val.shape[0], -1))"
      ],
      "execution_count": null,
      "outputs": []
    },
    {
      "cell_type": "markdown",
      "metadata": {
        "id": "LYw8g02H1y8q"
      },
      "source": [
        "Công thức L2:\n",
        "\n",
        "![image](https://i.stack.imgur.com/uRRUG.png)"
      ]
    },
    {
      "cell_type": "code",
      "metadata": {
        "id": "b5ODBsRDNFhS"
      },
      "source": [
        "class KNearestNeighbor(object):\n",
        "\n",
        "    def __init__(self):\n",
        "        pass\n",
        "\n",
        "    #Training\n",
        "    def train(self, X, y):\n",
        "        \"\"\"\n",
        "        Inputs:\n",
        "        - X: X_train (num_train, D)\n",
        "        - y: Y_train (N,) labels.\n",
        "        \"\"\"\n",
        "        self.X_train = X\n",
        "        self.y_train = y\n",
        "\n",
        "    def predict(self, X, k=1):\n",
        "        \"\"\"\n",
        "        dự đoán\n",
        "\n",
        "        Inputs:\n",
        "        - X: X_test (num_test, D)\n",
        "        - k: số lượng điểm dữ liệu đưa vào dự đoán\n",
        "\n",
        "        Returns:\n",
        "        - y: y_pred (num_test,) là labels kết quả\n",
        "        \"\"\"\n",
        "        dists = self.compute_distances_no_loops(X)\n",
        "\n",
        "        return self.predict_labels(dists, k=k)\n",
        "\n",
        "    def compute_distances_no_loops(self, X):\n",
        "        \"\"\"\n",
        "        tính khoảng cách theo công thức L2\n",
        "        \"\"\"\n",
        "        num_test = X.shape[0]\n",
        "        num_train = self.X_train.shape[0]\n",
        "        dists = np.zeros((num_test, num_train))\n",
        "        dists = np.sqrt((X ** 2).sum(axis=1, keepdims=1) + (self.X_train ** 2).sum(axis=1) - 2 * X.dot(self.X_train.T))\n",
        "\n",
        "        return dists\n",
        "\n",
        "    def predict_labels(self, dists, k=1):\n",
        "        \"\"\"\n",
        "        tính khoảng cách dựa theo công thức trên\n",
        "        \"\"\"\n",
        "        num_test = dists.shape[0]\n",
        "        y_pred = np.zeros(num_test)\n",
        "        for i in range(num_test):\n",
        "            # danh sách khoảng k điểm (có label) gần nhất\n",
        "            closest_y = []\n",
        "            #sắp xếp theo trục đã chọn\n",
        "            closest_y = self.y_train[np.argsort(dists[i])][0:k]\n",
        "            #chuyển dữ liệu cột sang kiểu số nguyên\n",
        "            closest_y = closest_y.astype(int)\n",
        "             #chuyển mảng nhiều thành mảng 1 chiều\n",
        "            closest_y = np.ravel(closest_y)\n",
        "            #đếm tần số của mảng số nguyên xuất hiện trong closest_y và lấy max\n",
        "            y_pred[i] = np.bincount(closest_y).argmax() \n",
        "        return y_pred"
      ],
      "execution_count": null,
      "outputs": []
    },
    {
      "cell_type": "code",
      "metadata": {
        "id": "v3cDsOjB_CSQ"
      },
      "source": [
        "#do sai shape data nên em chưa fix phần này\n",
        "import cv2 as cv\n",
        "folder = ('./drive/MyDrive/Colab Notebooks/public_save')\n",
        "Labels = ['00001','00003','00005','00006','00007','00009','00011','00029','00032','00033','00034','00035','00036','00038']\n",
        "classifier2 = KNearestNeighbor()\n",
        "classifier2.train(X_train, y_train)\n",
        "y_pred = []\n",
        "for test in X_test:\n",
        "    print(test.shape)\n",
        "    test = np.reshape(test (1, test.shape[0]*test.shape[1]))\n",
        "    dists2 = classifier2.compute_distances_no_loops(test)\n",
        "    # Test implementation:\n",
        "    y_pred.append(classifier2.predict_labels(dists2, k = 1))\n",
        "print(y_pred)"
      ],
      "execution_count": null,
      "outputs": []
    },
    {
      "cell_type": "code",
      "metadata": {
        "id": "XJY2T5OJH63E"
      },
      "source": [
        "import cv2\n",
        "from google.colab.patches import cv2_imshow\n",
        "folder = ('./drive/MyDrive/Colab Notebooks/public_save')\n",
        "Labels = ['00001','00003','00005','00006','00007','00009','00011','00029','00032','00033','00034','00035','00036','00038']\n",
        "classifier2 = KNearestNeighbor()\n",
        "classifier2.train(X_train, y_train)\n",
        "img_pred = []\n",
        "for f in folder:\n",
        "    img = cv2.imread(f, 0)\n",
        "    cv2_imshow(img)\n",
        "    img = cv2.resize(img, (64, 64))\n",
        "    print(img.shape)\n",
        "    img = cv2.equalizeHist(img)    # Điều chỉnh độ tương phản của ảnh\n",
        "    img = np.array(img)\n",
        "    img = np.reshape(img, (1, img.shape[0]*img.shape[1]))\n",
        "    dists2 = classifier2.compute_distances_no_loops(img)\n",
        "    print(dists2.shape)\n",
        "    # Test implementation:\n",
        "    y_test_pred = classifier2.predict_label(dists2, k=1)\n",
        "    print(y_test_pred)\n",
        "    l = 0\n",
        "    for i in y_test_pred:\n",
        "        l = l + 1\n",
        "        if i == 1:\n",
        "            img_pred.append(l)\n",
        "print(img_pred)"
      ],
      "execution_count": null,
      "outputs": []
    },
    {
      "cell_type": "markdown",
      "metadata": {
        "id": "ikYolOh19mve"
      },
      "source": [
        "**KNN với k = 20** được kết quả 0.83\n",
        "\n",
        "**KNN với k = 14** được kết quả 0.85\n",
        "\n",
        "**KNN với k = 1** được kết quả 0.98"
      ]
    },
    {
      "cell_type": "markdown",
      "metadata": {
        "id": "Sy6YVTLNyKuL"
      },
      "source": [
        "# Logicstic Regression"
      ]
    },
    {
      "cell_type": "markdown",
      "metadata": {
        "id": "-IZSguZcC6w0"
      },
      "source": [
        "**Em tham khảo nhưng chưa hoàn thiện được vì chưa xử lí đúng được đầu vào**"
      ]
    },
    {
      "cell_type": "code",
      "metadata": {
        "id": "Sm2db0eg8q50",
        "colab": {
          "base_uri": "https://localhost:8080/"
        },
        "outputId": "f491a2a6-183f-4084-8803-95f6d89656b7"
      },
      "source": [
        "!pip install jovian --upgrade --quiet"
      ],
      "execution_count": null,
      "outputs": [
        {
          "output_type": "stream",
          "text": [
            "\u001b[?25l\r\u001b[K     |████▊                           | 10kB 15.4MB/s eta 0:00:01\r\u001b[K     |█████████▌                      | 20kB 21.2MB/s eta 0:00:01\r\u001b[K     |██████████████▎                 | 30kB 17.2MB/s eta 0:00:01\r\u001b[K     |███████████████████             | 40kB 15.1MB/s eta 0:00:01\r\u001b[K     |███████████████████████▉        | 51kB 8.2MB/s eta 0:00:01\r\u001b[K     |████████████████████████████▋   | 61kB 9.4MB/s eta 0:00:01\r\u001b[K     |████████████████████████████████| 71kB 4.2MB/s \n",
            "\u001b[?25h  Building wheel for uuid (setup.py) ... \u001b[?25l\u001b[?25hdone\n"
          ],
          "name": "stdout"
        }
      ]
    },
    {
      "cell_type": "code",
      "metadata": {
        "id": "UCrx1JvPyPxO"
      },
      "source": [
        "# Imports\n",
        "import cv2 \n",
        "import glob\n",
        "import os\n",
        "import jovian\n",
        "from keras.utils import np_utils\n",
        "from sklearn.model_selection import train_test_split\n",
        "import torch\n",
        "import torchvision\n",
        "import string\n",
        "import torch.nn as nn\n",
        "import matplotlib.pyplot as plt\n",
        "import torch.nn.functional as F\n",
        "import pandas as pd\n",
        "import numpy as np\n",
        "from torch.utils.data import random_split\n",
        "from torch.utils.data import DataLoader\n",
        "from torch.utils.data import TensorDataset"
      ],
      "execution_count": null,
      "outputs": []
    },
    {
      "cell_type": "code",
      "metadata": {
        "id": "ukGFClLP7xwZ"
      },
      "source": [
        "# các hằng số chính\n",
        "batch_size = 256\n",
        "learning_rate = 1e-5\n",
        "\n",
        "# hằng số khác\n",
        "input_size = 28*28\n",
        "num_classes = 214"
      ],
      "execution_count": null,
      "outputs": []
    },
    {
      "cell_type": "code",
      "metadata": {
        "id": "mmcbYanmD8ke"
      },
      "source": [
        "#load data\n",
        "X_train = []\n",
        "y_train = []\n",
        "y_labels = []\n",
        "X_val = []\n",
        "y_val = []\n",
        "folder_name = ['00001','00003','00005','00006','00007','00009','00011','00029','00032','00033','00034','00035','00036','00038']\n",
        "for i in range(len(folder_name)):\n",
        "    img_dir = \"./drive/MyDrive/Colab Notebooks/content/Train/\" + str(folder_name[i]) \n",
        "    data_path = os.path.join(img_dir,'*g')\n",
        "    files = glob.glob(data_path)\n",
        "    tmp_length = 0\n",
        "    for f in files:\n",
        "        #đọc ảnh ở thang màu xám\n",
        "        img = cv2.imread(f, cv2.IMREAD_GRAYSCALE)\n",
        "        img = cv2.resize(img, (28,28))\n",
        "        #điều chỉnh tương phản ảnh\n",
        "        img = cv2.equalizeHist(img)\n",
        "        X_train.append(img)\n",
        "        tmp_length+=1\n",
        "    y_train.extend([i]*tmp_length)\n",
        "    y_labels.append(folder_name[i])\n",
        "\n",
        "#chuyển vector thành ma trận nhị phân\n",
        "y_train = np_utils.to_categorical(y = y_train , num_classes = 14)\n",
        "y_val = np_utils.to_categorical(y = y_val, num_classes = 14)\n",
        "#định dạng X_train thành các hàng\n",
        "X_train = np.array(X_train).reshape(len(X_train), 28, 28, 1)"
      ],
      "execution_count": null,
      "outputs": []
    },
    {
      "cell_type": "code",
      "metadata": {
        "id": "XQWMre_l-JxV"
      },
      "source": [
        "#chia mảng thành mảng huấn luyện và đánh giá\n",
        "X_train, X_val, y_train, y_val = train_test_split(X_train, y_train, test_size=0.1, random_state=1)"
      ],
      "execution_count": null,
      "outputs": []
    },
    {
      "cell_type": "code",
      "metadata": {
        "id": "wwR8hmRR81K3",
        "colab": {
          "base_uri": "https://localhost:8080/"
        },
        "outputId": "31bdc84c-3d8d-49a6-dfd2-78fd8744dfff"
      },
      "source": [
        "print(X_train.shape)\n",
        "print(y_train.shape)\n",
        "print(X_val.shape)\n",
        "print(y_val.shape)"
      ],
      "execution_count": null,
      "outputs": [
        {
          "output_type": "stream",
          "text": [
            "(7675, 784)\n",
            "(7675, 14)\n",
            "(853, 784)\n",
            "(853, 14)\n"
          ],
          "name": "stdout"
        }
      ]
    },
    {
      "cell_type": "code",
      "metadata": {
        "id": "7yDkxorjB0gs",
        "colab": {
          "base_uri": "https://localhost:8080/"
        },
        "outputId": "89f6c350-748e-4f28-d43f-47c6b536812a"
      },
      "source": [
        "num_rows = X_train.shape[0]\n",
        "print(num_rows)"
      ],
      "execution_count": null,
      "outputs": [
        {
          "output_type": "stream",
          "text": [
            "7675\n"
          ],
          "name": "stdout"
        }
      ]
    },
    {
      "cell_type": "code",
      "metadata": {
        "id": "OsBBrIa1DQlp",
        "colab": {
          "base_uri": "https://localhost:8080/",
          "height": 282
        },
        "outputId": "763bd12d-6018-49a8-fe0e-9a6e142a06b1"
      },
      "source": [
        "#thử in ra 1 ảnh\n",
        "pic1 = np.reshape(X_train[0], (28, 28))\n",
        "plt.imshow(pic1, cmap = \"gray\")\n",
        "print(\"Label: \", y_labels[0])"
      ],
      "execution_count": null,
      "outputs": [
        {
          "output_type": "stream",
          "text": [
            "Label:  00001\n"
          ],
          "name": "stdout"
        },
        {
          "output_type": "display_data",
          "data": {
            "image/png": "[encoded data removed]",
            "text/plain": [
              "<Figure size 432x288 with 1 Axes>"
            ]
          },
          "metadata": {
            "tags": [],
            "needs_background": "light"
          }
        }
      ]
    },
    {
      "cell_type": "code",
      "metadata": {
        "id": "MSV_0-bZDrF7"
      },
      "source": [
        "inputs = torch.from_numpy(X_train).float()\n",
        "targets = torch.from_numpy(y_train).long()\n",
        "testinputs = torch.from_numpy(X_val).float()\n",
        "testtargets = torch.from_numpy(y_val).long()"
      ],
      "execution_count": null,
      "outputs": []
    },
    {
      "cell_type": "code",
      "metadata": {
        "id": "a08dXE8dDyuK"
      },
      "source": [
        "# Dataloaders\n",
        "train_loader = DataLoader(X_train, batch_size, shuffle=True)\n",
        "val_loader = DataLoader(y_train, batch_size*2)\n",
        "test_loader = DataLoader(X_val, batch_size*2)"
      ],
      "execution_count": null,
      "outputs": []
    },
    {
      "cell_type": "code",
      "metadata": {
        "id": "d6GpAe4nD2uf",
        "colab": {
          "base_uri": "https://localhost:8080/",
          "height": 282
        },
        "outputId": "7e7f0d58-272c-49df-b513-fa56fe9358ff"
      },
      "source": [
        "img, label = X_train[0], y_train[0]\n",
        "plt.imshow(img.reshape((28,28)), cmap = 'gray')\n",
        "print(\"Label: \", label)"
      ],
      "execution_count": null,
      "outputs": [
        {
          "output_type": "stream",
          "text": [
            "Label:  [0. 0. 0. 0. 0. 1. 0. 0. 0. 0. 0. 0. 0. 0.]\n"
          ],
          "name": "stdout"
        },
        {
          "output_type": "display_data",
          "data": {
            "image/png": "[encoded data removed]",
            "text/plain": [
              "<Figure size 432x288 with 1 Axes>"
            ]
          },
          "metadata": {
            "tags": [],
            "needs_background": "light"
          }
        }
      ]
    },
    {
      "cell_type": "code",
      "metadata": {
        "id": "xML84Ckyzg6_"
      },
      "source": [
        "class LRModel(nn.Module):\n",
        "    def __init__(self):\n",
        "        super().__init__()\n",
        "        self.linear = nn.Linear(input_size, num_classes)\n",
        "        \n",
        "    def forward(self, xb):\n",
        "        xb = xb.reshape(-1, 784)\n",
        "        out = self.linear(xb)\n",
        "        return out\n",
        "    \n",
        "    def training_step(self, batch):\n",
        "        images, labels = batch \n",
        "        out = self(images)                  # Dự đoán\n",
        "        loss = F.cross_entropy(out, labels) # tính loss\n",
        "        return loss\n",
        "    \n",
        "    def validation_step(self, batch):\n",
        "        images, labels = batch, batch_size\n",
        "        out = self(images)                    # dự đoán\n",
        "        loss = F.cross_entropy(out, labels)   # tính loss\n",
        "        acc = accuracy(out, labels)           # tính độ chính xác\n",
        "        return {'val_loss': loss.detach(), 'val_acc': acc.detach()}\n",
        "        \n",
        "    def validation_epoch_end(self, outputs):\n",
        "        batch_losses = [x['val_loss'] for x in outputs]\n",
        "        epoch_loss = torch.stack(batch_losses).mean()   # các loss\n",
        "        batch_accs = [x['val_acc'] for x in outputs]\n",
        "        epoch_acc = torch.stack(batch_accs).mean()      # độ chính xác\n",
        "        return {'val_loss': epoch_loss.item(), 'val_acc': epoch_acc.item()}\n",
        "    \n",
        "    def epoch_end(self, epoch, result):\n",
        "        print(\"Epoch [{}], val_loss: {:.4f}, val_acc: {:.4f}\".format(epoch, result['val_loss'], result['val_acc']))\n",
        "    \n",
        "model = LRModel()"
      ],
      "execution_count": null,
      "outputs": []
    },
    {
      "cell_type": "code",
      "metadata": {
        "id": "sh-PGu-YEYag"
      },
      "source": [
        "def accuracy(outputs, labels):\n",
        "    _, preds = torch.max(outputs, dim=1)\n",
        "    return torch.tensor(torch.sum(preds == labels).item() / len(preds))"
      ],
      "execution_count": null,
      "outputs": []
    },
    {
      "cell_type": "code",
      "metadata": {
        "id": "q1C8SepCEdiC"
      },
      "source": [
        "def evaluate(model, val_loader):\n",
        "    outputs = [model.validation_step(batch) for batch in val_loader]\n",
        "    return model.validation_epoch_end(outputs)\n",
        "\n",
        "def fit(epochs, lr, model, train_loader, val_loader, opt_func=torch.optim.SGD):\n",
        "    history = []\n",
        "    optimizer = opt_func(model.parameters(), lr)\n",
        "    for epoch in range(epochs):\n",
        "        # Training\n",
        "        for batch in train_loader:\n",
        "            loss = model.training_step(batch)\n",
        "            loss.backward()\n",
        "            optimizer.step()\n",
        "            optimizer.zero_grad()\n",
        "        # Validation\n",
        "        result = evaluate(model, val_loader)\n",
        "        model.epoch_end(epoch, result)\n",
        "        history.append(result)\n",
        "    return history"
      ],
      "execution_count": null,
      "outputs": []
    },
    {
      "cell_type": "code",
      "metadata": {
        "id": "-EJKA0f5Ee-f"
      },
      "source": [
        "evaluate(model, val_loader)"
      ],
      "execution_count": null,
      "outputs": []
    }
  ]
}