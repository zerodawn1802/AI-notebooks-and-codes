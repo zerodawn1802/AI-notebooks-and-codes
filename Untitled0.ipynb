{
  "nbformat": 4,
  "nbformat_minor": 0,
  "metadata": {
    "colab": {
      "name": "Untitled0.ipynb",
      "provenance": []
    },
    "kernelspec": {
      "display_name": "Python 3",
      "name": "python3"
    },
    "language_info": {
      "name": "python"
    }
  },
  "cells": [
    {
      "cell_type": "code",
      "metadata": {
        "id": "mXZ_PhoKexba"
      },
      "source": [
        "import os\n",
        "import glob\n",
        "import numpy as np\n",
        "from keras.utils import np_utils\n",
        "from sklearn.model_selection import train_test_split\n",
        "from PIL import Image,ImageOps\n",
        "import matplotlib.pyplot as plt\n",
        "%matplotlib inline"
      ],
      "execution_count": null,
      "outputs": []
    },
    {
      "cell_type": "code",
      "metadata": {
        "colab": {
          "base_uri": "https://localhost:8080/"
        },
        "id": "psmWeGFbe5tR",
        "outputId": "7af73773-d582-4f7a-fc7c-a70d8d7b1ab9"
      },
      "source": [
        "base_dir = './drive/MyDrive/Colab Notebooks/content/'\n",
        "directory = os.listdir(base_dir)\n",
        "directory"
      ],
      "execution_count": null,
      "outputs": [
        {
          "output_type": "execute_result",
          "data": {
            "text/plain": [
              "['Train']"
            ]
          },
          "metadata": {
            "tags": []
          },
          "execution_count": 2
        }
      ]
    },
    {
      "cell_type": "code",
      "metadata": {
        "id": "gqN8B3bqe6OO"
      },
      "source": [
        "train_dir = base_dir + 'Train/'"
      ],
      "execution_count": null,
      "outputs": []
    },
    {
      "cell_type": "code",
      "metadata": {
        "colab": {
          "base_uri": "https://localhost:8080/"
        },
        "id": "mnDemXiSfArt",
        "outputId": "36e12ef6-37b7-49ef-bbfd-bbdf3816946b"
      },
      "source": [
        "CLASSES = os.listdir(train_dir)\n",
        "for imgType in CLASSES:\n",
        "    imgTypePath = train_dir + \"/\" + imgType + \"/\"\n",
        "    print(\"CLASS: \" + imgType + \", Total images: \" + str(len(os.listdir(imgTypePath))))"
      ],
      "execution_count": null,
      "outputs": [
        {
          "output_type": "stream",
          "text": [
            "CLASS: 00035, Total images: 739\n",
            "CLASS: 00011, Total images: 829\n",
            "CLASS: 00033, Total images: 409\n",
            "CLASS: 00034, Total images: 229\n",
            "CLASS: 00007, Total images: 889\n",
            "CLASS: 00038, Total images: 1309\n",
            "CLASS: 00032, Total images: 109\n",
            "CLASS: 00029, Total images: 109\n",
            "CLASS: 00009, Total images: 919\n",
            "CLASS: 00036, Total images: 199\n",
            "CLASS: 00001, Total images: 1429\n",
            "CLASS: 00005, Total images: 1189\n",
            "CLASS: 00003, Total images: 889\n",
            "CLASS: 00006, Total images: 229\n"
          ],
          "name": "stdout"
        }
      ]
    },
    {
      "cell_type": "code",
      "metadata": {
        "id": "4vut4JU5fNdZ"
      },
      "source": [
        "def convert_to_grayscale(img):\n",
        "    #Convert to grayscale\n",
        "    return ImageOps.grayscale(img) #Return gray scale image object using ImageOps.\n",
        "\n",
        "def reshape_img(img, target_size=(150,150)):\n",
        "    #Reshape any image to a fixed shape\n",
        "    return img.resize(target_size) #Hint: Use resize() API on image object and pass target size param.\n",
        "\n",
        "def display_numpy_img(np_img, img_name=\"Transformed image\"):\n",
        "    plt.figure(figsize = (6,6))\n",
        "    plt.imshow(np_img, cmap='gray')\n",
        "    plt.title(img_name)\n",
        "    \n",
        "def transform_image(img_file_path):\n",
        "    img_obj = Image.open(img_file_path)\n",
        "    #print(img_obj.format)\n",
        "    #print(np.array(img_obj).shape)\n",
        "    #Perform transformations in series\n",
        "    img_obj = convert_to_grayscale(img_obj)\n",
        "    img_obj = reshape_img(img_obj, (150,150))\n",
        "    np_arr_img = np.array(img_obj)\n",
        "    return np_arr_img\n",
        "\n",
        "def load_dir_to_numpy(dir_path, maxImgs=1500):\n",
        "    file_list = glob.glob(dir_path+'/*')\n",
        "    imgs = []\n",
        "    #Load image by image\n",
        "    imgCount=0\n",
        "    for fname in file_list:\n",
        "        if imgCount>=maxImgs:\n",
        "            break\n",
        "        img_np = transform_image(fname)\n",
        "        imgs.append(img_np)\n",
        "        imgCount = imgCount + 1\n",
        "    np_imgs = np.array(imgs)\n",
        "    return np_imgs\n",
        "\n",
        "def prepare_image_data(dir_path, MAX_IMGS):\n",
        "    imgs_arr_X = []\n",
        "    data_arr_y = []\n",
        "    classIdx = 0;\n",
        "    for imgType in CLASSES:\n",
        "        IMG_DIR = dir_path + \"/\" + imgType + \"/\"\n",
        "        #  print(\"IMG_DIR: \" + IMG_DIR)\n",
        "        imgs_arr = load_dir_to_numpy(IMG_DIR, MAX_IMGS)\n",
        "        #print(imgType + \": \" + str(imgs_arr.shape))\n",
        "        imgs_arr_X.extend(imgs_arr)\n",
        "        data_y = np.full((imgs_arr.shape[0],1), classIdx)\n",
        "        data_arr_y.extend(data_y)\n",
        "        classIdx += 1\n",
        "    np_img_arr_X = np.array(imgs_arr_X)\n",
        "    np_data_arr_y = np.array(data_arr_y)\n",
        "    return np_img_arr_X,np_data_arr_y"
      ],
      "execution_count": null,
      "outputs": []
    },
    {
      "cell_type": "code",
      "metadata": {
        "colab": {
          "base_uri": "https://localhost:8080/"
        },
        "id": "TWuYTySyfPA7",
        "outputId": "cac21c71-2f57-4474-a383-8f59eafd7d42"
      },
      "source": [
        "train_np_x,train_np_y = prepare_image_data(train_dir, 8500)\n",
        "train_np_x,test_np_x,train_np_y,test_np_y = train_test_split(train_np_x, train_np_y, test_size=0.1, random_state=1)\n",
        "print('train_np_x.shape:', train_np_x.shape)\n",
        "print('train_np_y.shape:', train_np_y.shape)"
      ],
      "execution_count": null,
      "outputs": [
        {
          "output_type": "stream",
          "text": [
            "train_np_x.shape: (8528, 150, 150)\n",
            "train_np_y.shape: (8528, 1)\n"
          ],
          "name": "stdout"
        }
      ]
    },
    {
      "cell_type": "code",
      "metadata": {
        "colab": {
          "base_uri": "https://localhost:8080/"
        },
        "id": "k92rLYMpfTXn",
        "outputId": "502f4a23-349b-4293-a9ea-7b57ca9404ad"
      },
      "source": [
        "train_size = train_np_x.shape[0]\n",
        "train_np_x = train_np_x.reshape((train_size, -1))\n",
        "print('After reshaping, train_np_x.shape:', train_np_x.shape)"
      ],
      "execution_count": null,
      "outputs": [
        {
          "output_type": "stream",
          "text": [
            "After reshaping, train_np_x.shape: (8528, 22500)\n"
          ],
          "name": "stdout"
        }
      ]
    },
    {
      "cell_type": "code",
      "metadata": {
        "id": "0wcV3HySfh3T"
      },
      "source": [
        "from sklearn.linear_model import SGDClassifier\n",
        "model = SGDClassifier()"
      ],
      "execution_count": null,
      "outputs": []
    },
    {
      "cell_type": "code",
      "metadata": {
        "colab": {
          "base_uri": "https://localhost:8080/"
        },
        "id": "o__aF9aDfkCE",
        "outputId": "8666961b-756a-4121-9650-5089f8dfc6f5"
      },
      "source": [
        "model.fit(train_np_x, train_np_y.reshape(-1))"
      ],
      "execution_count": null,
      "outputs": [
        {
          "output_type": "execute_result",
          "data": {
            "text/plain": [
              "SGDClassifier(alpha=0.0001, average=False, class_weight=None,\n",
              "              early_stopping=False, epsilon=0.1, eta0=0.0, fit_intercept=True,\n",
              "              l1_ratio=0.15, learning_rate='optimal', loss='hinge',\n",
              "              max_iter=1000, n_iter_no_change=5, n_jobs=None, penalty='l2',\n",
              "              power_t=0.5, random_state=None, shuffle=True, tol=0.001,\n",
              "              validation_fraction=0.1, verbose=0, warm_start=False)"
            ]
          },
          "metadata": {
            "tags": []
          },
          "execution_count": 9
        }
      ]
    },
    {
      "cell_type": "code",
      "metadata": {
        "colab": {
          "base_uri": "https://localhost:8080/"
        },
        "id": "exjPycT6fqAP",
        "outputId": "dd2827b0-0886-4eba-ef31-7f3eb73e91c6"
      },
      "source": [
        "test_size = test_np_x.shape[0]\n",
        "test_np_x = test_np_x.reshape((test_size, -1))\n",
        "print('Test shape:', test_np_x.shape)"
      ],
      "execution_count": null,
      "outputs": [
        {
          "output_type": "stream",
          "text": [
            "Test shape: (948, 22500)\n"
          ],
          "name": "stdout"
        }
      ]
    },
    {
      "cell_type": "code",
      "metadata": {
        "id": "voniroc6fqWK"
      },
      "source": [
        "# Get predicted values for 'test_np_x' using trained 'model' \n",
        "predicted_y = model.predict(test_np_x)"
      ],
      "execution_count": null,
      "outputs": []
    },
    {
      "cell_type": "code",
      "metadata": {
        "colab": {
          "base_uri": "https://localhost:8080/"
        },
        "id": "ziT9-fIRfvNm",
        "outputId": "6389d17d-5e85-443d-cd40-4e903270d1d8"
      },
      "source": [
        "from sklearn.metrics import accuracy_score,classification_report,confusion_matrix\n",
        "actual_y = test_np_y.reshape(-1)\n",
        "print('Accuracy Score:', accuracy_score(actual_y, predicted_y))"
      ],
      "execution_count": null,
      "outputs": [
        {
          "output_type": "stream",
          "text": [
            "Accuracy Score: 0.9335443037974683\n"
          ],
          "name": "stdout"
        }
      ]
    },
    {
      "cell_type": "code",
      "metadata": {
        "colab": {
          "base_uri": "https://localhost:8080/"
        },
        "id": "Rgqouocgfx8m",
        "outputId": "4ff22fe1-24c3-4626-829d-c871718cd9a9"
      },
      "source": [
        "print(classification_report(actual_y, predicted_y))"
      ],
      "execution_count": null,
      "outputs": [
        {
          "output_type": "stream",
          "text": [
            "              precision    recall  f1-score   support\n",
            "\n",
            "           0       0.94      0.97      0.95        74\n",
            "           1       1.00      0.95      0.97        93\n",
            "           2       1.00      0.97      0.99        39\n",
            "           3       0.94      0.94      0.94        31\n",
            "           4       0.94      0.93      0.94        88\n",
            "           5       1.00      0.93      0.96       129\n",
            "           6       0.86      0.71      0.77        17\n",
            "           7       1.00      0.94      0.97        18\n",
            "           8       0.91      0.95      0.93        78\n",
            "           9       0.95      0.95      0.95        19\n",
            "          10       0.91      0.98      0.94       124\n",
            "          11       0.85      0.93      0.89       119\n",
            "          12       0.90      0.85      0.87        91\n",
            "          13       1.00      0.93      0.96        28\n",
            "\n",
            "    accuracy                           0.93       948\n",
            "   macro avg       0.94      0.92      0.93       948\n",
            "weighted avg       0.94      0.93      0.93       948\n",
            "\n"
          ],
          "name": "stdout"
        }
      ]
    },
    {
      "cell_type": "code",
      "metadata": {
        "colab": {
          "base_uri": "https://localhost:8080/"
        },
        "id": "BQLDyTPKf1a_",
        "outputId": "846bf25f-256a-43f1-d93e-179107156a13"
      },
      "source": [
        "print(confusion_matrix(actual_y, predicted_y))"
      ],
      "execution_count": null,
      "outputs": [
        {
          "output_type": "stream",
          "text": [
            "[[ 72   0   0   0   0   0   0   0   0   1   1   0   0   0]\n",
            " [  0  88   0   0   0   0   0   0   2   0   2   1   0   0]\n",
            " [  0   0  38   0   1   0   0   0   0   0   0   0   0   0]\n",
            " [  1   0   0  29   0   0   0   0   0   0   1   0   0   0]\n",
            " [  0   0   0   0  82   0   0   0   0   0   1   3   2   0]\n",
            " [  0   0   0   1   1 120   1   0   2   0   2   2   0   0]\n",
            " [  0   0   0   0   0   0  12   0   0   0   2   2   1   0]\n",
            " [  0   0   0   0   0   0   1  17   0   0   0   0   0   0]\n",
            " [  1   0   0   1   0   0   0   0  74   0   0   1   1   0]\n",
            " [  1   0   0   0   0   0   0   0   0  18   0   0   0   0]\n",
            " [  0   0   0   0   1   0   0   0   0   0 121   2   0   0]\n",
            " [  1   0   0   0   0   0   0   0   2   0   0 111   5   0]\n",
            " [  1   0   0   0   1   0   0   0   1   0   3   8  77   0]\n",
            " [  0   0   0   0   1   0   0   0   0   0   0   1   0  26]]\n"
          ],
          "name": "stdout"
        }
      ]
    },
    {
      "cell_type": "code",
      "metadata": {
        "id": "K49U821Nwig6"
      },
      "source": [
        "import cv2 as cv\n",
        "y_pred = []\n",
        "path_test  = glob.glob('./drive/MyDrive/Colab Notebooks/public_save')\n",
        "for img in path_test:\n",
        "    x = cv.imread(img)\n",
        "    x = cv.resize(x, (64, 64))\n",
        "    n = np.asarray(x)\n",
        "    y_pred.append(n)\n",
        "y_pred = np.asarray(y_pred).reshape(-1, 64, 64, 3)\n",
        "y_pred_size = y_pred.shape[0]\n",
        "y_pred = y_pred.reshape((y_pred_size, -1))"
      ],
      "execution_count": null,
      "outputs": []
    },
    {
      "cell_type": "code",
      "metadata": {
        "colab": {
          "base_uri": "https://localhost:8080/",
          "height": 340
        },
        "id": "ea15S6oo1C7d",
        "outputId": "a6f088fd-8c85-4dbe-cb9d-f29cd1849c03"
      },
      "source": [
        "print(y_pred.shape)\n",
        "y_pred = model.predict(y_pred)"
      ],
      "execution_count": null,
      "outputs": [
        {
          "output_type": "stream",
          "text": [
            "(202, 12288)\n"
          ],
          "name": "stdout"
        },
        {
          "output_type": "error",
          "ename": "ValueError",
          "evalue": "ignored",
          "traceback": [
            "\u001b[0;31m---------------------------------------------------------------------------\u001b[0m",
            "\u001b[0;31mValueError\u001b[0m                                Traceback (most recent call last)",
            "\u001b[0;32m<ipython-input-18-2cf6d038402a>\u001b[0m in \u001b[0;36m<module>\u001b[0;34m()\u001b[0m\n\u001b[1;32m      1\u001b[0m \u001b[0mprint\u001b[0m\u001b[0;34m(\u001b[0m\u001b[0my_pred\u001b[0m\u001b[0;34m.\u001b[0m\u001b[0mshape\u001b[0m\u001b[0;34m)\u001b[0m\u001b[0;34m\u001b[0m\u001b[0;34m\u001b[0m\u001b[0m\n\u001b[0;32m----> 2\u001b[0;31m \u001b[0my_pred\u001b[0m \u001b[0;34m=\u001b[0m \u001b[0mmodel\u001b[0m\u001b[0;34m.\u001b[0m\u001b[0mpredict\u001b[0m\u001b[0;34m(\u001b[0m\u001b[0my_pred\u001b[0m\u001b[0;34m)\u001b[0m\u001b[0;34m\u001b[0m\u001b[0;34m\u001b[0m\u001b[0m\n\u001b[0m",
            "\u001b[0;32m/usr/local/lib/python3.7/dist-packages/sklearn/linear_model/_base.py\u001b[0m in \u001b[0;36mpredict\u001b[0;34m(self, X)\u001b[0m\n\u001b[1;32m    291\u001b[0m             \u001b[0mPredicted\u001b[0m \u001b[0;32mclass\u001b[0m \u001b[0mlabel\u001b[0m \u001b[0mper\u001b[0m \u001b[0msample\u001b[0m\u001b[0;34m.\u001b[0m\u001b[0;34m\u001b[0m\u001b[0;34m\u001b[0m\u001b[0m\n\u001b[1;32m    292\u001b[0m         \"\"\"\n\u001b[0;32m--> 293\u001b[0;31m         \u001b[0mscores\u001b[0m \u001b[0;34m=\u001b[0m \u001b[0mself\u001b[0m\u001b[0;34m.\u001b[0m\u001b[0mdecision_function\u001b[0m\u001b[0;34m(\u001b[0m\u001b[0mX\u001b[0m\u001b[0;34m)\u001b[0m\u001b[0;34m\u001b[0m\u001b[0;34m\u001b[0m\u001b[0m\n\u001b[0m\u001b[1;32m    294\u001b[0m         \u001b[0;32mif\u001b[0m \u001b[0mlen\u001b[0m\u001b[0;34m(\u001b[0m\u001b[0mscores\u001b[0m\u001b[0;34m.\u001b[0m\u001b[0mshape\u001b[0m\u001b[0;34m)\u001b[0m \u001b[0;34m==\u001b[0m \u001b[0;36m1\u001b[0m\u001b[0;34m:\u001b[0m\u001b[0;34m\u001b[0m\u001b[0;34m\u001b[0m\u001b[0m\n\u001b[1;32m    295\u001b[0m             \u001b[0mindices\u001b[0m \u001b[0;34m=\u001b[0m \u001b[0;34m(\u001b[0m\u001b[0mscores\u001b[0m \u001b[0;34m>\u001b[0m \u001b[0;36m0\u001b[0m\u001b[0;34m)\u001b[0m\u001b[0;34m.\u001b[0m\u001b[0mastype\u001b[0m\u001b[0;34m(\u001b[0m\u001b[0mnp\u001b[0m\u001b[0;34m.\u001b[0m\u001b[0mint\u001b[0m\u001b[0;34m)\u001b[0m\u001b[0;34m\u001b[0m\u001b[0;34m\u001b[0m\u001b[0m\n",
            "\u001b[0;32m/usr/local/lib/python3.7/dist-packages/sklearn/linear_model/_base.py\u001b[0m in \u001b[0;36mdecision_function\u001b[0;34m(self, X)\u001b[0m\n\u001b[1;32m    271\u001b[0m         \u001b[0;32mif\u001b[0m \u001b[0mX\u001b[0m\u001b[0;34m.\u001b[0m\u001b[0mshape\u001b[0m\u001b[0;34m[\u001b[0m\u001b[0;36m1\u001b[0m\u001b[0;34m]\u001b[0m \u001b[0;34m!=\u001b[0m \u001b[0mn_features\u001b[0m\u001b[0;34m:\u001b[0m\u001b[0;34m\u001b[0m\u001b[0;34m\u001b[0m\u001b[0m\n\u001b[1;32m    272\u001b[0m             raise ValueError(\"X has %d features per sample; expecting %d\"\n\u001b[0;32m--> 273\u001b[0;31m                              % (X.shape[1], n_features))\n\u001b[0m\u001b[1;32m    274\u001b[0m \u001b[0;34m\u001b[0m\u001b[0m\n\u001b[1;32m    275\u001b[0m         scores = safe_sparse_dot(X, self.coef_.T,\n",
            "\u001b[0;31mValueError\u001b[0m: X has 12288 features per sample; expecting 22500"
          ]
        }
      ]
    }
  ]
}