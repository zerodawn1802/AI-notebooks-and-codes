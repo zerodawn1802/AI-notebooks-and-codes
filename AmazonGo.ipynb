{
  "nbformat": 4,
  "nbformat_minor": 0,
  "metadata": {
    "colab": {
      "name": "AmazonGo.ipynb",
      "provenance": [],
      "collapsed_sections": []
    },
    "kernelspec": {
      "display_name": "Python 3",
      "name": "python3"
    },
    "language_info": {
      "name": "python"
    }
  },
  "cells": [
    {
      "cell_type": "code",
      "metadata": {
        "id": "lVXTVIRyd2yk"
      },
      "source": [
        "import tensorflow as tf\n",
        "from tensorflow import keras\n",
        "import matplotlib.pyplot as plt\n",
        "import numpy as np\n"
      ],
      "execution_count": null,
      "outputs": []
    },
    {
      "cell_type": "code",
      "metadata": {
        "colab": {
          "base_uri": "https://localhost:8080/"
        },
        "id": "s3JkeqXSeAYF",
        "outputId": "2d263002-26b1-4e87-c2d0-9eadb45e0a60"
      },
      "source": [
        "from google.colab import drive\n",
        "drive.mount('/content/drive/')"
      ],
      "execution_count": null,
      "outputs": [
        {
          "name": "stdout",
          "output_type": "stream",
          "text": [
            "Drive already mounted at /content/drive/; to attempt to forcibly remount, call drive.mount(\"/content/drive/\", force_remount=True).\n"
          ]
        }
      ]
    },
    {
      "cell_type": "code",
      "metadata": {
        "id": "FbEpjIy1eEno"
      },
      "source": [
        "import os\n",
        "train_image_files_path=\"/content/drive/My Drive/AmazonGo/Data/Train/\"\n",
        "valid_image_files_path=\"/content/drive/My Drive/AmazonGo/Data/Validation/\""
      ],
      "execution_count": null,
      "outputs": []
    },
    {
      "cell_type": "code",
      "metadata": {
        "id": "nYTuhKEieGiv"
      },
      "source": [
        "label=['BanhMy','BiaNuocNgot','HoaQua','Rau']"
      ],
      "execution_count": null,
      "outputs": []
    },
    {
      "cell_type": "code",
      "metadata": {
        "id": "8bS-ZQ5teIi-"
      },
      "source": [
        "from tensorflow.keras.preprocessing.image import ImageDataGenerator\n",
        "train_data_gen = ImageDataGenerator(rescale=1/255) #đọc và chuẩn hóa dữ liệu ảnh về 0-1\n",
        "validation_data_gen = ImageDataGenerator(rescale=1/255)"
      ],
      "execution_count": null,
      "outputs": []
    },
    {
      "cell_type": "code",
      "metadata": {
        "colab": {
          "base_uri": "https://localhost:8080/"
        },
        "id": "lsXlylggeLHC",
        "outputId": "87f4e05d-a5c3-4d5a-aef3-4844dd3ac238"
      },
      "source": [
        "train_generator = train_data_gen.flow_from_directory(\n",
        "    train_image_files_path,      #Đường dẫn tới ảnh huấn luyện\n",
        "    target_size=(150, 150),      #Biến đổi các ảnh huấn luyện về cùng một kích thước [150x150]\n",
        "    class_mode='categorical')    #Phân loại ảnh đa lớp (4 lớp)\n",
        "validation_generator = validation_data_gen.flow_from_directory(\n",
        "    valid_image_files_path,\n",
        "    target_size=(150, 150),\n",
        "    class_mode='categorical')"
      ],
      "execution_count": null,
      "outputs": [
        {
          "name": "stdout",
          "output_type": "stream",
          "text": [
            "Found 320 images belonging to 4 classes.\n",
            "Found 80 images belonging to 4 classes.\n"
          ]
        }
      ]
    },
    {
      "cell_type": "code",
      "metadata": {
        "id": "AMN2iYfXeOnu"
      },
      "source": [
        "from keras.models import Sequential\n",
        "from keras.layers import Dense, Dropout, Conv2D, MaxPooling2D, Flatten\n",
        "\n",
        "model=tf.keras.models.Sequential()\n",
        "\n",
        "#lớp CNN1\n",
        "model.add(Conv2D(32,(3,3), activation='relu',input_shape=(150,150,3)))\n",
        "model.add(MaxPooling2D(2,2))\n",
        "#lớp CNN2\n",
        "model.add(Conv2D(32,(3,3),activation='relu'))\n",
        "model.add(MaxPooling2D(2,2))\n",
        "#lớp CNN3\n",
        "model.add(Conv2D(64,(3,3),activation='relu'))\n",
        "model.add(MaxPooling2D(2,2))\n",
        "#lớp CNN4\n",
        "model.add(Conv2D(64,(3,3),activation='relu'))\n",
        "model.add(MaxPooling2D(2,2))\n",
        "#lớp CNN5\n",
        "model.add(Conv2D(128,(3,3),activation='relu'))\n",
        "model.add(MaxPooling2D(2,2))\n",
        "#Chuyển đầu ra dữ liệu của mạng CNN từ mảng 2 chiều về mảng 1 chiều\n",
        "model.add(Flatten())\n",
        "#lớp bỏ qua nhằm tăng hiệu quả của mạng nowrron, loại bỏ ngẫu nhiên một số nơron\n",
        "model.add(Dropout(0.5))\n",
        "#lớp ẩn\n",
        "model.add(Dense(512, activation=tf.nn.relu))\n",
        "#lớp output\n",
        "model.add(Dense(4, activation=tf.nn.softmax)) #4 đầu ra "
      ],
      "execution_count": null,
      "outputs": []
    },
    {
      "cell_type": "code",
      "metadata": {
        "id": "4bD8amUweQzV"
      },
      "source": [
        "from tensorflow.keras.optimizers import RMSprop\n",
        "model.compile(optimizer=RMSprop(learning_rate=0.001),\n",
        "              loss='categorical_crossentropy',\n",
        "              metrics=['acc'])"
      ],
      "execution_count": null,
      "outputs": []
    },
    {
      "cell_type": "code",
      "metadata": {
        "colab": {
          "base_uri": "https://localhost:8080/"
        },
        "id": "ETO_mHCJeUd3",
        "outputId": "ca99f7da-621c-4e1d-98c8-bad1e5c647d0"
      },
      "source": [
        "model.summary()\n",
        "EPOCHS=150\n",
        "history=model.fit(\n",
        "    train_generator,\n",
        "    steps_per_epoch=2,\n",
        "    epochs=EPOCHS,\n",
        "    verbose=1,\n",
        "    validation_data = validation_generator,\n",
        "    validation_steps=3)"
      ],
      "execution_count": null,
      "outputs": [
        {
          "name": "stdout",
          "output_type": "stream",
          "text": [
            "Model: \"sequential\"\n",
            "_________________________________________________________________\n",
            "Layer (type)                 Output Shape              Param #   \n",
            "=================================================================\n",
            "conv2d (Conv2D)              (None, 148, 148, 32)      896       \n",
            "_________________________________________________________________\n",
            "max_pooling2d (MaxPooling2D) (None, 74, 74, 32)        0         \n",
            "_________________________________________________________________\n",
            "conv2d_1 (Conv2D)            (None, 72, 72, 32)        9248      \n",
            "_________________________________________________________________\n",
            "max_pooling2d_1 (MaxPooling2 (None, 36, 36, 32)        0         \n",
            "_________________________________________________________________\n",
            "conv2d_2 (Conv2D)            (None, 34, 34, 64)        18496     \n",
            "_________________________________________________________________\n",
            "max_pooling2d_2 (MaxPooling2 (None, 17, 17, 64)        0         \n",
            "_________________________________________________________________\n",
            "conv2d_3 (Conv2D)            (None, 15, 15, 64)        36928     \n",
            "_________________________________________________________________\n",
            "max_pooling2d_3 (MaxPooling2 (None, 7, 7, 64)          0         \n",
            "_________________________________________________________________\n",
            "conv2d_4 (Conv2D)            (None, 5, 5, 128)         73856     \n",
            "_________________________________________________________________\n",
            "max_pooling2d_4 (MaxPooling2 (None, 2, 2, 128)         0         \n",
            "_________________________________________________________________\n",
            "flatten (Flatten)            (None, 512)               0         \n",
            "_________________________________________________________________\n",
            "dropout (Dropout)            (None, 512)               0         \n",
            "_________________________________________________________________\n",
            "dense (Dense)                (None, 512)               262656    \n",
            "_________________________________________________________________\n",
            "dense_1 (Dense)              (None, 4)                 2052      \n",
            "=================================================================\n",
            "Total params: 404,132\n",
            "Trainable params: 404,132\n",
            "Non-trainable params: 0\n",
            "_________________________________________________________________\n",
            "Epoch 1/150\n",
            "2/2 [==============================] - 4s 2s/step - loss: 1.4409 - acc: 0.1875 - val_loss: 1.3833 - val_acc: 0.2500\n",
            "Epoch 2/150\n",
            "2/2 [==============================] - 3s 2s/step - loss: 1.4001 - acc: 0.2031 - val_loss: 1.3785 - val_acc: 0.3750\n",
            "Epoch 3/150\n",
            "2/2 [==============================] - 3s 2s/step - loss: 1.3665 - acc: 0.3594 - val_loss: 1.2977 - val_acc: 0.3500\n",
            "Epoch 4/150\n",
            "2/2 [==============================] - 3s 2s/step - loss: 1.4936 - acc: 0.3125 - val_loss: 2.3556 - val_acc: 0.2500\n",
            "Epoch 5/150\n",
            "2/2 [==============================] - 3s 2s/step - loss: 1.7765 - acc: 0.2188 - val_loss: 1.3881 - val_acc: 0.1875\n",
            "Epoch 6/150\n",
            "2/2 [==============================] - 3s 2s/step - loss: 1.4000 - acc: 0.2031 - val_loss: 1.3145 - val_acc: 0.4125\n",
            "Epoch 7/150\n",
            "2/2 [==============================] - 3s 2s/step - loss: 1.2701 - acc: 0.6094 - val_loss: 1.2539 - val_acc: 0.4125\n",
            "Epoch 8/150\n",
            "2/2 [==============================] - 3s 2s/step - loss: 1.2317 - acc: 0.4688 - val_loss: 1.1507 - val_acc: 0.4125\n",
            "Epoch 9/150\n",
            "2/2 [==============================] - 3s 2s/step - loss: 1.0897 - acc: 0.4531 - val_loss: 1.3334 - val_acc: 0.2750\n",
            "Epoch 10/150\n",
            "2/2 [==============================] - 3s 2s/step - loss: 1.3020 - acc: 0.4531 - val_loss: 1.4598 - val_acc: 0.2750\n",
            "Epoch 11/150\n",
            "2/2 [==============================] - 3s 2s/step - loss: 1.3139 - acc: 0.3750 - val_loss: 1.1132 - val_acc: 0.4750\n",
            "Epoch 12/150\n",
            "2/2 [==============================] - 3s 2s/step - loss: 1.0962 - acc: 0.4062 - val_loss: 1.0781 - val_acc: 0.5250\n",
            "Epoch 13/150\n",
            "2/2 [==============================] - 3s 2s/step - loss: 1.0477 - acc: 0.4688 - val_loss: 1.2151 - val_acc: 0.3500\n",
            "Epoch 14/150\n",
            "2/2 [==============================] - 3s 2s/step - loss: 1.0237 - acc: 0.5312 - val_loss: 1.1314 - val_acc: 0.4250\n",
            "Epoch 15/150\n",
            "2/2 [==============================] - 3s 2s/step - loss: 1.0875 - acc: 0.5000 - val_loss: 1.0747 - val_acc: 0.4250\n",
            "Epoch 16/150\n",
            "2/2 [==============================] - 3s 2s/step - loss: 1.0293 - acc: 0.4844 - val_loss: 1.0458 - val_acc: 0.4000\n",
            "Epoch 17/150\n",
            "2/2 [==============================] - 3s 2s/step - loss: 1.2201 - acc: 0.4688 - val_loss: 1.1552 - val_acc: 0.4750\n",
            "Epoch 18/150\n",
            "2/2 [==============================] - 3s 2s/step - loss: 0.9428 - acc: 0.5781 - val_loss: 1.0835 - val_acc: 0.5000\n",
            "Epoch 19/150\n",
            "2/2 [==============================] - 3s 2s/step - loss: 0.8299 - acc: 0.6406 - val_loss: 1.1033 - val_acc: 0.5125\n",
            "Epoch 20/150\n",
            "2/2 [==============================] - 3s 2s/step - loss: 1.1152 - acc: 0.5469 - val_loss: 1.2355 - val_acc: 0.5625\n",
            "Epoch 21/150\n",
            "2/2 [==============================] - 3s 2s/step - loss: 0.9937 - acc: 0.5938 - val_loss: 1.0637 - val_acc: 0.5125\n",
            "Epoch 22/150\n",
            "2/2 [==============================] - 3s 2s/step - loss: 0.8937 - acc: 0.5625 - val_loss: 0.9568 - val_acc: 0.6250\n",
            "Epoch 23/150\n",
            "2/2 [==============================] - 3s 2s/step - loss: 1.0181 - acc: 0.6094 - val_loss: 1.3207 - val_acc: 0.4625\n",
            "Epoch 24/150\n",
            "2/2 [==============================] - 3s 2s/step - loss: 1.0140 - acc: 0.5000 - val_loss: 0.9185 - val_acc: 0.7500\n",
            "Epoch 25/150\n",
            "2/2 [==============================] - 3s 2s/step - loss: 0.8462 - acc: 0.6719 - val_loss: 0.8665 - val_acc: 0.5625\n",
            "Epoch 26/150\n",
            "2/2 [==============================] - 3s 2s/step - loss: 0.8248 - acc: 0.6094 - val_loss: 0.8082 - val_acc: 0.8250\n",
            "Epoch 27/150\n",
            "2/2 [==============================] - 3s 2s/step - loss: 0.6619 - acc: 0.7656 - val_loss: 0.8509 - val_acc: 0.5125\n",
            "Epoch 28/150\n",
            "2/2 [==============================] - 3s 2s/step - loss: 0.7532 - acc: 0.6406 - val_loss: 0.9328 - val_acc: 0.5500\n",
            "Epoch 29/150\n",
            "2/2 [==============================] - 3s 2s/step - loss: 1.0706 - acc: 0.5312 - val_loss: 0.9364 - val_acc: 0.5375\n",
            "Epoch 30/150\n",
            "2/2 [==============================] - 3s 2s/step - loss: 0.7844 - acc: 0.7656 - val_loss: 0.7903 - val_acc: 0.7875\n",
            "Epoch 31/150\n",
            "2/2 [==============================] - 3s 2s/step - loss: 0.6570 - acc: 0.7500 - val_loss: 0.9524 - val_acc: 0.7250\n",
            "Epoch 32/150\n",
            "2/2 [==============================] - 3s 2s/step - loss: 0.7070 - acc: 0.7188 - val_loss: 1.1623 - val_acc: 0.5250\n",
            "Epoch 33/150\n",
            "2/2 [==============================] - 3s 2s/step - loss: 0.7640 - acc: 0.7031 - val_loss: 0.7348 - val_acc: 0.7250\n",
            "Epoch 34/150\n",
            "2/2 [==============================] - 3s 2s/step - loss: 0.6728 - acc: 0.7969 - val_loss: 0.6429 - val_acc: 0.7500\n",
            "Epoch 35/150\n",
            "2/2 [==============================] - 3s 2s/step - loss: 0.5518 - acc: 0.8438 - val_loss: 0.8182 - val_acc: 0.6375\n",
            "Epoch 36/150\n",
            "2/2 [==============================] - 3s 2s/step - loss: 0.8602 - acc: 0.5938 - val_loss: 1.6681 - val_acc: 0.4750\n",
            "Epoch 37/150\n",
            "2/2 [==============================] - 3s 2s/step - loss: 1.2199 - acc: 0.5625 - val_loss: 0.7601 - val_acc: 0.7125\n",
            "Epoch 38/150\n",
            "2/2 [==============================] - 3s 2s/step - loss: 0.6312 - acc: 0.8125 - val_loss: 0.5891 - val_acc: 0.7750\n",
            "Epoch 39/150\n",
            "2/2 [==============================] - 3s 2s/step - loss: 0.4233 - acc: 0.8750 - val_loss: 0.6512 - val_acc: 0.8000\n",
            "Epoch 40/150\n",
            "2/2 [==============================] - 3s 2s/step - loss: 0.6006 - acc: 0.7344 - val_loss: 0.7206 - val_acc: 0.6750\n",
            "Epoch 41/150\n",
            "2/2 [==============================] - 3s 2s/step - loss: 0.5761 - acc: 0.8125 - val_loss: 0.8293 - val_acc: 0.6625\n",
            "Epoch 42/150\n",
            "2/2 [==============================] - 3s 2s/step - loss: 0.9006 - acc: 0.5938 - val_loss: 0.9998 - val_acc: 0.6250\n",
            "Epoch 43/150\n",
            "2/2 [==============================] - 3s 2s/step - loss: 0.4748 - acc: 0.8594 - val_loss: 0.5597 - val_acc: 0.7750\n",
            "Epoch 44/150\n",
            "2/2 [==============================] - 3s 2s/step - loss: 0.3711 - acc: 0.8906 - val_loss: 0.4238 - val_acc: 0.8250\n",
            "Epoch 45/150\n",
            "2/2 [==============================] - 3s 2s/step - loss: 0.3720 - acc: 0.8906 - val_loss: 0.4663 - val_acc: 0.8125\n",
            "Epoch 46/150\n",
            "2/2 [==============================] - 3s 2s/step - loss: 0.5396 - acc: 0.7656 - val_loss: 0.6123 - val_acc: 0.7375\n",
            "Epoch 47/150\n",
            "2/2 [==============================] - 3s 2s/step - loss: 0.4191 - acc: 0.8281 - val_loss: 0.6715 - val_acc: 0.7000\n",
            "Epoch 48/150\n",
            "2/2 [==============================] - 3s 2s/step - loss: 0.7998 - acc: 0.6875 - val_loss: 0.8588 - val_acc: 0.6125\n",
            "Epoch 49/150\n",
            "2/2 [==============================] - 3s 2s/step - loss: 0.7890 - acc: 0.6719 - val_loss: 0.6666 - val_acc: 0.7000\n",
            "Epoch 50/150\n",
            "2/2 [==============================] - 3s 2s/step - loss: 0.6035 - acc: 0.7344 - val_loss: 0.4397 - val_acc: 0.8250\n",
            "Epoch 51/150\n",
            "2/2 [==============================] - 3s 2s/step - loss: 0.3781 - acc: 0.8750 - val_loss: 0.4083 - val_acc: 0.8250\n",
            "Epoch 52/150\n",
            "2/2 [==============================] - 3s 2s/step - loss: 0.3349 - acc: 0.8281 - val_loss: 0.3616 - val_acc: 0.8625\n",
            "Epoch 53/150\n",
            "2/2 [==============================] - 3s 2s/step - loss: 0.2509 - acc: 0.9219 - val_loss: 0.5854 - val_acc: 0.7625\n",
            "Epoch 54/150\n",
            "2/2 [==============================] - 3s 2s/step - loss: 0.3781 - acc: 0.8281 - val_loss: 0.6140 - val_acc: 0.7375\n",
            "Epoch 55/150\n",
            "2/2 [==============================] - 3s 2s/step - loss: 0.4969 - acc: 0.7812 - val_loss: 0.7934 - val_acc: 0.7125\n",
            "Epoch 56/150\n",
            "2/2 [==============================] - 3s 2s/step - loss: 0.6985 - acc: 0.7656 - val_loss: 0.6620 - val_acc: 0.7500\n",
            "Epoch 57/150\n",
            "2/2 [==============================] - 3s 2s/step - loss: 0.1972 - acc: 0.9531 - val_loss: 0.4905 - val_acc: 0.8000\n",
            "Epoch 58/150\n",
            "2/2 [==============================] - 3s 2s/step - loss: 0.2591 - acc: 0.9062 - val_loss: 0.5245 - val_acc: 0.7750\n",
            "Epoch 59/150\n",
            "2/2 [==============================] - 3s 2s/step - loss: 0.4965 - acc: 0.8594 - val_loss: 0.4389 - val_acc: 0.8250\n",
            "Epoch 60/150\n",
            "2/2 [==============================] - 3s 2s/step - loss: 0.4316 - acc: 0.7969 - val_loss: 0.6830 - val_acc: 0.7375\n",
            "Epoch 61/150\n",
            "2/2 [==============================] - 3s 2s/step - loss: 0.5056 - acc: 0.8125 - val_loss: 0.5316 - val_acc: 0.7625\n",
            "Epoch 62/150\n",
            "2/2 [==============================] - 3s 2s/step - loss: 0.6719 - acc: 0.7812 - val_loss: 0.5756 - val_acc: 0.7750\n",
            "Epoch 63/150\n",
            "2/2 [==============================] - 3s 2s/step - loss: 0.3820 - acc: 0.8906 - val_loss: 0.4242 - val_acc: 0.8000\n",
            "Epoch 64/150\n",
            "2/2 [==============================] - 3s 2s/step - loss: 0.1661 - acc: 0.9531 - val_loss: 0.3635 - val_acc: 0.8250\n",
            "Epoch 65/150\n",
            "2/2 [==============================] - 3s 2s/step - loss: 0.2943 - acc: 0.8750 - val_loss: 0.4908 - val_acc: 0.8375\n",
            "Epoch 66/150\n",
            "2/2 [==============================] - 3s 2s/step - loss: 0.1693 - acc: 0.9219 - val_loss: 1.0181 - val_acc: 0.7000\n",
            "Epoch 67/150\n",
            "2/2 [==============================] - 3s 2s/step - loss: 1.1081 - acc: 0.7344 - val_loss: 2.1059 - val_acc: 0.6250\n",
            "Epoch 68/150\n",
            "2/2 [==============================] - 3s 2s/step - loss: 1.7431 - acc: 0.6406 - val_loss: 0.5082 - val_acc: 0.7500\n",
            "Epoch 69/150\n",
            "2/2 [==============================] - 3s 2s/step - loss: 0.3728 - acc: 0.9219 - val_loss: 0.3985 - val_acc: 0.7875\n",
            "Epoch 70/150\n",
            "2/2 [==============================] - 3s 2s/step - loss: 0.2271 - acc: 0.8906 - val_loss: 0.3452 - val_acc: 0.8250\n",
            "Epoch 71/150\n",
            "2/2 [==============================] - 3s 2s/step - loss: 0.1315 - acc: 0.9688 - val_loss: 0.3781 - val_acc: 0.8250\n",
            "Epoch 72/150\n",
            "2/2 [==============================] - 3s 2s/step - loss: 0.1753 - acc: 0.9062 - val_loss: 0.3894 - val_acc: 0.8125\n",
            "Epoch 73/150\n",
            "2/2 [==============================] - 3s 2s/step - loss: 0.2057 - acc: 0.9219 - val_loss: 0.3696 - val_acc: 0.8125\n",
            "Epoch 74/150\n",
            "2/2 [==============================] - 3s 2s/step - loss: 0.3249 - acc: 0.8750 - val_loss: 0.3491 - val_acc: 0.8625\n",
            "Epoch 75/150\n",
            "2/2 [==============================] - 3s 2s/step - loss: 0.4978 - acc: 0.8281 - val_loss: 1.2752 - val_acc: 0.5750\n",
            "Epoch 76/150\n",
            "2/2 [==============================] - 3s 2s/step - loss: 1.5473 - acc: 0.6406 - val_loss: 0.6296 - val_acc: 0.7000\n",
            "Epoch 77/150\n",
            "2/2 [==============================] - 3s 2s/step - loss: 0.5560 - acc: 0.7031 - val_loss: 0.4154 - val_acc: 0.8625\n",
            "Epoch 78/150\n",
            "2/2 [==============================] - 3s 2s/step - loss: 0.2857 - acc: 0.9062 - val_loss: 0.3416 - val_acc: 0.8750\n",
            "Epoch 79/150\n",
            "2/2 [==============================] - 3s 2s/step - loss: 0.3550 - acc: 0.8906 - val_loss: 0.3037 - val_acc: 0.8750\n",
            "Epoch 80/150\n",
            "2/2 [==============================] - 3s 2s/step - loss: 0.2264 - acc: 0.9219 - val_loss: 0.3639 - val_acc: 0.8625\n",
            "Epoch 81/150\n",
            "2/2 [==============================] - 3s 2s/step - loss: 0.5487 - acc: 0.7969 - val_loss: 0.6162 - val_acc: 0.7875\n",
            "Epoch 82/150\n",
            "2/2 [==============================] - 3s 2s/step - loss: 0.3860 - acc: 0.8594 - val_loss: 0.2984 - val_acc: 0.8375\n",
            "Epoch 83/150\n",
            "2/2 [==============================] - 3s 2s/step - loss: 0.1681 - acc: 0.9375 - val_loss: 0.4612 - val_acc: 0.8500\n",
            "Epoch 84/150\n",
            "2/2 [==============================] - 3s 2s/step - loss: 0.1922 - acc: 0.9531 - val_loss: 0.3856 - val_acc: 0.8625\n",
            "Epoch 85/150\n",
            "2/2 [==============================] - 3s 2s/step - loss: 0.3885 - acc: 0.8281 - val_loss: 0.3695 - val_acc: 0.8500\n",
            "Epoch 86/150\n",
            "2/2 [==============================] - 3s 2s/step - loss: 0.1174 - acc: 0.9688 - val_loss: 0.2315 - val_acc: 0.9250\n",
            "Epoch 87/150\n",
            "2/2 [==============================] - 3s 2s/step - loss: 0.1701 - acc: 0.9219 - val_loss: 0.3703 - val_acc: 0.8375\n",
            "Epoch 88/150\n",
            "2/2 [==============================] - 3s 2s/step - loss: 0.1689 - acc: 0.9219 - val_loss: 0.4649 - val_acc: 0.8000\n",
            "Epoch 89/150\n",
            "2/2 [==============================] - 3s 2s/step - loss: 0.1730 - acc: 0.9375 - val_loss: 0.2446 - val_acc: 0.9000\n",
            "Epoch 90/150\n",
            "2/2 [==============================] - 3s 2s/step - loss: 0.8669 - acc: 0.8438 - val_loss: 0.7243 - val_acc: 0.7375\n",
            "Epoch 91/150\n",
            "2/2 [==============================] - 3s 2s/step - loss: 0.5348 - acc: 0.8281 - val_loss: 0.2323 - val_acc: 0.9125\n",
            "Epoch 92/150\n",
            "2/2 [==============================] - 3s 2s/step - loss: 0.1507 - acc: 0.9531 - val_loss: 0.3041 - val_acc: 0.8375\n",
            "Epoch 93/150\n",
            "2/2 [==============================] - 3s 2s/step - loss: 0.2207 - acc: 0.9219 - val_loss: 0.2562 - val_acc: 0.8875\n",
            "Epoch 94/150\n",
            "2/2 [==============================] - 3s 2s/step - loss: 0.3572 - acc: 0.8125 - val_loss: 0.4786 - val_acc: 0.8375\n",
            "Epoch 95/150\n",
            "2/2 [==============================] - 3s 2s/step - loss: 0.3090 - acc: 0.8594 - val_loss: 0.5881 - val_acc: 0.8500\n",
            "Epoch 96/150\n",
            "2/2 [==============================] - 3s 2s/step - loss: 0.4122 - acc: 0.8594 - val_loss: 0.6095 - val_acc: 0.8375\n",
            "Epoch 97/150\n",
            "2/2 [==============================] - 3s 2s/step - loss: 0.3500 - acc: 0.9062 - val_loss: 0.2021 - val_acc: 0.9250\n",
            "Epoch 98/150\n",
            "2/2 [==============================] - 3s 2s/step - loss: 0.3815 - acc: 0.9062 - val_loss: 0.4372 - val_acc: 0.8250\n",
            "Epoch 99/150\n",
            "2/2 [==============================] - 3s 2s/step - loss: 0.8298 - acc: 0.7188 - val_loss: 0.8093 - val_acc: 0.7375\n",
            "Epoch 100/150\n",
            "2/2 [==============================] - 3s 2s/step - loss: 0.4719 - acc: 0.8594 - val_loss: 0.3592 - val_acc: 0.8750\n",
            "Epoch 101/150\n",
            "2/2 [==============================] - 3s 2s/step - loss: 0.2874 - acc: 0.9219 - val_loss: 0.2698 - val_acc: 0.8625\n",
            "Epoch 102/150\n",
            "2/2 [==============================] - 3s 2s/step - loss: 0.3556 - acc: 0.8906 - val_loss: 0.2295 - val_acc: 0.9250\n",
            "Epoch 103/150\n",
            "2/2 [==============================] - 3s 2s/step - loss: 0.2164 - acc: 0.9375 - val_loss: 0.2769 - val_acc: 0.8250\n",
            "Epoch 104/150\n",
            "2/2 [==============================] - 3s 2s/step - loss: 0.2185 - acc: 0.8906 - val_loss: 0.4674 - val_acc: 0.7875\n",
            "Epoch 105/150\n",
            "2/2 [==============================] - 3s 2s/step - loss: 0.2823 - acc: 0.8906 - val_loss: 0.3964 - val_acc: 0.8500\n",
            "Epoch 106/150\n",
            "2/2 [==============================] - 3s 2s/step - loss: 0.1668 - acc: 0.9531 - val_loss: 0.1983 - val_acc: 0.8875\n",
            "Epoch 107/150\n",
            "2/2 [==============================] - 3s 2s/step - loss: 0.2337 - acc: 0.9062 - val_loss: 0.5051 - val_acc: 0.7875\n",
            "Epoch 108/150\n",
            "2/2 [==============================] - 3s 2s/step - loss: 0.2151 - acc: 0.8906 - val_loss: 0.4374 - val_acc: 0.8250\n",
            "Epoch 109/150\n",
            "2/2 [==============================] - 3s 2s/step - loss: 0.3011 - acc: 0.9062 - val_loss: 0.2808 - val_acc: 0.8875\n",
            "Epoch 110/150\n",
            "2/2 [==============================] - 3s 2s/step - loss: 0.2953 - acc: 0.8750 - val_loss: 0.4387 - val_acc: 0.7625\n",
            "Epoch 111/150\n",
            "2/2 [==============================] - 3s 2s/step - loss: 0.3592 - acc: 0.8438 - val_loss: 0.4057 - val_acc: 0.8375\n",
            "Epoch 112/150\n",
            "2/2 [==============================] - 3s 2s/step - loss: 0.1809 - acc: 0.9062 - val_loss: 0.2293 - val_acc: 0.8750\n",
            "Epoch 113/150\n",
            "2/2 [==============================] - 3s 2s/step - loss: 0.2221 - acc: 0.9219 - val_loss: 0.3181 - val_acc: 0.8375\n",
            "Epoch 114/150\n",
            "2/2 [==============================] - 3s 2s/step - loss: 0.2547 - acc: 0.9062 - val_loss: 0.2969 - val_acc: 0.8625\n",
            "Epoch 115/150\n",
            "2/2 [==============================] - 3s 2s/step - loss: 0.2844 - acc: 0.8906 - val_loss: 0.5446 - val_acc: 0.7625\n",
            "Epoch 116/150\n",
            "2/2 [==============================] - 3s 2s/step - loss: 0.3166 - acc: 0.8594 - val_loss: 0.2846 - val_acc: 0.8375\n",
            "Epoch 117/150\n",
            "2/2 [==============================] - 3s 2s/step - loss: 0.2792 - acc: 0.8594 - val_loss: 0.4475 - val_acc: 0.7750\n",
            "Epoch 118/150\n",
            "2/2 [==============================] - 3s 2s/step - loss: 0.2487 - acc: 0.8906 - val_loss: 0.2672 - val_acc: 0.9125\n",
            "Epoch 119/150\n",
            "2/2 [==============================] - 3s 2s/step - loss: 0.1468 - acc: 0.9531 - val_loss: 0.2053 - val_acc: 0.8875\n",
            "Epoch 120/150\n",
            "2/2 [==============================] - 3s 2s/step - loss: 0.2034 - acc: 0.9219 - val_loss: 0.5884 - val_acc: 0.8250\n",
            "Epoch 121/150\n",
            "2/2 [==============================] - 3s 2s/step - loss: 0.3270 - acc: 0.8594 - val_loss: 0.1778 - val_acc: 0.9625\n",
            "Epoch 122/150\n",
            "2/2 [==============================] - 3s 2s/step - loss: 0.1131 - acc: 0.9688 - val_loss: 0.2649 - val_acc: 0.9125\n",
            "Epoch 123/150\n",
            "2/2 [==============================] - 3s 2s/step - loss: 0.1332 - acc: 0.9531 - val_loss: 0.4672 - val_acc: 0.8250\n",
            "Epoch 124/150\n",
            "2/2 [==============================] - 3s 2s/step - loss: 0.2587 - acc: 0.8750 - val_loss: 0.3286 - val_acc: 0.9000\n",
            "Epoch 125/150\n",
            "2/2 [==============================] - 3s 2s/step - loss: 0.2538 - acc: 0.9375 - val_loss: 0.3362 - val_acc: 0.8875\n",
            "Epoch 126/150\n",
            "2/2 [==============================] - 3s 2s/step - loss: 0.1268 - acc: 0.9688 - val_loss: 0.4788 - val_acc: 0.8250\n",
            "Epoch 127/150\n",
            "2/2 [==============================] - 3s 2s/step - loss: 0.4792 - acc: 0.8125 - val_loss: 0.5519 - val_acc: 0.7875\n",
            "Epoch 128/150\n",
            "2/2 [==============================] - 3s 2s/step - loss: 0.2467 - acc: 0.9375 - val_loss: 0.2667 - val_acc: 0.8625\n",
            "Epoch 129/150\n",
            "2/2 [==============================] - 3s 2s/step - loss: 0.0553 - acc: 0.9844 - val_loss: 0.2640 - val_acc: 0.8625\n",
            "Epoch 130/150\n",
            "2/2 [==============================] - 3s 2s/step - loss: 0.3060 - acc: 0.8594 - val_loss: 0.2884 - val_acc: 0.9125\n",
            "Epoch 131/150\n",
            "2/2 [==============================] - 3s 2s/step - loss: 0.1344 - acc: 0.9531 - val_loss: 0.7208 - val_acc: 0.6875\n",
            "Epoch 132/150\n",
            "2/2 [==============================] - 3s 2s/step - loss: 0.4469 - acc: 0.8125 - val_loss: 0.7653 - val_acc: 0.7750\n",
            "Epoch 133/150\n",
            "2/2 [==============================] - 3s 2s/step - loss: 0.3527 - acc: 0.8750 - val_loss: 0.4284 - val_acc: 0.7750\n",
            "Epoch 134/150\n",
            "2/2 [==============================] - 3s 2s/step - loss: 0.3443 - acc: 0.8906 - val_loss: 0.3466 - val_acc: 0.8250\n",
            "Epoch 135/150\n",
            "2/2 [==============================] - 3s 2s/step - loss: 0.1829 - acc: 0.9219 - val_loss: 0.2032 - val_acc: 0.9375\n",
            "Epoch 136/150\n",
            "2/2 [==============================] - 3s 2s/step - loss: 0.1694 - acc: 0.9375 - val_loss: 0.2163 - val_acc: 0.9125\n",
            "Epoch 137/150\n",
            "2/2 [==============================] - 3s 2s/step - loss: 0.1248 - acc: 0.9688 - val_loss: 0.3205 - val_acc: 0.8250\n",
            "Epoch 138/150\n",
            "2/2 [==============================] - 3s 2s/step - loss: 0.1781 - acc: 0.9688 - val_loss: 0.1333 - val_acc: 0.9625\n",
            "Epoch 139/150\n",
            "2/2 [==============================] - 3s 2s/step - loss: 0.1241 - acc: 0.9531 - val_loss: 0.1240 - val_acc: 0.9625\n",
            "Epoch 140/150\n",
            "2/2 [==============================] - 3s 2s/step - loss: 0.1065 - acc: 0.9375 - val_loss: 0.1131 - val_acc: 0.9875\n",
            "Epoch 141/150\n",
            "2/2 [==============================] - 3s 2s/step - loss: 0.0547 - acc: 0.9844 - val_loss: 0.0979 - val_acc: 0.9500\n",
            "Epoch 142/150\n",
            "2/2 [==============================] - 3s 2s/step - loss: 0.0704 - acc: 0.9844 - val_loss: 0.1756 - val_acc: 0.9250\n",
            "Epoch 143/150\n",
            "2/2 [==============================] - 3s 2s/step - loss: 0.1315 - acc: 0.9531 - val_loss: 0.1857 - val_acc: 0.9000\n",
            "Epoch 144/150\n",
            "2/2 [==============================] - 3s 2s/step - loss: 0.4137 - acc: 0.8281 - val_loss: 2.0939 - val_acc: 0.5000\n",
            "Epoch 145/150\n",
            "2/2 [==============================] - 3s 2s/step - loss: 4.5570 - acc: 0.4219 - val_loss: 0.9679 - val_acc: 0.6625\n",
            "Epoch 146/150\n",
            "2/2 [==============================] - 3s 2s/step - loss: 0.4784 - acc: 0.8125 - val_loss: 0.2865 - val_acc: 0.8750\n",
            "Epoch 147/150\n",
            "2/2 [==============================] - 3s 2s/step - loss: 0.1737 - acc: 0.9531 - val_loss: 0.2701 - val_acc: 0.8625\n",
            "Epoch 148/150\n",
            "2/2 [==============================] - 3s 2s/step - loss: 0.2033 - acc: 0.9375 - val_loss: 0.2756 - val_acc: 0.8875\n",
            "Epoch 149/150\n",
            "2/2 [==============================] - 3s 2s/step - loss: 0.1105 - acc: 0.9375 - val_loss: 0.2617 - val_acc: 0.8875\n",
            "Epoch 150/150\n",
            "2/2 [==============================] - 3s 2s/step - loss: 0.0993 - acc: 0.9688 - val_loss: 0.1616 - val_acc: 0.9375\n"
          ]
        }
      ]
    },
    {
      "cell_type": "code",
      "metadata": {
        "colab": {
          "base_uri": "https://localhost:8080/"
        },
        "id": "VSA6zj0feXLs",
        "outputId": "2ddab828-5514-4291-a9e1-82ea9ccc270e"
      },
      "source": [
        "model.save(\"rps\")"
      ],
      "execution_count": null,
      "outputs": [
        {
          "name": "stdout",
          "output_type": "stream",
          "text": [
            "INFO:tensorflow:Assets written to: rps/assets\n"
          ]
        }
      ]
    },
    {
      "cell_type": "code",
      "metadata": {
        "colab": {
          "base_uri": "https://localhost:8080/"
        },
        "id": "8n3hfqcEeZiS",
        "outputId": "b9508f74-3043-40e8-ab1c-dddbe8edc543"
      },
      "source": [
        "import matplotlib.pyplot as plt\n",
        "acc = history.history['acc']\n",
        "val_acc = history.history['val_acc']\n",
        "loss = history.history['loss']\n",
        "val_loss = history.history['val_loss']\n",
        "\n",
        "epochs = range(len(acc))\n",
        "\n",
        "plt.plot(epochs, acc, 'r', label='Training accuracy')\n",
        "plt.plot(epochs, val_acc, 'b', label='Validation accuracy')\n",
        "plt.title('Training and validation accuracy')\n",
        "plt.legend(loc=0)\n",
        "plt.figure()\n",
        "plt.show()"
      ],
      "execution_count": null,
      "outputs": [
        {
          "data": {
            "image/png": "[encoded data removed]",
            "text/plain": [
              "<Figure size 432x288 with 1 Axes>"
            ]
          },
          "metadata": {},
          "output_type": "display_data"
        },
        {
          "data": {
            "text/plain": [
              "<Figure size 432x288 with 0 Axes>"
            ]
          },
          "metadata": {},
          "output_type": "display_data"
        }
      ]
    },
    {
      "cell_type": "code",
      "metadata": {
        "colab": {
          "background_save": true,
          "resources": {
            "http://localhost:8080/nbextensions/google.colab/files.js": {
              "data": "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",
              "headers": [
                [
                  "content-type",
                  "application/javascript"
                ]
              ],
              "ok": true,
              "status": 200,
              "status_text": ""
            }
          },
          "base_uri": "https://localhost:8080/",
          "height": 38
        },
        "id": "zy46NuNledyW",
        "outputId": "0074ce2e-f7c0-4fff-f06b-d2848be45092"
      },
      "source": [
        "from google.colab import files\n",
        "from keras.preprocessing import image\n",
        "%matplotlib inline\n",
        "import matplotlib.pyplot as plt\n",
        "import matplotlib.image as mpimg \n",
        "\n",
        "uploaded=files.upload()\n",
        "\n",
        "for fn in uploaded.keys():\n",
        "  #Dự đoán hình ảnh\n",
        "  path='/content/'+fn\n",
        "  #In ảnh đọc được\n",
        "  plt.imshow(mpimg.imread(path))\n",
        "\n",
        "  img=image.load_img(path,target_size=(150,150))\n",
        "  x=image.img_to_array(img)\n",
        "  x=np.expand_dims(x,axis=0)\n",
        "  images=np.vstack([x])\n",
        "  y_predict =  model.predict(images,batch_size=10)\n",
        "  print(y_predict)\n",
        "  print('giá trị dự đoán: ',label[np.argmax(y_predict)])"
      ],
      "execution_count": null,
      "outputs": [
        {
          "data": {
            "text/html": [
              "\n",
              "     <input type=\"file\" id=\"files-510d6de3-7a3d-4073-8442-46b01d9c9289\" name=\"files[]\" multiple disabled\n",
              "        style=\"border:none\" />\n",
              "     <output id=\"result-510d6de3-7a3d-4073-8442-46b01d9c9289\">\n",
              "      Upload widget is only available when the cell has been executed in the\n",
              "      current browser session. Please rerun this cell to enable.\n",
              "      </output>\n",
              "      <script src=\"/nbextensions/google.colab/files.js\"></script> "
            ],
            "text/plain": [
              "<IPython.core.display.HTML object>"
            ]
          },
          "metadata": {},
          "output_type": "display_data"
        },
        {
          "ename": "TypeError",
          "evalue": "ignored",
          "output_type": "error",
          "traceback": [
            "\u001b[0;31m---------------------------------------------------------------------------\u001b[0m",
            "\u001b[0;31mTypeError\u001b[0m                                 Traceback (most recent call last)",
            "\u001b[0;32m<ipython-input-12-77cc5e5d5f92>\u001b[0m in \u001b[0;36m<module>\u001b[0;34m()\u001b[0m\n\u001b[1;32m      5\u001b[0m \u001b[0;32mimport\u001b[0m \u001b[0mmatplotlib\u001b[0m\u001b[0;34m.\u001b[0m\u001b[0mimage\u001b[0m \u001b[0;32mas\u001b[0m \u001b[0mmpimg\u001b[0m\u001b[0;34m\u001b[0m\u001b[0;34m\u001b[0m\u001b[0m\n\u001b[1;32m      6\u001b[0m \u001b[0;34m\u001b[0m\u001b[0m\n\u001b[0;32m----> 7\u001b[0;31m \u001b[0muploaded\u001b[0m\u001b[0;34m=\u001b[0m\u001b[0mfiles\u001b[0m\u001b[0;34m.\u001b[0m\u001b[0mupload\u001b[0m\u001b[0;34m(\u001b[0m\u001b[0;34m)\u001b[0m\u001b[0;34m\u001b[0m\u001b[0;34m\u001b[0m\u001b[0m\n\u001b[0m\u001b[1;32m      8\u001b[0m \u001b[0;34m\u001b[0m\u001b[0m\n\u001b[1;32m      9\u001b[0m \u001b[0;32mfor\u001b[0m \u001b[0mfn\u001b[0m \u001b[0;32min\u001b[0m \u001b[0muploaded\u001b[0m\u001b[0;34m.\u001b[0m\u001b[0mkeys\u001b[0m\u001b[0;34m(\u001b[0m\u001b[0;34m)\u001b[0m\u001b[0;34m:\u001b[0m\u001b[0;34m\u001b[0m\u001b[0;34m\u001b[0m\u001b[0m\n",
            "\u001b[0;32m/usr/local/lib/python3.7/dist-packages/google/colab/files.py\u001b[0m in \u001b[0;36mupload\u001b[0;34m()\u001b[0m\n\u001b[1;32m     67\u001b[0m   \u001b[0mlocal_filenames\u001b[0m \u001b[0;34m=\u001b[0m \u001b[0mdict\u001b[0m\u001b[0;34m(\u001b[0m\u001b[0;34m)\u001b[0m\u001b[0;34m\u001b[0m\u001b[0;34m\u001b[0m\u001b[0m\n\u001b[1;32m     68\u001b[0m \u001b[0;34m\u001b[0m\u001b[0m\n\u001b[0;32m---> 69\u001b[0;31m   \u001b[0;32mwhile\u001b[0m \u001b[0mresult\u001b[0m\u001b[0;34m[\u001b[0m\u001b[0;34m'action'\u001b[0m\u001b[0;34m]\u001b[0m \u001b[0;34m!=\u001b[0m \u001b[0;34m'complete'\u001b[0m\u001b[0;34m:\u001b[0m\u001b[0;34m\u001b[0m\u001b[0;34m\u001b[0m\u001b[0m\n\u001b[0m\u001b[1;32m     70\u001b[0m     result = _output.eval_js(\n\u001b[1;32m     71\u001b[0m         'google.colab._files._uploadFilesContinue(\"{output_id}\")'.format(\n",
            "\u001b[0;31mTypeError\u001b[0m: 'NoneType' object is not subscriptable"
          ]
        }
      ]
    }
  ]
}