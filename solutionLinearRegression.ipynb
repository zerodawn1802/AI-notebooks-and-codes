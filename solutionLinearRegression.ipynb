{
  "nbformat": 4,
  "nbformat_minor": 0,
  "metadata": {
    "colab": {
      "name": "solutionLinearRegression.ipynb",
      "provenance": [],
      "collapsed_sections": []
    },
    "kernelspec": {
      "name": "python3",
      "display_name": "Python 3"
    },
    "language_info": {
      "name": "python"
    }
  },
  "cells": [
    {
      "cell_type": "code",
      "metadata": {
        "id": "NAh3BAZzsHtX"
      },
      "source": [
        "import numpy as np\n",
        " \n",
        "from sklearn import datasets, linear_model\n",
        " \n",
        "import matplotlib.pyplot as plt"
      ],
      "execution_count": null,
      "outputs": []
    },
    {
      "cell_type": "code",
      "metadata": {
        "id": "C9DjKlm3wnzm"
      },
      "source": [
        ""
      ],
      "execution_count": null,
      "outputs": []
    },
    {
      "cell_type": "code",
      "metadata": {
        "id": "AUQmJ_yLsWUg"
      },
      "source": [
        "with open(\"./train_features.npy\",\"rb\") as f:\n",
        "    train_x = np.load(f, allow_pickle=True)\n",
        "\n",
        "with open(\"./train_labels.npy\",\"rb\") as f:\n",
        "    train_y = np.load(f, allow_pickle=True)\n",
        "\n",
        "with open(\"./test_features.npy\",\"rb\") as f:\n",
        "    test_x = np.load(f, allow_pickle=True)\n",
        "\n",
        "with open(\"./test_labels.npy\",\"rb\") as f:\n",
        "    test_y = np.load(f, allow_pickle=True)\n"
      ],
      "execution_count": null,
      "outputs": []
    },
    {
      "cell_type": "code",
      "metadata": {
        "colab": {
          "base_uri": "https://localhost:8080/"
        },
        "id": "7QO2jdY-thUS",
        "outputId": "ad9651e2-7e2c-42cb-a59b-1aaebfc7e5f0"
      },
      "source": [
        "regr = linear_model.LinearRegression(fit_intercept=True) # fit_intercept = False for calculating the bias\n",
        "a=regr.fit(train_x, train_y)\n",
        " \n",
        "predict = a.predict(\n",
        "    test_x\n",
        ")\n",
        "loss = np.mean(np.abs(predict - test_y))\n",
        "loss,a.score(\n",
        "    test_x, test_y\n",
        ")"
      ],
      "execution_count": null,
      "outputs": [
        {
          "output_type": "execute_result",
          "data": {
            "text/plain": [
              "(10.27816979321315, 0.7787758165932517)"
            ]
          },
          "metadata": {
            "tags": []
          },
          "execution_count": 42
        }
      ]
    },
    {
      "cell_type": "code",
      "metadata": {
        "colab": {
          "base_uri": "https://localhost:8080/"
        },
        "id": "zqwUwiZ_sxrq",
        "outputId": "6c68fb8b-0681-4235-fc49-6dc62cd813ed"
      },
      "source": [
        "train_x.shape, train_y.shape, test_x.shape, test_y.shape"
      ],
      "execution_count": null,
      "outputs": [
        {
          "output_type": "execute_result",
          "data": {
            "text/plain": [
              "((50000, 8), (50000, 1), (50000, 8), (50000, 1))"
            ]
          },
          "metadata": {
            "tags": []
          },
          "execution_count": 7
        }
      ]
    },
    {
      "cell_type": "code",
      "metadata": {
        "colab": {
          "base_uri": "https://localhost:8080/"
        },
        "id": "3gfD7KFCtu86",
        "outputId": "573a52b2-db15-4787-df3b-7ac5f86def92"
      },
      "source": [
        "a.coef_, a.intercept_"
      ],
      "execution_count": null,
      "outputs": [
        {
          "output_type": "execute_result",
          "data": {
            "text/plain": [
              "(array([[ 2.00507504e+00, -3.47821684e+00,  5.80827091e+00,\n",
              "          4.50345734e+00, -8.70777750e-05,  1.14458930e+01,\n",
              "          1.26322379e+01,  1.36236443e+01]]), array([-2.95950022]))"
            ]
          },
          "metadata": {
            "tags": []
          },
          "execution_count": 43
        }
      ]
    },
    {
      "cell_type": "code",
      "metadata": {
        "colab": {
          "base_uri": "https://localhost:8080/",
          "height": 282
        },
        "id": "jEZygKC4txPc",
        "outputId": "ec99bce4-e334-4009-9fe4-f4b156dd4d02"
      },
      "source": [
        "show_matrix = a.coef_\n",
        "show_matrix = (show_matrix) / np.max(show_matrix)  + 1\n",
        "\n",
        "plt.bar([i for i in range(8)], show_matrix.reshape(-1))"
      ],
      "execution_count": null,
      "outputs": [
        {
          "output_type": "execute_result",
          "data": {
            "text/plain": [
              "<BarContainer object of 8 artists>"
            ]
          },
          "metadata": {
            "tags": []
          },
          "execution_count": 44
        },
        {
          "output_type": "display_data",
          "data": {
            "image/png": "[encoded data removed]",
            "text/plain": [
              "<Figure size 432x288 with 1 Axes>"
            ]
          },
          "metadata": {
            "tags": [],
            "needs_background": "light"
          }
        }
      ]
    },
    {
      "cell_type": "code",
      "metadata": {
        "id": "5CidEVZGvDDn"
      },
      "source": [
        "new_z = train_x[...,4] * train_x[...,1]\n",
        "new_z = new_z.reshape(-1,1)"
      ],
      "execution_count": null,
      "outputs": []
    },
    {
      "cell_type": "code",
      "metadata": {
        "colab": {
          "base_uri": "https://localhost:8080/",
          "height": 282
        },
        "id": "Lii2DtdnvPXY",
        "outputId": "cd3008c6-2244-4e9d-cc39-16d1996b8f25"
      },
      "source": [
        "new_train_x = np.concatenate((train_x, new_z), axis=1)\n",
        "regr = linear_model.LinearRegression(fit_intercept=True) # fit_intercept = False for calculating the bias\n",
        "a=regr.fit(new_train_x, train_y)\n",
        "show_matrix = a.coef_\n",
        "show_matrix = (show_matrix) / np.max(show_matrix)  + 1\n",
        "\n",
        "plt.bar([i for i in range(9)], show_matrix.reshape(-1))"
      ],
      "execution_count": null,
      "outputs": [
        {
          "output_type": "execute_result",
          "data": {
            "text/plain": [
              "<BarContainer object of 9 artists>"
            ]
          },
          "metadata": {
            "tags": []
          },
          "execution_count": 164
        },
        {
          "output_type": "display_data",
          "data": {
            "image/png": "[encoded data removed]",
            "text/plain": [
              "<Figure size 432x288 with 1 Axes>"
            ]
          },
          "metadata": {
            "tags": [],
            "needs_background": "light"
          }
        }
      ]
    },
    {
      "cell_type": "code",
      "metadata": {
        "colab": {
          "base_uri": "https://localhost:8080/"
        },
        "id": "NpsY2FDIwZ5l",
        "outputId": "eae103ea-5258-4e2b-e9ff-870cd68205bb"
      },
      "source": [
        "new_z = test_x[...,4] * test_x[...,1]\n",
        "new_test_x = np.concatenate((test_x, new_z.reshape(-1,1)), axis=1)\n",
        "predict = a.predict(\n",
        "    new_test_x\n",
        ")\n",
        "loss = np.mean(np.abs(predict - test_y))\n",
        "loss"
      ],
      "execution_count": null,
      "outputs": [
        {
          "output_type": "execute_result",
          "data": {
            "text/plain": [
              "5.971110198852915"
            ]
          },
          "metadata": {
            "tags": []
          },
          "execution_count": 165
        }
      ]
    },
    {
      "cell_type": "code",
      "metadata": {
        "colab": {
          "base_uri": "https://localhost:8080/"
        },
        "id": "4BOGgKVTwsBx",
        "outputId": "1e253af7-0534-407a-bb11-cd610c004dd5"
      },
      "source": [
        "a.score(\n",
        "    new_test_x, test_y\n",
        ")"
      ],
      "execution_count": null,
      "outputs": [
        {
          "output_type": "execute_result",
          "data": {
            "text/plain": [
              "0.9180999459966547"
            ]
          },
          "metadata": {
            "tags": []
          },
          "execution_count": 166
        }
      ]
    },
    {
      "cell_type": "code",
      "metadata": {
        "id": "hwthPOtEyXyn"
      },
      "source": [
        "np.random.seed(1)\n",
        "def ml_auto(X):\n",
        "  \n",
        "  num_feature = X.shape[1]\n",
        "  new_f = []\n",
        "  for i in range(num_feature):\n",
        "    # print(i,num_feature)\n",
        "    # v = int(np.random.normal() * 4)\n",
        "    z= np.sign(X[...,i]) * np.abs(X[...,i]) ** 3\n",
        "    z=z.reshape(-1,1)\n",
        "    new_f.append(\n",
        "       z\n",
        "    )\n",
        "  \n",
        "  Xx = np.concatenate([X,] + new_f, axis=1)\n",
        "  return Xx\n",
        "  "
      ],
      "execution_count": null,
      "outputs": []
    },
    {
      "cell_type": "code",
      "metadata": {
        "id": "jrhK9HKozPwL"
      },
      "source": [
        "new_train_x = ml_auto(new_train_x)\n",
        "new_test_x = ml_auto(new_test_x)"
      ],
      "execution_count": null,
      "outputs": []
    },
    {
      "cell_type": "code",
      "metadata": {
        "colab": {
          "base_uri": "https://localhost:8080/",
          "height": 282
        },
        "id": "EGMgoNEEzTA8",
        "outputId": "81e81192-9276-4978-e7a0-e77d632b2033"
      },
      "source": [
        "\n",
        "regr = linear_model.LinearRegression(fit_intercept=True) # fit_intercept = False for calculating the bias\n",
        "a=regr.fit(new_train_x, train_y)\n",
        "show_matrix = a.coef_\n",
        "show_matrix = (show_matrix) / np.max(show_matrix)  \n",
        "\n",
        "show_matrix  = show_matrix - np.min(show_matrix)\n",
        "plt.bar([i for i in range(show_matrix.shape[1])], show_matrix.reshape(-1))"
      ],
      "execution_count": null,
      "outputs": [
        {
          "output_type": "execute_result",
          "data": {
            "text/plain": [
              "<BarContainer object of 18 artists>"
            ]
          },
          "metadata": {
            "tags": []
          },
          "execution_count": 169
        },
        {
          "output_type": "display_data",
          "data": {
            "image/png": "[encoded data removed]",
            "text/plain": [
              "<Figure size 432x288 with 1 Axes>"
            ]
          },
          "metadata": {
            "tags": [],
            "needs_background": "light"
          }
        }
      ]
    },
    {
      "cell_type": "code",
      "metadata": {
        "colab": {
          "base_uri": "https://localhost:8080/"
        },
        "id": "iMhW2k3nzdVS",
        "outputId": "870f8a42-da08-4b86-f788-1244e3c2d3e5"
      },
      "source": [
        "\n",
        "predict = a.predict(\n",
        "    new_test_x\n",
        ")\n",
        "loss = np.mean(np.abs(predict - test_y))\n",
        "loss"
      ],
      "execution_count": null,
      "outputs": [
        {
          "output_type": "execute_result",
          "data": {
            "text/plain": [
              "5.273360774240515"
            ]
          },
          "metadata": {
            "tags": []
          },
          "execution_count": 170
        }
      ]
    },
    {
      "cell_type": "code",
      "metadata": {
        "colab": {
          "base_uri": "https://localhost:8080/"
        },
        "id": "luuvWZsm0J5Y",
        "outputId": "d4cfb196-b9ae-4094-8434-a0ac935ce2e4"
      },
      "source": [
        "a.score(\n",
        "    new_test_x, test_y\n",
        "),show_matrix"
      ],
      "execution_count": null,
      "outputs": [
        {
          "output_type": "execute_result",
          "data": {
            "text/plain": [
              "(0.9333172678838625,\n",
              " array([[0.41169312, 0.        , 0.25702712, 0.65411305, 0.25628471,\n",
              "         1.10376149, 1.17758616, 1.25627703, 1.01615731, 0.25363605,\n",
              "         0.25811083, 0.66381294, 0.256035  , 0.25627703, 0.25475157,\n",
              "         0.25753176, 0.25648361, 0.25680632]]))"
            ]
          },
          "metadata": {
            "tags": []
          },
          "execution_count": 171
        }
      ]
    },
    {
      "cell_type": "code",
      "metadata": {
        "colab": {
          "base_uri": "https://localhost:8080/",
          "height": 282
        },
        "id": "DoJl4heF3Ui8",
        "outputId": "b5d31b93-7617-4a72-a021-dbf3d53ce3af"
      },
      "source": [
        "keep_dim =np.argsort(show_matrix.reshape(-1))[-17:]\n",
        "new_train_x1 =new_train_x[...,keep_dim]\n",
        "new_test_x1 = new_test_x[..., keep_dim]\n",
        "\n",
        "regr = linear_model.LinearRegression(fit_intercept=True) # fit_intercept = False for calculating the bias\n",
        "a=regr.fit(new_train_x1, train_y)\n",
        "show_matrix = a.coef_\n",
        "show_matrix = (show_matrix) / np.max(show_matrix)  \n",
        "\n",
        "show_matrix  = show_matrix - np.min(show_matrix)\n",
        "plt.bar([i for i in range(show_matrix.shape[1])], show_matrix.reshape(-1))"
      ],
      "execution_count": null,
      "outputs": [
        {
          "output_type": "execute_result",
          "data": {
            "text/plain": [
              "<BarContainer object of 16 artists>"
            ]
          },
          "metadata": {
            "tags": []
          },
          "execution_count": 175
        },
        {
          "output_type": "display_data",
          "data": {
            "image/png": "[encoded data removed]",
            "text/plain": [
              "<Figure size 432x288 with 1 Axes>"
            ]
          },
          "metadata": {
            "tags": [],
            "needs_background": "light"
          }
        }
      ]
    },
    {
      "cell_type": "code",
      "metadata": {
        "colab": {
          "base_uri": "https://localhost:8080/"
        },
        "id": "9_q1pp5F4Pt1",
        "outputId": "60d8b817-2dcc-47e2-9271-df99d087d7be"
      },
      "source": [
        "\n",
        "predict = a.predict(\n",
        "    new_test_x1\n",
        ")\n",
        "loss = np.mean(np.abs(predict - test_y))\n",
        "loss"
      ],
      "execution_count": null,
      "outputs": [
        {
          "output_type": "execute_result",
          "data": {
            "text/plain": [
              "5.273057500497267"
            ]
          },
          "metadata": {
            "tags": []
          },
          "execution_count": 176
        }
      ]
    },
    {
      "cell_type": "code",
      "metadata": {
        "colab": {
          "base_uri": "https://localhost:8080/",
          "height": 282
        },
        "id": "5m0MzA4s4R4E",
        "outputId": "052706d5-1900-4f59-fcb1-a724c2f7b5f9"
      },
      "source": [
        "keep_dim =np.argsort(show_matrix.reshape(-1))[-16:]\n",
        "new_train_x2 =new_train_x1[...,keep_dim]\n",
        "new_test_x2 = new_test_x1[..., keep_dim]\n",
        "\n",
        "regr = linear_model.LinearRegression(fit_intercept=True) # fit_intercept = False for calculating the bias\n",
        "a=regr.fit(new_train_x2, train_y)\n",
        "show_matrix = a.coef_\n",
        "show_matrix = (show_matrix) / np.max(show_matrix)  \n",
        "\n",
        "show_matrix  = show_matrix - np.min(show_matrix)\n",
        "plt.bar([i for i in range(show_matrix.shape[1])], show_matrix.reshape(-1))"
      ],
      "execution_count": null,
      "outputs": [
        {
          "output_type": "execute_result",
          "data": {
            "text/plain": [
              "<BarContainer object of 16 artists>"
            ]
          },
          "metadata": {
            "tags": []
          },
          "execution_count": 185
        },
        {
          "output_type": "display_data",
          "data": {
            "image/png": "[encoded data removed]",
            "text/plain": [
              "<Figure size 432x288 with 1 Axes>"
            ]
          },
          "metadata": {
            "tags": [],
            "needs_background": "light"
          }
        }
      ]
    },
    {
      "cell_type": "code",
      "metadata": {
        "colab": {
          "base_uri": "https://localhost:8080/"
        },
        "id": "kyJSgCRe4bX4",
        "outputId": "73305324-86bf-4a7f-d808-6b8fbe960919"
      },
      "source": [
        "\n",
        "predict = a.predict(\n",
        "    new_test_x2\n",
        ")\n",
        "loss = np.mean(np.abs(predict - test_y))\n",
        "loss"
      ],
      "execution_count": null,
      "outputs": [
        {
          "output_type": "execute_result",
          "data": {
            "text/plain": [
              "5.273057500497267"
            ]
          },
          "metadata": {
            "tags": []
          },
          "execution_count": 186
        }
      ]
    },
    {
      "cell_type": "code",
      "metadata": {
        "colab": {
          "base_uri": "https://localhost:8080/",
          "height": 282
        },
        "id": "sR4axoaY4lW1",
        "outputId": "f20b5413-246a-4c29-a253-e6457cf51717"
      },
      "source": [
        "keep_dim =np.argsort(show_matrix.reshape(-1))[-15:]\n",
        "new_train_x3 =new_train_x2[...,keep_dim]\n",
        "new_test_x3 = new_test_x2[..., keep_dim]\n",
        "\n",
        "regr = linear_model.LinearRegression(fit_intercept=True) # fit_intercept = False for calculating the bias\n",
        "a=regr.fit(new_train_x3, train_y)\n",
        "show_matrix = a.coef_\n",
        "show_matrix = (show_matrix) / np.max(show_matrix)  \n",
        "\n",
        "show_matrix  = show_matrix - np.min(show_matrix)\n",
        "plt.bar([i for i in range(show_matrix.shape[1])], show_matrix.reshape(-1))"
      ],
      "execution_count": null,
      "outputs": [
        {
          "output_type": "execute_result",
          "data": {
            "text/plain": [
              "<BarContainer object of 15 artists>"
            ]
          },
          "metadata": {
            "tags": []
          },
          "execution_count": 189
        },
        {
          "output_type": "display_data",
          "data": {
            "image/png": "[encoded data removed]",
            "text/plain": [
              "<Figure size 432x288 with 1 Axes>"
            ]
          },
          "metadata": {
            "tags": [],
            "needs_background": "light"
          }
        }
      ]
    },
    {
      "cell_type": "code",
      "metadata": {
        "colab": {
          "base_uri": "https://localhost:8080/"
        },
        "id": "0jBECfjD5PVT",
        "outputId": "9a77be37-e905-4017-b888-96111248e8be"
      },
      "source": [
        "\n",
        "predict = a.predict(\n",
        "    new_test_x3\n",
        ")\n",
        "loss = np.mean(np.abs(predict - test_y))\n",
        "loss"
      ],
      "execution_count": null,
      "outputs": [
        {
          "output_type": "execute_result",
          "data": {
            "text/plain": [
              "5.481966558313683"
            ]
          },
          "metadata": {
            "tags": []
          },
          "execution_count": 190
        }
      ]
    },
    {
      "cell_type": "code",
      "metadata": {
        "id": "cd40UDUK5Pmr"
      },
      "source": [
        ""
      ],
      "execution_count": null,
      "outputs": []
    }
  ]
}